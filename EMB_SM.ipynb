{
  "nbformat": 4,
  "nbformat_minor": 0,
  "metadata": {
    "colab": {
      "name": "EMB_SM.ipynb",
      "provenance": [],
      "collapsed_sections": [],
      "mount_file_id": "1LSXgGVpYAuXDG7h80hLlk0bUQjhFoW3T",
      "authorship_tag": "ABX9TyMy7Nu6OBFT0+gyEJjsuEtA",
      "include_colab_link": true
    },
    "kernelspec": {
      "name": "python3",
      "display_name": "Python 3"
    },
    "accelerator": "GPU"
  },
  "cells": [
    {
      "cell_type": "markdown",
      "metadata": {
        "id": "view-in-github",
        "colab_type": "text"
      },
      "source": [
        "<a href=\"https://colab.research.google.com/github/ppkgtmm/sentiment/blob/eval/EMB_SM.ipynb\" target=\"_parent\"><img src=\"https://colab.research.google.com/assets/colab-badge.svg\" alt=\"Open In Colab\"/></a>"
      ]
    },
    {
      "cell_type": "code",
      "metadata": {
        "id": "8jV1cfjdKWjy"
      },
      "source": [
        "# !pip install keras-tuner\n",
        "# !rm -r sentiment\n",
        "# !git clone --branch utils https://github.com/ppkgtmm/sentiment.git sentiment"
      ],
      "execution_count": 2,
      "outputs": []
    },
    {
      "cell_type": "code",
      "metadata": {
        "id": "q57eLoYbKvU9"
      },
      "source": [
        "import pandas as pd\n",
        "from keras.preprocessing.text import  Tokenizer\n",
        "from keras.layers import Input, Dense, Embedding, Flatten\n",
        "from keras.models import Sequential\n",
        "from keras.metrics import Precision, Recall, FalseNegatives, \\\n",
        "FalsePositives, TrueNegatives, TruePositives\n",
        "from kerastuner import HyperParameters\n",
        "import matplotlib.pyplot as plt\n",
        "from sentiment.utils import read_data, get_optimizer, get_sequences, split_data\n",
        "from sentiment.utils import get_tuner, get_model_from_config, get_callbacks\n",
        "from sentiment.utils import OH_fit_transform, OH_transform, load, dump, \\\n",
        "model_evaluate"
      ],
      "execution_count": 3,
      "outputs": []
    },
    {
      "cell_type": "code",
      "metadata": {
        "id": "2Ka80V24K36Z"
      },
      "source": [
        "cols = ['text', 'target']\n",
        "data_path = '/content/drive/MyDrive/sentiment/data/data_preprocessed.csv'\n",
        "test_path = '/content/drive/MyDrive/sentiment/data/test_data_preprocessed.csv'\n",
        "seed = 123456\n",
        "num_words = 10000\n",
        "max_len = 250\n",
        "optimizers = [\n",
        "           'Adam',\n",
        "           'RMSprop'   \n",
        "]"
      ],
      "execution_count": 4,
      "outputs": []
    },
    {
      "cell_type": "code",
      "metadata": {
        "colab": {
          "base_uri": "https://localhost:8080/",
          "height": 204
        },
        "id": "S1gEWjSRK69F",
        "outputId": "47ab2708-b2d2-412c-9b63-df4e6cf2d031"
      },
      "source": [
        "data = read_data(data_path,cols)\n",
        "data.sample(5)"
      ],
      "execution_count": null,
      "outputs": [
        {
          "output_type": "execute_result",
          "data": {
            "text/html": [
              "<div>\n",
              "<style scoped>\n",
              "    .dataframe tbody tr th:only-of-type {\n",
              "        vertical-align: middle;\n",
              "    }\n",
              "\n",
              "    .dataframe tbody tr th {\n",
              "        vertical-align: top;\n",
              "    }\n",
              "\n",
              "    .dataframe thead th {\n",
              "        text-align: right;\n",
              "    }\n",
              "</style>\n",
              "<table border=\"1\" class=\"dataframe\">\n",
              "  <thead>\n",
              "    <tr style=\"text-align: right;\">\n",
              "      <th></th>\n",
              "      <th>text</th>\n",
              "      <th>target</th>\n",
              "    </tr>\n",
              "  </thead>\n",
              "  <tbody>\n",
              "    <tr>\n",
              "      <th>328982</th>\n",
              "      <td>very disappointed very the description was mis...</td>\n",
              "      <td>0</td>\n",
              "    </tr>\n",
              "    <tr>\n",
              "      <th>159078</th>\n",
              "      <td>great movie so so dvd the digital transfer is ...</td>\n",
              "      <td>1</td>\n",
              "    </tr>\n",
              "    <tr>\n",
              "      <th>121852</th>\n",
              "      <td>no rocksteady here i would have given this NUM...</td>\n",
              "      <td>0</td>\n",
              "    </tr>\n",
              "    <tr>\n",
              "      <th>308298</th>\n",
              "      <td>good while it lasted the pen was great the onl...</td>\n",
              "      <td>1</td>\n",
              "    </tr>\n",
              "    <tr>\n",
              "      <th>131223</th>\n",
              "      <td>taking it back i bought this on saturday from ...</td>\n",
              "      <td>0</td>\n",
              "    </tr>\n",
              "  </tbody>\n",
              "</table>\n",
              "</div>"
            ],
            "text/plain": [
              "                                                     text  target\n",
              "328982  very disappointed very the description was mis...       0\n",
              "159078  great movie so so dvd the digital transfer is ...       1\n",
              "121852  no rocksteady here i would have given this NUM...       0\n",
              "308298  good while it lasted the pen was great the onl...       1\n",
              "131223  taking it back i bought this on saturday from ...       0"
            ]
          },
          "metadata": {
            "tags": []
          },
          "execution_count": 5
        }
      ]
    },
    {
      "cell_type": "code",
      "metadata": {
        "colab": {
          "base_uri": "https://localhost:8080/",
          "height": 204
        },
        "id": "2njiOH9UK9wE",
        "outputId": "647dbe53-f10c-4ece-fcc4-a888af27379b"
      },
      "source": [
        "test = read_data(test_path, cols)\n",
        "test.sample(5)"
      ],
      "execution_count": null,
      "outputs": [
        {
          "output_type": "execute_result",
          "data": {
            "text/html": [
              "<div>\n",
              "<style scoped>\n",
              "    .dataframe tbody tr th:only-of-type {\n",
              "        vertical-align: middle;\n",
              "    }\n",
              "\n",
              "    .dataframe tbody tr th {\n",
              "        vertical-align: top;\n",
              "    }\n",
              "\n",
              "    .dataframe thead th {\n",
              "        text-align: right;\n",
              "    }\n",
              "</style>\n",
              "<table border=\"1\" class=\"dataframe\">\n",
              "  <thead>\n",
              "    <tr style=\"text-align: right;\">\n",
              "      <th></th>\n",
              "      <th>text</th>\n",
              "      <th>target</th>\n",
              "    </tr>\n",
              "  </thead>\n",
              "  <tbody>\n",
              "    <tr>\n",
              "      <th>5914</th>\n",
              "      <td>thanks for the fast efficient service a number...</td>\n",
              "      <td>1</td>\n",
              "    </tr>\n",
              "    <tr>\n",
              "      <th>13524</th>\n",
              "      <td>so its a cd full of savestates save states or ...</td>\n",
              "      <td>0</td>\n",
              "    </tr>\n",
              "    <tr>\n",
              "      <th>12243</th>\n",
              "      <td>second rate this recording is pretty and that ...</td>\n",
              "      <td>0</td>\n",
              "    </tr>\n",
              "    <tr>\n",
              "      <th>19456</th>\n",
              "      <td>a good dvd well i would be more happier with t...</td>\n",
              "      <td>1</td>\n",
              "    </tr>\n",
              "    <tr>\n",
              "      <th>13886</th>\n",
              "      <td>does not work the tasty was not good and was s...</td>\n",
              "      <td>0</td>\n",
              "    </tr>\n",
              "  </tbody>\n",
              "</table>\n",
              "</div>"
            ],
            "text/plain": [
              "                                                    text  target\n",
              "5914   thanks for the fast efficient service a number...       1\n",
              "13524  so its a cd full of savestates save states or ...       0\n",
              "12243  second rate this recording is pretty and that ...       0\n",
              "19456  a good dvd well i would be more happier with t...       1\n",
              "13886  does not work the tasty was not good and was s...       0"
            ]
          },
          "metadata": {
            "tags": []
          },
          "execution_count": 6
        }
      ]
    },
    {
      "cell_type": "code",
      "metadata": {
        "id": "cERhN-YQLAkE"
      },
      "source": [
        "train, val = split_data(data)"
      ],
      "execution_count": null,
      "outputs": []
    },
    {
      "cell_type": "code",
      "metadata": {
        "id": "DE8dqzeDLCrw"
      },
      "source": [
        "tokenizer = Tokenizer(num_words=num_words, oov_token='OOV')\n",
        "tokenizer.fit_on_texts(train['text'])"
      ],
      "execution_count": null,
      "outputs": []
    },
    {
      "cell_type": "code",
      "metadata": {
        "id": "5HI4_dgdLFqc"
      },
      "source": [
        "sequence_train = get_sequences(tokenizer, max_len, train['text'])\n",
        "sequence_val = get_sequences(tokenizer, max_len, val['text'])"
      ],
      "execution_count": null,
      "outputs": []
    },
    {
      "cell_type": "code",
      "metadata": {
        "colab": {
          "base_uri": "https://localhost:8080/"
        },
        "id": "NohRQeP5LIgv",
        "outputId": "47ff1be3-76fa-420e-e8cd-d1acd532c17c"
      },
      "source": [
        "print(val['target'].unique(), train['target'].unique())"
      ],
      "execution_count": null,
      "outputs": [
        {
          "output_type": "stream",
          "text": [
            "[1 0] [0 1]\n"
          ],
          "name": "stdout"
        }
      ]
    },
    {
      "cell_type": "code",
      "metadata": {
        "id": "gbq2chriLK9c"
      },
      "source": [
        "train_target = OH_fit_transform(train['target'])\n",
        "val_target = OH_transform(val['target'])"
      ],
      "execution_count": null,
      "outputs": []
    },
    {
      "cell_type": "markdown",
      "metadata": {
        "id": "1VlMaZZeMH7a"
      },
      "source": [
        "## Embedding"
      ]
    },
    {
      "cell_type": "code",
      "metadata": {
        "id": "GoGQ7wGTLO_w"
      },
      "source": [
        "def build_emb(hp):\n",
        "    model = Sequential()\n",
        "    model.add(Input(shape=(max_len)))\n",
        "    model.add(\n",
        "        Embedding(\n",
        "          num_words, hp.get('output_dim')\n",
        "        )\n",
        "    )\n",
        "    model.add(Flatten())\n",
        "    model.add(Dense(2, activation='softmax'))\n",
        "    model.compile(\n",
        "        optimizer=get_optimizer(hp.get('optimizer')),\n",
        "        loss='categorical_crossentropy',\n",
        "        metrics=[\n",
        "                 'accuracy',\n",
        "                 Precision(), \n",
        "                 Recall(),\n",
        "                 TruePositives(), \n",
        "                 TrueNegatives(), \n",
        "                 FalsePositives(),\n",
        "                 FalseNegatives()\n",
        "              ]\n",
        "          )\n",
        "    model.summary()\n",
        "    return model"
      ],
      "execution_count": 5,
      "outputs": []
    },
    {
      "cell_type": "code",
      "metadata": {
        "colab": {
          "base_uri": "https://localhost:8080/",
          "height": 35
        },
        "id": "gAM_P_toLeN8",
        "outputId": "7c8389cc-c898-406d-b132-d13364f217de"
      },
      "source": [
        "hp = HyperParameters()\n",
        "hp.Int('output_dim', 16, 64, 16)\n",
        "hp.Choice('optimizer', optimizers)"
      ],
      "execution_count": 6,
      "outputs": [
        {
          "output_type": "execute_result",
          "data": {
            "application/vnd.google.colaboratory.intrinsic+json": {
              "type": "string"
            },
            "text/plain": [
              "'Adam'"
            ]
          },
          "metadata": {
            "tags": []
          },
          "execution_count": 6
        }
      ]
    },
    {
      "cell_type": "code",
      "metadata": {
        "colab": {
          "base_uri": "https://localhost:8080/"
        },
        "id": "HW6dfEhrLqim",
        "outputId": "c41a149e-1543-4231-d7fc-b73ba97c4ae3"
      },
      "source": [
        "tuner = get_tuner(build_emb,'/content/drive/MyDrive/sentiment/EMB',\\\n",
        "                  'EMB_SM_B32',hp, 2, 2)"
      ],
      "execution_count": 7,
      "outputs": [
        {
          "output_type": "stream",
          "text": [
            "INFO:tensorflow:Reloading Oracle from existing project /content/drive/MyDrive/sentiment/EMB/EMB_SM_B32/oracle.json\n",
            "Model: \"sequential\"\n",
            "_________________________________________________________________\n",
            "Layer (type)                 Output Shape              Param #   \n",
            "=================================================================\n",
            "embedding (Embedding)        (None, 250, 16)           160000    \n",
            "_________________________________________________________________\n",
            "flatten (Flatten)            (None, 4000)              0         \n",
            "_________________________________________________________________\n",
            "dense (Dense)                (None, 2)                 8002      \n",
            "=================================================================\n",
            "Total params: 168,002\n",
            "Trainable params: 168,002\n",
            "Non-trainable params: 0\n",
            "_________________________________________________________________\n",
            "INFO:tensorflow:Reloading Tuner from /content/drive/MyDrive/sentiment/EMB/EMB_SM_B32/tuner0.json\n"
          ],
          "name": "stdout"
        }
      ]
    },
    {
      "cell_type": "markdown",
      "metadata": {
        "id": "wS__1DohMKhJ"
      },
      "source": [
        "## Train"
      ]
    },
    {
      "cell_type": "code",
      "metadata": {
        "colab": {
          "base_uri": "https://localhost:8080/"
        },
        "id": "i858SHxGL7wT",
        "outputId": "b2168a8d-418e-48dd-8069-0a76c42430a7"
      },
      "source": [
        "history = tuner.search(\n",
        "    sequence_train,\n",
        "    train_target,\n",
        "    epochs=1,\n",
        "    validation_data=(sequence_val, val_target),\n",
        "    batch_size=32\n",
        ")"
      ],
      "execution_count": null,
      "outputs": [
        {
          "output_type": "stream",
          "text": [
            "Trial 2 Complete [00h 07m 19s]\n",
            "val_loss: 0.25727030634880066\n",
            "\n",
            "Best val_loss So Far: 0.25727030634880066\n",
            "Total elapsed time: 00h 15m 29s\n",
            "INFO:tensorflow:Oracle triggered exit\n"
          ],
          "name": "stdout"
        }
      ]
    },
    {
      "cell_type": "code",
      "metadata": {
        "colab": {
          "base_uri": "https://localhost:8080/"
        },
        "id": "itgolqOGN6PX",
        "outputId": "42dd37c8-b965-467c-a3ed-1bdf62ab2ff0"
      },
      "source": [
        "tuner.get_best_models()"
      ],
      "execution_count": null,
      "outputs": [
        {
          "output_type": "stream",
          "text": [
            "Model: \"sequential\"\n",
            "_________________________________________________________________\n",
            "Layer (type)                 Output Shape              Param #   \n",
            "=================================================================\n",
            "embedding (Embedding)        (None, 250, 64)           640000    \n",
            "_________________________________________________________________\n",
            "flatten (Flatten)            (None, 16000)             0         \n",
            "_________________________________________________________________\n",
            "dense (Dense)                (None, 2)                 32002     \n",
            "=================================================================\n",
            "Total params: 672,002\n",
            "Trainable params: 672,002\n",
            "Non-trainable params: 0\n",
            "_________________________________________________________________\n"
          ],
          "name": "stdout"
        },
        {
          "output_type": "execute_result",
          "data": {
            "text/plain": [
              "[<tensorflow.python.keras.engine.sequential.Sequential at 0x7fb2ea0cbed0>]"
            ]
          },
          "metadata": {
            "tags": []
          },
          "execution_count": 18
        }
      ]
    },
    {
      "cell_type": "markdown",
      "metadata": {
        "id": "RlzEoW7_Sfe5"
      },
      "source": [
        "## Refit"
      ]
    },
    {
      "cell_type": "code",
      "metadata": {
        "colab": {
          "base_uri": "https://localhost:8080/"
        },
        "id": "87AXxoQcSiNz",
        "outputId": "4032a8eb-7724-4e66-cedc-ee7a85945a53"
      },
      "source": [
        "best_model = tuner.get_best_models(num_models=1)[0]"
      ],
      "execution_count": null,
      "outputs": [
        {
          "output_type": "stream",
          "text": [
            "Model: \"sequential\"\n",
            "_________________________________________________________________\n",
            "Layer (type)                 Output Shape              Param #   \n",
            "=================================================================\n",
            "embedding (Embedding)        (None, 250, 32)           320000    \n",
            "_________________________________________________________________\n",
            "flatten (Flatten)            (None, 8000)              0         \n",
            "_________________________________________________________________\n",
            "dense (Dense)                (None, 2)                 16002     \n",
            "=================================================================\n",
            "Total params: 336,002\n",
            "Trainable params: 336,002\n",
            "Non-trainable params: 0\n",
            "_________________________________________________________________\n"
          ],
          "name": "stdout"
        }
      ]
    },
    {
      "cell_type": "code",
      "metadata": {
        "id": "f7fld4O6SnJC"
      },
      "source": [
        "best_model = get_model_from_config(\n",
        "    best_model,\n",
        "    tuner.get_best_hyperparameters()[0].get('optimizer')\n",
        ")"
      ],
      "execution_count": null,
      "outputs": []
    },
    {
      "cell_type": "code",
      "metadata": {
        "id": "4v9jVIOoSvMV"
      },
      "source": [
        "cb = get_callbacks('emb_sm.h5')"
      ],
      "execution_count": null,
      "outputs": []
    },
    {
      "cell_type": "code",
      "metadata": {
        "colab": {
          "base_uri": "https://localhost:8080/"
        },
        "id": "nyPzX3soSwIh",
        "outputId": "5fec00a2-9c48-43e2-8242-dfa24033a4ed"
      },
      "source": [
        "history = best_model.fit(\n",
        "    sequence_train,\n",
        "    train_target,\n",
        "    validation_data=(sequence_val, val_target),\n",
        "    epochs=100,\n",
        "    callbacks=cb\n",
        ")"
      ],
      "execution_count": null,
      "outputs": [
        {
          "output_type": "stream",
          "text": [
            "Epoch 1/100\n",
            "9563/9563 [==============================] - 109s 11ms/step - loss: 0.3304 - accuracy: 0.8523 - precision: 0.8941 - recall: 0.8941 - true_positives: 173387.1894 - true_negatives: 173387.1894 - false_positives: 20836.8014 - false_negatives: 20836.8014 - val_loss: 0.2571 - val_accuracy: 0.8985 - val_precision: 0.8985 - val_recall: 0.8985 - val_true_positives: 48516.0000 - val_true_negatives: 48516.0000 - val_false_positives: 5482.0000 - val_false_negatives: 5482.0000\n",
            "\n",
            "Epoch 00001: val_loss improved from inf to 0.25707, saving model to emb_sm2.h5\n",
            "Epoch 2/100\n",
            "9563/9563 [==============================] - 109s 11ms/step - loss: 0.2086 - accuracy: 0.9189 - precision: 0.9189 - recall: 0.9189 - true_positives: 140524.4423 - true_negatives: 140524.4423 - false_positives: 12515.5485 - false_negatives: 12515.5485 - val_loss: 0.2735 - val_accuracy: 0.8941 - val_precision: 0.8941 - val_recall: 0.8941 - val_true_positives: 48282.0000 - val_true_negatives: 48282.0000 - val_false_positives: 5716.0000 - val_false_negatives: 5716.0000\n",
            "\n",
            "Epoch 00002: val_loss did not improve from 0.25707\n",
            "Epoch 3/100\n",
            "9563/9563 [==============================] - 114s 12ms/step - loss: 0.1365 - accuracy: 0.9527 - precision: 0.9527 - recall: 0.9527 - true_positives: 145479.1222 - true_negatives: 145479.1222 - false_positives: 7560.8686 - false_negatives: 7560.8686 - val_loss: 0.3323 - val_accuracy: 0.8830 - val_precision: 0.8830 - val_recall: 0.8830 - val_true_positives: 47678.0000 - val_true_negatives: 47678.0000 - val_false_positives: 6320.0000 - val_false_negatives: 6320.0000\n",
            "\n",
            "Epoch 00003: val_loss did not improve from 0.25707\n",
            "Epoch 4/100\n",
            "9563/9563 [==============================] - 112s 12ms/step - loss: 0.0847 - accuracy: 0.9727 - precision: 0.9727 - recall: 0.9727 - true_positives: 148622.8613 - true_negatives: 148622.8613 - false_positives: 4417.1295 - false_negatives: 4417.1295 - val_loss: 0.4193 - val_accuracy: 0.8768 - val_precision: 0.8768 - val_recall: 0.8768 - val_true_positives: 47346.0000 - val_true_negatives: 47346.0000 - val_false_positives: 6652.0000 - val_false_negatives: 6652.0000\n",
            "\n",
            "Epoch 00004: val_loss did not improve from 0.25707\n",
            "Epoch 5/100\n",
            "9563/9563 [==============================] - 106s 11ms/step - loss: 0.0516 - accuracy: 0.9848 - precision: 0.9848 - recall: 0.9848 - true_positives: 150497.5627 - true_negatives: 150497.5627 - false_positives: 2542.4281 - false_negatives: 2542.4281 - val_loss: 0.5189 - val_accuracy: 0.8711 - val_precision: 0.8711 - val_recall: 0.8711 - val_true_positives: 47040.0000 - val_true_negatives: 47040.0000 - val_false_positives: 6958.0000 - val_false_negatives: 6958.0000\n",
            "\n",
            "Epoch 00005: val_loss did not improve from 0.25707\n",
            "Epoch 6/100\n",
            "9563/9563 [==============================] - 105s 11ms/step - loss: 0.0319 - accuracy: 0.9909 - precision: 0.9909 - recall: 0.9909 - true_positives: 151527.7217 - true_negatives: 151527.7217 - false_positives: 1512.2691 - false_negatives: 1512.2691 - val_loss: 0.6222 - val_accuracy: 0.8677 - val_precision: 0.8677 - val_recall: 0.8677 - val_true_positives: 46854.0000 - val_true_negatives: 46854.0000 - val_false_positives: 7144.0000 - val_false_negatives: 7144.0000\n",
            "\n",
            "Epoch 00006: val_loss did not improve from 0.25707\n"
          ],
          "name": "stdout"
        }
      ]
    },
    {
      "cell_type": "code",
      "metadata": {
        "colab": {
          "base_uri": "https://localhost:8080/",
          "height": 299
        },
        "id": "GKh6Wz8-V34Q",
        "outputId": "4aab5306-355a-4dae-8c3d-4c98358f11db"
      },
      "source": [
        "metr = ['loss', 'accuracy', 'val_loss', 'val_accuracy']\n",
        "# print(min(history.history['val_loss']))\n",
        "pd.DataFrame(history.history)[metr].plot()"
      ],
      "execution_count": null,
      "outputs": [
        {
          "output_type": "stream",
          "text": [
            "0.25345414876937866\n"
          ],
          "name": "stdout"
        },
        {
          "output_type": "execute_result",
          "data": {
            "text/plain": [
              "<matplotlib.axes._subplots.AxesSubplot at 0x7fb2e4dd3790>"
            ]
          },
          "metadata": {
            "tags": []
          },
          "execution_count": 40
        },
        {
          "output_type": "display_data",
          "data": {
            "image/png": "[encoded data removed]",
            "text/plain": [
              "<Figure size 432x288 with 1 Axes>"
            ]
          },
          "metadata": {
            "tags": [],
            "needs_background": "light"
          }
        }
      ]
    },
    {
      "cell_type": "code",
      "metadata": {
        "id": "G4AMRM3SZxVe"
      },
      "source": [
        "# dump(history.history, 'history.pickle')"
      ],
      "execution_count": null,
      "outputs": []
    },
    {
      "cell_type": "code",
      "metadata": {
        "id": "ZTL4JNnYZ5Xm"
      },
      "source": [
        "# dump(tokenizer, 'tokenizer.pickle')"
      ],
      "execution_count": null,
      "outputs": []
    },
    {
      "cell_type": "markdown",
      "metadata": {
        "id": "AZ0JDnUGPKfa"
      },
      "source": [
        "## Test"
      ]
    },
    {
      "cell_type": "code",
      "metadata": {
        "id": "2QuIS_ghaJt5"
      },
      "source": [
        "sequence_test = get_sequences(tokenizer, max_len, test['text'])\n",
        "test_target = OH_transform(test['target'])"
      ],
      "execution_count": null,
      "outputs": []
    },
    {
      "cell_type": "code",
      "metadata": {
        "colab": {
          "base_uri": "https://localhost:8080/",
          "height": 572
        },
        "id": "CG_TT6DYaOK9",
        "outputId": "87cd9882-9b80-4ec6-9d45-a0952f6f6ddd"
      },
      "source": [
        "model_evaluate(best_model, sequence_test, test_target, 32)"
      ],
      "execution_count": null,
      "outputs": [
        {
          "output_type": "stream",
          "text": [
            " 89/625 [===>..........................] - ETA: 0s"
          ],
          "name": "stdout"
        },
        {
          "output_type": "stream",
          "text": [
            "/usr/local/lib/python3.7/dist-packages/tensorflow/python/keras/engine/sequential.py:450: UserWarning: `model.predict_classes()` is deprecated and will be removed after 2021-01-01. Please use instead:* `np.argmax(model.predict(x), axis=-1)`,   if your model does multi-class classification   (e.g. if it uses a `softmax` last-layer activation).* `(model.predict(x) > 0.5).astype(\"int32\")`,   if your model does binary classification   (e.g. if it uses a `sigmoid` last-layer activation).\n",
            "  warnings.warn('`model.predict_classes()` is deprecated and '\n"
          ],
          "name": "stderr"
        },
        {
          "output_type": "stream",
          "text": [
            "625/625 [==============================] - 1s 2ms/step\n",
            "Accuracy:\t89.9%\n",
            "\n",
            "\n",
            "              precision    recall  f1-score   support\n",
            "\n",
            "           0       0.90      0.90      0.90     10000\n",
            "           1       0.90      0.90      0.90     10000\n",
            "\n",
            "    accuracy                           0.90     20000\n",
            "   macro avg       0.90      0.90      0.90     20000\n",
            "weighted avg       0.90      0.90      0.90     20000\n",
            "\n"
          ],
          "name": "stdout"
        },
        {
          "output_type": "display_data",
          "data": {
            "image/png": "[encoded data removed]",
            "text/plain": [
              "<Figure size 288x288 with 1 Axes>"
            ]
          },
          "metadata": {
            "tags": [],
            "needs_background": "light"
          }
        }
      ]
    },
    {
      "cell_type": "markdown",
      "metadata": {
        "id": "N-gYwRD0PO3Y"
      },
      "source": [
        "## Insights"
      ]
    },
    {
      "cell_type": "code",
      "metadata": {
        "colab": {
          "base_uri": "https://localhost:8080/"
        },
        "id": "p_nOxdPhPP_n",
        "outputId": "2c104b5c-6a10-4785-c5d4-a075bc2763f8"
      },
      "source": [
        "tuner.search_space_summary()"
      ],
      "execution_count": 8,
      "outputs": [
        {
          "output_type": "stream",
          "text": [
            "Search space summary\n",
            "Default search space size: 2\n",
            "output_dim (Int)\n",
            "{'default': None, 'conditions': [], 'min_value': 16, 'max_value': 64, 'step': 16, 'sampling': None}\n",
            "optimizer (Choice)\n",
            "{'default': 'Adam', 'conditions': [], 'values': ['Adam', 'RMSprop'], 'ordered': False}\n"
          ],
          "name": "stdout"
        }
      ]
    },
    {
      "cell_type": "code",
      "metadata": {
        "colab": {
          "base_uri": "https://localhost:8080/"
        },
        "id": "xPqky7AXPV-g",
        "outputId": "6fe115ed-27f0-45a3-ab61-017273ee1330"
      },
      "source": [
        "tuner.results_summary(num_trials=3)"
      ],
      "execution_count": 9,
      "outputs": [
        {
          "output_type": "stream",
          "text": [
            "Results summary\n",
            "Results in /content/drive/MyDrive/sentiment/EMB/EMB_SM_B32\n",
            "Showing 3 best trials\n",
            "Objective(name='val_loss', direction='min')\n",
            "Trial summary\n",
            "Hyperparameters:\n",
            "output_dim: 32\n",
            "optimizer: Adam\n",
            "tuner/epochs: 2\n",
            "tuner/initial_epoch: 0\n",
            "tuner/bracket: 0\n",
            "tuner/round: 0\n",
            "Score: 0.25727030634880066\n",
            "Trial summary\n",
            "Hyperparameters:\n",
            "output_dim: 48\n",
            "optimizer: Adam\n",
            "tuner/epochs: 2\n",
            "tuner/initial_epoch: 0\n",
            "tuner/bracket: 0\n",
            "tuner/round: 0\n",
            "Score: 0.2609699219465256\n"
          ],
          "name": "stdout"
        }
      ]
    }
  ]
}