{
  "nbformat": 4,
  "nbformat_minor": 0,
  "metadata": {
    "colab": {
      "name": "evaluation.ipynb",
      "provenance": [],
      "collapsed_sections": [],
      "mount_file_id": "1hCTDnSrgm6U1v0clfYPqQHd1pa3_Kwsk",
      "authorship_tag": "ABX9TyNVY/vK5D4ta3BimMZikRBT",
      "include_colab_link": true
    },
    "kernelspec": {
      "name": "python3",
      "display_name": "Python 3"
    }
  },
  "cells": [
    {
      "cell_type": "markdown",
      "metadata": {
        "id": "view-in-github",
        "colab_type": "text"
      },
      "source": [
        "<a href=\"https://colab.research.google.com/github/ppkgtmm/sentiment/blob/eval/evaluation.ipynb\" target=\"_parent\"><img src=\"https://colab.research.google.com/assets/colab-badge.svg\" alt=\"Open In Colab\"/></a>"
      ]
    },
    {
      "cell_type": "code",
      "metadata": {
        "id": "3gyq6MXRJSKT"
      },
      "source": [
        "# !pip install keras-tuner\n",
        "# # !rm -r sentiment\n",
        "# !git clone --branch utils https://github.com/ppkgtmm/sentiment.git sentiment"
      ],
      "execution_count": 2,
      "outputs": []
    },
    {
      "cell_type": "code",
      "metadata": {
        "id": "6YTsMyeGJv63"
      },
      "source": [
        "from sentiment.utils import get_sequences, load"
      ],
      "execution_count": 3,
      "outputs": []
    },
    {
      "cell_type": "code",
      "metadata": {
        "id": "FytF3d1tApWt"
      },
      "source": [
        "from keras.models import load_model\n",
        "from keras.utils import plot_model\n",
        "import re\n",
        "import nltk\n",
        "from unicodedata import normalize\n",
        "import numpy as np"
      ],
      "execution_count": 4,
      "outputs": []
    },
    {
      "cell_type": "code",
      "metadata": {
        "colab": {
          "base_uri": "https://localhost:8080/"
        },
        "id": "d9ErdvSFDa0l",
        "outputId": "7d1e090f-9f5a-4630-d098-488a26617eb7"
      },
      "source": [
        "nltk.download('punkt')\n",
        "from nltk import word_tokenize"
      ],
      "execution_count": 5,
      "outputs": [
        {
          "output_type": "stream",
          "text": [
            "[nltk_data] Downloading package punkt to /root/nltk_data...\n",
            "[nltk_data]   Unzipping tokenizers/punkt.zip.\n"
          ],
          "name": "stdout"
        }
      ]
    },
    {
      "cell_type": "code",
      "metadata": {
        "id": "6GlCmcZu-F6h"
      },
      "source": [
        "models = [\n",
        "          '/content/drive/MyDrive/sentiment/MLP/MLP_1H_B32/simple_mlp.h5',\n",
        "          '/content/drive/MyDrive/sentiment/MLP/MLP_3H_B32/mlp_3H.h5',\n",
        "          '/content/drive/MyDrive/sentiment/MLP/MLP_3H2_B32/mlp_3H2.h5',\n",
        "          '/content/drive/MyDrive/sentiment/MLP/MLP_3HOEN_B32/mlp_3HOEN.h5',\n",
        "          '/content/drive/MyDrive/sentiment/MLP/MLP_3HOEN2_B32/mlp_3HOEN2.h5',\n",
        "          '/content/drive/MyDrive/sentiment/EMB/EMB_B32/emb.h5',\n",
        "          '/content/drive/MyDrive/sentiment/EMB/EMB_SM_B32/emb_sm.h5',\n",
        "          '/content/drive/MyDrive/sentiment/GRU/GRU_TEMP_B32/gru.h5',\n",
        "          '/content/drive/MyDrive/sentiment/LSTM/LSTM_B32/lstm.h5',\n",
        "\n",
        "]\n",
        "model_dir = [\n",
        "          '/content/drive/MyDrive/sentiment/MLP/MLP_1H_B32',\n",
        "          '/content/drive/MyDrive/sentiment/MLP/MLP_3H_B32',\n",
        "          '/content/drive/MyDrive/sentiment/MLP/MLP_3H2_B32',\n",
        "          '/content/drive/MyDrive/sentiment/MLP/MLP_3HOEN_B32',\n",
        "          '/content/drive/MyDrive/sentiment/MLP/MLP_3HOEN2_B32',\n",
        "          '/content/drive/MyDrive/sentiment/EMB/EMB_B32',\n",
        "          '/content/drive/MyDrive/sentiment/EMB/EMB_SM_B32',\n",
        "          '/content/drive/MyDrive/sentiment/GRU/GRU_TEMP_B32',\n",
        "          '/content/drive/MyDrive/sentiment/LSTM/LSTM_B32',\n",
        "]\n",
        "test_sent = [\n",
        "              \"i think it's wasn't good for you to argue in that moment\",\n",
        "              \"Feeling so joyous to see you again\",\n",
        "              \"I got a bonus this year !! :)\",\n",
        "              \"You won't be forgiven for the next mistake, is it clear ?\",\n",
        "              \"now or never\",\n",
        "              \"gotta go for dinner, Jane is calling bye 😊\",\n",
        "              \"you've done execellent job so far!, \\n Congratulations, ANDY i wanna clap for you 10000x\",\n",
        "              \"you've done execellent job so far, \\n Congratulations, ANDY i wanna clap for you\",\n",
        "              \"don't forget to smile :)\",\n",
        "              \"don't be too worried\"\n",
        "            ]\n",
        "\n",
        "answers = [0,1,1,0,1,1,0,0,1,1]"
      ],
      "execution_count": 13,
      "outputs": []
    },
    {
      "cell_type": "code",
      "metadata": {
        "id": "GKVircejCnEJ"
      },
      "source": [
        "reserved_words = [\"EMAIL\", \"NUMBER\", \"MENTION\", \"URL\"]\n",
        "token_dict = {\n",
        "            \"ca\": \"can\",\n",
        "            \"wo\": \"will\",\n",
        "            \"sha\": \"shall\",\n",
        "            \"'ve\": \"have\",\n",
        "            \"'ll\": \"will\",\n",
        "            \"'m\": \"am\",\n",
        "            \"n't\": \"not\",\n",
        "            \"'re\": \"are\",\n",
        "        }\n",
        "word_dict = {\n",
        "            \"cant\": \"can not\",\n",
        "            \"couldnt\": \"could not\",\n",
        "            \"wont\": \"will not\",\n",
        "            \"pls\": \"please\",\n",
        "            \"plz\": \"please\",\n",
        "            \"youre\": \"you are\",\n",
        "            \"theyre\": \"they are\",\n",
        "            \"ive\": \"I have\",\n",
        "            \"havent\": \"have not\",\n",
        "            \"hasnt\": \"has not\",\n",
        "            \"hadnt\": \"had not\",\n",
        "            \"im\": \"I am\",\n",
        "            \"didnt\": \"did not\",\n",
        "            \"dont\": \"do not\",\n",
        "            \"doesnt\": \"does not\",\n",
        "            \"gotta\": \"got to\",\n",
        "            \"wanna\": \"want to\",\n",
        "            \"gonna\": \"going to\",\n",
        "            \"wannabe\": \"want to be\",\n",
        "            \"cannot\": \"can not\",\n",
        "        }"
      ],
      "execution_count": 7,
      "outputs": []
    },
    {
      "cell_type": "code",
      "metadata": {
        "id": "b1eqHmVUDJWN"
      },
      "source": [
        "def substitute(doc):\n",
        "        doc = re.sub(r\"<br />\", \" \", doc)\n",
        "        doc = re.sub(r\"\\S+@\\S+\", \" EMAIL \", doc)\n",
        "        doc = re.sub(r\"@\\S+\", \" MENTION \", doc)\n",
        "        doc = re.sub(r\"https?:\\S+|http?:\\S+\", \" URL \", doc)\n",
        "        doc = re.sub(r\"(\\d+\\-\\d+)|\\d+\", \" NUMBER \", doc)\n",
        "        doc = re.sub(r\"[^A-Za-z']\", \" \", doc)\n",
        "\n",
        "        return doc\n",
        "\n",
        "def expand(token):\n",
        "        if token in reserved_words:\n",
        "            return token\n",
        "        token = token.lower()\n",
        "        if token.lower().strip() == \"let's\":\n",
        "            return \"let us\"\n",
        "\n",
        "        if token.lower().strip() == \"'twas\":\n",
        "            return \"it was\"\n",
        "\n",
        "        if word_dict.get(token, None):\n",
        "            return word_dict.get(token)\n",
        "\n",
        "        tokens = word_tokenize(token)\n",
        "        if len(tokens) == 1:\n",
        "            return word_dict.get(tokens[0], tokens[0])\n",
        "        for i in range(len(tokens)):\n",
        "            tokens[i] = token_dict.get(tokens[i], tokens[i])\n",
        "\n",
        "        return \" \".join(tokens)\n",
        "\n",
        "def preprocess(doc):\n",
        "        doc = normalize('NFD',doc).encode('ascii', 'ignore').decode('utf-8')\n",
        "        doc = substitute(doc)\n",
        "        tokens = doc.split()\n",
        "        doc = \" \".join([expand(w) for w in tokens])\n",
        "\n",
        "        tokens = doc.split()\n",
        "        tokens = [word for word in tokens if word.isalpha()]\n",
        "\n",
        "        tokens = [\n",
        "            word.lower() if word not in reserved_words else word for word in tokens\n",
        "        ]\n",
        "\n",
        "        return \" \".join(tokens)"
      ],
      "execution_count": 8,
      "outputs": []
    },
    {
      "cell_type": "code",
      "metadata": {
        "colab": {
          "base_uri": "https://localhost:8080/",
          "height": 35
        },
        "id": "YK4FCeg1DiV_",
        "outputId": "12fda825-ad5f-4158-82d6-349fb79e2f03"
      },
      "source": [
        "preprocess(\"😂 @mama124 Im gonna enter http:bit.ly.12673/ab \\\n",
        "for 30th time :| don't know why cant i České Budějovic á Ś cé\")"
      ],
      "execution_count": 9,
      "outputs": [
        {
          "output_type": "execute_result",
          "data": {
            "application/vnd.google.colaboratory.intrinsic+json": {
              "type": "string"
            },
            "text/plain": [
              "'MENTION i am going to enter URL for NUMBER th time do not know why can not i ceske budejovic a s ce'"
            ]
          },
          "metadata": {
            "tags": []
          },
          "execution_count": 9
        }
      ]
    },
    {
      "cell_type": "code",
      "metadata": {
        "id": "kDjyE28SEd5C"
      },
      "source": [
        "def evaluate(model_path, tk_path):\n",
        "  model = load_model(model_path)\n",
        "  tokenizer = load(f\"{tk_path}/tokenizer.pickle\")\n",
        "  max_len = model.get_config()['layers'][0]['config']['batch_input_shape'][1]\n",
        "  print(f\"{tk_path}\\n\")\n",
        "  for sent in test_sent:\n",
        "      sequences = get_sequences(tokenizer, max_len, [sent])\n",
        "      result = model.predict(sequences, batch_size=32)\n",
        "      output = 'negative'\n",
        "      if np.argmax(result) == 1:\n",
        "          output = 'positive'\n",
        "      print(f\"input: {sent} ---> {output}\")"
      ],
      "execution_count": 10,
      "outputs": []
    },
    {
      "cell_type": "code",
      "metadata": {
        "colab": {
          "base_uri": "https://localhost:8080/"
        },
        "id": "jvulccyXNC_a",
        "outputId": "4641fa25-78e7-446d-ffee-33343efc3b99"
      },
      "source": [
        "i = 8\n",
        "evaluate(models[i], model_dir[i])"
      ],
      "execution_count": 23,
      "outputs": [
        {
          "output_type": "stream",
          "text": [
            "/content/drive/MyDrive/sentiment/LSTM/LSTM_B32\n",
            "\n",
            "input: i think it's wasn't good for you to argue in that moment ---> positive\n",
            "input: Feeling so joyous to see you again ---> positive\n",
            "input: I got a bonus this year !! :) ---> positive\n",
            "input: You won't be forgiven for the next mistake, is it clear ? ---> negative\n",
            "input: now or never ---> negative\n",
            "input: gotta go for dinner, Jane is calling bye 😊 ---> negative\n",
            "input: you've done execellent job so far!, \n",
            " Congratulations, ANDY i wanna clap for you 10000x ---> positive\n",
            "input: you've done execellent job so far, \n",
            " Congratulations, ANDY i wanna clap for you ---> positive\n",
            "input: don't forget to smile :) ---> positive\n",
            "input: don't be too worried ---> negative\n"
          ],
          "name": "stdout"
        }
      ]
    },
    {
      "cell_type": "code",
      "metadata": {
        "id": "ClIbWbDA_zVa"
      },
      "source": [
        "for model_path in models:\n",
        "  m = load_model(model_path)\n",
        "  plot_model(\n",
        "      m,\n",
        "      to_file=f\"/content/drive/MyDrive/sentiment/plots/{model_path.split('/').pop().split('.').pop(0)}.png\",\n",
        "      show_shapes=True,\n",
        "      show_dtype=True\n",
        "    )"
      ],
      "execution_count": null,
      "outputs": []
    }
  ]
}