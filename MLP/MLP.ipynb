{
  "nbformat": 4,
  "nbformat_minor": 0,
  "metadata": {
    "colab": {
      "name": "MLP.ipynb",
      "provenance": [],
      "collapsed_sections": [
        "bSmQcytW7vdy",
        "EEFd4xiI4hNU"
      ],
      "mount_file_id": "1YuptOJm6gtDoPt0czm6MmnqFyvLwAJtx",
      "authorship_tag": "ABX9TyNNJ65uvqo3Tk2lQCJTSqWs",
      "include_colab_link": true
    },
    "kernelspec": {
      "name": "python3",
      "display_name": "Python 3"
    },
    "accelerator": "GPU"
  },
  "cells": [
    {
      "cell_type": "markdown",
      "metadata": {
        "id": "view-in-github",
        "colab_type": "text"
      },
      "source": [
        "<a href=\"https://colab.research.google.com/github/ppkgtmm/sentiment/blob/main/MLP.ipynb\" target=\"_parent\"><img src=\"https://colab.research.google.com/assets/colab-badge.svg\" alt=\"Open In Colab\"/></a>"
      ]
    },
    {
      "cell_type": "code",
      "metadata": {
        "id": "xynWD2YksI2S"
      },
      "source": [
        "# !pip install keras-tuner"
      ],
      "execution_count": 3,
      "outputs": []
    },
    {
      "cell_type": "code",
      "metadata": {
        "id": "D-BJtucalYKR"
      },
      "source": [
        "import pandas as pd\n",
        "import numpy as np\n",
        "from keras.preprocessing.text import  Tokenizer\n",
        "from keras.preprocessing.sequence import pad_sequences\n",
        "from keras.layers import Input, Dense\n",
        "from keras.models import Sequential\n",
        "from sklearn.model_selection import train_test_split\n",
        "from keras.metrics import Precision, Recall, FalseNegatives, \\\n",
        "FalsePositives, TrueNegatives, TruePositives\n",
        "from sklearn.preprocessing import OneHotEncoder\n",
        "from kerastuner.tuners import Hyperband\n",
        "from kerastuner import HyperParameters\n",
        "from keras.optimizers import Adam, Adadelta, Adagrad, RMSprop\n",
        "from keras.activations import sigmoid, relu, tanh\n",
        "import pickle\n",
        "from keras.callbacks import EarlyStopping, ModelCheckpoint\n",
        "from sklearn.metrics import accuracy_score,classification_report, \\\n",
        "confusion_matrix\n",
        "import matplotlib.pyplot as plt"
      ],
      "execution_count": 75,
      "outputs": []
    },
    {
      "cell_type": "code",
      "metadata": {
        "id": "HBuhpV1fmAvc"
      },
      "source": [
        "cols = ['text', 'target']\n",
        "data_path = '/content/drive/MyDrive/sentiment/data/data_preprocessed.csv'\n",
        "test_path = '/content/drive/MyDrive/sentiment/data/test_data_preprocessed.csv'\n",
        "seed = 123456\n",
        "num_words = 10000\n",
        "max_len = 250\n",
        "optimizers = [\n",
        "           'Adam',\n",
        "           'Adadelta',\n",
        "           'Adagrad',\n",
        "           'RMSprop'   \n",
        "]\n",
        "activations = ['relu', 'tanh', 'sigmoid']"
      ],
      "execution_count": 4,
      "outputs": []
    },
    {
      "cell_type": "code",
      "metadata": {
        "id": "Xp7f0Gb-mCkE"
      },
      "source": [
        "data = pd.read_csv(data_path)[cols]"
      ],
      "execution_count": 5,
      "outputs": []
    },
    {
      "cell_type": "code",
      "metadata": {
        "colab": {
          "base_uri": "https://localhost:8080/",
          "height": 204
        },
        "id": "8upisD1ndUMc",
        "outputId": "e727ce38-4599-4322-f5e1-a6866a35cbac"
      },
      "source": [
        "data.sample(5)"
      ],
      "execution_count": 6,
      "outputs": [
        {
          "output_type": "execute_result",
          "data": {
            "text/html": [
              "<div>\n",
              "<style scoped>\n",
              "    .dataframe tbody tr th:only-of-type {\n",
              "        vertical-align: middle;\n",
              "    }\n",
              "\n",
              "    .dataframe tbody tr th {\n",
              "        vertical-align: top;\n",
              "    }\n",
              "\n",
              "    .dataframe thead th {\n",
              "        text-align: right;\n",
              "    }\n",
              "</style>\n",
              "<table border=\"1\" class=\"dataframe\">\n",
              "  <thead>\n",
              "    <tr style=\"text-align: right;\">\n",
              "      <th></th>\n",
              "      <th>text</th>\n",
              "      <th>target</th>\n",
              "    </tr>\n",
              "  </thead>\n",
              "  <tbody>\n",
              "    <tr>\n",
              "      <th>40857</th>\n",
              "      <td>holds posters on wall for NUMBER minutes do no...</td>\n",
              "      <td>0</td>\n",
              "    </tr>\n",
              "    <tr>\n",
              "      <th>160620</th>\n",
              "      <td>adorable winnie the pooh cake this cake is rea...</td>\n",
              "      <td>1</td>\n",
              "    </tr>\n",
              "    <tr>\n",
              "      <th>260113</th>\n",
              "      <td>great introduction to databases if you are new...</td>\n",
              "      <td>1</td>\n",
              "    </tr>\n",
              "    <tr>\n",
              "      <th>317634</th>\n",
              "      <td>great saw this saw was amazingly accurate out ...</td>\n",
              "      <td>1</td>\n",
              "    </tr>\n",
              "    <tr>\n",
              "      <th>226443</th>\n",
              "      <td>disappointed this arrived broken into tiny pie...</td>\n",
              "      <td>0</td>\n",
              "    </tr>\n",
              "  </tbody>\n",
              "</table>\n",
              "</div>"
            ],
            "text/plain": [
              "                                                     text  target\n",
              "40857   holds posters on wall for NUMBER minutes do no...       0\n",
              "160620  adorable winnie the pooh cake this cake is rea...       1\n",
              "260113  great introduction to databases if you are new...       1\n",
              "317634  great saw this saw was amazingly accurate out ...       1\n",
              "226443  disappointed this arrived broken into tiny pie...       0"
            ]
          },
          "metadata": {
            "tags": []
          },
          "execution_count": 6
        }
      ]
    },
    {
      "cell_type": "code",
      "metadata": {
        "id": "FfmJqaQh34o-"
      },
      "source": [
        "test = pd.read_csv(test_path)[cols]"
      ],
      "execution_count": 7,
      "outputs": []
    },
    {
      "cell_type": "code",
      "metadata": {
        "colab": {
          "base_uri": "https://localhost:8080/",
          "height": 204
        },
        "id": "l-SsOnu_3_VH",
        "outputId": "4f276aec-2dd1-4023-9d17-d82cdc03baf2"
      },
      "source": [
        "test.sample(5)"
      ],
      "execution_count": 8,
      "outputs": [
        {
          "output_type": "execute_result",
          "data": {
            "text/html": [
              "<div>\n",
              "<style scoped>\n",
              "    .dataframe tbody tr th:only-of-type {\n",
              "        vertical-align: middle;\n",
              "    }\n",
              "\n",
              "    .dataframe tbody tr th {\n",
              "        vertical-align: top;\n",
              "    }\n",
              "\n",
              "    .dataframe thead th {\n",
              "        text-align: right;\n",
              "    }\n",
              "</style>\n",
              "<table border=\"1\" class=\"dataframe\">\n",
              "  <thead>\n",
              "    <tr style=\"text-align: right;\">\n",
              "      <th></th>\n",
              "      <th>text</th>\n",
              "      <th>target</th>\n",
              "    </tr>\n",
              "  </thead>\n",
              "  <tbody>\n",
              "    <tr>\n",
              "      <th>8866</th>\n",
              "      <td>masterful suspense and an edgy hero kay david ...</td>\n",
              "      <td>1</td>\n",
              "    </tr>\n",
              "    <tr>\n",
              "      <th>12274</th>\n",
              "      <td>normal happiness the second release in a calen...</td>\n",
              "      <td>1</td>\n",
              "    </tr>\n",
              "    <tr>\n",
              "      <th>6734</th>\n",
              "      <td>gimmicky this performance is a cutesy one repl...</td>\n",
              "      <td>0</td>\n",
              "    </tr>\n",
              "    <tr>\n",
              "      <th>8899</th>\n",
              "      <td>good quick read but wait till paperback or lib...</td>\n",
              "      <td>0</td>\n",
              "    </tr>\n",
              "    <tr>\n",
              "      <th>19095</th>\n",
              "      <td>false belief system amazing that in our times ...</td>\n",
              "      <td>0</td>\n",
              "    </tr>\n",
              "  </tbody>\n",
              "</table>\n",
              "</div>"
            ],
            "text/plain": [
              "                                                    text  target\n",
              "8866   masterful suspense and an edgy hero kay david ...       1\n",
              "12274  normal happiness the second release in a calen...       1\n",
              "6734   gimmicky this performance is a cutesy one repl...       0\n",
              "8899   good quick read but wait till paperback or lib...       0\n",
              "19095  false belief system amazing that in our times ...       0"
            ]
          },
          "metadata": {
            "tags": []
          },
          "execution_count": 8
        }
      ]
    },
    {
      "cell_type": "code",
      "metadata": {
        "id": "AL6RZLGvfnGG"
      },
      "source": [
        "train, val = train_test_split(data, test_size=0.15, stratify=data['target'], random_state=seed)"
      ],
      "execution_count": 9,
      "outputs": []
    },
    {
      "cell_type": "code",
      "metadata": {
        "colab": {
          "base_uri": "https://localhost:8080/"
        },
        "id": "WSrWyGWvfzv9",
        "outputId": "f28e0ece-5e11-47af-8bdc-f46f920a23e3"
      },
      "source": [
        "train.shape, val.shape"
      ],
      "execution_count": 10,
      "outputs": [
        {
          "output_type": "execute_result",
          "data": {
            "text/plain": [
              "((305988, 2), (53998, 2))"
            ]
          },
          "metadata": {
            "tags": []
          },
          "execution_count": 10
        }
      ]
    },
    {
      "cell_type": "markdown",
      "metadata": {
        "id": "D-GRuhxP4b-B"
      },
      "source": [
        "## Training"
      ]
    },
    {
      "cell_type": "code",
      "metadata": {
        "id": "19FcfhEedZ55"
      },
      "source": [
        "tokenizer = Tokenizer(num_words=num_words, oov_token='OOV')\n",
        "tokenizer.fit_on_texts(train['text'])"
      ],
      "execution_count": null,
      "outputs": []
    },
    {
      "cell_type": "code",
      "metadata": {
        "id": "QPh6zAYMf7pN"
      },
      "source": [
        "def get_sequences(tokenizer, max_len, texts):\n",
        "    return pad_sequences(tokenizer.texts_to_sequences(texts), maxlen=max_len)"
      ],
      "execution_count": 17,
      "outputs": []
    },
    {
      "cell_type": "code",
      "metadata": {
        "id": "9BZkac-8gsEZ"
      },
      "source": [
        "sequence_train = get_sequences(tokenizer, max_len, train['text'])\n",
        "sequence_val = get_sequences(tokenizer, max_len, val['text'])"
      ],
      "execution_count": null,
      "outputs": []
    },
    {
      "cell_type": "code",
      "metadata": {
        "colab": {
          "base_uri": "https://localhost:8080/"
        },
        "id": "1tF2ptvUgzZj",
        "outputId": "571e041c-d3e7-4332-d7c6-0e872fa71dab"
      },
      "source": [
        "sequence_train.shape, sequence_val.shape"
      ],
      "execution_count": null,
      "outputs": [
        {
          "output_type": "execute_result",
          "data": {
            "text/plain": [
              "((305988, 250), (53998, 250))"
            ]
          },
          "metadata": {
            "tags": []
          },
          "execution_count": 13
        }
      ]
    },
    {
      "cell_type": "code",
      "metadata": {
        "colab": {
          "base_uri": "https://localhost:8080/"
        },
        "id": "J6JQd-QRhb3B",
        "outputId": "9bfdb7f4-3c0e-4466-b97c-d3fb7d733c76"
      },
      "source": [
        "print(val['target'].unique(), train['target'].unique())"
      ],
      "execution_count": null,
      "outputs": [
        {
          "output_type": "stream",
          "text": [
            "[1 0] [0 1]\n"
          ],
          "name": "stdout"
        }
      ]
    },
    {
      "cell_type": "code",
      "metadata": {
        "id": "i0E0PmY3rKfi"
      },
      "source": [
        "OH_encoder = OneHotEncoder(sparse=False)\n",
        "train_target = OH_encoder.fit_transform(train['target'].values.reshape(-1,1))\n",
        "val_target = OH_encoder.transform(val['target'].values.reshape(-1,1))"
      ],
      "execution_count": 18,
      "outputs": []
    },
    {
      "cell_type": "code",
      "metadata": {
        "colab": {
          "base_uri": "https://localhost:8080/"
        },
        "id": "Zzh_a9lpQ8d3",
        "outputId": "903c4e23-ba6f-411f-9426-a2c157d46ac7"
      },
      "source": [
        "train_target.shape, val_target.shape"
      ],
      "execution_count": 19,
      "outputs": [
        {
          "output_type": "execute_result",
          "data": {
            "text/plain": [
              "((305988, 2), (53998, 2))"
            ]
          },
          "metadata": {
            "tags": []
          },
          "execution_count": 19
        }
      ]
    },
    {
      "cell_type": "code",
      "metadata": {
        "id": "vflzAWWNx6ym"
      },
      "source": [
        "def get_optimizer(key):\n",
        "  map = {\n",
        "      'Adam': Adam(),\n",
        "      'Adadelta': Adadelta(),\n",
        "      'Adagrad': Adagrad(),\n",
        "      'RMSprop': RMSprop()\n",
        "  }\n",
        "  return map.get(key)"
      ],
      "execution_count": 20,
      "outputs": []
    },
    {
      "cell_type": "code",
      "metadata": {
        "id": "MZm4vgbLjlW4"
      },
      "source": [
        "def build_simple_mlp(hp):\n",
        "    model = Sequential()\n",
        "    model.add(Input(shape=(max_len,)))\n",
        "    model.add(Dense(hp.get('hidden_units'),\\\n",
        "                           activation=hp.get(\"hidden_activation\")))\n",
        "    model.add(Dense(2, activation='softmax'))\n",
        "    model.compile(\n",
        "        optimizer=hp.get('optimizer'),\n",
        "        loss='categorical_crossentropy',\n",
        "        metrics=[\n",
        "                 'accuracy',\n",
        "                 Precision(), \n",
        "                 Recall(),\n",
        "                 TruePositives(), \n",
        "                 TrueNegatives(), \n",
        "                 FalsePositives(),\n",
        "                 FalseNegatives()\n",
        "              ]\n",
        "          )\n",
        "    model.summary()\n",
        "    return model"
      ],
      "execution_count": 21,
      "outputs": []
    },
    {
      "cell_type": "code",
      "metadata": {
        "colab": {
          "base_uri": "https://localhost:8080/",
          "height": 35
        },
        "id": "syRZJyw2vxwE",
        "outputId": "99a64010-872a-4d14-a4eb-cc173bdb91b5"
      },
      "source": [
        "hp = HyperParameters()\n",
        "hp.Int('hidden_units', 10, 30, 10)\n",
        "hp.Choice('hidden_activation', activations)\n",
        "hp.Choice('optimizer', optimizers)"
      ],
      "execution_count": 23,
      "outputs": [
        {
          "output_type": "execute_result",
          "data": {
            "application/vnd.google.colaboratory.intrinsic+json": {
              "type": "string"
            },
            "text/plain": [
              "'Adam'"
            ]
          },
          "metadata": {
            "tags": []
          },
          "execution_count": 23
        }
      ]
    },
    {
      "cell_type": "code",
      "metadata": {
        "colab": {
          "base_uri": "https://localhost:8080/"
        },
        "id": "0zgic0nhr1Nk",
        "outputId": "336fb9c8-5952-43c4-9fa8-3567957d49d1"
      },
      "source": [
        "tuner = Hyperband(\n",
        "    build_simple_mlp,\n",
        "    max_epochs=10,\n",
        "    objective='val_loss',\n",
        "    executions_per_trial=2,\n",
        "    directory='/content/drive/MyDrive/sentiment/MLP',\n",
        "    project_name='MLP_1H_B32',\n",
        "    hyperparameters=hp,\n",
        ")"
      ],
      "execution_count": 24,
      "outputs": [
        {
          "output_type": "stream",
          "text": [
            "INFO:tensorflow:Reloading Oracle from existing project /content/drive/MyDrive/sentiment/MLP/MLP_1H_B32/oracle.json\n",
            "Model: \"sequential\"\n",
            "_________________________________________________________________\n",
            "Layer (type)                 Output Shape              Param #   \n",
            "=================================================================\n",
            "dense (Dense)                (None, 10)                2510      \n",
            "_________________________________________________________________\n",
            "dense_1 (Dense)              (None, 2)                 22        \n",
            "=================================================================\n",
            "Total params: 2,532\n",
            "Trainable params: 2,532\n",
            "Non-trainable params: 0\n",
            "_________________________________________________________________\n",
            "INFO:tensorflow:Reloading Tuner from /content/drive/MyDrive/sentiment/MLP/MLP_1H_B32/tuner0.json\n"
          ],
          "name": "stdout"
        }
      ]
    },
    {
      "cell_type": "markdown",
      "metadata": {
        "id": "bSmQcytW7vdy"
      },
      "source": [
        "## Fit"
      ]
    },
    {
      "cell_type": "code",
      "metadata": {
        "colab": {
          "base_uri": "https://localhost:8080/"
        },
        "id": "t4B1AZMhux2T",
        "outputId": "0e9920e2-7b5d-4760-ea47-31e389e7fea4"
      },
      "source": [
        "history = tuner.search(\n",
        "    sequence_train,\n",
        "    train_target,\n",
        "    epochs=10,\n",
        "    validation_data=(sequence_val, val_target),\n",
        "    batch_size=32\n",
        ")"
      ],
      "execution_count": null,
      "outputs": [
        {
          "output_type": "stream",
          "text": [
            "Trial 30 Complete [00h 16m 47s]\n",
            "val_loss: 0.693591445684433\n",
            "\n",
            "Best val_loss So Far: 0.6891161203384399\n",
            "Total elapsed time: 03h 23m 25s\n",
            "INFO:tensorflow:Oracle triggered exit\n"
          ],
          "name": "stdout"
        }
      ]
    },
    {
      "cell_type": "markdown",
      "metadata": {
        "id": "DDxkBuzY74Y4"
      },
      "source": [
        "## Summary"
      ]
    },
    {
      "cell_type": "code",
      "metadata": {
        "colab": {
          "base_uri": "https://localhost:8080/"
        },
        "id": "0etvdUV5Ha0e",
        "outputId": "3416e2f0-c7f0-463a-e0fc-2b58a1ba3ae1"
      },
      "source": [
        "tuner.search_space_summary()"
      ],
      "execution_count": null,
      "outputs": [
        {
          "output_type": "stream",
          "text": [
            "Search space summary\n",
            "Default search space size: 3\n",
            "hidden_units (Int)\n",
            "{'default': None, 'conditions': [], 'min_value': 10, 'max_value': 30, 'step': 10, 'sampling': None}\n",
            "hidden_activation (Choice)\n",
            "{'default': 'relu', 'conditions': [], 'values': ['relu', 'tanh', 'sigmoid'], 'ordered': False}\n",
            "optimizer (Choice)\n",
            "{'default': 'Adam', 'conditions': [], 'values': ['Adam', 'Adadelta', 'Adagrad', 'RMSprop'], 'ordered': False}\n"
          ],
          "name": "stdout"
        }
      ]
    },
    {
      "cell_type": "code",
      "metadata": {
        "colab": {
          "base_uri": "https://localhost:8080/"
        },
        "id": "qtIqM8m0HkFL",
        "outputId": "102616f5-fff2-4013-f647-23577c721413"
      },
      "source": [
        "tuner.results_summary(num_trials=3)"
      ],
      "execution_count": 25,
      "outputs": [
        {
          "output_type": "stream",
          "text": [
            "Results summary\n",
            "Results in /content/drive/MyDrive/sentiment/MLP/MLP_1H_B32\n",
            "Showing 3 best trials\n",
            "Objective(name='val_loss', direction='min')\n",
            "Trial summary\n",
            "Hyperparameters:\n",
            "hidden_units: 10\n",
            "hidden_activation: sigmoid\n",
            "optimizer: RMSprop\n",
            "tuner/epochs: 10\n",
            "tuner/initial_epoch: 0\n",
            "tuner/bracket: 0\n",
            "tuner/round: 0\n",
            "Score: 0.6891161203384399\n",
            "Trial summary\n",
            "Hyperparameters:\n",
            "hidden_units: 30\n",
            "hidden_activation: sigmoid\n",
            "optimizer: RMSprop\n",
            "tuner/epochs: 10\n",
            "tuner/initial_epoch: 4\n",
            "tuner/bracket: 2\n",
            "tuner/round: 2\n",
            "tuner/trial_id: c37ca39be27500401abcb9ef7b9de072\n",
            "Score: 0.689337432384491\n",
            "Trial summary\n",
            "Hyperparameters:\n",
            "hidden_units: 20\n",
            "hidden_activation: sigmoid\n",
            "optimizer: Adam\n",
            "tuner/epochs: 10\n",
            "tuner/initial_epoch: 4\n",
            "tuner/bracket: 2\n",
            "tuner/round: 2\n",
            "tuner/trial_id: afb8e4350d472e9bb627c5ae6873135e\n",
            "Score: 0.6895457804203033\n"
          ],
          "name": "stdout"
        }
      ]
    },
    {
      "cell_type": "code",
      "metadata": {
        "colab": {
          "base_uri": "https://localhost:8080/"
        },
        "id": "mSXfNlbVsop9",
        "outputId": "dc076f58-7579-4eb5-a48d-13faa8585257"
      },
      "source": [
        "best_params = tuner.get_best_hyperparameters(1)[0]\n",
        "print(f\"hidden units best: {best_params.get('hidden_units')}\")\n",
        "print(f\"hidden activation best: {best_params.get('hidden_activation')}\")\n",
        "print(f\"optimizer best: {best_params.get('optimizer')}\")"
      ],
      "execution_count": null,
      "outputs": [
        {
          "output_type": "stream",
          "text": [
            "hidden units best: 10\n",
            "hidden activation best: sigmoid\n",
            "optimizer best: RMSprop\n"
          ],
          "name": "stdout"
        }
      ]
    },
    {
      "cell_type": "code",
      "metadata": {
        "colab": {
          "base_uri": "https://localhost:8080/"
        },
        "id": "UrxgczN-NHIc",
        "outputId": "3de6fe84-ff1f-4a0a-ad5e-a98b1183b097"
      },
      "source": [
        "best_model = tuner.get_best_models(num_models=1)[0]"
      ],
      "execution_count": null,
      "outputs": [
        {
          "output_type": "stream",
          "text": [
            "Model: \"sequential\"\n",
            "_________________________________________________________________\n",
            "Layer (type)                 Output Shape              Param #   \n",
            "=================================================================\n",
            "dense (Dense)                (None, 10)                2510      \n",
            "_________________________________________________________________\n",
            "dense_1 (Dense)              (None, 2)                 22        \n",
            "=================================================================\n",
            "Total params: 2,532\n",
            "Trainable params: 2,532\n",
            "Non-trainable params: 0\n",
            "_________________________________________________________________\n",
            "WARNING:tensorflow:Unresolved object in checkpoint: (root).optimizer.iter\n",
            "WARNING:tensorflow:Unresolved object in checkpoint: (root).optimizer.decay\n",
            "WARNING:tensorflow:Unresolved object in checkpoint: (root).optimizer.learning_rate\n",
            "WARNING:tensorflow:Unresolved object in checkpoint: (root).optimizer.momentum\n",
            "WARNING:tensorflow:Unresolved object in checkpoint: (root).optimizer.rho\n",
            "WARNING:tensorflow:A checkpoint was restored (e.g. tf.train.Checkpoint.restore or tf.keras.Model.load_weights) but not all checkpointed values were used. See above for specific issues. Use expect_partial() on the load status object, e.g. tf.train.Checkpoint.restore(...).expect_partial(), to silence these warnings, or use assert_consumed() to make the check explicit. See https://www.tensorflow.org/guide/checkpoint#loading_mechanics for details.\n"
          ],
          "name": "stdout"
        }
      ]
    },
    {
      "cell_type": "code",
      "metadata": {
        "colab": {
          "base_uri": "https://localhost:8080/"
        },
        "id": "RSc0Kt7ONb_P",
        "outputId": "393a9974-53bc-4085-9dea-41924e011a15"
      },
      "source": [
        "best_model.evaluate(sequence_train, train_target, batch_size=32)"
      ],
      "execution_count": null,
      "outputs": [
        {
          "output_type": "stream",
          "text": [
            "9563/9563 [==============================] - 42s 4ms/step - loss: 0.6897 - accuracy: 0.5345 - precision: 0.5345 - recall: 0.5345 - true_positives: 81782.4235 - true_negatives: 81782.4235 - false_positives: 71257.5673 - false_negatives: 71257.5673\n"
          ],
          "name": "stdout"
        },
        {
          "output_type": "execute_result",
          "data": {
            "text/plain": [
              "[0.6896055340766907,\n",
              " 0.5350667238235474,\n",
              " 0.5350667238235474,\n",
              " 0.5350667238235474,\n",
              " 163724.0,\n",
              " 163724.0,\n",
              " 142264.0,\n",
              " 142264.0]"
            ]
          },
          "metadata": {
            "tags": []
          },
          "execution_count": 67
        }
      ]
    },
    {
      "cell_type": "code",
      "metadata": {
        "colab": {
          "base_uri": "https://localhost:8080/"
        },
        "id": "JJL7yo9POE-l",
        "outputId": "1d2a4f93-bfe1-4b35-d995-3d78d156712d"
      },
      "source": [
        "best_model.evaluate(sequence_val, val_target, batch_size=32)"
      ],
      "execution_count": null,
      "outputs": [
        {
          "output_type": "stream",
          "text": [
            "1688/1688 [==============================] - 7s 4ms/step - loss: 0.6891 - accuracy: 0.5376 - precision: 0.5376 - recall: 0.5376 - true_positives: 29028.0000 - true_negatives: 29028.0000 - false_positives: 24970.0000 - false_negatives: 24970.0000\n"
          ],
          "name": "stdout"
        },
        {
          "output_type": "execute_result",
          "data": {
            "text/plain": [
              "[0.6890584230422974,\n",
              " 0.5375754833221436,\n",
              " 0.5375754833221436,\n",
              " 0.5375754833221436,\n",
              " 29028.0,\n",
              " 29028.0,\n",
              " 24970.0,\n",
              " 24970.0]"
            ]
          },
          "metadata": {
            "tags": []
          },
          "execution_count": 68
        }
      ]
    },
    {
      "cell_type": "code",
      "metadata": {
        "id": "sNCvo3Az4thR"
      },
      "source": [
        "# with open('/content/drive/MyDrive/sentiment/MLP/MLP_1H_B32/tokenizer.pickle',\n",
        "#           'wb') as handle:\n",
        "#     pickle.dump(tokenizer, handle, protocol=pickle.HIGHEST_PROTOCOL)"
      ],
      "execution_count": null,
      "outputs": []
    },
    {
      "cell_type": "markdown",
      "metadata": {
        "id": "EEFd4xiI4hNU"
      },
      "source": [
        "## Prediction"
      ]
    },
    {
      "cell_type": "code",
      "metadata": {
        "colab": {
          "base_uri": "https://localhost:8080/"
        },
        "id": "o91mNKBJOws1",
        "outputId": "7e1f6e59-a711-46d6-ab80-bd8eff93a086"
      },
      "source": [
        "to_predict = [\n",
        "              'I love my job',\n",
        "              'I sometimes feel unhappy',\n",
        "              'I am quite excited for the work',\n",
        "              'This is quite astounding',\n",
        "              'get lost',\n",
        "              'do not test my patience',\n",
        "              'I am warning you better not destroy it for God sake'\n",
        "]\n",
        "\n",
        "category = [0,1]\n",
        "for result in best_model.predict(get_sequences(tokenizer,max_len,to_predict)):\n",
        "  if np.argmax(result) == 0:\n",
        "    category = [1,0]\n",
        "  if OH_encoder.inverse_transform([category]) == 1:\n",
        "    print('positive', result)\n",
        "  else:\n",
        "    print('negative', result)"
      ],
      "execution_count": null,
      "outputs": [
        {
          "output_type": "stream",
          "text": [
            "positive [0.43479195 0.565208  ]\n",
            "positive [0.43458408 0.5654159 ]\n",
            "positive [0.42525157 0.57474846]\n",
            "positive [0.46718034 0.5328196 ]\n",
            "positive [0.46080282 0.5391972 ]\n",
            "positive [0.43458408 0.5654159 ]\n",
            "positive [0.42525157 0.57474846]\n"
          ],
          "name": "stdout"
        }
      ]
    },
    {
      "cell_type": "markdown",
      "metadata": {
        "id": "E7tK5j_74xkH"
      },
      "source": [
        "## Testing"
      ]
    },
    {
      "cell_type": "code",
      "metadata": {
        "id": "mBtcOyDWUoPn"
      },
      "source": [
        "test_target = OH_encoder.transform(test['target'].values.reshape(-1,1))"
      ],
      "execution_count": 26,
      "outputs": []
    },
    {
      "cell_type": "code",
      "metadata": {
        "id": "TVz9s6aM5BPz"
      },
      "source": [
        "old_tokenizer = pickle.load(\n",
        "    open(\n",
        "        '/content/drive/MyDrive/sentiment/MLP/MLP_1H_B32/tokenizer.pickle',\n",
        "         'rb'\n",
        "    )\n",
        ")"
      ],
      "execution_count": 15,
      "outputs": []
    },
    {
      "cell_type": "code",
      "metadata": {
        "id": "UR-w9nJ1_wVI"
      },
      "source": [
        "def get_callbacks(file_path):\n",
        "  return [\n",
        "          EarlyStopping(monitor='val_loss', patience=5, mode='min', \\\n",
        "                        restore_best_weights=True),\n",
        "          ModelCheckpoint(file_path, monitor='val_loss', verbose=1, \\\n",
        "                          save_best_only=True,  mode='min')\n",
        "  ]"
      ],
      "execution_count": 42,
      "outputs": []
    },
    {
      "cell_type": "code",
      "metadata": {
        "colab": {
          "base_uri": "https://localhost:8080/"
        },
        "id": "9h-U2iA1GBDS",
        "outputId": "c264009d-1675-4157-d016-f5090d277198"
      },
      "source": [
        "m = tuner.get_best_models(num_models=1)[0]\n",
        "model = Sequential().from_config(m.get_config())\n",
        "model.compile(\n",
        "    optimizer=tuner.get_best_hyperparameters()[0].get('optimizer'),\n",
        "    loss='categorical_crossentropy',\n",
        "    metrics=[\n",
        "                 'accuracy',\n",
        "                 Precision(), \n",
        "                 Recall(),\n",
        "                 TruePositives(), \n",
        "                 TrueNegatives(), \n",
        "                 FalsePositives(),\n",
        "                 FalseNegatives()\n",
        "              ]\n",
        ")"
      ],
      "execution_count": 58,
      "outputs": [
        {
          "output_type": "stream",
          "text": [
            "Model: \"sequential\"\n",
            "_________________________________________________________________\n",
            "Layer (type)                 Output Shape              Param #   \n",
            "=================================================================\n",
            "dense (Dense)                (None, 10)                2510      \n",
            "_________________________________________________________________\n",
            "dense_1 (Dense)              (None, 2)                 22        \n",
            "=================================================================\n",
            "Total params: 2,532\n",
            "Trainable params: 2,532\n",
            "Non-trainable params: 0\n",
            "_________________________________________________________________\n",
            "WARNING:tensorflow:Unresolved object in checkpoint: (root).optimizer.iter\n",
            "WARNING:tensorflow:Unresolved object in checkpoint: (root).optimizer.decay\n",
            "WARNING:tensorflow:Unresolved object in checkpoint: (root).optimizer.learning_rate\n",
            "WARNING:tensorflow:Unresolved object in checkpoint: (root).optimizer.momentum\n",
            "WARNING:tensorflow:Unresolved object in checkpoint: (root).optimizer.rho\n",
            "WARNING:tensorflow:A checkpoint was restored (e.g. tf.train.Checkpoint.restore or tf.keras.Model.load_weights) but not all checkpointed values were used. See above for specific issues. Use expect_partial() on the load status object, e.g. tf.train.Checkpoint.restore(...).expect_partial(), to silence these warnings, or use assert_consumed() to make the check explicit. See https://www.tensorflow.org/guide/checkpoint#loading_mechanics for details.\n"
          ],
          "name": "stdout"
        }
      ]
    },
    {
      "cell_type": "code",
      "metadata": {
        "id": "ojpWNFIyF35k"
      },
      "source": [
        "train_seq = get_sequences(\n",
        "        old_tokenizer,\n",
        "        config[\"layers\"][0][\"config\"][\"batch_input_shape\"][1],\n",
        "        train['text']\n",
        "      )\n",
        "val_seq = get_sequences(\n",
        "        old_tokenizer,\n",
        "        config[\"layers\"][0][\"config\"][\"batch_input_shape\"][1],\n",
        "        val['text']\n",
        "      )\n",
        "test_seq = get_sequences(\n",
        "        old_tokenizer,\n",
        "        config[\"layers\"][0][\"config\"][\"batch_input_shape\"][1],\n",
        "        test['text']\n",
        "      )"
      ],
      "execution_count": 45,
      "outputs": []
    },
    {
      "cell_type": "code",
      "metadata": {
        "colab": {
          "base_uri": "https://localhost:8080/"
        },
        "id": "nH34lbBk5cSI",
        "outputId": "b9bdf4e0-8d4d-4d2e-a66c-c6983b2987cc"
      },
      "source": [
        "history = model.fit(\n",
        "    train_seq,\n",
        "    train_target,\n",
        "    validation_data=(val_seq, val_target),\n",
        "    epochs=100,\n",
        "    callbacks=get_callbacks('simple_mlp2.h5')\n",
        ")"
      ],
      "execution_count": 61,
      "outputs": [
        {
          "output_type": "stream",
          "text": [
            "Epoch 1/100\n",
            "9563/9563 [==============================] - 54s 6ms/step - loss: 0.6900 - accuracy: 0.5346 - precision_1: 0.5346 - recall_1: 0.5346 - true_positives_1: 163572.0000 - true_negatives_1: 163572.0000 - false_positives_1: 142416.0000 - false_negatives_1: 142416.0000 - val_loss: 0.6895 - val_accuracy: 0.5374 - val_precision_1: 0.5374 - val_recall_1: 0.5374 - val_true_positives_1: 29020.0000 - val_true_negatives_1: 29020.0000 - val_false_positives_1: 24978.0000 - val_false_negatives_1: 24978.0000\n",
            "\n",
            "Epoch 00001: val_loss improved from inf to 0.68950, saving model to simple_mlp2.h5\n",
            "Epoch 2/100\n",
            "9563/9563 [==============================] - 53s 6ms/step - loss: 0.6900 - accuracy: 0.5349 - precision_1: 0.5349 - recall_1: 0.5349 - true_positives_1: 163662.0000 - true_negatives_1: 163662.0000 - false_positives_1: 142326.0000 - false_negatives_1: 142326.0000 - val_loss: 0.6893 - val_accuracy: 0.5377 - val_precision_1: 0.5377 - val_recall_1: 0.5377 - val_true_positives_1: 29036.0000 - val_true_negatives_1: 29036.0000 - val_false_positives_1: 24962.0000 - val_false_negatives_1: 24962.0000\n",
            "\n",
            "Epoch 00002: val_loss improved from 0.68950 to 0.68926, saving model to simple_mlp2.h5\n",
            "Epoch 3/100\n",
            "9563/9563 [==============================] - 53s 6ms/step - loss: 0.6900 - accuracy: 0.5349 - precision_1: 0.5349 - recall_1: 0.5349 - true_positives_1: 163687.0000 - true_negatives_1: 163687.0000 - false_positives_1: 142301.0000 - false_negatives_1: 142301.0000 - val_loss: 0.6896 - val_accuracy: 0.5359 - val_precision_1: 0.5359 - val_recall_1: 0.5359 - val_true_positives_1: 28938.0000 - val_true_negatives_1: 28938.0000 - val_false_positives_1: 25060.0000 - val_false_negatives_1: 25060.0000\n",
            "\n",
            "Epoch 00003: val_loss did not improve from 0.68926\n",
            "Epoch 4/100\n",
            "9563/9563 [==============================] - 54s 6ms/step - loss: 0.6898 - accuracy: 0.5345 - precision_1: 0.5345 - recall_1: 0.5345 - true_positives_1: 163536.0000 - true_negatives_1: 163536.0000 - false_positives_1: 142452.0000 - false_negatives_1: 142452.0000 - val_loss: 0.6895 - val_accuracy: 0.5376 - val_precision_1: 0.5376 - val_recall_1: 0.5376 - val_true_positives_1: 29031.0000 - val_true_negatives_1: 29031.0000 - val_false_positives_1: 24967.0000 - val_false_negatives_1: 24967.0000\n",
            "\n",
            "Epoch 00004: val_loss did not improve from 0.68926\n",
            "Epoch 5/100\n",
            "9563/9563 [==============================] - 54s 6ms/step - loss: 0.6898 - accuracy: 0.5346 - precision_1: 0.5346 - recall_1: 0.5346 - true_positives_1: 163581.0000 - true_negatives_1: 163582.0000 - false_positives_1: 142406.0000 - false_negatives_1: 142407.0000 - val_loss: 0.6891 - val_accuracy: 0.5383 - val_precision_1: 0.5383 - val_recall_1: 0.5383 - val_true_positives_1: 29066.0000 - val_true_negatives_1: 29066.0000 - val_false_positives_1: 24932.0000 - val_false_negatives_1: 24932.0000\n",
            "\n",
            "Epoch 00005: val_loss improved from 0.68926 to 0.68909, saving model to simple_mlp2.h5\n",
            "Epoch 6/100\n",
            "9563/9563 [==============================] - 55s 6ms/step - loss: 0.6898 - accuracy: 0.5343 - precision_1: 0.5343 - recall_1: 0.5343 - true_positives_1: 163487.0000 - true_negatives_1: 163487.0000 - false_positives_1: 142501.0000 - false_negatives_1: 142501.0000 - val_loss: 0.6891 - val_accuracy: 0.5392 - val_precision_1: 0.5392 - val_recall_1: 0.5392 - val_true_positives_1: 29117.0000 - val_true_negatives_1: 29117.0000 - val_false_positives_1: 24881.0000 - val_false_negatives_1: 24881.0000\n",
            "\n",
            "Epoch 00006: val_loss improved from 0.68909 to 0.68905, saving model to simple_mlp2.h5\n",
            "Epoch 7/100\n",
            "9563/9563 [==============================] - 55s 6ms/step - loss: 0.6898 - accuracy: 0.5349 - precision_1: 0.5349 - recall_1: 0.5349 - true_positives_1: 163676.0000 - true_negatives_1: 163676.0000 - false_positives_1: 142312.0000 - false_negatives_1: 142312.0000 - val_loss: 0.6900 - val_accuracy: 0.5370 - val_precision_1: 0.5370 - val_recall_1: 0.5370 - val_true_positives_1: 28999.0000 - val_true_negatives_1: 28999.0000 - val_false_positives_1: 24999.0000 - val_false_negatives_1: 24999.0000\n",
            "\n",
            "Epoch 00007: val_loss did not improve from 0.68905\n",
            "Epoch 8/100\n",
            "9563/9563 [==============================] - 55s 6ms/step - loss: 0.6900 - accuracy: 0.5349 - precision_1: 0.5349 - recall_1: 0.5349 - true_positives_1: 163670.0000 - true_negatives_1: 163670.0000 - false_positives_1: 142318.0000 - false_negatives_1: 142318.0000 - val_loss: 0.6894 - val_accuracy: 0.5393 - val_precision_1: 0.5393 - val_recall_1: 0.5393 - val_true_positives_1: 29121.0000 - val_true_negatives_1: 29121.0000 - val_false_positives_1: 24877.0000 - val_false_negatives_1: 24877.0000\n",
            "\n",
            "Epoch 00008: val_loss did not improve from 0.68905\n",
            "Epoch 9/100\n",
            "9563/9563 [==============================] - 54s 6ms/step - loss: 0.6899 - accuracy: 0.5355 - precision_1: 0.5355 - recall_1: 0.5355 - true_positives_1: 163866.0000 - true_negatives_1: 163866.0000 - false_positives_1: 142122.0000 - false_negatives_1: 142122.0000 - val_loss: 0.6893 - val_accuracy: 0.5371 - val_precision_1: 0.5371 - val_recall_1: 0.5371 - val_true_positives_1: 29002.0000 - val_true_negatives_1: 29002.0000 - val_false_positives_1: 24996.0000 - val_false_negatives_1: 24996.0000\n",
            "\n",
            "Epoch 00009: val_loss did not improve from 0.68905\n",
            "Epoch 10/100\n",
            "9563/9563 [==============================] - 54s 6ms/step - loss: 0.6899 - accuracy: 0.5345 - precision_1: 0.5345 - recall_1: 0.5345 - true_positives_1: 163554.0000 - true_negatives_1: 163554.0000 - false_positives_1: 142434.0000 - false_negatives_1: 142434.0000 - val_loss: 0.6895 - val_accuracy: 0.5357 - val_precision_1: 0.5357 - val_recall_1: 0.5357 - val_true_positives_1: 28925.0000 - val_true_negatives_1: 28925.0000 - val_false_positives_1: 25073.0000 - val_false_negatives_1: 25073.0000\n",
            "\n",
            "Epoch 00010: val_loss did not improve from 0.68905\n",
            "Epoch 11/100\n",
            "9563/9563 [==============================] - 54s 6ms/step - loss: 0.6899 - accuracy: 0.5354 - precision_1: 0.5354 - recall_1: 0.5354 - true_positives_1: 163827.0000 - true_negatives_1: 163827.0000 - false_positives_1: 142161.0000 - false_negatives_1: 142161.0000 - val_loss: 0.6893 - val_accuracy: 0.5391 - val_precision_1: 0.5391 - val_recall_1: 0.5391 - val_true_positives_1: 29112.0000 - val_true_negatives_1: 29112.0000 - val_false_positives_1: 24886.0000 - val_false_negatives_1: 24886.0000\n",
            "\n",
            "Epoch 00011: val_loss did not improve from 0.68905\n"
          ],
          "name": "stdout"
        }
      ]
    },
    {
      "cell_type": "code",
      "metadata": {
        "colab": {
          "base_uri": "https://localhost:8080/",
          "height": 282
        },
        "id": "xwHUQIp_MyVW",
        "outputId": "f3a0a7e0-e0ca-4ef0-adb3-48334438a36c"
      },
      "source": [
        "metr = ['loss', 'accuracy', 'val_loss', 'val_accuracy']\n",
        "pd.DataFrame(history.history)[metr].plot()"
      ],
      "execution_count": 63,
      "outputs": [
        {
          "output_type": "execute_result",
          "data": {
            "text/plain": [
              "<matplotlib.axes._subplots.AxesSubplot at 0x7f88ed97e790>"
            ]
          },
          "metadata": {
            "tags": []
          },
          "execution_count": 63
        },
        {
          "output_type": "display_data",
          "data": {
            "image/png": "[encoded data removed]",
            "text/plain": [
              "<Figure size 432x288 with 1 Axes>"
            ]
          },
          "metadata": {
            "tags": [],
            "needs_background": "light"
          }
        }
      ]
    },
    {
      "cell_type": "code",
      "metadata": {
        "id": "kYXf0sOkQ9Yv"
      },
      "source": [
        "# pickle.dump(\n",
        "#     history.history,\n",
        "#     open('/content/drive/MyDrive/sentiment/MLP/MLP_1H_B32/history.pickle', \n",
        "#     'wb')\n",
        "#     )"
      ],
      "execution_count": 65,
      "outputs": []
    },
    {
      "cell_type": "code",
      "metadata": {
        "colab": {
          "base_uri": "https://localhost:8080/"
        },
        "id": "8fIUYG34SzyL",
        "outputId": "3b3beb65-6ad7-47c0-8c16-ea8fa36c1114"
      },
      "source": [
        "model.evaluate(test_seq, test_target, batch_size=32)"
      ],
      "execution_count": 69,
      "outputs": [
        {
          "output_type": "stream",
          "text": [
            "625/625 [==============================] - 3s 5ms/step - loss: 0.6895 - accuracy: 0.5351 - precision_1: 0.5351 - recall_1: 0.5351 - true_positives_1: 10702.0000 - true_negatives_1: 10702.0000 - false_positives_1: 9298.0000 - false_negatives_1: 9298.0000\n"
          ],
          "name": "stdout"
        },
        {
          "output_type": "execute_result",
          "data": {
            "text/plain": [
              "[0.6895309686660767,\n",
              " 0.535099983215332,\n",
              " 0.535099983215332,\n",
              " 0.535099983215332,\n",
              " 10702.0,\n",
              " 10702.0,\n",
              " 9298.0,\n",
              " 9298.0]"
            ]
          },
          "metadata": {
            "tags": []
          },
          "execution_count": 69
        }
      ]
    },
    {
      "cell_type": "code",
      "metadata": {
        "id": "wV6vt_dEU3FE"
      },
      "source": [
        "def model_evaluate(model,X_test,y_test,batch_size):\n",
        "    # predict class with test set\n",
        "    y_pred_test =  model.predict_classes(X_test, batch_size=batch_size, verbose=1)\n",
        "    print('Accuracy:\\t{:0.1f}%'.format(accuracy_score(np.argmax(y_test,axis=1),y_pred_test)*100))\n",
        "    \n",
        "    #classification report\n",
        "    print('\\n')\n",
        "    print(classification_report(np.argmax(y_test,axis=1), y_pred_test))\n",
        "\n",
        "    #confusion matrix\n",
        "    confmat = confusion_matrix(np.argmax(y_test,axis=1), y_pred_test)\n",
        "\n",
        "    fig, ax = plt.subplots(figsize=(4, 4))\n",
        "    ax.matshow(confmat, cmap=plt.cm.Purples, alpha=0.3)\n",
        "    for i in range(confmat.shape[0]):\n",
        "        for j in range(confmat.shape[1]):\n",
        "            ax.text(x=j, y=i, s=confmat[i, j], va='center', ha='center')\n",
        "    plt.xlabel('Predicted label')\n",
        "    plt.ylabel('True label')\n",
        "    plt.tight_layout()"
      ],
      "execution_count": 82,
      "outputs": []
    },
    {
      "cell_type": "code",
      "metadata": {
        "colab": {
          "base_uri": "https://localhost:8080/",
          "height": 572
        },
        "id": "CQJZWT2oVEL4",
        "outputId": "c1abf785-b2ea-4c7f-b2c5-9c4251d28026"
      },
      "source": [
        "model_evaluate(model, test_seq, test_target, 32)"
      ],
      "execution_count": 83,
      "outputs": [
        {
          "output_type": "stream",
          "text": [
            "168/625 [=======>......................] - ETA: 0s"
          ],
          "name": "stdout"
        },
        {
          "output_type": "stream",
          "text": [
            "/usr/local/lib/python3.7/dist-packages/tensorflow/python/keras/engine/sequential.py:450: UserWarning: `model.predict_classes()` is deprecated and will be removed after 2021-01-01. Please use instead:* `np.argmax(model.predict(x), axis=-1)`,   if your model does multi-class classification   (e.g. if it uses a `softmax` last-layer activation).* `(model.predict(x) > 0.5).astype(\"int32\")`,   if your model does binary classification   (e.g. if it uses a `sigmoid` last-layer activation).\n",
            "  warnings.warn('`model.predict_classes()` is deprecated and '\n"
          ],
          "name": "stderr"
        },
        {
          "output_type": "stream",
          "text": [
            "625/625 [==============================] - 1s 912us/step\n",
            "Accuracy:\t53.5%\n",
            "\n",
            "\n",
            "              precision    recall  f1-score   support\n",
            "\n",
            "           0       0.53      0.70      0.60     10000\n",
            "           1       0.55      0.37      0.44     10000\n",
            "\n",
            "    accuracy                           0.54     20000\n",
            "   macro avg       0.54      0.54      0.52     20000\n",
            "weighted avg       0.54      0.54      0.52     20000\n",
            "\n"
          ],
          "name": "stdout"
        },
        {
          "output_type": "display_data",
          "data": {
            "image/png": "[encoded data removed]",
            "text/plain": [
              "<Figure size 288x288 with 1 Axes>"
            ]
          },
          "metadata": {
            "tags": [],
            "needs_background": "light"
          }
        }
      ]
    }
  ]
}