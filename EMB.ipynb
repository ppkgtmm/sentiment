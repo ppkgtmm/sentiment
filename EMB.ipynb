{
  "nbformat": 4,
  "nbformat_minor": 0,
  "metadata": {
    "colab": {
      "name": "EMB.ipynb",
      "provenance": [],
      "collapsed_sections": [],
      "mount_file_id": "1pRmoUIkJ4PoQUJ5w5Szw3vjnFu0zm0nK",
      "authorship_tag": "ABX9TyOWCSM/ZMfgpXd3sWVk+Ghd",
      "include_colab_link": true
    },
    "kernelspec": {
      "name": "python3",
      "display_name": "Python 3"
    },
    "accelerator": "GPU"
  },
  "cells": [
    {
      "cell_type": "markdown",
      "metadata": {
        "id": "view-in-github",
        "colab_type": "text"
      },
      "source": [
        "<a href=\"https://colab.research.google.com/github/ppkgtmm/sentiment/blob/emb/EMB.ipynb\" target=\"_parent\"><img src=\"https://colab.research.google.com/assets/colab-badge.svg\" alt=\"Open In Colab\"/></a>"
      ]
    },
    {
      "cell_type": "code",
      "metadata": {
        "id": "aPrk0xuD16DQ"
      },
      "source": [
        "# !pip install keras-tuner\n",
        "# !rm -r sentiment\n",
        "# !git clone --branch utils https://github.com/ppkgtmm/sentiment.git sentiment"
      ],
      "execution_count": 2,
      "outputs": []
    },
    {
      "cell_type": "code",
      "metadata": {
        "id": "aOk9XjQ62Kf2"
      },
      "source": [
        "import pandas as pd\n",
        "from keras.preprocessing.text import  Tokenizer\n",
        "from keras.layers import Input, Dense, Embedding, Flatten\n",
        "from keras.models import Sequential\n",
        "from keras.metrics import Precision, Recall, FalseNegatives, \\\n",
        "FalsePositives, TrueNegatives, TruePositives\n",
        "from kerastuner import HyperParameters\n",
        "import matplotlib.pyplot as plt\n",
        "from sentiment.utils import read_data, get_optimizer, get_sequences, split_data\n",
        "from sentiment.utils import get_tuner, get_model_from_config, get_callbacks\n",
        "from sentiment.utils import OH_fit_transform, OH_transform, load, dump, \\\n",
        "model_evaluate"
      ],
      "execution_count": 12,
      "outputs": []
    },
    {
      "cell_type": "code",
      "metadata": {
        "id": "yExfgFLA3UWF"
      },
      "source": [
        "cols = ['text', 'target']\n",
        "data_path = '/content/drive/MyDrive/sentiment/data/data_preprocessed.csv'\n",
        "test_path = '/content/drive/MyDrive/sentiment/data/test_data_preprocessed.csv'\n",
        "seed = 123456\n",
        "num_words = 10000\n",
        "max_len = 250\n",
        "optimizers = [\n",
        "           'Adam',\n",
        "           'RMSprop'   \n",
        "]"
      ],
      "execution_count": 4,
      "outputs": []
    },
    {
      "cell_type": "code",
      "metadata": {
        "colab": {
          "base_uri": "https://localhost:8080/",
          "height": 204
        },
        "id": "8md-7bgv3Y8Q",
        "outputId": "72d71010-cac8-46f3-f781-b253a7880b81"
      },
      "source": [
        "data = read_data(data_path,cols)\n",
        "data.sample(5)"
      ],
      "execution_count": 5,
      "outputs": [
        {
          "output_type": "execute_result",
          "data": {
            "text/html": [
              "<div>\n",
              "<style scoped>\n",
              "    .dataframe tbody tr th:only-of-type {\n",
              "        vertical-align: middle;\n",
              "    }\n",
              "\n",
              "    .dataframe tbody tr th {\n",
              "        vertical-align: top;\n",
              "    }\n",
              "\n",
              "    .dataframe thead th {\n",
              "        text-align: right;\n",
              "    }\n",
              "</style>\n",
              "<table border=\"1\" class=\"dataframe\">\n",
              "  <thead>\n",
              "    <tr style=\"text-align: right;\">\n",
              "      <th></th>\n",
              "      <th>text</th>\n",
              "      <th>target</th>\n",
              "    </tr>\n",
              "  </thead>\n",
              "  <tbody>\n",
              "    <tr>\n",
              "      <th>67068</th>\n",
              "      <td>entertaining and should not be compared to the...</td>\n",
              "      <td>1</td>\n",
              "    </tr>\n",
              "    <tr>\n",
              "      <th>128812</th>\n",
              "      <td>beware i bought this tub and surround at lowe ...</td>\n",
              "      <td>0</td>\n",
              "    </tr>\n",
              "    <tr>\n",
              "      <th>181069</th>\n",
              "      <td>more anti semitic drivel from an anti israel w...</td>\n",
              "      <td>0</td>\n",
              "    </tr>\n",
              "    <tr>\n",
              "      <th>43999</th>\n",
              "      <td>offensive drivel describes gay sex as and gay ...</td>\n",
              "      <td>0</td>\n",
              "    </tr>\n",
              "    <tr>\n",
              "      <th>331800</th>\n",
              "      <td>great quality and shipping time i would like t...</td>\n",
              "      <td>1</td>\n",
              "    </tr>\n",
              "  </tbody>\n",
              "</table>\n",
              "</div>"
            ],
            "text/plain": [
              "                                                     text  target\n",
              "67068   entertaining and should not be compared to the...       1\n",
              "128812  beware i bought this tub and surround at lowe ...       0\n",
              "181069  more anti semitic drivel from an anti israel w...       0\n",
              "43999   offensive drivel describes gay sex as and gay ...       0\n",
              "331800  great quality and shipping time i would like t...       1"
            ]
          },
          "metadata": {
            "tags": []
          },
          "execution_count": 5
        }
      ]
    },
    {
      "cell_type": "code",
      "metadata": {
        "colab": {
          "base_uri": "https://localhost:8080/",
          "height": 204
        },
        "id": "Cr3Cw1Q3adnL",
        "outputId": "84183f31-6b73-4fd4-c50e-02cf3c46b8db"
      },
      "source": [
        "test = read_data(test_path, cols)\n",
        "test.sample(5)"
      ],
      "execution_count": 21,
      "outputs": [
        {
          "output_type": "execute_result",
          "data": {
            "text/html": [
              "<div>\n",
              "<style scoped>\n",
              "    .dataframe tbody tr th:only-of-type {\n",
              "        vertical-align: middle;\n",
              "    }\n",
              "\n",
              "    .dataframe tbody tr th {\n",
              "        vertical-align: top;\n",
              "    }\n",
              "\n",
              "    .dataframe thead th {\n",
              "        text-align: right;\n",
              "    }\n",
              "</style>\n",
              "<table border=\"1\" class=\"dataframe\">\n",
              "  <thead>\n",
              "    <tr style=\"text-align: right;\">\n",
              "      <th></th>\n",
              "      <th>text</th>\n",
              "      <th>target</th>\n",
              "    </tr>\n",
              "  </thead>\n",
              "  <tbody>\n",
              "    <tr>\n",
              "      <th>3438</th>\n",
              "      <td>boring gosh this movie was sooooooo long what ...</td>\n",
              "      <td>0</td>\n",
              "    </tr>\n",
              "    <tr>\n",
              "      <th>15956</th>\n",
              "      <td>a shower radio that is does not work well with...</td>\n",
              "      <td>0</td>\n",
              "    </tr>\n",
              "    <tr>\n",
              "      <th>5050</th>\n",
              "      <td>might as well use a ziploc bag these bags are ...</td>\n",
              "      <td>0</td>\n",
              "    </tr>\n",
              "    <tr>\n",
              "      <th>18506</th>\n",
              "      <td>too much in this madness method actress piper ...</td>\n",
              "      <td>0</td>\n",
              "    </tr>\n",
              "    <tr>\n",
              "      <th>13755</th>\n",
              "      <td>adventures down under series right at the begi...</td>\n",
              "      <td>1</td>\n",
              "    </tr>\n",
              "  </tbody>\n",
              "</table>\n",
              "</div>"
            ],
            "text/plain": [
              "                                                    text  target\n",
              "3438   boring gosh this movie was sooooooo long what ...       0\n",
              "15956  a shower radio that is does not work well with...       0\n",
              "5050   might as well use a ziploc bag these bags are ...       0\n",
              "18506  too much in this madness method actress piper ...       0\n",
              "13755  adventures down under series right at the begi...       1"
            ]
          },
          "metadata": {
            "tags": []
          },
          "execution_count": 21
        }
      ]
    },
    {
      "cell_type": "code",
      "metadata": {
        "id": "zEtExtd83dgc"
      },
      "source": [
        "train, val = split_data(data)"
      ],
      "execution_count": 6,
      "outputs": []
    },
    {
      "cell_type": "code",
      "metadata": {
        "id": "raXHxbUj3f8U"
      },
      "source": [
        "tokenizer = Tokenizer(num_words=num_words, oov_token='OOV')\n",
        "tokenizer.fit_on_texts(train['text'])"
      ],
      "execution_count": 7,
      "outputs": []
    },
    {
      "cell_type": "code",
      "metadata": {
        "id": "L7bmUtyO3n48"
      },
      "source": [
        "sequence_train = get_sequences(tokenizer, max_len, train['text'])\n",
        "sequence_val = get_sequences(tokenizer, max_len, val['text'])"
      ],
      "execution_count": 8,
      "outputs": []
    },
    {
      "cell_type": "code",
      "metadata": {
        "colab": {
          "base_uri": "https://localhost:8080/"
        },
        "id": "81SX_tap327c",
        "outputId": "b45250e5-0112-4fcb-93b8-687bf8a830ef"
      },
      "source": [
        "print(val['target'].unique(), train['target'].unique())"
      ],
      "execution_count": 9,
      "outputs": [
        {
          "output_type": "stream",
          "text": [
            "[1 0] [0 1]\n"
          ],
          "name": "stdout"
        }
      ]
    },
    {
      "cell_type": "code",
      "metadata": {
        "id": "cgg0-CBQ35nt"
      },
      "source": [
        "train_target = OH_fit_transform(train['target'])\n",
        "val_target = OH_transform(val['target'])"
      ],
      "execution_count": 10,
      "outputs": []
    },
    {
      "cell_type": "markdown",
      "metadata": {
        "id": "uaKVYeHb3-Bh"
      },
      "source": [
        "## Embedding"
      ]
    },
    {
      "cell_type": "code",
      "metadata": {
        "id": "9QXmPdaE4BDL"
      },
      "source": [
        "def build_emb(hp):\n",
        "    model = Sequential()\n",
        "    model.add(Input(shape=(max_len)))\n",
        "    model.add(\n",
        "        Embedding(\n",
        "          num_words, hp.get('output_dim')\n",
        "        )\n",
        "    )\n",
        "    model.add(Flatten())\n",
        "    model.add(Dense(2, activation='softmax'))\n",
        "    model.compile(\n",
        "        optimizer=hp.get('optimizer'),\n",
        "        loss='categorical_crossentropy',\n",
        "        metrics=[\n",
        "                 'accuracy',\n",
        "                 Precision(), \n",
        "                 Recall(),\n",
        "                 TruePositives(), \n",
        "                 TrueNegatives(), \n",
        "                 FalsePositives(),\n",
        "                 FalseNegatives()\n",
        "              ]\n",
        "          )\n",
        "    model.summary()\n",
        "    return model"
      ],
      "execution_count": 13,
      "outputs": []
    },
    {
      "cell_type": "code",
      "metadata": {
        "colab": {
          "base_uri": "https://localhost:8080/",
          "height": 35
        },
        "id": "ypmYQ0XQ4LKq",
        "outputId": "d6d8d148-fecc-4202-d21b-419c5e612bde"
      },
      "source": [
        "hp = HyperParameters()\n",
        "hp.Int('output_dim', 64, 256, 64)\n",
        "hp.Choice('optimizer', optimizers)"
      ],
      "execution_count": 11,
      "outputs": [
        {
          "output_type": "execute_result",
          "data": {
            "application/vnd.google.colaboratory.intrinsic+json": {
              "type": "string"
            },
            "text/plain": [
              "'Adam'"
            ]
          },
          "metadata": {
            "tags": []
          },
          "execution_count": 11
        }
      ]
    },
    {
      "cell_type": "code",
      "metadata": {
        "colab": {
          "base_uri": "https://localhost:8080/"
        },
        "id": "-MeuzQtA5Ycj",
        "outputId": "06d02d36-1410-42d5-83dd-0b22ff85dcb8"
      },
      "source": [
        "tuner = get_tuner(build_emb,'/content/drive/MyDrive/sentiment/EMB',\\\n",
        "                  'EMB_B32',hp, 1, 2)"
      ],
      "execution_count": 18,
      "outputs": [
        {
          "output_type": "stream",
          "text": [
            "INFO:tensorflow:Reloading Oracle from existing project /content/drive/MyDrive/sentiment/EMB/EMB_B32/oracle.json\n",
            "Model: \"sequential\"\n",
            "_________________________________________________________________\n",
            "Layer (type)                 Output Shape              Param #   \n",
            "=================================================================\n",
            "embedding (Embedding)        (None, 250, 64)           640000    \n",
            "_________________________________________________________________\n",
            "flatten (Flatten)            (None, 16000)             0         \n",
            "_________________________________________________________________\n",
            "dense (Dense)                (None, 2)                 32002     \n",
            "=================================================================\n",
            "Total params: 672,002\n",
            "Trainable params: 672,002\n",
            "Non-trainable params: 0\n",
            "_________________________________________________________________\n"
          ],
          "name": "stdout"
        }
      ]
    },
    {
      "cell_type": "markdown",
      "metadata": {
        "id": "6jWzgxMGbP2B"
      },
      "source": [
        "## Train"
      ]
    },
    {
      "cell_type": "code",
      "metadata": {
        "colab": {
          "base_uri": "https://localhost:8080/"
        },
        "id": "HtYmKfZw5z8S",
        "outputId": "c31f9dc7-e1ec-4e2f-802d-fe439e85a339"
      },
      "source": [
        "history = tuner.search(\n",
        "    sequence_train,\n",
        "    train_target,\n",
        "    epochs=1,\n",
        "    validation_data=(sequence_val, val_target),\n",
        "    batch_size=32\n",
        ")"
      ],
      "execution_count": 19,
      "outputs": [
        {
          "output_type": "stream",
          "text": [
            "Trial 10 Complete [00h 21m 14s]\n",
            "val_loss: 0.3038584589958191\n",
            "\n",
            "Best val_loss So Far: 0.26680660247802734\n",
            "Total elapsed time: 02h 10m 24s\n",
            "INFO:tensorflow:Oracle triggered exit\n"
          ],
          "name": "stdout"
        }
      ]
    },
    {
      "cell_type": "markdown",
      "metadata": {
        "id": "58bNn4GucBMU"
      },
      "source": [
        "## Refit"
      ]
    },
    {
      "cell_type": "code",
      "metadata": {
        "id": "7dZ-C-vWcAFV"
      },
      "source": [
        "best_model = tuner.get_best_models(num_models=1)[0]"
      ],
      "execution_count": null,
      "outputs": []
    },
    {
      "cell_type": "code",
      "metadata": {
        "id": "PXVVsV8RcEmF"
      },
      "source": [
        "best_model = get_model_from_config(\n",
        "    best_model,\n",
        "    tuner.get_best_hyperparameters()[0].get('optimizer')\n",
        ")"
      ],
      "execution_count": 30,
      "outputs": []
    },
    {
      "cell_type": "code",
      "metadata": {
        "id": "1Dth93hTdEox"
      },
      "source": [
        "cb = get_callbacks('emb.h5')"
      ],
      "execution_count": 31,
      "outputs": []
    },
    {
      "cell_type": "code",
      "metadata": {
        "colab": {
          "base_uri": "https://localhost:8080/"
        },
        "id": "OOkpXKQvcwni",
        "outputId": "eb4676f2-3132-42f1-b09c-683c6929892e"
      },
      "source": [
        "history = best_model.fit(\n",
        "    sequence_train,\n",
        "    train_target,\n",
        "    validation_data=(sequence_val, val_target),\n",
        "    epochs=100,\n",
        "    callbacks=cb\n",
        ")"
      ],
      "execution_count": 33,
      "outputs": [
        {
          "output_type": "stream",
          "text": [
            "Epoch 1/100\n",
            "9563/9563 [==============================] - 109s 11ms/step - loss: 0.3309 - accuracy: 0.8536 - precision: 0.8536 - recall: 0.8536 - true_positives: 133634.3377 - true_negatives: 133634.3377 - false_positives: 19405.6531 - false_negatives: 19405.6531 - val_loss: 0.2639 - val_accuracy: 0.8963 - val_precision: 0.8963 - val_recall: 0.8963 - val_true_positives: 48397.0000 - val_true_negatives: 48397.0000 - val_false_positives: 5601.0000 - val_false_negatives: 5601.0000\n",
            "\n",
            "Epoch 00001: val_loss improved from inf to 0.26387, saving model to emb.h5\n",
            "Epoch 2/100\n",
            "9563/9563 [==============================] - 108s 11ms/step - loss: 0.1943 - accuracy: 0.9260 - precision: 0.9260 - recall: 0.9260 - true_positives: 141653.3712 - true_negatives: 141653.3712 - false_positives: 11386.6196 - false_negatives: 11386.6196 - val_loss: 0.3034 - val_accuracy: 0.8883 - val_precision: 0.8883 - val_recall: 0.8883 - val_true_positives: 47968.0000 - val_true_negatives: 47968.0000 - val_false_positives: 6030.0000 - val_false_negatives: 6030.0000\n",
            "\n",
            "Epoch 00002: val_loss did not improve from 0.26387\n",
            "Epoch 3/100\n",
            "9563/9563 [==============================] - 109s 11ms/step - loss: 0.0988 - accuracy: 0.9667 - precision: 0.9667 - recall: 0.9667 - true_positives: 147714.0328 - true_negatives: 147714.0328 - false_positives: 5325.9580 - false_negatives: 5325.9580 - val_loss: 0.4116 - val_accuracy: 0.8776 - val_precision: 0.8776 - val_recall: 0.8776 - val_true_positives: 47391.0000 - val_true_negatives: 47391.0000 - val_false_positives: 6607.0000 - val_false_negatives: 6607.0000\n",
            "\n",
            "Epoch 00003: val_loss did not improve from 0.26387\n",
            "Epoch 4/100\n",
            "9563/9563 [==============================] - 109s 11ms/step - loss: 0.0475 - accuracy: 0.9857 - precision: 0.9857 - recall: 0.9857 - true_positives: 150688.5363 - true_negatives: 150688.5363 - false_positives: 2351.4545 - false_negatives: 2351.4545 - val_loss: 0.5200 - val_accuracy: 0.8719 - val_precision: 0.8719 - val_recall: 0.8719 - val_true_positives: 47080.0000 - val_true_negatives: 47080.0000 - val_false_positives: 6918.0000 - val_false_negatives: 6918.0000\n",
            "\n",
            "Epoch 00004: val_loss did not improve from 0.26387\n",
            "Epoch 5/100\n",
            "9563/9563 [==============================] - 108s 11ms/step - loss: 0.0238 - accuracy: 0.9933 - precision: 0.9933 - recall: 0.9933 - true_positives: 151894.0893 - true_negatives: 151894.0893 - false_positives: 1145.9015 - false_negatives: 1145.9015 - val_loss: 0.6534 - val_accuracy: 0.8718 - val_precision: 0.8718 - val_recall: 0.8718 - val_true_positives: 47077.0000 - val_true_negatives: 47077.0000 - val_false_positives: 6921.0000 - val_false_negatives: 6921.0000\n",
            "\n",
            "Epoch 00005: val_loss did not improve from 0.26387\n",
            "Epoch 6/100\n",
            "9563/9563 [==============================] - 110s 11ms/step - loss: 0.0144 - accuracy: 0.9959 - precision: 0.9959 - recall: 0.9959 - true_positives: 152338.1893 - true_negatives: 152338.1893 - false_positives: 701.8015 - false_negatives: 701.8015 - val_loss: 0.7757 - val_accuracy: 0.8663 - val_precision: 0.8663 - val_recall: 0.8663 - val_true_positives: 46777.0000 - val_true_negatives: 46777.0000 - val_false_positives: 7221.0000 - val_false_negatives: 7221.0000\n",
            "\n",
            "Epoch 00006: val_loss did not improve from 0.26387\n"
          ],
          "name": "stdout"
        }
      ]
    },
    {
      "cell_type": "code",
      "metadata": {
        "colab": {
          "base_uri": "https://localhost:8080/",
          "height": 282
        },
        "id": "UtmWhofKfmZG",
        "outputId": "0a500633-2a72-4633-bd74-198ababfe44e"
      },
      "source": [
        "metr = ['loss', 'accuracy', 'val_loss', 'val_accuracy']\n",
        "pd.DataFrame(history.history)[metr].plot()"
      ],
      "execution_count": 34,
      "outputs": [
        {
          "output_type": "execute_result",
          "data": {
            "text/plain": [
              "<matplotlib.axes._subplots.AxesSubplot at 0x7efe444f77d0>"
            ]
          },
          "metadata": {
            "tags": []
          },
          "execution_count": 34
        },
        {
          "output_type": "display_data",
          "data": {
            "image/png": "[encoded data removed]",
            "text/plain": [
              "<Figure size 432x288 with 1 Axes>"
            ]
          },
          "metadata": {
            "tags": [],
            "needs_background": "light"
          }
        }
      ]
    },
    {
      "cell_type": "code",
      "metadata": {
        "id": "zYSqN-K0gBw9"
      },
      "source": [
        "# dump(history.history,'/content/drive/MyDrive/sentiment/EMB/EMB_B32/history.pickle')"
      ],
      "execution_count": 35,
      "outputs": []
    },
    {
      "cell_type": "code",
      "metadata": {
        "id": "navLTzv3gNn_"
      },
      "source": [
        "# dump(tokenizer,'/content/drive/MyDrive/sentiment/EMB/EMB_B32/tokenizer.pickle')"
      ],
      "execution_count": 36,
      "outputs": []
    },
    {
      "cell_type": "markdown",
      "metadata": {
        "id": "ZS_WKjD8bUx9"
      },
      "source": [
        "## Test"
      ]
    },
    {
      "cell_type": "code",
      "metadata": {
        "id": "OdvdCGCIZ7rK"
      },
      "source": [
        "sequence_test = get_sequences(tokenizer, max_len, test['text'])\n",
        "test_target = OH_transform(test['target'])"
      ],
      "execution_count": 22,
      "outputs": []
    },
    {
      "cell_type": "code",
      "metadata": {
        "colab": {
          "base_uri": "https://localhost:8080/",
          "height": 572
        },
        "id": "D_Alib3MbBbG",
        "outputId": "cf6669b8-c143-4861-d736-b3f180d8b1a8"
      },
      "source": [
        "model_evaluate(best_model, sequence_test, test_target, 32)"
      ],
      "execution_count": 37,
      "outputs": [
        {
          "output_type": "stream",
          "text": [
            " 62/625 [=>............................] - ETA: 0s"
          ],
          "name": "stdout"
        },
        {
          "output_type": "stream",
          "text": [
            "/usr/local/lib/python3.7/dist-packages/tensorflow/python/keras/engine/sequential.py:450: UserWarning: `model.predict_classes()` is deprecated and will be removed after 2021-01-01. Please use instead:* `np.argmax(model.predict(x), axis=-1)`,   if your model does multi-class classification   (e.g. if it uses a `softmax` last-layer activation).* `(model.predict(x) > 0.5).astype(\"int32\")`,   if your model does binary classification   (e.g. if it uses a `sigmoid` last-layer activation).\n",
            "  warnings.warn('`model.predict_classes()` is deprecated and '\n"
          ],
          "name": "stderr"
        },
        {
          "output_type": "stream",
          "text": [
            "625/625 [==============================] - 1s 2ms/step\n",
            "Accuracy:\t89.7%\n",
            "\n",
            "\n",
            "              precision    recall  f1-score   support\n",
            "\n",
            "           0       0.90      0.89      0.90     10000\n",
            "           1       0.89      0.90      0.90     10000\n",
            "\n",
            "    accuracy                           0.90     20000\n",
            "   macro avg       0.90      0.90      0.90     20000\n",
            "weighted avg       0.90      0.90      0.90     20000\n",
            "\n"
          ],
          "name": "stdout"
        },
        {
          "output_type": "display_data",
          "data": {
            "image/png": "[encoded data removed]",
            "text/plain": [
              "<Figure size 288x288 with 1 Axes>"
            ]
          },
          "metadata": {
            "tags": [],
            "needs_background": "light"
          }
        }
      ]
    },
    {
      "cell_type": "markdown",
      "metadata": {
        "id": "luBWZO7FbZhf"
      },
      "source": [
        "## Insights"
      ]
    },
    {
      "cell_type": "code",
      "metadata": {
        "colab": {
          "base_uri": "https://localhost:8080/"
        },
        "id": "Neo7N3cebdZm",
        "outputId": "9874d36f-2e6d-43dc-8d78-5d5b7fc5e866"
      },
      "source": [
        "tuner.search_space_summary()"
      ],
      "execution_count": 26,
      "outputs": [
        {
          "output_type": "stream",
          "text": [
            "Search space summary\n",
            "Default search space size: 2\n",
            "output_dim (Int)\n",
            "{'default': None, 'conditions': [], 'min_value': 64, 'max_value': 256, 'step': 64, 'sampling': None}\n",
            "optimizer (Choice)\n",
            "{'default': 'Adam', 'conditions': [], 'values': ['Adam', 'RMSprop'], 'ordered': False}\n"
          ],
          "name": "stdout"
        }
      ]
    },
    {
      "cell_type": "code",
      "metadata": {
        "colab": {
          "base_uri": "https://localhost:8080/"
        },
        "id": "oapnlXeBbgfX",
        "outputId": "5b94b574-95bd-4757-c413-100bf515e1da"
      },
      "source": [
        "tuner.results_summary(num_trials=3)"
      ],
      "execution_count": 28,
      "outputs": [
        {
          "output_type": "stream",
          "text": [
            "Results summary\n",
            "Results in /content/drive/MyDrive/sentiment/EMB/EMB_B32\n",
            "Showing 3 best trials\n",
            "Objective(name='val_loss', direction='min')\n",
            "Trial summary\n",
            "Hyperparameters:\n",
            "output_dim: 64\n",
            "optimizer: Adam\n",
            "tuner/epochs: 2\n",
            "tuner/initial_epoch: 0\n",
            "tuner/bracket: 1\n",
            "tuner/round: 0\n",
            "Score: 0.26680660247802734\n",
            "Trial summary\n",
            "Hyperparameters:\n",
            "output_dim: 64\n",
            "optimizer: RMSprop\n",
            "tuner/epochs: 2\n",
            "tuner/initial_epoch: 0\n",
            "tuner/bracket: 1\n",
            "tuner/round: 0\n",
            "Score: 0.26700088381767273\n",
            "Trial summary\n",
            "Hyperparameters:\n",
            "output_dim: 64\n",
            "optimizer: Adam\n",
            "tuner/epochs: 4\n",
            "tuner/initial_epoch: 2\n",
            "tuner/bracket: 1\n",
            "tuner/round: 1\n",
            "tuner/trial_id: e7d8a78041639d14031e3fafc062b3b6\n",
            "Score: 0.269220694899559\n"
          ],
          "name": "stdout"
        }
      ]
    }
  ]
}