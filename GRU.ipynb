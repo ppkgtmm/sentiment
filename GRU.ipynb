{
  "nbformat": 4,
  "nbformat_minor": 0,
  "metadata": {
    "colab": {
      "name": "GRU.ipynb",
      "provenance": [],
      "collapsed_sections": [],
      "toc_visible": true,
      "mount_file_id": "1chioiWOtLaqkqkMCA41E75i-0wQ7Jjed",
      "authorship_tag": "ABX9TyNfJOLBIoBcSpBlMgYvzx70",
      "include_colab_link": true
    },
    "kernelspec": {
      "name": "python3",
      "display_name": "Python 3"
    },
    "accelerator": "GPU"
  },
  "cells": [
    {
      "cell_type": "markdown",
      "metadata": {
        "id": "view-in-github",
        "colab_type": "text"
      },
      "source": [
        "<a href=\"https://colab.research.google.com/github/ppkgtmm/sentiment/blob/GRU2/GRU.ipynb\" target=\"_parent\"><img src=\"https://colab.research.google.com/assets/colab-badge.svg\" alt=\"Open In Colab\"/></a>"
      ]
    },
    {
      "cell_type": "code",
      "metadata": {
        "id": "wcmjvejTo-P5"
      },
      "source": [
        "# !pip install keras-tuner\n",
        "# !rm -r sentiment\n",
        "# !git clone --branch utils https://github.com/ppkgtmm/sentiment.git sentiment"
      ],
      "execution_count": 2,
      "outputs": []
    },
    {
      "cell_type": "code",
      "metadata": {
        "id": "fD-c-CihtPWg"
      },
      "source": [
        "import pandas as pd\n",
        "from keras.preprocessing.text import  Tokenizer\n",
        "from keras.layers import Input, Dense, Embedding, GRU\n",
        "from keras.models import Sequential\n",
        "from keras.metrics import Precision, Recall, FalseNegatives, \\\n",
        "FalsePositives, TrueNegatives, TruePositives\n",
        "from kerastuner import HyperParameters\n",
        "import matplotlib.pyplot as plt\n",
        "from sentiment.utils import read_data, get_optimizer, get_sequences, split_data\n",
        "from sentiment.utils import get_tuner, get_model_from_config, get_callbacks\n",
        "from sentiment.utils import OH_fit_transform, OH_transform, load, dump, \\\n",
        "model_evaluate"
      ],
      "execution_count": 3,
      "outputs": []
    },
    {
      "cell_type": "code",
      "metadata": {
        "id": "mxJxDJjXuos1"
      },
      "source": [
        "cols = ['text', 'target']\n",
        "data_path = '/content/drive/MyDrive/sentiment/data/data_preprocessed.csv'\n",
        "test_path = '/content/drive/MyDrive/sentiment/data/test_data_preprocessed.csv'\n",
        "seed = 123456\n",
        "num_words = 10000\n",
        "max_len = 250\n",
        "optimizers = [\n",
        "           'Adam',\n",
        "           'RMSprop'   \n",
        "]"
      ],
      "execution_count": 4,
      "outputs": []
    },
    {
      "cell_type": "code",
      "metadata": {
        "colab": {
          "base_uri": "https://localhost:8080/",
          "height": 204
        },
        "id": "3Y4C5O1cutOQ",
        "outputId": "719f36fc-3c6a-4128-8c62-724fa97179f8"
      },
      "source": [
        "data = read_data(data_path,cols)\n",
        "data.sample(5)"
      ],
      "execution_count": 5,
      "outputs": [
        {
          "output_type": "execute_result",
          "data": {
            "text/html": [
              "<div>\n",
              "<style scoped>\n",
              "    .dataframe tbody tr th:only-of-type {\n",
              "        vertical-align: middle;\n",
              "    }\n",
              "\n",
              "    .dataframe tbody tr th {\n",
              "        vertical-align: top;\n",
              "    }\n",
              "\n",
              "    .dataframe thead th {\n",
              "        text-align: right;\n",
              "    }\n",
              "</style>\n",
              "<table border=\"1\" class=\"dataframe\">\n",
              "  <thead>\n",
              "    <tr style=\"text-align: right;\">\n",
              "      <th></th>\n",
              "      <th>text</th>\n",
              "      <th>target</th>\n",
              "    </tr>\n",
              "  </thead>\n",
              "  <tbody>\n",
              "    <tr>\n",
              "      <th>282875</th>\n",
              "      <td>too many words not enough substance ben bova h...</td>\n",
              "      <td>0</td>\n",
              "    </tr>\n",
              "    <tr>\n",
              "      <th>358131</th>\n",
              "      <td>blah a very sub par book that tended to get di...</td>\n",
              "      <td>0</td>\n",
              "    </tr>\n",
              "    <tr>\n",
              "      <th>335806</th>\n",
              "      <td>i love this i recently purchased this ice crea...</td>\n",
              "      <td>1</td>\n",
              "    </tr>\n",
              "    <tr>\n",
              "      <th>30745</th>\n",
              "      <td>rent or borrow do not buy until you have seen ...</td>\n",
              "      <td>0</td>\n",
              "    </tr>\n",
              "    <tr>\n",
              "      <th>12310</th>\n",
              "      <td>after fidel badly written after having read a ...</td>\n",
              "      <td>0</td>\n",
              "    </tr>\n",
              "  </tbody>\n",
              "</table>\n",
              "</div>"
            ],
            "text/plain": [
              "                                                     text  target\n",
              "282875  too many words not enough substance ben bova h...       0\n",
              "358131  blah a very sub par book that tended to get di...       0\n",
              "335806  i love this i recently purchased this ice crea...       1\n",
              "30745   rent or borrow do not buy until you have seen ...       0\n",
              "12310   after fidel badly written after having read a ...       0"
            ]
          },
          "metadata": {
            "tags": []
          },
          "execution_count": 5
        }
      ]
    },
    {
      "cell_type": "code",
      "metadata": {
        "colab": {
          "base_uri": "https://localhost:8080/",
          "height": 204
        },
        "id": "gdem-ylHu6gy",
        "outputId": "05fba42c-7b78-4149-bfef-8684b7546ce8"
      },
      "source": [
        "test = read_data(test_path, cols)\n",
        "test.sample(5)"
      ],
      "execution_count": 6,
      "outputs": [
        {
          "output_type": "execute_result",
          "data": {
            "text/html": [
              "<div>\n",
              "<style scoped>\n",
              "    .dataframe tbody tr th:only-of-type {\n",
              "        vertical-align: middle;\n",
              "    }\n",
              "\n",
              "    .dataframe tbody tr th {\n",
              "        vertical-align: top;\n",
              "    }\n",
              "\n",
              "    .dataframe thead th {\n",
              "        text-align: right;\n",
              "    }\n",
              "</style>\n",
              "<table border=\"1\" class=\"dataframe\">\n",
              "  <thead>\n",
              "    <tr style=\"text-align: right;\">\n",
              "      <th></th>\n",
              "      <th>text</th>\n",
              "      <th>target</th>\n",
              "    </tr>\n",
              "  </thead>\n",
              "  <tbody>\n",
              "    <tr>\n",
              "      <th>8367</th>\n",
              "      <td>yuk boring get a life ms roberts were i your a...</td>\n",
              "      <td>0</td>\n",
              "    </tr>\n",
              "    <tr>\n",
              "      <th>3892</th>\n",
              "      <td>waste of time this book is the definition of p...</td>\n",
              "      <td>0</td>\n",
              "    </tr>\n",
              "    <tr>\n",
              "      <th>12088</th>\n",
              "      <td>very good product this product is great i have...</td>\n",
              "      <td>1</td>\n",
              "    </tr>\n",
              "    <tr>\n",
              "      <th>13982</th>\n",
              "      <td>brilliant work taylor book represents a monume...</td>\n",
              "      <td>1</td>\n",
              "    </tr>\n",
              "    <tr>\n",
              "      <th>11512</th>\n",
              "      <td>a moving tale about courage and hope when sept...</td>\n",
              "      <td>1</td>\n",
              "    </tr>\n",
              "  </tbody>\n",
              "</table>\n",
              "</div>"
            ],
            "text/plain": [
              "                                                    text  target\n",
              "8367   yuk boring get a life ms roberts were i your a...       0\n",
              "3892   waste of time this book is the definition of p...       0\n",
              "12088  very good product this product is great i have...       1\n",
              "13982  brilliant work taylor book represents a monume...       1\n",
              "11512  a moving tale about courage and hope when sept...       1"
            ]
          },
          "metadata": {
            "tags": []
          },
          "execution_count": 6
        }
      ]
    },
    {
      "cell_type": "code",
      "metadata": {
        "id": "gpQy6LHjvQ8S"
      },
      "source": [
        "train, val = split_data(data)"
      ],
      "execution_count": 7,
      "outputs": []
    },
    {
      "cell_type": "code",
      "metadata": {
        "id": "ZZZs3onqvUIX"
      },
      "source": [
        "tokenizer = Tokenizer(num_words=num_words, oov_token='OOV')\n",
        "tokenizer.fit_on_texts(train['text'])"
      ],
      "execution_count": 8,
      "outputs": []
    },
    {
      "cell_type": "code",
      "metadata": {
        "id": "xMziuFl0vbwB"
      },
      "source": [
        "sequence_train = get_sequences(tokenizer, max_len, train['text'])\n",
        "sequence_val = get_sequences(tokenizer, max_len, val['text'])"
      ],
      "execution_count": 9,
      "outputs": []
    },
    {
      "cell_type": "code",
      "metadata": {
        "colab": {
          "base_uri": "https://localhost:8080/"
        },
        "id": "2Obf3yB0veei",
        "outputId": "cd0a5fe6-757e-480b-c924-55efe61c610f"
      },
      "source": [
        "print(val['target'].unique(), train['target'].unique())"
      ],
      "execution_count": 10,
      "outputs": [
        {
          "output_type": "stream",
          "text": [
            "[1 0] [0 1]\n"
          ],
          "name": "stdout"
        }
      ]
    },
    {
      "cell_type": "code",
      "metadata": {
        "id": "WVNUYZv1vjFT"
      },
      "source": [
        "train_target = OH_fit_transform(train['target'])\n",
        "val_target = OH_transform(val['target'])"
      ],
      "execution_count": 11,
      "outputs": []
    },
    {
      "cell_type": "code",
      "metadata": {
        "id": "o6x_qYtwvm7_"
      },
      "source": [
        "def build_gru(hp):\n",
        "    model = Sequential()\n",
        "    model.add(Input(shape=(max_len)))\n",
        "    model.add(\n",
        "        Embedding(\n",
        "          num_words, hp.get('output_dim')\n",
        "        )\n",
        "    )\n",
        "    model.add(GRU(2 ** hp.get('log2_units')))\n",
        "    model.add(Dense(2, activation='softmax'))\n",
        "    model.compile(\n",
        "        optimizer=get_optimizer(hp.get('optimizer')),\n",
        "        loss='categorical_crossentropy',\n",
        "        metrics=[\n",
        "                 'accuracy',\n",
        "                 Precision(), \n",
        "                 Recall(),\n",
        "                 TruePositives(), \n",
        "                 TrueNegatives(), \n",
        "                 FalsePositives(),\n",
        "                 FalseNegatives()\n",
        "              ]\n",
        "          )\n",
        "    model.summary()\n",
        "    return model"
      ],
      "execution_count": 13,
      "outputs": []
    },
    {
      "cell_type": "code",
      "metadata": {
        "colab": {
          "base_uri": "https://localhost:8080/",
          "height": 35
        },
        "id": "eCS9R1vUwU4a",
        "outputId": "02c70b17-bc87-46d1-b1c9-62978392a2fe"
      },
      "source": [
        "hp = HyperParameters()\n",
        "hp.Int('output_dim', 16, 64, 16)\n",
        "hp.Int('log2_units', 0, 6, 1)\n",
        "hp.Choice('optimizer', optimizers)"
      ],
      "execution_count": 22,
      "outputs": [
        {
          "output_type": "execute_result",
          "data": {
            "application/vnd.google.colaboratory.intrinsic+json": {
              "type": "string"
            },
            "text/plain": [
              "'Adam'"
            ]
          },
          "metadata": {
            "tags": []
          },
          "execution_count": 22
        }
      ]
    },
    {
      "cell_type": "code",
      "metadata": {
        "colab": {
          "base_uri": "https://localhost:8080/"
        },
        "id": "KrkBATdPx99z",
        "outputId": "dba750bc-5f98-4c11-fa42-4d7afc5f0f20"
      },
      "source": [
        "tuner = get_tuner(build_gru,'/content/drive/MyDrive/sentiment/GRU',\\\n",
        "                  'GRU_FIN_B32',hp, 2, 2)"
      ],
      "execution_count": 23,
      "outputs": [
        {
          "output_type": "stream",
          "text": [
            "INFO:tensorflow:Reloading Oracle from existing project /content/drive/MyDrive/sentiment/GRU/GRU_FIN_B32/oracle.json\n",
            "Model: \"sequential\"\n",
            "_________________________________________________________________\n",
            "Layer (type)                 Output Shape              Param #   \n",
            "=================================================================\n",
            "embedding (Embedding)        (None, 250, 16)           160000    \n",
            "_________________________________________________________________\n",
            "gru (GRU)                    (None, 1)                 57        \n",
            "_________________________________________________________________\n",
            "dense (Dense)                (None, 2)                 4         \n",
            "=================================================================\n",
            "Total params: 160,061\n",
            "Trainable params: 160,061\n",
            "Non-trainable params: 0\n",
            "_________________________________________________________________\n",
            "INFO:tensorflow:Reloading Tuner from /content/drive/MyDrive/sentiment/GRU/GRU_FIN_B32/tuner0.json\n"
          ],
          "name": "stdout"
        }
      ]
    },
    {
      "cell_type": "markdown",
      "metadata": {
        "id": "Punh2XJ_BqCj"
      },
      "source": [
        "## Train"
      ]
    },
    {
      "cell_type": "code",
      "metadata": {
        "colab": {
          "base_uri": "https://localhost:8080/"
        },
        "id": "Vz5nMT3wyOzG",
        "outputId": "57c390a2-d3cd-47fb-8e10-6a88665c5f52"
      },
      "source": [
        "history = tuner.search(\n",
        "    sequence_train,\n",
        "    train_target,\n",
        "    epochs=2,\n",
        "    validation_data=(sequence_val, val_target),\n",
        "    batch_size=32,\n",
        "    use_multiprocessing=True\n",
        ")"
      ],
      "execution_count": 16,
      "outputs": [
        {
          "output_type": "stream",
          "text": [
            "Trial 2 Complete [00h 10m 49s]\n",
            "val_loss: 0.2627929449081421\n",
            "\n",
            "Best val_loss So Far: 0.17274753749370575\n",
            "Total elapsed time: 00h 21m 49s\n",
            "INFO:tensorflow:Oracle triggered exit\n"
          ],
          "name": "stdout"
        }
      ]
    },
    {
      "cell_type": "markdown",
      "metadata": {
        "id": "iwADsDKnCBJb"
      },
      "source": [
        "## Refit"
      ]
    },
    {
      "cell_type": "code",
      "metadata": {
        "colab": {
          "base_uri": "https://localhost:8080/"
        },
        "id": "9H6UEyEgBwdH",
        "outputId": "5c5bed2d-a838-4076-a8e1-5a88ee26523d"
      },
      "source": [
        "best_model = tuner.get_best_models(num_models=1)[0]"
      ],
      "execution_count": 24,
      "outputs": [
        {
          "output_type": "stream",
          "text": [
            "Model: \"sequential\"\n",
            "_________________________________________________________________\n",
            "Layer (type)                 Output Shape              Param #   \n",
            "=================================================================\n",
            "embedding (Embedding)        (None, 250, 32)           320000    \n",
            "_________________________________________________________________\n",
            "gru (GRU)                    (None, 16)                2400      \n",
            "_________________________________________________________________\n",
            "dense (Dense)                (None, 2)                 34        \n",
            "=================================================================\n",
            "Total params: 322,434\n",
            "Trainable params: 322,434\n",
            "Non-trainable params: 0\n",
            "_________________________________________________________________\n",
            "WARNING:tensorflow:Unresolved object in checkpoint: (root).optimizer.iter\n",
            "WARNING:tensorflow:Unresolved object in checkpoint: (root).optimizer.decay\n",
            "WARNING:tensorflow:Unresolved object in checkpoint: (root).optimizer.learning_rate\n",
            "WARNING:tensorflow:Unresolved object in checkpoint: (root).optimizer.momentum\n",
            "WARNING:tensorflow:Unresolved object in checkpoint: (root).optimizer.rho\n",
            "WARNING:tensorflow:A checkpoint was restored (e.g. tf.train.Checkpoint.restore or tf.keras.Model.load_weights) but not all checkpointed values were used. See above for specific issues. Use expect_partial() on the load status object, e.g. tf.train.Checkpoint.restore(...).expect_partial(), to silence these warnings, or use assert_consumed() to make the check explicit. See https://www.tensorflow.org/guide/checkpoint#loading_mechanics for details.\n"
          ],
          "name": "stdout"
        }
      ]
    },
    {
      "cell_type": "code",
      "metadata": {
        "id": "wtXKrN8CCEPN",
        "colab": {
          "base_uri": "https://localhost:8080/"
        },
        "outputId": "64a73845-a272-442e-d8ab-52c49ee99534"
      },
      "source": [
        "best_model = get_model_from_config(\n",
        "    best_model,\n",
        "    get_optimizer(tuner.get_best_hyperparameters()[0].get('optimizer'))\n",
        ")"
      ],
      "execution_count": 25,
      "outputs": [
        {
          "output_type": "stream",
          "text": [
            "WARNING:tensorflow:Unresolved object in checkpoint: (root).optimizer.iter\n",
            "WARNING:tensorflow:Unresolved object in checkpoint: (root).optimizer.decay\n",
            "WARNING:tensorflow:Unresolved object in checkpoint: (root).optimizer.learning_rate\n",
            "WARNING:tensorflow:Unresolved object in checkpoint: (root).optimizer.momentum\n",
            "WARNING:tensorflow:Unresolved object in checkpoint: (root).optimizer.rho\n",
            "WARNING:tensorflow:A checkpoint was restored (e.g. tf.train.Checkpoint.restore or tf.keras.Model.load_weights) but not all checkpointed values were used. See above for specific issues. Use expect_partial() on the load status object, e.g. tf.train.Checkpoint.restore(...).expect_partial(), to silence these warnings, or use assert_consumed() to make the check explicit. See https://www.tensorflow.org/guide/checkpoint#loading_mechanics for details.\n"
          ],
          "name": "stdout"
        }
      ]
    },
    {
      "cell_type": "code",
      "metadata": {
        "id": "4di8P1AFCHM0"
      },
      "source": [
        "cb = get_callbacks('gru.h5')"
      ],
      "execution_count": 26,
      "outputs": []
    },
    {
      "cell_type": "code",
      "metadata": {
        "colab": {
          "base_uri": "https://localhost:8080/"
        },
        "id": "NjB9tbuGCSIf",
        "outputId": "a97cb380-bb47-4cea-9b39-cf3673c5848d"
      },
      "source": [
        "history = best_model.fit(\n",
        "    sequence_train,\n",
        "    train_target,\n",
        "    validation_data=(sequence_val, val_target),\n",
        "    epochs=10,\n",
        "    callbacks=cb\n",
        ")"
      ],
      "execution_count": 27,
      "outputs": [
        {
          "output_type": "stream",
          "text": [
            "Epoch 1/10\n",
            "9563/9563 [==============================] - 162s 17ms/step - loss: 0.3020 - accuracy: 0.8667 - precision: 0.8667 - recall: 0.8667 - true_positives: 136363.1876 - true_negatives: 136363.1876 - false_positives: 16676.8032 - false_negatives: 16676.8032 - val_loss: 0.1888 - val_accuracy: 0.9250 - val_precision: 0.9250 - val_recall: 0.9250 - val_true_positives: 49946.0000 - val_true_negatives: 49946.0000 - val_false_positives: 4052.0000 - val_false_negatives: 4052.0000\n",
            "\n",
            "Epoch 00001: val_loss improved from inf to 0.18884, saving model to gru.h5\n",
            "Epoch 2/10\n",
            "9563/9563 [==============================] - 160s 17ms/step - loss: 0.1835 - accuracy: 0.9293 - precision: 0.9293 - recall: 0.9293 - true_positives: 142335.0809 - true_negatives: 142335.0809 - false_positives: 10704.9099 - false_negatives: 10704.9099 - val_loss: 0.1693 - val_accuracy: 0.9350 - val_precision: 0.9350 - val_recall: 0.9350 - val_true_positives: 50489.0000 - val_true_negatives: 50489.0000 - val_false_positives: 3509.0000 - val_false_negatives: 3509.0000\n",
            "\n",
            "Epoch 00002: val_loss improved from 0.18884 to 0.16935, saving model to gru.h5\n",
            "Epoch 3/10\n",
            "9563/9563 [==============================] - 159s 17ms/step - loss: 0.1611 - accuracy: 0.9395 - precision: 0.9395 - recall: 0.9395 - true_positives: 143715.3884 - true_negatives: 143715.3884 - false_positives: 9324.6024 - false_negatives: 9324.6024 - val_loss: 0.1606 - val_accuracy: 0.9387 - val_precision: 0.9387 - val_recall: 0.9387 - val_true_positives: 50690.0000 - val_true_negatives: 50690.0000 - val_false_positives: 3308.0000 - val_false_negatives: 3308.0000\n",
            "\n",
            "Epoch 00003: val_loss improved from 0.16935 to 0.16062, saving model to gru.h5\n",
            "Epoch 4/10\n",
            "9563/9563 [==============================] - 158s 17ms/step - loss: 0.1508 - accuracy: 0.9437 - precision: 0.9437 - recall: 0.9437 - true_positives: 144356.8606 - true_negatives: 144356.8606 - false_positives: 8683.1302 - false_negatives: 8683.1302 - val_loss: 0.1617 - val_accuracy: 0.9378 - val_precision: 0.9378 - val_recall: 0.9378 - val_true_positives: 50638.0000 - val_true_negatives: 50638.0000 - val_false_positives: 3360.0000 - val_false_negatives: 3360.0000\n",
            "\n",
            "Epoch 00004: val_loss did not improve from 0.16062\n",
            "Epoch 5/10\n",
            "9563/9563 [==============================] - 160s 17ms/step - loss: 0.1463 - accuracy: 0.9461 - precision: 0.9461 - recall: 0.9461 - true_positives: 144727.0526 - true_negatives: 144727.0526 - false_positives: 8312.9382 - false_negatives: 8312.9382 - val_loss: 0.1588 - val_accuracy: 0.9403 - val_precision: 0.9403 - val_recall: 0.9403 - val_true_positives: 50774.0000 - val_true_negatives: 50774.0000 - val_false_positives: 3224.0000 - val_false_negatives: 3224.0000\n",
            "\n",
            "Epoch 00005: val_loss improved from 0.16062 to 0.15877, saving model to gru.h5\n",
            "Epoch 6/10\n",
            "9563/9563 [==============================] - 160s 17ms/step - loss: 0.1430 - accuracy: 0.9472 - precision: 0.9472 - recall: 0.9472 - true_positives: 144920.5579 - true_negatives: 144920.5579 - false_positives: 8119.4329 - false_negatives: 8119.4329 - val_loss: 0.1570 - val_accuracy: 0.9405 - val_precision: 0.9405 - val_recall: 0.9405 - val_true_positives: 50783.0000 - val_true_negatives: 50783.0000 - val_false_positives: 3215.0000 - val_false_negatives: 3215.0000\n",
            "\n",
            "Epoch 00006: val_loss improved from 0.15877 to 0.15699, saving model to gru.h5\n",
            "Epoch 7/10\n",
            "9563/9563 [==============================] - 160s 17ms/step - loss: 0.1403 - accuracy: 0.9481 - precision: 0.9481 - recall: 0.9481 - true_positives: 145049.2705 - true_negatives: 145049.2705 - false_positives: 7990.7203 - false_negatives: 7990.7203 - val_loss: 0.1582 - val_accuracy: 0.9393 - val_precision: 0.9393 - val_recall: 0.9393 - val_true_positives: 50718.0000 - val_true_negatives: 50718.0000 - val_false_positives: 3280.0000 - val_false_negatives: 3280.0000\n",
            "\n",
            "Epoch 00007: val_loss did not improve from 0.15699\n",
            "Epoch 8/10\n",
            "9563/9563 [==============================] - 159s 17ms/step - loss: 0.1383 - accuracy: 0.9497 - precision: 0.9497 - recall: 0.9497 - true_positives: 145281.0821 - true_negatives: 145281.0821 - false_positives: 7758.9087 - false_negatives: 7758.9087 - val_loss: 0.1658 - val_accuracy: 0.9377 - val_precision: 0.9377 - val_recall: 0.9377 - val_true_positives: 50632.0000 - val_true_negatives: 50632.0000 - val_false_positives: 3366.0000 - val_false_negatives: 3366.0000\n",
            "\n",
            "Epoch 00008: val_loss did not improve from 0.15699\n",
            "Epoch 9/10\n",
            "9563/9563 [==============================] - 160s 17ms/step - loss: 0.1351 - accuracy: 0.9505 - precision: 0.9505 - recall: 0.9505 - true_positives: 145431.6522 - true_negatives: 145431.6522 - false_positives: 7608.3386 - false_negatives: 7608.3386 - val_loss: 0.1591 - val_accuracy: 0.9399 - val_precision: 0.9399 - val_recall: 0.9399 - val_true_positives: 50753.0000 - val_true_negatives: 50753.0000 - val_false_positives: 3245.0000 - val_false_negatives: 3245.0000\n",
            "\n",
            "Epoch 00009: val_loss did not improve from 0.15699\n",
            "Epoch 10/10\n",
            "9563/9563 [==============================] - 160s 17ms/step - loss: 0.1343 - accuracy: 0.9513 - precision: 0.9513 - recall: 0.9513 - true_positives: 145522.0821 - true_negatives: 145522.0821 - false_positives: 7517.9087 - false_negatives: 7517.9087 - val_loss: 0.1578 - val_accuracy: 0.9398 - val_precision: 0.9398 - val_recall: 0.9398 - val_true_positives: 50746.0000 - val_true_negatives: 50746.0000 - val_false_positives: 3252.0000 - val_false_negatives: 3252.0000\n",
            "\n",
            "Epoch 00010: val_loss did not improve from 0.15699\n"
          ],
          "name": "stdout"
        }
      ]
    },
    {
      "cell_type": "code",
      "metadata": {
        "colab": {
          "base_uri": "https://localhost:8080/",
          "height": 282
        },
        "id": "BqIgfBkMIb-t",
        "outputId": "3dbc5ef3-f636-44c1-f42a-b8ca93477dae"
      },
      "source": [
        "metr = ['loss', 'accuracy', 'val_loss', 'val_accuracy']\n",
        "pd.DataFrame(history.history)[metr].plot()"
      ],
      "execution_count": 28,
      "outputs": [
        {
          "output_type": "execute_result",
          "data": {
            "text/plain": [
              "<matplotlib.axes._subplots.AxesSubplot at 0x7fae2c1b7550>"
            ]
          },
          "metadata": {
            "tags": []
          },
          "execution_count": 28
        },
        {
          "output_type": "display_data",
          "data": {
            "image/png": "[encoded data removed]",
            "text/plain": [
              "<Figure size 432x288 with 1 Axes>"
            ]
          },
          "metadata": {
            "tags": [],
            "needs_background": "light"
          }
        }
      ]
    },
    {
      "cell_type": "code",
      "metadata": {
        "id": "j7xxw2FvIlw9"
      },
      "source": [
        "# dump(history.history,'/content/drive/MyDrive/sentiment/GRU/GRU_FIN_B32/history.pickle')\n",
        "# dump(tokenizer,'/content/drive/MyDrive/sentiment/GRU/GRU_FIN_B32/tokenizer.pickle')"
      ],
      "execution_count": 29,
      "outputs": []
    },
    {
      "cell_type": "markdown",
      "metadata": {
        "id": "WCO2LVXSB16v"
      },
      "source": [
        "## Test"
      ]
    },
    {
      "cell_type": "code",
      "metadata": {
        "id": "KazJK2ztBz2R"
      },
      "source": [
        "sequence_test = get_sequences(tokenizer, max_len, test['text'])\n",
        "test_target = OH_transform(test['target'])"
      ],
      "execution_count": 30,
      "outputs": []
    },
    {
      "cell_type": "code",
      "metadata": {
        "colab": {
          "base_uri": "https://localhost:8080/",
          "height": 572
        },
        "id": "ed07n_IQI_YS",
        "outputId": "143dc8e2-e5f9-47a5-a74d-d2b4bc2eebbe"
      },
      "source": [
        "model_evaluate(best_model, sequence_test, test_target, 32)"
      ],
      "execution_count": 31,
      "outputs": [
        {
          "output_type": "stream",
          "text": [
            "/usr/local/lib/python3.7/dist-packages/tensorflow/python/keras/engine/sequential.py:450: UserWarning: `model.predict_classes()` is deprecated and will be removed after 2021-01-01. Please use instead:* `np.argmax(model.predict(x), axis=-1)`,   if your model does multi-class classification   (e.g. if it uses a `softmax` last-layer activation).* `(model.predict(x) > 0.5).astype(\"int32\")`,   if your model does binary classification   (e.g. if it uses a `sigmoid` last-layer activation).\n",
            "  warnings.warn('`model.predict_classes()` is deprecated and '\n"
          ],
          "name": "stderr"
        },
        {
          "output_type": "stream",
          "text": [
            "625/625 [==============================] - 3s 5ms/step\n",
            "Accuracy:\t93.8%\n",
            "\n",
            "\n",
            "              precision    recall  f1-score   support\n",
            "\n",
            "           0       0.94      0.94      0.94     10000\n",
            "           1       0.94      0.94      0.94     10000\n",
            "\n",
            "    accuracy                           0.94     20000\n",
            "   macro avg       0.94      0.94      0.94     20000\n",
            "weighted avg       0.94      0.94      0.94     20000\n",
            "\n"
          ],
          "name": "stdout"
        },
        {
          "output_type": "display_data",
          "data": {
            "image/png": "[encoded data removed]",
            "text/plain": [
              "<Figure size 288x288 with 1 Axes>"
            ]
          },
          "metadata": {
            "tags": [],
            "needs_background": "light"
          }
        }
      ]
    },
    {
      "cell_type": "code",
      "metadata": {
        "colab": {
          "base_uri": "https://localhost:8080/",
          "height": 810
        },
        "id": "PLxTPC3OJN6G",
        "outputId": "110c2a9c-75a4-44f2-a2e0-f58b5efb8602"
      },
      "source": [
        "# model that wasn't refitted\n",
        "model_evaluate(tuner.get_best_models(num_models=1)[0], sequence_test, test_target, 32)"
      ],
      "execution_count": 32,
      "outputs": [
        {
          "output_type": "stream",
          "text": [
            "Model: \"sequential\"\n",
            "_________________________________________________________________\n",
            "Layer (type)                 Output Shape              Param #   \n",
            "=================================================================\n",
            "embedding (Embedding)        (None, 250, 32)           320000    \n",
            "_________________________________________________________________\n",
            "gru (GRU)                    (None, 16)                2400      \n",
            "_________________________________________________________________\n",
            "dense (Dense)                (None, 2)                 34        \n",
            "=================================================================\n",
            "Total params: 322,434\n",
            "Trainable params: 322,434\n",
            "Non-trainable params: 0\n",
            "_________________________________________________________________\n"
          ],
          "name": "stdout"
        },
        {
          "output_type": "stream",
          "text": [
            "/usr/local/lib/python3.7/dist-packages/tensorflow/python/keras/engine/sequential.py:450: UserWarning: `model.predict_classes()` is deprecated and will be removed after 2021-01-01. Please use instead:* `np.argmax(model.predict(x), axis=-1)`,   if your model does multi-class classification   (e.g. if it uses a `softmax` last-layer activation).* `(model.predict(x) > 0.5).astype(\"int32\")`,   if your model does binary classification   (e.g. if it uses a `sigmoid` last-layer activation).\n",
            "  warnings.warn('`model.predict_classes()` is deprecated and '\n"
          ],
          "name": "stderr"
        },
        {
          "output_type": "stream",
          "text": [
            "625/625 [==============================] - 3s 5ms/step\n",
            "Accuracy:\t93.2%\n",
            "\n",
            "\n",
            "              precision    recall  f1-score   support\n",
            "\n",
            "           0       0.92      0.95      0.93     10000\n",
            "           1       0.94      0.92      0.93     10000\n",
            "\n",
            "    accuracy                           0.93     20000\n",
            "   macro avg       0.93      0.93      0.93     20000\n",
            "weighted avg       0.93      0.93      0.93     20000\n",
            "\n"
          ],
          "name": "stdout"
        },
        {
          "output_type": "display_data",
          "data": {
            "image/png": "[encoded data removed]",
            "text/plain": [
              "<Figure size 288x288 with 1 Axes>"
            ]
          },
          "metadata": {
            "tags": [],
            "needs_background": "light"
          }
        }
      ]
    },
    {
      "cell_type": "markdown",
      "metadata": {
        "id": "RBVT_AKfBuZQ"
      },
      "source": [
        "## Insights"
      ]
    },
    {
      "cell_type": "code",
      "metadata": {
        "colab": {
          "base_uri": "https://localhost:8080/"
        },
        "id": "zzUZ9kTn1oZN",
        "outputId": "26b93ce1-982c-4b84-830e-d46336d04e0e"
      },
      "source": [
        "tuner.results_summary()"
      ],
      "execution_count": 33,
      "outputs": [
        {
          "output_type": "stream",
          "text": [
            "Results summary\n",
            "Results in /content/drive/MyDrive/sentiment/GRU/GRU_FIN_B32\n",
            "Showing 10 best trials\n",
            "Objective(name='val_loss', direction='min')\n",
            "Trial summary\n",
            "Hyperparameters:\n",
            "output_dim: 32\n",
            "log2_units: 4\n",
            "optimizer: RMSprop\n",
            "tuner/epochs: 2\n",
            "tuner/initial_epoch: 0\n",
            "tuner/bracket: 0\n",
            "tuner/round: 0\n",
            "Score: 0.17274753749370575\n",
            "Trial summary\n",
            "Hyperparameters:\n",
            "output_dim: 48\n",
            "log2_units: 0\n",
            "optimizer: RMSprop\n",
            "tuner/epochs: 2\n",
            "tuner/initial_epoch: 0\n",
            "tuner/bracket: 0\n",
            "tuner/round: 0\n",
            "Score: 0.2627929449081421\n"
          ],
          "name": "stdout"
        }
      ]
    },
    {
      "cell_type": "code",
      "metadata": {
        "colab": {
          "base_uri": "https://localhost:8080/"
        },
        "id": "1OMkjxDUicv8",
        "outputId": "ecbdf2ee-0580-436e-c0be-c5af93619ef1"
      },
      "source": [
        "tuner.search_space_summary()"
      ],
      "execution_count": 34,
      "outputs": [
        {
          "output_type": "stream",
          "text": [
            "Search space summary\n",
            "Default search space size: 3\n",
            "output_dim (Int)\n",
            "{'default': None, 'conditions': [], 'min_value': 16, 'max_value': 64, 'step': 16, 'sampling': None}\n",
            "log2_units (Int)\n",
            "{'default': None, 'conditions': [], 'min_value': 0, 'max_value': 6, 'step': 1, 'sampling': None}\n",
            "optimizer (Choice)\n",
            "{'default': 'Adam', 'conditions': [], 'values': ['Adam', 'RMSprop'], 'ordered': False}\n"
          ],
          "name": "stdout"
        }
      ]
    }
  ]
}