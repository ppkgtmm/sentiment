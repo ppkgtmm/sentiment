{
  "nbformat": 4,
  "nbformat_minor": 0,
  "metadata": {
    "colab": {
      "name": "GRU.ipynb",
      "provenance": [],
      "collapsed_sections": [],
      "mount_file_id": "1chioiWOtLaqkqkMCA41E75i-0wQ7Jjed",
      "authorship_tag": "ABX9TyM5qWkRlvoMfZMvNY3drvch",
      "include_colab_link": true
    },
    "kernelspec": {
      "name": "python3",
      "display_name": "Python 3"
    },
    "accelerator": "GPU"
  },
  "cells": [
    {
      "cell_type": "markdown",
      "metadata": {
        "id": "view-in-github",
        "colab_type": "text"
      },
      "source": [
        "<a href=\"https://colab.research.google.com/github/ppkgtmm/sentiment/blob/GRU/GRU.ipynb\" target=\"_parent\"><img src=\"https://colab.research.google.com/assets/colab-badge.svg\" alt=\"Open In Colab\"/></a>"
      ]
    },
    {
      "cell_type": "code",
      "metadata": {
        "id": "wcmjvejTo-P5"
      },
      "source": [
        "# !pip install keras-tuner\n",
        "# !rm -r sentiment\n",
        "# !git clone --branch utils https://github.com/ppkgtmm/sentiment.git sentiment"
      ],
      "execution_count": 2,
      "outputs": []
    },
    {
      "cell_type": "code",
      "metadata": {
        "id": "fD-c-CihtPWg"
      },
      "source": [
        "import pandas as pd\n",
        "from keras.preprocessing.text import  Tokenizer\n",
        "from keras.layers import Input, Dense, Embedding, GRU\n",
        "from keras.models import Sequential\n",
        "from keras.metrics import Precision, Recall, FalseNegatives, \\\n",
        "FalsePositives, TrueNegatives, TruePositives\n",
        "from kerastuner import HyperParameters\n",
        "import matplotlib.pyplot as plt\n",
        "from sentiment.utils import read_data, get_optimizer, get_sequences, split_data\n",
        "from sentiment.utils import get_tuner, get_model_from_config, get_callbacks\n",
        "from sentiment.utils import OH_fit_transform, OH_transform, load, dump, \\\n",
        "model_evaluate"
      ],
      "execution_count": 3,
      "outputs": []
    },
    {
      "cell_type": "code",
      "metadata": {
        "id": "mxJxDJjXuos1"
      },
      "source": [
        "cols = ['text', 'target']\n",
        "data_path = '/content/drive/MyDrive/sentiment/data/data_preprocessed.csv'\n",
        "test_path = '/content/drive/MyDrive/sentiment/data/test_data_preprocessed.csv'\n",
        "seed = 123456\n",
        "num_words = 10000\n",
        "max_len = 250\n",
        "optimizers = [\n",
        "           'Adam',\n",
        "           'RMSprop'   \n",
        "]"
      ],
      "execution_count": 4,
      "outputs": []
    },
    {
      "cell_type": "code",
      "metadata": {
        "colab": {
          "base_uri": "https://localhost:8080/",
          "height": 204
        },
        "id": "3Y4C5O1cutOQ",
        "outputId": "0bfea86b-b7b0-47ec-dca4-96d23d6d6ffb"
      },
      "source": [
        "data = read_data(data_path,cols)\n",
        "data.sample(5)"
      ],
      "execution_count": 5,
      "outputs": [
        {
          "output_type": "execute_result",
          "data": {
            "text/html": [
              "<div>\n",
              "<style scoped>\n",
              "    .dataframe tbody tr th:only-of-type {\n",
              "        vertical-align: middle;\n",
              "    }\n",
              "\n",
              "    .dataframe tbody tr th {\n",
              "        vertical-align: top;\n",
              "    }\n",
              "\n",
              "    .dataframe thead th {\n",
              "        text-align: right;\n",
              "    }\n",
              "</style>\n",
              "<table border=\"1\" class=\"dataframe\">\n",
              "  <thead>\n",
              "    <tr style=\"text-align: right;\">\n",
              "      <th></th>\n",
              "      <th>text</th>\n",
              "      <th>target</th>\n",
              "    </tr>\n",
              "  </thead>\n",
              "  <tbody>\n",
              "    <tr>\n",
              "      <th>294825</th>\n",
              "      <td>just rent it do not be fooled by the commercia...</td>\n",
              "      <td>0</td>\n",
              "    </tr>\n",
              "    <tr>\n",
              "      <th>337708</th>\n",
              "      <td>blaze first kinda bored me well its NUMBER whe...</td>\n",
              "      <td>0</td>\n",
              "    </tr>\n",
              "    <tr>\n",
              "      <th>355269</th>\n",
              "      <td>top of the a list for female rockers there onl...</td>\n",
              "      <td>1</td>\n",
              "    </tr>\n",
              "    <tr>\n",
              "      <th>215014</th>\n",
              "      <td>entertaining jim henson continued genus his pu...</td>\n",
              "      <td>1</td>\n",
              "    </tr>\n",
              "    <tr>\n",
              "      <th>303732</th>\n",
              "      <td>good service but i bought this product and it ...</td>\n",
              "      <td>0</td>\n",
              "    </tr>\n",
              "  </tbody>\n",
              "</table>\n",
              "</div>"
            ],
            "text/plain": [
              "                                                     text  target\n",
              "294825  just rent it do not be fooled by the commercia...       0\n",
              "337708  blaze first kinda bored me well its NUMBER whe...       0\n",
              "355269  top of the a list for female rockers there onl...       1\n",
              "215014  entertaining jim henson continued genus his pu...       1\n",
              "303732  good service but i bought this product and it ...       0"
            ]
          },
          "metadata": {
            "tags": []
          },
          "execution_count": 5
        }
      ]
    },
    {
      "cell_type": "code",
      "metadata": {
        "colab": {
          "base_uri": "https://localhost:8080/",
          "height": 204
        },
        "id": "gdem-ylHu6gy",
        "outputId": "ca890205-2650-4328-c3ec-fe54fd1e0425"
      },
      "source": [
        "test = read_data(test_path, cols)\n",
        "test.sample(5)"
      ],
      "execution_count": 6,
      "outputs": [
        {
          "output_type": "execute_result",
          "data": {
            "text/html": [
              "<div>\n",
              "<style scoped>\n",
              "    .dataframe tbody tr th:only-of-type {\n",
              "        vertical-align: middle;\n",
              "    }\n",
              "\n",
              "    .dataframe tbody tr th {\n",
              "        vertical-align: top;\n",
              "    }\n",
              "\n",
              "    .dataframe thead th {\n",
              "        text-align: right;\n",
              "    }\n",
              "</style>\n",
              "<table border=\"1\" class=\"dataframe\">\n",
              "  <thead>\n",
              "    <tr style=\"text-align: right;\">\n",
              "      <th></th>\n",
              "      <th>text</th>\n",
              "      <th>target</th>\n",
              "    </tr>\n",
              "  </thead>\n",
              "  <tbody>\n",
              "    <tr>\n",
              "      <th>3621</th>\n",
              "      <td>interesting but misguided noretta koertge is s...</td>\n",
              "      <td>0</td>\n",
              "    </tr>\n",
              "    <tr>\n",
              "      <th>18761</th>\n",
              "      <td>great this is a university report on impotence...</td>\n",
              "      <td>1</td>\n",
              "    </tr>\n",
              "    <tr>\n",
              "      <th>10600</th>\n",
              "      <td>sucks one of the worst movies i have ever seen...</td>\n",
              "      <td>0</td>\n",
              "    </tr>\n",
              "    <tr>\n",
              "      <th>7430</th>\n",
              "      <td>dissapointedconsumer the chairs are weak and w...</td>\n",
              "      <td>0</td>\n",
              "    </tr>\n",
              "    <tr>\n",
              "      <th>17379</th>\n",
              "      <td>it also a study guide the reviewer is right bu...</td>\n",
              "      <td>1</td>\n",
              "    </tr>\n",
              "  </tbody>\n",
              "</table>\n",
              "</div>"
            ],
            "text/plain": [
              "                                                    text  target\n",
              "3621   interesting but misguided noretta koertge is s...       0\n",
              "18761  great this is a university report on impotence...       1\n",
              "10600  sucks one of the worst movies i have ever seen...       0\n",
              "7430   dissapointedconsumer the chairs are weak and w...       0\n",
              "17379  it also a study guide the reviewer is right bu...       1"
            ]
          },
          "metadata": {
            "tags": []
          },
          "execution_count": 6
        }
      ]
    },
    {
      "cell_type": "code",
      "metadata": {
        "id": "gpQy6LHjvQ8S"
      },
      "source": [
        "train, val = split_data(data)"
      ],
      "execution_count": 7,
      "outputs": []
    },
    {
      "cell_type": "code",
      "metadata": {
        "id": "ZZZs3onqvUIX"
      },
      "source": [
        "tokenizer = Tokenizer(num_words=num_words, oov_token='OOV')\n",
        "tokenizer.fit_on_texts(train['text'])"
      ],
      "execution_count": 8,
      "outputs": []
    },
    {
      "cell_type": "code",
      "metadata": {
        "id": "xMziuFl0vbwB"
      },
      "source": [
        "sequence_train = get_sequences(tokenizer, max_len, train['text'])\n",
        "sequence_val = get_sequences(tokenizer, max_len, val['text'])"
      ],
      "execution_count": 9,
      "outputs": []
    },
    {
      "cell_type": "code",
      "metadata": {
        "colab": {
          "base_uri": "https://localhost:8080/"
        },
        "id": "2Obf3yB0veei",
        "outputId": "cd577f3e-fa0e-40ae-88b1-e80fa0063bf9"
      },
      "source": [
        "print(val['target'].unique(), train['target'].unique())"
      ],
      "execution_count": 10,
      "outputs": [
        {
          "output_type": "stream",
          "text": [
            "[1 0] [0 1]\n"
          ],
          "name": "stdout"
        }
      ]
    },
    {
      "cell_type": "code",
      "metadata": {
        "id": "WVNUYZv1vjFT"
      },
      "source": [
        "train_target = OH_fit_transform(train['target'])\n",
        "val_target = OH_transform(val['target'])"
      ],
      "execution_count": 11,
      "outputs": []
    },
    {
      "cell_type": "code",
      "metadata": {
        "id": "o6x_qYtwvm7_"
      },
      "source": [
        "def build_gru(hp):\n",
        "    model = Sequential()\n",
        "    model.add(Input(shape=(max_len)))\n",
        "    model.add(\n",
        "        Embedding(\n",
        "          num_words, hp.get('output_dim')\n",
        "        )\n",
        "    )\n",
        "    model.add(GRU(hp.get('gru_units')))\n",
        "    model.add(Dense(2, activation='softmax'))\n",
        "    model.compile(\n",
        "        optimizer=get_optimizer(hp.get('optimizer')),\n",
        "        loss='categorical_crossentropy',\n",
        "        metrics=[\n",
        "                 'accuracy',\n",
        "                 Precision(), \n",
        "                 Recall(),\n",
        "                 TruePositives(), \n",
        "                 TrueNegatives(), \n",
        "                 FalsePositives(),\n",
        "                 FalseNegatives()\n",
        "              ]\n",
        "          )\n",
        "    model.summary()\n",
        "    return model"
      ],
      "execution_count": 12,
      "outputs": []
    },
    {
      "cell_type": "code",
      "metadata": {
        "colab": {
          "base_uri": "https://localhost:8080/",
          "height": 35
        },
        "id": "eCS9R1vUwU4a",
        "outputId": "13dcefd9-c13d-4771-a6d1-394243c004bd"
      },
      "source": [
        "hp = HyperParameters()\n",
        "hp.Int('output_dim', 16, 64, 16)\n",
        "hp.Choice('gru_units', [2, 8, 16, 32, 64])\n",
        "hp.Choice('optimizer', optimizers)"
      ],
      "execution_count": 13,
      "outputs": [
        {
          "output_type": "execute_result",
          "data": {
            "application/vnd.google.colaboratory.intrinsic+json": {
              "type": "string"
            },
            "text/plain": [
              "'Adam'"
            ]
          },
          "metadata": {
            "tags": []
          },
          "execution_count": 13
        }
      ]
    },
    {
      "cell_type": "code",
      "metadata": {
        "colab": {
          "base_uri": "https://localhost:8080/"
        },
        "id": "KrkBATdPx99z",
        "outputId": "8508b042-0095-4973-ef77-73a220141fc7"
      },
      "source": [
        "tuner = get_tuner(build_gru,'/content/drive/MyDrive/sentiment/GRU',\\\n",
        "                  'GRU_TEMP_B32',hp, 2, 2)"
      ],
      "execution_count": 23,
      "outputs": [
        {
          "output_type": "stream",
          "text": [
            "Model: \"sequential\"\n",
            "_________________________________________________________________\n",
            "Layer (type)                 Output Shape              Param #   \n",
            "=================================================================\n",
            "embedding (Embedding)        (None, 250, 16)           160000    \n",
            "_________________________________________________________________\n",
            "gru (GRU)                    (None, 2)                 120       \n",
            "_________________________________________________________________\n",
            "dense (Dense)                (None, 2)                 6         \n",
            "=================================================================\n",
            "Total params: 160,126\n",
            "Trainable params: 160,126\n",
            "Non-trainable params: 0\n",
            "_________________________________________________________________\n"
          ],
          "name": "stdout"
        }
      ]
    },
    {
      "cell_type": "markdown",
      "metadata": {
        "id": "Punh2XJ_BqCj"
      },
      "source": [
        "## Train"
      ]
    },
    {
      "cell_type": "code",
      "metadata": {
        "colab": {
          "base_uri": "https://localhost:8080/"
        },
        "id": "Vz5nMT3wyOzG",
        "outputId": "5f0faed7-1f08-4d89-b8dc-dc6ebce40266"
      },
      "source": [
        "history = tuner.search(\n",
        "    sequence_train,\n",
        "    train_target,\n",
        "    epochs=2,\n",
        "    validation_data=(sequence_val, val_target),\n",
        "    batch_size=32,\n",
        "    use_multiprocessing=True\n",
        ")"
      ],
      "execution_count": 24,
      "outputs": [
        {
          "output_type": "stream",
          "text": [
            "Trial 2 Complete [00h 13m 06s]\n",
            "val_loss: 0.16196909546852112\n",
            "\n",
            "Best val_loss So Far: 0.16196909546852112\n",
            "Total elapsed time: 00h 28m 05s\n",
            "INFO:tensorflow:Oracle triggered exit\n"
          ],
          "name": "stdout"
        }
      ]
    },
    {
      "cell_type": "markdown",
      "metadata": {
        "id": "iwADsDKnCBJb"
      },
      "source": [
        "## Refit"
      ]
    },
    {
      "cell_type": "code",
      "metadata": {
        "colab": {
          "base_uri": "https://localhost:8080/"
        },
        "id": "9H6UEyEgBwdH",
        "outputId": "513fa1a3-79c8-40f6-b106-f4711c11c578"
      },
      "source": [
        "best_model = tuner.get_best_models(num_models=1)[0]"
      ],
      "execution_count": 28,
      "outputs": [
        {
          "output_type": "stream",
          "text": [
            "Model: \"sequential\"\n",
            "_________________________________________________________________\n",
            "Layer (type)                 Output Shape              Param #   \n",
            "=================================================================\n",
            "embedding (Embedding)        (None, 250, 64)           640000    \n",
            "_________________________________________________________________\n",
            "gru (GRU)                    (None, 64)                24960     \n",
            "_________________________________________________________________\n",
            "dense (Dense)                (None, 2)                 130       \n",
            "=================================================================\n",
            "Total params: 665,090\n",
            "Trainable params: 665,090\n",
            "Non-trainable params: 0\n",
            "_________________________________________________________________\n",
            "WARNING:tensorflow:Unresolved object in checkpoint: (root).optimizer.iter\n",
            "WARNING:tensorflow:Unresolved object in checkpoint: (root).optimizer.beta_1\n",
            "WARNING:tensorflow:Unresolved object in checkpoint: (root).optimizer.beta_2\n",
            "WARNING:tensorflow:Unresolved object in checkpoint: (root).optimizer.decay\n",
            "WARNING:tensorflow:Unresolved object in checkpoint: (root).optimizer.learning_rate\n",
            "WARNING:tensorflow:A checkpoint was restored (e.g. tf.train.Checkpoint.restore or tf.keras.Model.load_weights) but not all checkpointed values were used. See above for specific issues. Use expect_partial() on the load status object, e.g. tf.train.Checkpoint.restore(...).expect_partial(), to silence these warnings, or use assert_consumed() to make the check explicit. See https://www.tensorflow.org/guide/checkpoint#loading_mechanics for details.\n"
          ],
          "name": "stdout"
        }
      ]
    },
    {
      "cell_type": "code",
      "metadata": {
        "id": "wtXKrN8CCEPN"
      },
      "source": [
        "best_model = get_model_from_config(\n",
        "    best_model,\n",
        "    get_optimizer(tuner.get_best_hyperparameters()[0].get('optimizer'))\n",
        ")"
      ],
      "execution_count": 30,
      "outputs": []
    },
    {
      "cell_type": "code",
      "metadata": {
        "id": "4di8P1AFCHM0"
      },
      "source": [
        "cb = get_callbacks('gru.h5')"
      ],
      "execution_count": 31,
      "outputs": []
    },
    {
      "cell_type": "code",
      "metadata": {
        "colab": {
          "base_uri": "https://localhost:8080/"
        },
        "id": "NjB9tbuGCSIf",
        "outputId": "6dc54a73-e178-468b-ef67-7ed7219bf743"
      },
      "source": [
        "history = best_model.fit(\n",
        "    sequence_train,\n",
        "    train_target,\n",
        "    validation_data=(sequence_val, val_target),\n",
        "    epochs=100,\n",
        "    callbacks=cb\n",
        ")"
      ],
      "execution_count": 32,
      "outputs": [
        {
          "output_type": "stream",
          "text": [
            "Epoch 1/100\n",
            "9563/9563 [==============================] - 230s 24ms/step - loss: 0.2859 - accuracy: 0.8729 - precision: 0.8729 - recall: 0.8729 - true_positives: 137284.6644 - true_negatives: 137284.6644 - false_positives: 15755.3264 - false_negatives: 15755.3264 - val_loss: 0.1682 - val_accuracy: 0.9353 - val_precision: 0.9353 - val_recall: 0.9353 - val_true_positives: 50506.0000 - val_true_negatives: 50506.0000 - val_false_positives: 3492.0000 - val_false_negatives: 3492.0000\n",
            "\n",
            "Epoch 00001: val_loss improved from inf to 0.16817, saving model to gru.h5\n",
            "Epoch 2/100\n",
            "9563/9563 [==============================] - 210s 22ms/step - loss: 0.1487 - accuracy: 0.9441 - precision: 0.9441 - recall: 0.9441 - true_positives: 144435.0240 - true_negatives: 144435.0240 - false_positives: 8604.9668 - false_negatives: 8604.9668 - val_loss: 0.1580 - val_accuracy: 0.9390 - val_precision: 0.9390 - val_recall: 0.9390 - val_true_positives: 50703.0000 - val_true_negatives: 50703.0000 - val_false_positives: 3295.0000 - val_false_negatives: 3295.0000\n",
            "\n",
            "Epoch 00002: val_loss improved from 0.16817 to 0.15804, saving model to gru.h5\n",
            "Epoch 3/100\n",
            "9563/9563 [==============================] - 225s 24ms/step - loss: 0.1172 - accuracy: 0.9576 - precision: 0.9576 - recall: 0.9576 - true_positives: 146445.4487 - true_negatives: 146445.4487 - false_positives: 6594.5421 - false_negatives: 6594.5421 - val_loss: 0.1712 - val_accuracy: 0.9349 - val_precision: 0.9349 - val_recall: 0.9349 - val_true_positives: 50485.0000 - val_true_negatives: 50485.0000 - val_false_positives: 3513.0000 - val_false_negatives: 3513.0000\n",
            "\n",
            "Epoch 00003: val_loss did not improve from 0.15804\n",
            "Epoch 4/100\n",
            "9563/9563 [==============================] - 205s 21ms/step - loss: 0.0903 - accuracy: 0.9692 - precision: 0.9692 - recall: 0.9692 - true_positives: 148150.3844 - true_negatives: 148150.3844 - false_positives: 4889.6064 - false_negatives: 4889.6064 - val_loss: 0.1906 - val_accuracy: 0.9323 - val_precision: 0.9323 - val_recall: 0.9323 - val_true_positives: 50341.0000 - val_true_negatives: 50341.0000 - val_false_positives: 3657.0000 - val_false_negatives: 3657.0000\n",
            "\n",
            "Epoch 00004: val_loss did not improve from 0.15804\n",
            "Epoch 5/100\n",
            "9563/9563 [==============================] - 202s 21ms/step - loss: 0.0668 - accuracy: 0.9775 - precision: 0.9775 - recall: 0.9775 - true_positives: 149444.4329 - true_negatives: 149444.4329 - false_positives: 3595.5579 - false_negatives: 3595.5579 - val_loss: 0.2166 - val_accuracy: 0.9319 - val_precision: 0.9319 - val_recall: 0.9319 - val_true_positives: 50320.0000 - val_true_negatives: 50320.0000 - val_false_positives: 3678.0000 - val_false_negatives: 3678.0000\n",
            "\n",
            "Epoch 00005: val_loss did not improve from 0.15804\n",
            "Epoch 6/100\n",
            "9563/9563 [==============================] - 202s 21ms/step - loss: 0.0487 - accuracy: 0.9841 - precision: 0.9841 - recall: 0.9841 - true_positives: 150491.4956 - true_negatives: 150491.4956 - false_positives: 2548.4952 - false_negatives: 2548.4952 - val_loss: 0.2485 - val_accuracy: 0.9285 - val_precision: 0.9285 - val_recall: 0.9285 - val_true_positives: 50135.0000 - val_true_negatives: 50135.0000 - val_false_positives: 3863.0000 - val_false_negatives: 3863.0000\n",
            "\n",
            "Epoch 00006: val_loss did not improve from 0.15804\n",
            "Epoch 7/100\n",
            "9563/9563 [==============================] - 201s 21ms/step - loss: 0.0358 - accuracy: 0.9886 - precision: 0.9886 - recall: 0.9886 - true_positives: 151160.9679 - true_negatives: 151160.9679 - false_positives: 1879.0229 - false_negatives: 1879.0229 - val_loss: 0.2912 - val_accuracy: 0.9269 - val_precision: 0.9269 - val_recall: 0.9269 - val_true_positives: 50052.0000 - val_true_negatives: 50052.0000 - val_false_positives: 3946.0000 - val_false_negatives: 3946.0000\n",
            "\n",
            "Epoch 00007: val_loss did not improve from 0.15804\n"
          ],
          "name": "stdout"
        }
      ]
    },
    {
      "cell_type": "code",
      "metadata": {
        "colab": {
          "base_uri": "https://localhost:8080/",
          "height": 282
        },
        "id": "BqIgfBkMIb-t",
        "outputId": "4dd2e981-b595-4f91-e65f-9cb9f3c9c59e"
      },
      "source": [
        "metr = ['loss', 'accuracy', 'val_loss', 'val_accuracy']\n",
        "pd.DataFrame(history.history)[metr].plot()"
      ],
      "execution_count": 34,
      "outputs": [
        {
          "output_type": "execute_result",
          "data": {
            "text/plain": [
              "<matplotlib.axes._subplots.AxesSubplot at 0x7fdeeb410ad0>"
            ]
          },
          "metadata": {
            "tags": []
          },
          "execution_count": 34
        },
        {
          "output_type": "display_data",
          "data": {
            "image/png": "[encoded data removed]",
            "text/plain": [
              "<Figure size 432x288 with 1 Axes>"
            ]
          },
          "metadata": {
            "tags": [],
            "needs_background": "light"
          }
        }
      ]
    },
    {
      "cell_type": "code",
      "metadata": {
        "id": "j7xxw2FvIlw9"
      },
      "source": [
        "# dump(history.history,'/content/drive/MyDrive/sentiment/GRU/GRU_TEMP_B32/history.pickle')\n",
        "# dump(tokenizer,'/content/drive/MyDrive/sentiment/GRU/GRU_TEMP_B32/tokenizer.pickle')"
      ],
      "execution_count": 35,
      "outputs": []
    },
    {
      "cell_type": "markdown",
      "metadata": {
        "id": "WCO2LVXSB16v"
      },
      "source": [
        "## Test"
      ]
    },
    {
      "cell_type": "code",
      "metadata": {
        "id": "KazJK2ztBz2R"
      },
      "source": [
        "sequence_test = get_sequences(tokenizer, max_len, test['text'])\n",
        "test_target = OH_transform(test['target'])"
      ],
      "execution_count": 36,
      "outputs": []
    },
    {
      "cell_type": "code",
      "metadata": {
        "colab": {
          "base_uri": "https://localhost:8080/",
          "height": 572
        },
        "id": "ed07n_IQI_YS",
        "outputId": "ff4e4e45-4466-46db-d3aa-898cfad17f1d"
      },
      "source": [
        "model_evaluate(best_model, sequence_test, test_target, 32)"
      ],
      "execution_count": 37,
      "outputs": [
        {
          "output_type": "stream",
          "text": [
            "/usr/local/lib/python3.7/dist-packages/tensorflow/python/keras/engine/sequential.py:450: UserWarning: `model.predict_classes()` is deprecated and will be removed after 2021-01-01. Please use instead:* `np.argmax(model.predict(x), axis=-1)`,   if your model does multi-class classification   (e.g. if it uses a `softmax` last-layer activation).* `(model.predict(x) > 0.5).astype(\"int32\")`,   if your model does binary classification   (e.g. if it uses a `sigmoid` last-layer activation).\n",
            "  warnings.warn('`model.predict_classes()` is deprecated and '\n"
          ],
          "name": "stderr"
        },
        {
          "output_type": "stream",
          "text": [
            "625/625 [==============================] - 4s 5ms/step\n",
            "Accuracy:\t93.7%\n",
            "\n",
            "\n",
            "              precision    recall  f1-score   support\n",
            "\n",
            "           0       0.94      0.93      0.94     10000\n",
            "           1       0.94      0.94      0.94     10000\n",
            "\n",
            "    accuracy                           0.94     20000\n",
            "   macro avg       0.94      0.94      0.94     20000\n",
            "weighted avg       0.94      0.94      0.94     20000\n",
            "\n"
          ],
          "name": "stdout"
        },
        {
          "output_type": "display_data",
          "data": {
            "image/png": "[encoded data removed]",
            "text/plain": [
              "<Figure size 288x288 with 1 Axes>"
            ]
          },
          "metadata": {
            "tags": [],
            "needs_background": "light"
          }
        }
      ]
    },
    {
      "cell_type": "code",
      "metadata": {
        "colab": {
          "base_uri": "https://localhost:8080/",
          "height": 810
        },
        "id": "PLxTPC3OJN6G",
        "outputId": "10e070b3-8e12-471f-8fe2-e974781a114f"
      },
      "source": [
        "# model that wasn't refitted\n",
        "model_evaluate(tuner.get_best_models(num_models=1)[0], sequence_test, test_target, 32)"
      ],
      "execution_count": 38,
      "outputs": [
        {
          "output_type": "stream",
          "text": [
            "Model: \"sequential\"\n",
            "_________________________________________________________________\n",
            "Layer (type)                 Output Shape              Param #   \n",
            "=================================================================\n",
            "embedding (Embedding)        (None, 250, 64)           640000    \n",
            "_________________________________________________________________\n",
            "gru (GRU)                    (None, 64)                24960     \n",
            "_________________________________________________________________\n",
            "dense (Dense)                (None, 2)                 130       \n",
            "=================================================================\n",
            "Total params: 665,090\n",
            "Trainable params: 665,090\n",
            "Non-trainable params: 0\n",
            "_________________________________________________________________\n"
          ],
          "name": "stdout"
        },
        {
          "output_type": "stream",
          "text": [
            "/usr/local/lib/python3.7/dist-packages/tensorflow/python/keras/engine/sequential.py:450: UserWarning: `model.predict_classes()` is deprecated and will be removed after 2021-01-01. Please use instead:* `np.argmax(model.predict(x), axis=-1)`,   if your model does multi-class classification   (e.g. if it uses a `softmax` last-layer activation).* `(model.predict(x) > 0.5).astype(\"int32\")`,   if your model does binary classification   (e.g. if it uses a `sigmoid` last-layer activation).\n",
            "  warnings.warn('`model.predict_classes()` is deprecated and '\n"
          ],
          "name": "stderr"
        },
        {
          "output_type": "stream",
          "text": [
            "625/625 [==============================] - 4s 5ms/step\n",
            "Accuracy:\t93.7%\n",
            "\n",
            "\n",
            "              precision    recall  f1-score   support\n",
            "\n",
            "           0       0.93      0.94      0.94     10000\n",
            "           1       0.94      0.93      0.94     10000\n",
            "\n",
            "    accuracy                           0.94     20000\n",
            "   macro avg       0.94      0.94      0.94     20000\n",
            "weighted avg       0.94      0.94      0.94     20000\n",
            "\n"
          ],
          "name": "stdout"
        },
        {
          "output_type": "display_data",
          "data": {
            "image/png": "[encoded data removed]",
            "text/plain": [
              "<Figure size 288x288 with 1 Axes>"
            ]
          },
          "metadata": {
            "tags": [],
            "needs_background": "light"
          }
        }
      ]
    },
    {
      "cell_type": "markdown",
      "metadata": {
        "id": "RBVT_AKfBuZQ"
      },
      "source": [
        "## Insights"
      ]
    },
    {
      "cell_type": "code",
      "metadata": {
        "colab": {
          "base_uri": "https://localhost:8080/"
        },
        "id": "zzUZ9kTn1oZN",
        "outputId": "3dab87e1-dba8-4b3e-bc51-ab92df87b133"
      },
      "source": [
        "tuner.results_summary()"
      ],
      "execution_count": 25,
      "outputs": [
        {
          "output_type": "stream",
          "text": [
            "Results summary\n",
            "Results in /content/drive/MyDrive/sentiment/GRU/GRU_TEMP_B32\n",
            "Showing 10 best trials\n",
            "Objective(name='val_loss', direction='min')\n",
            "Trial summary\n",
            "Hyperparameters:\n",
            "output_dim: 64\n",
            "gru_units: 64\n",
            "optimizer: Adam\n",
            "tuner/epochs: 2\n",
            "tuner/initial_epoch: 0\n",
            "tuner/bracket: 0\n",
            "tuner/round: 0\n",
            "Score: 0.16196909546852112\n",
            "Trial summary\n",
            "Hyperparameters:\n",
            "output_dim: 64\n",
            "gru_units: 8\n",
            "optimizer: Adam\n",
            "tuner/epochs: 2\n",
            "tuner/initial_epoch: 0\n",
            "tuner/bracket: 0\n",
            "tuner/round: 0\n",
            "Score: 0.17348305135965347\n"
          ],
          "name": "stdout"
        }
      ]
    }
  ]
}