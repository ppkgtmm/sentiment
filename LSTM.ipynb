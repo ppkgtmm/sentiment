{
  "nbformat": 4,
  "nbformat_minor": 0,
  "metadata": {
    "colab": {
      "name": "LSTM.ipynb",
      "provenance": [],
      "collapsed_sections": [],
      "mount_file_id": "1Pg_j3dqIbeXvk1IoFEc_fmM_WeiwaKFf",
      "authorship_tag": "ABX9TyO6o7e1i8i9zBNib1qpu35V",
      "include_colab_link": true
    },
    "kernelspec": {
      "name": "python3",
      "display_name": "Python 3"
    },
    "accelerator": "GPU"
  },
  "cells": [
    {
      "cell_type": "markdown",
      "metadata": {
        "id": "view-in-github",
        "colab_type": "text"
      },
      "source": [
        "<a href=\"https://colab.research.google.com/github/ppkgtmm/sentiment/blob/lstm/LSTM.ipynb\" target=\"_parent\"><img src=\"https://colab.research.google.com/assets/colab-badge.svg\" alt=\"Open In Colab\"/></a>"
      ]
    },
    {
      "cell_type": "code",
      "metadata": {
        "id": "GKD3XHVhDdR4"
      },
      "source": [
        "# !pip install keras-tuner\n",
        "# !rm -r sentiment\n",
        "# !git clone --branch utils https://github.com/ppkgtmm/sentiment.git sentiment"
      ],
      "execution_count": 2,
      "outputs": []
    },
    {
      "cell_type": "code",
      "metadata": {
        "id": "X7wkwrNRGv27"
      },
      "source": [
        "import pandas as pd\n",
        "from keras.preprocessing.text import  Tokenizer\n",
        "from keras.layers import Input, Dense, Embedding, LSTM\n",
        "from keras.models import Sequential\n",
        "from keras.metrics import Precision, Recall, FalseNegatives, \\\n",
        "FalsePositives, TrueNegatives, TruePositives\n",
        "from kerastuner import HyperParameters\n",
        "import matplotlib.pyplot as plt\n",
        "from sentiment.utils import read_data, get_optimizer, get_sequences, split_data\n",
        "from sentiment.utils import get_tuner, get_model_from_config, get_callbacks\n",
        "from sentiment.utils import OH_fit_transform, OH_transform, load, dump, \\\n",
        "model_evaluate"
      ],
      "execution_count": 13,
      "outputs": []
    },
    {
      "cell_type": "code",
      "metadata": {
        "id": "BQozBV-9GzEM"
      },
      "source": [
        "cols = ['text', 'target']\n",
        "data_path = '/content/drive/MyDrive/sentiment/data/data_preprocessed.csv'\n",
        "test_path = '/content/drive/MyDrive/sentiment/data/test_data_preprocessed.csv'\n",
        "seed = 123456\n",
        "num_words = 10000\n",
        "max_len = 250\n",
        "optimizers = [\n",
        "           'Adam',\n",
        "           'RMSprop'   \n",
        "]"
      ],
      "execution_count": 5,
      "outputs": []
    },
    {
      "cell_type": "code",
      "metadata": {
        "colab": {
          "base_uri": "https://localhost:8080/",
          "height": 204
        },
        "id": "4I98hhLLG3VM",
        "outputId": "8fd82b9f-20b0-4751-a844-2c59ecc9abbd"
      },
      "source": [
        "data = read_data(data_path,cols)\n",
        "data.sample(5)"
      ],
      "execution_count": 6,
      "outputs": [
        {
          "output_type": "execute_result",
          "data": {
            "text/html": [
              "<div>\n",
              "<style scoped>\n",
              "    .dataframe tbody tr th:only-of-type {\n",
              "        vertical-align: middle;\n",
              "    }\n",
              "\n",
              "    .dataframe tbody tr th {\n",
              "        vertical-align: top;\n",
              "    }\n",
              "\n",
              "    .dataframe thead th {\n",
              "        text-align: right;\n",
              "    }\n",
              "</style>\n",
              "<table border=\"1\" class=\"dataframe\">\n",
              "  <thead>\n",
              "    <tr style=\"text-align: right;\">\n",
              "      <th></th>\n",
              "      <th>text</th>\n",
              "      <th>target</th>\n",
              "    </tr>\n",
              "  </thead>\n",
              "  <tbody>\n",
              "    <tr>\n",
              "      <th>99620</th>\n",
              "      <td>defective watches ordered two of these diver w...</td>\n",
              "      <td>0</td>\n",
              "    </tr>\n",
              "    <tr>\n",
              "      <th>254042</th>\n",
              "      <td>love it my son just got dog train for his firs...</td>\n",
              "      <td>1</td>\n",
              "    </tr>\n",
              "    <tr>\n",
              "      <th>165143</th>\n",
              "      <td>a note to all peruvians do not buy this book i...</td>\n",
              "      <td>0</td>\n",
              "    </tr>\n",
              "    <tr>\n",
              "      <th>140042</th>\n",
              "      <td>better get them now these filters get NUMBER s...</td>\n",
              "      <td>1</td>\n",
              "    </tr>\n",
              "    <tr>\n",
              "      <th>60094</th>\n",
              "      <td>does not hold stair treads optimum technologie...</td>\n",
              "      <td>0</td>\n",
              "    </tr>\n",
              "  </tbody>\n",
              "</table>\n",
              "</div>"
            ],
            "text/plain": [
              "                                                     text  target\n",
              "99620   defective watches ordered two of these diver w...       0\n",
              "254042  love it my son just got dog train for his firs...       1\n",
              "165143  a note to all peruvians do not buy this book i...       0\n",
              "140042  better get them now these filters get NUMBER s...       1\n",
              "60094   does not hold stair treads optimum technologie...       0"
            ]
          },
          "metadata": {
            "tags": []
          },
          "execution_count": 6
        }
      ]
    },
    {
      "cell_type": "code",
      "metadata": {
        "colab": {
          "base_uri": "https://localhost:8080/",
          "height": 204
        },
        "id": "4kBFjeMUG9wp",
        "outputId": "626bb902-5b99-4876-f16e-4952c4923444"
      },
      "source": [
        "test = read_data(test_path, cols)\n",
        "test.sample(5)"
      ],
      "execution_count": 7,
      "outputs": [
        {
          "output_type": "execute_result",
          "data": {
            "text/html": [
              "<div>\n",
              "<style scoped>\n",
              "    .dataframe tbody tr th:only-of-type {\n",
              "        vertical-align: middle;\n",
              "    }\n",
              "\n",
              "    .dataframe tbody tr th {\n",
              "        vertical-align: top;\n",
              "    }\n",
              "\n",
              "    .dataframe thead th {\n",
              "        text-align: right;\n",
              "    }\n",
              "</style>\n",
              "<table border=\"1\" class=\"dataframe\">\n",
              "  <thead>\n",
              "    <tr style=\"text-align: right;\">\n",
              "      <th></th>\n",
              "      <th>text</th>\n",
              "      <th>target</th>\n",
              "    </tr>\n",
              "  </thead>\n",
              "  <tbody>\n",
              "    <tr>\n",
              "      <th>11331</th>\n",
              "      <td>amazing guidance this book is a wonderful guid...</td>\n",
              "      <td>1</td>\n",
              "    </tr>\n",
              "    <tr>\n",
              "      <th>18582</th>\n",
              "      <td>works great before you drop it this is my seco...</td>\n",
              "      <td>1</td>\n",
              "    </tr>\n",
              "    <tr>\n",
              "      <th>17002</th>\n",
              "      <td>sacred sellout sacred love is a big load of cr...</td>\n",
              "      <td>0</td>\n",
              "    </tr>\n",
              "    <tr>\n",
              "      <th>10475</th>\n",
              "      <td>cool karma the jacket of this book is what cau...</td>\n",
              "      <td>1</td>\n",
              "    </tr>\n",
              "    <tr>\n",
              "      <th>15455</th>\n",
              "      <td>great for traveling i am not a hardy traveler ...</td>\n",
              "      <td>1</td>\n",
              "    </tr>\n",
              "  </tbody>\n",
              "</table>\n",
              "</div>"
            ],
            "text/plain": [
              "                                                    text  target\n",
              "11331  amazing guidance this book is a wonderful guid...       1\n",
              "18582  works great before you drop it this is my seco...       1\n",
              "17002  sacred sellout sacred love is a big load of cr...       0\n",
              "10475  cool karma the jacket of this book is what cau...       1\n",
              "15455  great for traveling i am not a hardy traveler ...       1"
            ]
          },
          "metadata": {
            "tags": []
          },
          "execution_count": 7
        }
      ]
    },
    {
      "cell_type": "code",
      "metadata": {
        "id": "-75M8DNyHBKc"
      },
      "source": [
        "train, val = split_data(data)"
      ],
      "execution_count": 8,
      "outputs": []
    },
    {
      "cell_type": "code",
      "metadata": {
        "id": "OpU0qNAUHD7e"
      },
      "source": [
        "tokenizer = Tokenizer(num_words=num_words, oov_token='OOV')\n",
        "tokenizer.fit_on_texts(train['text'])"
      ],
      "execution_count": 9,
      "outputs": []
    },
    {
      "cell_type": "code",
      "metadata": {
        "id": "Bnpsjt2DHHmq"
      },
      "source": [
        "sequence_train = get_sequences(tokenizer, max_len, train['text'])\n",
        "sequence_val = get_sequences(tokenizer, max_len, val['text'])"
      ],
      "execution_count": 10,
      "outputs": []
    },
    {
      "cell_type": "code",
      "metadata": {
        "colab": {
          "base_uri": "https://localhost:8080/"
        },
        "id": "0r1MNBWNHKw0",
        "outputId": "955d801a-3662-4b8d-ff60-7f348b7b72db"
      },
      "source": [
        "print(val['target'].unique(), train['target'].unique())"
      ],
      "execution_count": 11,
      "outputs": [
        {
          "output_type": "stream",
          "text": [
            "[1 0] [0 1]\n"
          ],
          "name": "stdout"
        }
      ]
    },
    {
      "cell_type": "code",
      "metadata": {
        "id": "juTg_fmfHNBc"
      },
      "source": [
        "train_target = OH_fit_transform(train['target'])\n",
        "val_target = OH_transform(val['target'])"
      ],
      "execution_count": 12,
      "outputs": []
    },
    {
      "cell_type": "code",
      "metadata": {
        "id": "eIC-BCKcHSVo"
      },
      "source": [
        "def build_lstm(hp):\n",
        "    model = Sequential()\n",
        "    model.add(Input(shape=(max_len)))\n",
        "    model.add(\n",
        "        Embedding(\n",
        "          num_words, hp.get('output_dim')\n",
        "        )\n",
        "    )\n",
        "    model.add(LSTM(hp.get('lstm_units')))\n",
        "    model.add(Dense(2, activation='softmax'))\n",
        "    model.compile(\n",
        "        optimizer=get_optimizer(hp.get('optimizer')),\n",
        "        loss='categorical_crossentropy',\n",
        "        metrics=[\n",
        "                 'accuracy',\n",
        "                 Precision(), \n",
        "                 Recall(),\n",
        "                 TruePositives(), \n",
        "                 TrueNegatives(), \n",
        "                 FalsePositives(),\n",
        "                 FalseNegatives()\n",
        "              ]\n",
        "          )\n",
        "    model.summary()\n",
        "    return model"
      ],
      "execution_count": 14,
      "outputs": []
    },
    {
      "cell_type": "code",
      "metadata": {
        "colab": {
          "base_uri": "https://localhost:8080/",
          "height": 35
        },
        "id": "_xmrlKv0Hh6V",
        "outputId": "0f00de11-3f48-452b-e0b9-05a8398c555e"
      },
      "source": [
        "hp = HyperParameters()\n",
        "hp.Int('output_dim', 16, 64, 16)\n",
        "hp.Choice('lstm_units', [2, 8, 16, 32, 64])\n",
        "hp.Choice('optimizer', optimizers)"
      ],
      "execution_count": 15,
      "outputs": [
        {
          "output_type": "execute_result",
          "data": {
            "application/vnd.google.colaboratory.intrinsic+json": {
              "type": "string"
            },
            "text/plain": [
              "'Adam'"
            ]
          },
          "metadata": {
            "tags": []
          },
          "execution_count": 15
        }
      ]
    },
    {
      "cell_type": "code",
      "metadata": {
        "colab": {
          "base_uri": "https://localhost:8080/"
        },
        "id": "kGbD7v8AHyy3",
        "outputId": "c22cdcd1-3ba5-4ab4-e223-757e313b6b4b"
      },
      "source": [
        "tuner = get_tuner(build_lstm,'/content/drive/MyDrive/sentiment/LSTM',\\\n",
        "                  'LSTM_B32',hp, 2, 2)"
      ],
      "execution_count": 17,
      "outputs": [
        {
          "output_type": "stream",
          "text": [
            "Model: \"sequential\"\n",
            "_________________________________________________________________\n",
            "Layer (type)                 Output Shape              Param #   \n",
            "=================================================================\n",
            "embedding (Embedding)        (None, 250, 16)           160000    \n",
            "_________________________________________________________________\n",
            "lstm (LSTM)                  (None, 2)                 152       \n",
            "_________________________________________________________________\n",
            "dense (Dense)                (None, 2)                 6         \n",
            "=================================================================\n",
            "Total params: 160,158\n",
            "Trainable params: 160,158\n",
            "Non-trainable params: 0\n",
            "_________________________________________________________________\n"
          ],
          "name": "stdout"
        }
      ]
    },
    {
      "cell_type": "markdown",
      "metadata": {
        "id": "AmmyyebHIXJj"
      },
      "source": [
        "## Train"
      ]
    },
    {
      "cell_type": "code",
      "metadata": {
        "colab": {
          "base_uri": "https://localhost:8080/"
        },
        "id": "2XUvwK6TIWyX",
        "outputId": "bc54a141-c99b-4886-8398-69b08032b5d1"
      },
      "source": [
        "history = tuner.search(\n",
        "    sequence_train,\n",
        "    train_target,\n",
        "    epochs=2,\n",
        "    validation_data=(sequence_val, val_target),\n",
        "    batch_size=32,\n",
        "    use_multiprocessing=True\n",
        ")"
      ],
      "execution_count": 18,
      "outputs": [
        {
          "output_type": "stream",
          "text": [
            "Trial 2 Complete [00h 11m 33s]\n",
            "val_loss: 0.1761021390557289\n",
            "\n",
            "Best val_loss So Far: 0.17160198092460632\n",
            "Total elapsed time: 00h 24m 21s\n",
            "INFO:tensorflow:Oracle triggered exit\n"
          ],
          "name": "stdout"
        }
      ]
    },
    {
      "cell_type": "markdown",
      "metadata": {
        "id": "wzzm8T3nPMAw"
      },
      "source": [
        "## Refit"
      ]
    },
    {
      "cell_type": "code",
      "metadata": {
        "colab": {
          "base_uri": "https://localhost:8080/"
        },
        "id": "lv1dnV5dPLND",
        "outputId": "14cd6593-fcd7-4674-ecc3-23b0e18525ab"
      },
      "source": [
        "best_model = tuner.get_best_models(num_models=1)[0]"
      ],
      "execution_count": 21,
      "outputs": [
        {
          "output_type": "stream",
          "text": [
            "WARNING:tensorflow:Unresolved object in checkpoint: (root).optimizer.iter\n",
            "WARNING:tensorflow:Unresolved object in checkpoint: (root).optimizer.decay\n",
            "WARNING:tensorflow:Unresolved object in checkpoint: (root).optimizer.learning_rate\n",
            "WARNING:tensorflow:Unresolved object in checkpoint: (root).optimizer.momentum\n",
            "WARNING:tensorflow:Unresolved object in checkpoint: (root).optimizer.rho\n",
            "WARNING:tensorflow:A checkpoint was restored (e.g. tf.train.Checkpoint.restore or tf.keras.Model.load_weights) but not all checkpointed values were used. See above for specific issues. Use expect_partial() on the load status object, e.g. tf.train.Checkpoint.restore(...).expect_partial(), to silence these warnings, or use assert_consumed() to make the check explicit. See https://www.tensorflow.org/guide/checkpoint#loading_mechanics for details.\n",
            "Model: \"sequential\"\n",
            "_________________________________________________________________\n",
            "Layer (type)                 Output Shape              Param #   \n",
            "=================================================================\n",
            "embedding (Embedding)        (None, 250, 64)           640000    \n",
            "_________________________________________________________________\n",
            "lstm (LSTM)                  (None, 64)                33024     \n",
            "_________________________________________________________________\n",
            "dense (Dense)                (None, 2)                 130       \n",
            "=================================================================\n",
            "Total params: 673,154\n",
            "Trainable params: 673,154\n",
            "Non-trainable params: 0\n",
            "_________________________________________________________________\n"
          ],
          "name": "stdout"
        }
      ]
    },
    {
      "cell_type": "code",
      "metadata": {
        "colab": {
          "base_uri": "https://localhost:8080/"
        },
        "id": "1yNRrXmePSRJ",
        "outputId": "9c504454-03ff-4695-8602-7a045a8e3d7c"
      },
      "source": [
        "best_model = get_model_from_config(\n",
        "    best_model,\n",
        "    get_optimizer(tuner.get_best_hyperparameters()[0].get('optimizer'))\n",
        ")"
      ],
      "execution_count": 22,
      "outputs": [
        {
          "output_type": "stream",
          "text": [
            "WARNING:tensorflow:Unresolved object in checkpoint: (root).optimizer.iter\n",
            "WARNING:tensorflow:Unresolved object in checkpoint: (root).optimizer.decay\n",
            "WARNING:tensorflow:Unresolved object in checkpoint: (root).optimizer.learning_rate\n",
            "WARNING:tensorflow:Unresolved object in checkpoint: (root).optimizer.momentum\n",
            "WARNING:tensorflow:Unresolved object in checkpoint: (root).optimizer.rho\n",
            "WARNING:tensorflow:A checkpoint was restored (e.g. tf.train.Checkpoint.restore or tf.keras.Model.load_weights) but not all checkpointed values were used. See above for specific issues. Use expect_partial() on the load status object, e.g. tf.train.Checkpoint.restore(...).expect_partial(), to silence these warnings, or use assert_consumed() to make the check explicit. See https://www.tensorflow.org/guide/checkpoint#loading_mechanics for details.\n"
          ],
          "name": "stdout"
        }
      ]
    },
    {
      "cell_type": "code",
      "metadata": {
        "id": "FzBsVh88PVty"
      },
      "source": [
        "cb = get_callbacks('lstm.h5')"
      ],
      "execution_count": 23,
      "outputs": []
    },
    {
      "cell_type": "code",
      "metadata": {
        "colab": {
          "base_uri": "https://localhost:8080/"
        },
        "id": "ukHyR5L_PZPO",
        "outputId": "d303c9f8-5e9c-4211-c6c7-dc02b0bbac12"
      },
      "source": [
        "history = best_model.fit(\n",
        "    sequence_train,\n",
        "    train_target,\n",
        "    validation_data=(sequence_val, val_target),\n",
        "    epochs=100,\n",
        "    callbacks=cb\n",
        ")"
      ],
      "execution_count": 24,
      "outputs": [
        {
          "output_type": "stream",
          "text": [
            "Epoch 1/100\n",
            "9563/9563 [==============================] - 193s 20ms/step - loss: 0.2958 - accuracy: 0.8773 - precision: 0.8773 - recall: 0.8773 - true_positives: 136944.9004 - true_negatives: 136944.9004 - false_positives: 16095.0904 - false_negatives: 16095.0904 - val_loss: 0.1865 - val_accuracy: 0.9284 - val_precision: 0.9284 - val_recall: 0.9284 - val_true_positives: 50133.0000 - val_true_negatives: 50133.0000 - val_false_positives: 3865.0000 - val_false_negatives: 3865.0000\n",
            "\n",
            "Epoch 00001: val_loss improved from inf to 0.18646, saving model to lstm.h5\n",
            "Epoch 2/100\n",
            "9563/9563 [==============================] - 195s 20ms/step - loss: 0.1789 - accuracy: 0.9322 - precision: 0.9322 - recall: 0.9322 - true_positives: 142685.3883 - true_negatives: 142685.3883 - false_positives: 10354.6025 - false_negatives: 10354.6025 - val_loss: 0.1685 - val_accuracy: 0.9342 - val_precision: 0.9342 - val_recall: 0.9342 - val_true_positives: 50443.0000 - val_true_negatives: 50443.0000 - val_false_positives: 3555.0000 - val_false_negatives: 3555.0000\n",
            "\n",
            "Epoch 00002: val_loss improved from 0.18646 to 0.16854, saving model to lstm.h5\n",
            "Epoch 3/100\n",
            "9563/9563 [==============================] - 196s 20ms/step - loss: 0.1633 - accuracy: 0.9389 - precision: 0.9389 - recall: 0.9389 - true_positives: 143706.2340 - true_negatives: 143706.2340 - false_positives: 9333.7568 - false_negatives: 9333.7568 - val_loss: 0.1702 - val_accuracy: 0.9374 - val_precision: 0.9374 - val_recall: 0.9374 - val_true_positives: 50617.0000 - val_true_negatives: 50617.0000 - val_false_positives: 3381.0000 - val_false_negatives: 3381.0000\n",
            "\n",
            "Epoch 00003: val_loss did not improve from 0.16854\n",
            "Epoch 4/100\n",
            "9563/9563 [==============================] - 196s 21ms/step - loss: 0.1539 - accuracy: 0.9432 - precision: 0.9432 - recall: 0.9432 - true_positives: 144291.8994 - true_negatives: 144291.8994 - false_positives: 8748.0914 - false_negatives: 8748.0914 - val_loss: 0.1635 - val_accuracy: 0.9398 - val_precision: 0.9398 - val_recall: 0.9398 - val_true_positives: 50748.0000 - val_true_negatives: 50748.0000 - val_false_positives: 3250.0000 - val_false_negatives: 3250.0000\n",
            "\n",
            "Epoch 00004: val_loss improved from 0.16854 to 0.16351, saving model to lstm.h5\n",
            "Epoch 5/100\n",
            "9563/9563 [==============================] - 197s 21ms/step - loss: 0.1496 - accuracy: 0.9456 - precision: 0.9456 - recall: 0.9456 - true_positives: 144706.1373 - true_negatives: 144706.1373 - false_positives: 8333.8535 - false_negatives: 8333.8535 - val_loss: 0.1621 - val_accuracy: 0.9398 - val_precision: 0.9398 - val_recall: 0.9398 - val_true_positives: 50745.0000 - val_true_negatives: 50745.0000 - val_false_positives: 3253.0000 - val_false_negatives: 3253.0000\n",
            "\n",
            "Epoch 00005: val_loss improved from 0.16351 to 0.16208, saving model to lstm.h5\n",
            "Epoch 6/100\n",
            "9563/9563 [==============================] - 198s 21ms/step - loss: 0.1449 - accuracy: 0.9474 - precision: 0.9474 - recall: 0.9474 - true_positives: 144965.4734 - true_negatives: 144965.4734 - false_positives: 8074.5174 - false_negatives: 8074.5174 - val_loss: 0.1614 - val_accuracy: 0.9408 - val_precision: 0.9408 - val_recall: 0.9408 - val_true_positives: 50804.0000 - val_true_negatives: 50804.0000 - val_false_positives: 3194.0000 - val_false_negatives: 3194.0000\n",
            "\n",
            "Epoch 00006: val_loss improved from 0.16208 to 0.16139, saving model to lstm.h5\n",
            "Epoch 7/100\n",
            "9563/9563 [==============================] - 192s 20ms/step - loss: 0.1398 - accuracy: 0.9499 - precision: 0.9499 - recall: 0.9499 - true_positives: 145301.6727 - true_negatives: 145301.6727 - false_positives: 7738.3181 - false_negatives: 7738.3181 - val_loss: 0.1625 - val_accuracy: 0.9419 - val_precision: 0.9419 - val_recall: 0.9419 - val_true_positives: 50859.0000 - val_true_negatives: 50859.0000 - val_false_positives: 3139.0000 - val_false_negatives: 3139.0000\n",
            "\n",
            "Epoch 00007: val_loss did not improve from 0.16139\n",
            "Epoch 8/100\n",
            "9563/9563 [==============================] - 189s 20ms/step - loss: 0.1367 - accuracy: 0.9509 - precision: 0.9509 - recall: 0.9509 - true_positives: 145469.6747 - true_negatives: 145469.6747 - false_positives: 7570.3161 - false_negatives: 7570.3161 - val_loss: 0.1703 - val_accuracy: 0.9396 - val_precision: 0.9396 - val_recall: 0.9396 - val_true_positives: 50734.0000 - val_true_negatives: 50734.0000 - val_false_positives: 3264.0000 - val_false_negatives: 3264.0000\n",
            "\n",
            "Epoch 00008: val_loss did not improve from 0.16139\n",
            "Epoch 9/100\n",
            "9563/9563 [==============================] - 189s 20ms/step - loss: 0.1334 - accuracy: 0.9525 - precision: 0.9525 - recall: 0.9525 - true_positives: 145726.5574 - true_negatives: 145726.5574 - false_positives: 7313.4334 - false_negatives: 7313.4334 - val_loss: 0.1681 - val_accuracy: 0.9401 - val_precision: 0.9401 - val_recall: 0.9401 - val_true_positives: 50762.0000 - val_true_negatives: 50762.0000 - val_false_positives: 3236.0000 - val_false_negatives: 3236.0000\n",
            "\n",
            "Epoch 00009: val_loss did not improve from 0.16139\n",
            "Epoch 10/100\n",
            "9563/9563 [==============================] - 192s 20ms/step - loss: 0.1300 - accuracy: 0.9540 - precision: 0.9540 - recall: 0.9540 - true_positives: 145912.6747 - true_negatives: 145912.6747 - false_positives: 7127.3161 - false_negatives: 7127.3161 - val_loss: 0.1659 - val_accuracy: 0.9393 - val_precision: 0.9393 - val_recall: 0.9393 - val_true_positives: 50720.0000 - val_true_negatives: 50720.0000 - val_false_positives: 3278.0000 - val_false_negatives: 3278.0000\n",
            "\n",
            "Epoch 00010: val_loss did not improve from 0.16139\n",
            "Epoch 11/100\n",
            "9563/9563 [==============================] - 190s 20ms/step - loss: 0.1271 - accuracy: 0.9553 - precision: 0.9553 - recall: 0.9553 - true_positives: 146176.5067 - true_negatives: 146176.5067 - false_positives: 6863.4841 - false_negatives: 6863.4841 - val_loss: 0.1655 - val_accuracy: 0.9396 - val_precision: 0.9396 - val_recall: 0.9396 - val_true_positives: 50735.0000 - val_true_negatives: 50735.0000 - val_false_positives: 3263.0000 - val_false_negatives: 3263.0000\n",
            "\n",
            "Epoch 00011: val_loss did not improve from 0.16139\n"
          ],
          "name": "stdout"
        }
      ]
    },
    {
      "cell_type": "code",
      "metadata": {
        "colab": {
          "base_uri": "https://localhost:8080/",
          "height": 282
        },
        "id": "n4Kag1FdPfOd",
        "outputId": "83954ca6-9293-4064-c608-a73f66a0ae86"
      },
      "source": [
        "metr = ['loss', 'accuracy', 'val_loss', 'val_accuracy']\n",
        "pd.DataFrame(history.history)[metr].plot()"
      ],
      "execution_count": 25,
      "outputs": [
        {
          "output_type": "execute_result",
          "data": {
            "text/plain": [
              "<matplotlib.axes._subplots.AxesSubplot at 0x7f841f329f50>"
            ]
          },
          "metadata": {
            "tags": []
          },
          "execution_count": 25
        },
        {
          "output_type": "display_data",
          "data": {
            "image/png": "[encoded data removed]",
            "text/plain": [
              "<Figure size 432x288 with 1 Axes>"
            ]
          },
          "metadata": {
            "tags": [],
            "needs_background": "light"
          }
        }
      ]
    },
    {
      "cell_type": "code",
      "metadata": {
        "id": "WBCghvPqYEom"
      },
      "source": [
        "# dump(history.history,'/content/drive/MyDrive/sentiment/LSTM/LSTM_B32/history.pickle')\n",
        "# dump(tokenizer,'/content/drive/MyDrive/sentiment/LSTM/LSTM_B32/tokenizer.pickle')"
      ],
      "execution_count": 26,
      "outputs": []
    },
    {
      "cell_type": "markdown",
      "metadata": {
        "id": "oLG_iZzcOmf8"
      },
      "source": [
        "# Test"
      ]
    },
    {
      "cell_type": "code",
      "metadata": {
        "id": "BEqppz-7Oxml"
      },
      "source": [
        "sequence_test = get_sequences(tokenizer, max_len, test['text'])\n",
        "test_target = OH_transform(test['target'])"
      ],
      "execution_count": 19,
      "outputs": []
    },
    {
      "cell_type": "code",
      "metadata": {
        "colab": {
          "base_uri": "https://localhost:8080/",
          "height": 810
        },
        "id": "hk5JDeK1OkOY",
        "outputId": "a1ce4884-03ab-455d-d5de-31ecf09cc906"
      },
      "source": [
        "model_evaluate(tuner.get_best_models(num_models=1)[0], sequence_test, \\\n",
        "               test_target, 32)"
      ],
      "execution_count": 20,
      "outputs": [
        {
          "output_type": "stream",
          "text": [
            "Model: \"sequential\"\n",
            "_________________________________________________________________\n",
            "Layer (type)                 Output Shape              Param #   \n",
            "=================================================================\n",
            "embedding (Embedding)        (None, 250, 64)           640000    \n",
            "_________________________________________________________________\n",
            "lstm (LSTM)                  (None, 64)                33024     \n",
            "_________________________________________________________________\n",
            "dense (Dense)                (None, 2)                 130       \n",
            "=================================================================\n",
            "Total params: 673,154\n",
            "Trainable params: 673,154\n",
            "Non-trainable params: 0\n",
            "_________________________________________________________________\n"
          ],
          "name": "stdout"
        },
        {
          "output_type": "stream",
          "text": [
            "/usr/local/lib/python3.7/dist-packages/tensorflow/python/keras/engine/sequential.py:450: UserWarning: `model.predict_classes()` is deprecated and will be removed after 2021-01-01. Please use instead:* `np.argmax(model.predict(x), axis=-1)`,   if your model does multi-class classification   (e.g. if it uses a `softmax` last-layer activation).* `(model.predict(x) > 0.5).astype(\"int32\")`,   if your model does binary classification   (e.g. if it uses a `sigmoid` last-layer activation).\n",
            "  warnings.warn('`model.predict_classes()` is deprecated and '\n"
          ],
          "name": "stderr"
        },
        {
          "output_type": "stream",
          "text": [
            "625/625 [==============================] - 4s 5ms/step\n",
            "Accuracy:\t93.5%\n",
            "\n",
            "\n",
            "              precision    recall  f1-score   support\n",
            "\n",
            "           0       0.93      0.94      0.94     10000\n",
            "           1       0.94      0.93      0.94     10000\n",
            "\n",
            "    accuracy                           0.94     20000\n",
            "   macro avg       0.94      0.94      0.94     20000\n",
            "weighted avg       0.94      0.94      0.94     20000\n",
            "\n"
          ],
          "name": "stdout"
        },
        {
          "output_type": "display_data",
          "data": {
            "image/png": "[encoded data removed]",
            "text/plain": [
              "<Figure size 288x288 with 1 Axes>"
            ]
          },
          "metadata": {
            "tags": [],
            "needs_background": "light"
          }
        }
      ]
    },
    {
      "cell_type": "code",
      "metadata": {
        "colab": {
          "base_uri": "https://localhost:8080/",
          "height": 572
        },
        "id": "PjYrsxWGYQnl",
        "outputId": "07462297-4087-4510-c30f-3a3468f93393"
      },
      "source": [
        "model_evaluate(best_model, sequence_test, \\\n",
        "               test_target, 32)"
      ],
      "execution_count": 27,
      "outputs": [
        {
          "output_type": "stream",
          "text": [
            "/usr/local/lib/python3.7/dist-packages/tensorflow/python/keras/engine/sequential.py:450: UserWarning: `model.predict_classes()` is deprecated and will be removed after 2021-01-01. Please use instead:* `np.argmax(model.predict(x), axis=-1)`,   if your model does multi-class classification   (e.g. if it uses a `softmax` last-layer activation).* `(model.predict(x) > 0.5).astype(\"int32\")`,   if your model does binary classification   (e.g. if it uses a `sigmoid` last-layer activation).\n",
            "  warnings.warn('`model.predict_classes()` is deprecated and '\n"
          ],
          "name": "stderr"
        },
        {
          "output_type": "stream",
          "text": [
            "625/625 [==============================] - 4s 5ms/step\n",
            "Accuracy:\t93.9%\n",
            "\n",
            "\n",
            "              precision    recall  f1-score   support\n",
            "\n",
            "           0       0.93      0.94      0.94     10000\n",
            "           1       0.94      0.93      0.94     10000\n",
            "\n",
            "    accuracy                           0.94     20000\n",
            "   macro avg       0.94      0.94      0.94     20000\n",
            "weighted avg       0.94      0.94      0.94     20000\n",
            "\n"
          ],
          "name": "stdout"
        },
        {
          "output_type": "display_data",
          "data": {
            "image/png": "[encoded data removed]",
            "text/plain": [
              "<Figure size 288x288 with 1 Axes>"
            ]
          },
          "metadata": {
            "tags": [],
            "needs_background": "light"
          }
        }
      ]
    }
  ]
}