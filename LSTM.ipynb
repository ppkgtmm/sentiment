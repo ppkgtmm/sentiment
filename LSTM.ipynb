{
  "nbformat": 4,
  "nbformat_minor": 0,
  "metadata": {
    "colab": {
      "name": "LSTM.ipynb",
      "provenance": [],
      "collapsed_sections": [],
      "mount_file_id": "1Pg_j3dqIbeXvk1IoFEc_fmM_WeiwaKFf",
      "authorship_tag": "ABX9TyP4Dv5sFAlgRZ3tVEWqqef2",
      "include_colab_link": true
    },
    "kernelspec": {
      "name": "python3",
      "display_name": "Python 3"
    },
    "accelerator": "GPU"
  },
  "cells": [
    {
      "cell_type": "markdown",
      "metadata": {
        "id": "view-in-github",
        "colab_type": "text"
      },
      "source": [
        "<a href=\"https://colab.research.google.com/github/ppkgtmm/sentiment/blob/GRU2/LSTM.ipynb\" target=\"_parent\"><img src=\"https://colab.research.google.com/assets/colab-badge.svg\" alt=\"Open In Colab\"/></a>"
      ]
    },
    {
      "cell_type": "code",
      "metadata": {
        "id": "GKD3XHVhDdR4"
      },
      "source": [
        "# !pip install keras-tuner\n",
        "# !rm -r sentiment\n",
        "# !git clone --branch utils https://github.com/ppkgtmm/sentiment.git sentiment"
      ],
      "execution_count": 4,
      "outputs": []
    },
    {
      "cell_type": "code",
      "metadata": {
        "id": "X7wkwrNRGv27"
      },
      "source": [
        "import pandas as pd\n",
        "from keras.preprocessing.text import  Tokenizer\n",
        "from keras.layers import Input, Dense, Embedding, LSTM\n",
        "from keras.models import Sequential\n",
        "from keras.metrics import Precision, Recall, FalseNegatives, \\\n",
        "FalsePositives, TrueNegatives, TruePositives\n",
        "from kerastuner import HyperParameters\n",
        "import matplotlib.pyplot as plt\n",
        "from sentiment.utils import read_data, get_optimizer, get_sequences, split_data\n",
        "from sentiment.utils import get_tuner, get_model_from_config, get_callbacks\n",
        "from sentiment.utils import OH_fit_transform, OH_transform, load, dump, \\\n",
        "model_evaluate"
      ],
      "execution_count": 5,
      "outputs": []
    },
    {
      "cell_type": "code",
      "metadata": {
        "id": "BQozBV-9GzEM"
      },
      "source": [
        "cols = ['text', 'target']\n",
        "data_path = '/content/drive/MyDrive/sentiment/data/data_preprocessed.csv'\n",
        "test_path = '/content/drive/MyDrive/sentiment/data/test_data_preprocessed.csv'\n",
        "seed = 123456\n",
        "num_words = 10000\n",
        "max_len = 250\n",
        "optimizers = [\n",
        "           'Adam',\n",
        "           'RMSprop'   \n",
        "]"
      ],
      "execution_count": 6,
      "outputs": []
    },
    {
      "cell_type": "code",
      "metadata": {
        "colab": {
          "base_uri": "https://localhost:8080/",
          "height": 204
        },
        "id": "4I98hhLLG3VM",
        "outputId": "21525a46-984a-4b01-8e1d-82161fa3d76d"
      },
      "source": [
        "data = read_data(data_path,cols)\n",
        "data.sample(5)"
      ],
      "execution_count": 7,
      "outputs": [
        {
          "output_type": "execute_result",
          "data": {
            "text/html": [
              "<div>\n",
              "<style scoped>\n",
              "    .dataframe tbody tr th:only-of-type {\n",
              "        vertical-align: middle;\n",
              "    }\n",
              "\n",
              "    .dataframe tbody tr th {\n",
              "        vertical-align: top;\n",
              "    }\n",
              "\n",
              "    .dataframe thead th {\n",
              "        text-align: right;\n",
              "    }\n",
              "</style>\n",
              "<table border=\"1\" class=\"dataframe\">\n",
              "  <thead>\n",
              "    <tr style=\"text-align: right;\">\n",
              "      <th></th>\n",
              "      <th>text</th>\n",
              "      <th>target</th>\n",
              "    </tr>\n",
              "  </thead>\n",
              "  <tbody>\n",
              "    <tr>\n",
              "      <th>328363</th>\n",
              "      <td>good product have not got to use it yet but it...</td>\n",
              "      <td>1</td>\n",
              "    </tr>\n",
              "    <tr>\n",
              "      <th>352010</th>\n",
              "      <td>where is the original version of fool this is ...</td>\n",
              "      <td>0</td>\n",
              "    </tr>\n",
              "    <tr>\n",
              "      <th>328869</th>\n",
              "      <td>finally a face to put with the great music the...</td>\n",
              "      <td>1</td>\n",
              "    </tr>\n",
              "    <tr>\n",
              "      <th>44898</th>\n",
              "      <td>lars is a scary genius lars von trier is a pro...</td>\n",
              "      <td>1</td>\n",
              "    </tr>\n",
              "    <tr>\n",
              "      <th>352160</th>\n",
              "      <td>poor performance being a bryan duncan fan i ea...</td>\n",
              "      <td>0</td>\n",
              "    </tr>\n",
              "  </tbody>\n",
              "</table>\n",
              "</div>"
            ],
            "text/plain": [
              "                                                     text  target\n",
              "328363  good product have not got to use it yet but it...       1\n",
              "352010  where is the original version of fool this is ...       0\n",
              "328869  finally a face to put with the great music the...       1\n",
              "44898   lars is a scary genius lars von trier is a pro...       1\n",
              "352160  poor performance being a bryan duncan fan i ea...       0"
            ]
          },
          "metadata": {
            "tags": []
          },
          "execution_count": 7
        }
      ]
    },
    {
      "cell_type": "code",
      "metadata": {
        "colab": {
          "base_uri": "https://localhost:8080/",
          "height": 204
        },
        "id": "4kBFjeMUG9wp",
        "outputId": "927951b3-b5df-4ce8-9564-1afd74ffb4c2"
      },
      "source": [
        "test = read_data(test_path, cols)\n",
        "test.sample(5)"
      ],
      "execution_count": 8,
      "outputs": [
        {
          "output_type": "execute_result",
          "data": {
            "text/html": [
              "<div>\n",
              "<style scoped>\n",
              "    .dataframe tbody tr th:only-of-type {\n",
              "        vertical-align: middle;\n",
              "    }\n",
              "\n",
              "    .dataframe tbody tr th {\n",
              "        vertical-align: top;\n",
              "    }\n",
              "\n",
              "    .dataframe thead th {\n",
              "        text-align: right;\n",
              "    }\n",
              "</style>\n",
              "<table border=\"1\" class=\"dataframe\">\n",
              "  <thead>\n",
              "    <tr style=\"text-align: right;\">\n",
              "      <th></th>\n",
              "      <th>text</th>\n",
              "      <th>target</th>\n",
              "    </tr>\n",
              "  </thead>\n",
              "  <tbody>\n",
              "    <tr>\n",
              "      <th>9331</th>\n",
              "      <td>should not be listed in this category these ar...</td>\n",
              "      <td>0</td>\n",
              "    </tr>\n",
              "    <tr>\n",
              "      <th>16982</th>\n",
              "      <td>interesting look at tolstoy last days this is ...</td>\n",
              "      <td>1</td>\n",
              "    </tr>\n",
              "    <tr>\n",
              "      <th>16586</th>\n",
              "      <td>dating without novacaine was a numbing experie...</td>\n",
              "      <td>0</td>\n",
              "    </tr>\n",
              "    <tr>\n",
              "      <th>15413</th>\n",
              "      <td>soldiers live fantastic journey i started read...</td>\n",
              "      <td>1</td>\n",
              "    </tr>\n",
              "    <tr>\n",
              "      <th>2248</th>\n",
              "      <td>great these swatches are great for matching co...</td>\n",
              "      <td>1</td>\n",
              "    </tr>\n",
              "  </tbody>\n",
              "</table>\n",
              "</div>"
            ],
            "text/plain": [
              "                                                    text  target\n",
              "9331   should not be listed in this category these ar...       0\n",
              "16982  interesting look at tolstoy last days this is ...       1\n",
              "16586  dating without novacaine was a numbing experie...       0\n",
              "15413  soldiers live fantastic journey i started read...       1\n",
              "2248   great these swatches are great for matching co...       1"
            ]
          },
          "metadata": {
            "tags": []
          },
          "execution_count": 8
        }
      ]
    },
    {
      "cell_type": "code",
      "metadata": {
        "id": "-75M8DNyHBKc"
      },
      "source": [
        "train, val = split_data(data)"
      ],
      "execution_count": 9,
      "outputs": []
    },
    {
      "cell_type": "code",
      "metadata": {
        "id": "OpU0qNAUHD7e"
      },
      "source": [
        "tokenizer = Tokenizer(num_words=num_words, oov_token='OOV')\n",
        "tokenizer.fit_on_texts(train['text'])"
      ],
      "execution_count": 10,
      "outputs": []
    },
    {
      "cell_type": "code",
      "metadata": {
        "id": "Bnpsjt2DHHmq"
      },
      "source": [
        "sequence_train = get_sequences(tokenizer, max_len, train['text'])\n",
        "sequence_val = get_sequences(tokenizer, max_len, val['text'])"
      ],
      "execution_count": 11,
      "outputs": []
    },
    {
      "cell_type": "code",
      "metadata": {
        "colab": {
          "base_uri": "https://localhost:8080/"
        },
        "id": "0r1MNBWNHKw0",
        "outputId": "8b5f6894-40b8-4745-8ec9-37206fedb4f1"
      },
      "source": [
        "print(val['target'].unique(), train['target'].unique())"
      ],
      "execution_count": 12,
      "outputs": [
        {
          "output_type": "stream",
          "text": [
            "[1 0] [0 1]\n"
          ],
          "name": "stdout"
        }
      ]
    },
    {
      "cell_type": "code",
      "metadata": {
        "id": "juTg_fmfHNBc"
      },
      "source": [
        "train_target = OH_fit_transform(train['target'])\n",
        "val_target = OH_transform(val['target'])"
      ],
      "execution_count": 13,
      "outputs": []
    },
    {
      "cell_type": "code",
      "metadata": {
        "id": "eIC-BCKcHSVo"
      },
      "source": [
        "def build_lstm(hp):\n",
        "    model = Sequential()\n",
        "    model.add(Input(shape=(max_len)))\n",
        "    model.add(\n",
        "        Embedding(\n",
        "          num_words, hp.get('output_dim')\n",
        "        )\n",
        "    )\n",
        "    model.add(LSTM(2 ** hp.get('log2_units')))\n",
        "    model.add(Dense(2, activation='softmax'))\n",
        "    model.compile(\n",
        "        optimizer=get_optimizer(hp.get('optimizer')),\n",
        "        loss='categorical_crossentropy',\n",
        "        metrics=[\n",
        "                 'accuracy',\n",
        "                 Precision(), \n",
        "                 Recall(),\n",
        "                 TruePositives(), \n",
        "                 TrueNegatives(), \n",
        "                 FalsePositives(),\n",
        "                 FalseNegatives()\n",
        "              ]\n",
        "          )\n",
        "    model.summary()\n",
        "    return model"
      ],
      "execution_count": 14,
      "outputs": []
    },
    {
      "cell_type": "code",
      "metadata": {
        "colab": {
          "base_uri": "https://localhost:8080/",
          "height": 35
        },
        "id": "_xmrlKv0Hh6V",
        "outputId": "e451953e-f795-4db2-ceb6-f2f780f04a93"
      },
      "source": [
        "hp = HyperParameters()\n",
        "hp.Int('output_dim', 16, 64, 16)\n",
        "hp.Int('log2_units', 3, 7, 1)\n",
        "hp.Choice('optimizer', optimizers)"
      ],
      "execution_count": 15,
      "outputs": [
        {
          "output_type": "execute_result",
          "data": {
            "application/vnd.google.colaboratory.intrinsic+json": {
              "type": "string"
            },
            "text/plain": [
              "'Adam'"
            ]
          },
          "metadata": {
            "tags": []
          },
          "execution_count": 15
        }
      ]
    },
    {
      "cell_type": "code",
      "metadata": {
        "colab": {
          "base_uri": "https://localhost:8080/"
        },
        "id": "kGbD7v8AHyy3",
        "outputId": "d31bc863-6981-4d99-c8c4-cb797ca7f236"
      },
      "source": [
        "tuner = get_tuner(build_lstm,'/content/drive/MyDrive/sentiment/LSTM',\\\n",
        "                  'LSTM_FIN_B32',hp, 1, 2)"
      ],
      "execution_count": 16,
      "outputs": [
        {
          "output_type": "stream",
          "text": [
            "Model: \"sequential\"\n",
            "_________________________________________________________________\n",
            "Layer (type)                 Output Shape              Param #   \n",
            "=================================================================\n",
            "embedding (Embedding)        (None, 250, 16)           160000    \n",
            "_________________________________________________________________\n",
            "lstm (LSTM)                  (None, 8)                 800       \n",
            "_________________________________________________________________\n",
            "dense (Dense)                (None, 2)                 18        \n",
            "=================================================================\n",
            "Total params: 160,818\n",
            "Trainable params: 160,818\n",
            "Non-trainable params: 0\n",
            "_________________________________________________________________\n"
          ],
          "name": "stdout"
        }
      ]
    },
    {
      "cell_type": "markdown",
      "metadata": {
        "id": "AmmyyebHIXJj"
      },
      "source": [
        "## Train"
      ]
    },
    {
      "cell_type": "code",
      "metadata": {
        "colab": {
          "base_uri": "https://localhost:8080/"
        },
        "id": "2XUvwK6TIWyX",
        "outputId": "3a84611c-ca7d-4e05-9647-8683c421d1e1"
      },
      "source": [
        "history = tuner.search(\n",
        "    sequence_train,\n",
        "    train_target,\n",
        "    epochs=1,\n",
        "    validation_data=(sequence_val, val_target),\n",
        "    batch_size=32,\n",
        "    use_multiprocessing=True\n",
        ")"
      ],
      "execution_count": 17,
      "outputs": [
        {
          "output_type": "stream",
          "text": [
            "Trial 1 Complete [00h 15m 19s]\n",
            "val_loss: 0.1969956010580063\n",
            "\n",
            "Best val_loss So Far: 0.1969956010580063\n",
            "Total elapsed time: 00h 15m 19s\n",
            "INFO:tensorflow:Oracle triggered exit\n"
          ],
          "name": "stdout"
        }
      ]
    },
    {
      "cell_type": "markdown",
      "metadata": {
        "id": "wzzm8T3nPMAw"
      },
      "source": [
        "## Refit"
      ]
    },
    {
      "cell_type": "code",
      "metadata": {
        "colab": {
          "base_uri": "https://localhost:8080/"
        },
        "id": "lv1dnV5dPLND",
        "outputId": "33c31286-20f8-4081-9f77-5735137c0c70"
      },
      "source": [
        "best_model = tuner.get_best_models(num_models=1)[0]"
      ],
      "execution_count": 18,
      "outputs": [
        {
          "output_type": "stream",
          "text": [
            "Model: \"sequential\"\n",
            "_________________________________________________________________\n",
            "Layer (type)                 Output Shape              Param #   \n",
            "=================================================================\n",
            "embedding (Embedding)        (None, 250, 16)           160000    \n",
            "_________________________________________________________________\n",
            "lstm (LSTM)                  (None, 32)                6272      \n",
            "_________________________________________________________________\n",
            "dense (Dense)                (None, 2)                 66        \n",
            "=================================================================\n",
            "Total params: 166,338\n",
            "Trainable params: 166,338\n",
            "Non-trainable params: 0\n",
            "_________________________________________________________________\n"
          ],
          "name": "stdout"
        }
      ]
    },
    {
      "cell_type": "code",
      "metadata": {
        "colab": {
          "base_uri": "https://localhost:8080/"
        },
        "id": "1yNRrXmePSRJ",
        "outputId": "00fbc053-f71d-40d7-8b4c-88608e958f3e"
      },
      "source": [
        "best_model = get_model_from_config(\n",
        "    best_model,\n",
        "    get_optimizer(tuner.get_best_hyperparameters()[0].get('optimizer'))\n",
        ")"
      ],
      "execution_count": 19,
      "outputs": [
        {
          "output_type": "stream",
          "text": [
            "WARNING:tensorflow:Unresolved object in checkpoint: (root).optimizer.iter\n",
            "WARNING:tensorflow:Unresolved object in checkpoint: (root).optimizer.beta_1\n",
            "WARNING:tensorflow:Unresolved object in checkpoint: (root).optimizer.beta_2\n",
            "WARNING:tensorflow:Unresolved object in checkpoint: (root).optimizer.decay\n",
            "WARNING:tensorflow:Unresolved object in checkpoint: (root).optimizer.learning_rate\n",
            "WARNING:tensorflow:A checkpoint was restored (e.g. tf.train.Checkpoint.restore or tf.keras.Model.load_weights) but not all checkpointed values were used. See above for specific issues. Use expect_partial() on the load status object, e.g. tf.train.Checkpoint.restore(...).expect_partial(), to silence these warnings, or use assert_consumed() to make the check explicit. See https://www.tensorflow.org/guide/checkpoint#loading_mechanics for details.\n"
          ],
          "name": "stdout"
        }
      ]
    },
    {
      "cell_type": "code",
      "metadata": {
        "id": "FzBsVh88PVty"
      },
      "source": [
        "cb = get_callbacks('lstm.h5')"
      ],
      "execution_count": 20,
      "outputs": []
    },
    {
      "cell_type": "code",
      "metadata": {
        "colab": {
          "base_uri": "https://localhost:8080/"
        },
        "id": "ukHyR5L_PZPO",
        "outputId": "a0b710ca-db00-4ca0-c205-6b51b7488581"
      },
      "source": [
        "history = best_model.fit(\n",
        "    sequence_train,\n",
        "    train_target,\n",
        "    validation_data=(sequence_val, val_target),\n",
        "    epochs=10,\n",
        "    callbacks=cb\n",
        ")"
      ],
      "execution_count": 21,
      "outputs": [
        {
          "output_type": "stream",
          "text": [
            "Epoch 1/10\n",
            "9563/9563 [==============================] - 444s 46ms/step - loss: 0.3084 - accuracy: 0.8652 - precision: 0.8652 - recall: 0.8652 - true_positives: 135624.7379 - true_negatives: 135624.7379 - false_positives: 17415.2529 - false_negatives: 17415.2529 - val_loss: 0.1974 - val_accuracy: 0.9248 - val_precision: 0.9248 - val_recall: 0.9248 - val_true_positives: 49940.0000 - val_true_negatives: 49940.0000 - val_false_positives: 4058.0000 - val_false_negatives: 4058.0000\n",
            "\n",
            "Epoch 00001: val_loss improved from inf to 0.19736, saving model to lstm.h5\n",
            "Epoch 2/10\n",
            "9563/9563 [==============================] - 446s 47ms/step - loss: 0.1709 - accuracy: 0.9359 - precision: 0.9359 - recall: 0.9359 - true_positives: 143118.6346 - true_negatives: 143118.6346 - false_positives: 9921.3562 - false_negatives: 9921.3562 - val_loss: 0.1794 - val_accuracy: 0.9324 - val_precision: 0.9324 - val_recall: 0.9324 - val_true_positives: 50347.0000 - val_true_negatives: 50347.0000 - val_false_positives: 3651.0000 - val_false_negatives: 3651.0000\n",
            "\n",
            "Epoch 00002: val_loss improved from 0.19736 to 0.17941, saving model to lstm.h5\n",
            "Epoch 3/10\n",
            "9563/9563 [==============================] - 447s 47ms/step - loss: 0.1480 - accuracy: 0.9454 - precision: 0.9454 - recall: 0.9454 - true_positives: 144640.6050 - true_negatives: 144640.6050 - false_positives: 8399.3858 - false_negatives: 8399.3858 - val_loss: 0.1759 - val_accuracy: 0.9341 - val_precision: 0.9341 - val_recall: 0.9341 - val_true_positives: 50442.0000 - val_true_negatives: 50442.0000 - val_false_positives: 3556.0000 - val_false_negatives: 3556.0000\n",
            "\n",
            "Epoch 00003: val_loss improved from 0.17941 to 0.17592, saving model to lstm.h5\n",
            "Epoch 4/10\n",
            "9563/9563 [==============================] - 449s 47ms/step - loss: 0.1290 - accuracy: 0.9533 - precision: 0.9533 - recall: 0.9533 - true_positives: 145761.9940 - true_negatives: 145761.9940 - false_positives: 7277.9968 - false_negatives: 7277.9968 - val_loss: 0.1860 - val_accuracy: 0.9310 - val_precision: 0.9310 - val_recall: 0.9310 - val_true_positives: 50274.0000 - val_true_negatives: 50274.0000 - val_false_positives: 3724.0000 - val_false_negatives: 3724.0000\n",
            "\n",
            "Epoch 00004: val_loss did not improve from 0.17592\n",
            "Epoch 5/10\n",
            "9563/9563 [==============================] - 447s 47ms/step - loss: 0.1123 - accuracy: 0.9598 - precision: 0.9598 - recall: 0.9598 - true_positives: 146756.4632 - true_negatives: 146756.4632 - false_positives: 6283.5276 - false_negatives: 6283.5276 - val_loss: 0.1837 - val_accuracy: 0.9320 - val_precision: 0.9320 - val_recall: 0.9320 - val_true_positives: 50325.0000 - val_true_negatives: 50325.0000 - val_false_positives: 3673.0000 - val_false_negatives: 3673.0000\n",
            "\n",
            "Epoch 00005: val_loss did not improve from 0.17592\n",
            "Epoch 6/10\n",
            "9563/9563 [==============================] - 447s 47ms/step - loss: 0.1014 - accuracy: 0.9648 - precision: 0.9648 - recall: 0.9648 - true_positives: 147551.5177 - true_negatives: 147551.5177 - false_positives: 5488.4731 - false_negatives: 5488.4731 - val_loss: 0.1966 - val_accuracy: 0.9326 - val_precision: 0.9326 - val_recall: 0.9326 - val_true_positives: 50356.0000 - val_true_negatives: 50356.0000 - val_false_positives: 3642.0000 - val_false_negatives: 3642.0000\n",
            "\n",
            "Epoch 00006: val_loss did not improve from 0.17592\n",
            "Epoch 7/10\n",
            "9563/9563 [==============================] - 438s 46ms/step - loss: 0.0874 - accuracy: 0.9698 - precision: 0.9698 - recall: 0.9698 - true_positives: 148303.0840 - true_negatives: 148303.0840 - false_positives: 4736.9068 - false_negatives: 4736.9068 - val_loss: 0.2122 - val_accuracy: 0.9298 - val_precision: 0.9298 - val_recall: 0.9298 - val_true_positives: 50205.0000 - val_true_negatives: 50205.0000 - val_false_positives: 3793.0000 - val_false_negatives: 3793.0000\n",
            "\n",
            "Epoch 00007: val_loss did not improve from 0.17592\n",
            "Epoch 8/10\n",
            "9563/9563 [==============================] - 436s 46ms/step - loss: 0.0780 - accuracy: 0.9739 - precision: 0.9739 - recall: 0.9739 - true_positives: 148880.3953 - true_negatives: 148880.3953 - false_positives: 4159.5955 - false_negatives: 4159.5955 - val_loss: 0.2190 - val_accuracy: 0.9267 - val_precision: 0.9267 - val_recall: 0.9267 - val_true_positives: 50038.0000 - val_true_negatives: 50038.0000 - val_false_positives: 3960.0000 - val_false_negatives: 3960.0000\n",
            "\n",
            "Epoch 00008: val_loss did not improve from 0.17592\n"
          ],
          "name": "stdout"
        }
      ]
    },
    {
      "cell_type": "code",
      "metadata": {
        "colab": {
          "base_uri": "https://localhost:8080/",
          "height": 283
        },
        "id": "n4Kag1FdPfOd",
        "outputId": "c693985a-0233-4c97-9b66-7c8aa8577534"
      },
      "source": [
        "metr = ['loss', 'accuracy', 'val_loss', 'val_accuracy']\n",
        "pd.DataFrame(history.history)[metr].plot()"
      ],
      "execution_count": 22,
      "outputs": [
        {
          "output_type": "execute_result",
          "data": {
            "text/plain": [
              "<matplotlib.axes._subplots.AxesSubplot at 0x7f9700e15b10>"
            ]
          },
          "metadata": {
            "tags": []
          },
          "execution_count": 22
        },
        {
          "output_type": "display_data",
          "data": {
            "image/png": "[encoded data removed]",
            "text/plain": [
              "<Figure size 432x288 with 1 Axes>"
            ]
          },
          "metadata": {
            "tags": [],
            "needs_background": "light"
          }
        }
      ]
    },
    {
      "cell_type": "code",
      "metadata": {
        "id": "WBCghvPqYEom"
      },
      "source": [
        "# dump(history.history,'/content/drive/MyDrive/sentiment/LSTM/LSTM_FIN_B32/history.pickle')\n",
        "# dump(tokenizer,'/content/drive/MyDrive/sentiment/LSTM/LSTM_FIN_B32/tokenizer.pickle')"
      ],
      "execution_count": 23,
      "outputs": []
    },
    {
      "cell_type": "markdown",
      "metadata": {
        "id": "oLG_iZzcOmf8"
      },
      "source": [
        "# Test"
      ]
    },
    {
      "cell_type": "code",
      "metadata": {
        "id": "BEqppz-7Oxml"
      },
      "source": [
        "sequence_test = get_sequences(tokenizer, max_len, test['text'])\n",
        "test_target = OH_transform(test['target'])"
      ],
      "execution_count": 24,
      "outputs": []
    },
    {
      "cell_type": "code",
      "metadata": {
        "colab": {
          "base_uri": "https://localhost:8080/",
          "height": 810
        },
        "id": "hk5JDeK1OkOY",
        "outputId": "984380db-3478-435a-90d7-636d5579c413"
      },
      "source": [
        "model_evaluate(tuner.get_best_models(num_models=1)[0], sequence_test, \\\n",
        "               test_target, 32)"
      ],
      "execution_count": 25,
      "outputs": [
        {
          "output_type": "stream",
          "text": [
            "Model: \"sequential\"\n",
            "_________________________________________________________________\n",
            "Layer (type)                 Output Shape              Param #   \n",
            "=================================================================\n",
            "embedding (Embedding)        (None, 250, 16)           160000    \n",
            "_________________________________________________________________\n",
            "lstm (LSTM)                  (None, 32)                6272      \n",
            "_________________________________________________________________\n",
            "dense (Dense)                (None, 2)                 66        \n",
            "=================================================================\n",
            "Total params: 166,338\n",
            "Trainable params: 166,338\n",
            "Non-trainable params: 0\n",
            "_________________________________________________________________\n"
          ],
          "name": "stdout"
        },
        {
          "output_type": "stream",
          "text": [
            "/usr/local/lib/python3.7/dist-packages/tensorflow/python/keras/engine/sequential.py:450: UserWarning: `model.predict_classes()` is deprecated and will be removed after 2021-01-01. Please use instead:* `np.argmax(model.predict(x), axis=-1)`,   if your model does multi-class classification   (e.g. if it uses a `softmax` last-layer activation).* `(model.predict(x) > 0.5).astype(\"int32\")`,   if your model does binary classification   (e.g. if it uses a `sigmoid` last-layer activation).\n",
            "  warnings.warn('`model.predict_classes()` is deprecated and '\n"
          ],
          "name": "stderr"
        },
        {
          "output_type": "stream",
          "text": [
            "625/625 [==============================] - 9s 14ms/step\n",
            "Accuracy:\t92.2%\n",
            "\n",
            "\n",
            "              precision    recall  f1-score   support\n",
            "\n",
            "           0       0.89      0.96      0.93     10000\n",
            "           1       0.96      0.89      0.92     10000\n",
            "\n",
            "    accuracy                           0.92     20000\n",
            "   macro avg       0.92      0.92      0.92     20000\n",
            "weighted avg       0.92      0.92      0.92     20000\n",
            "\n"
          ],
          "name": "stdout"
        },
        {
          "output_type": "display_data",
          "data": {
            "image/png": "[encoded data removed]",
            "text/plain": [
              "<Figure size 288x288 with 1 Axes>"
            ]
          },
          "metadata": {
            "tags": [],
            "needs_background": "light"
          }
        }
      ]
    },
    {
      "cell_type": "code",
      "metadata": {
        "colab": {
          "base_uri": "https://localhost:8080/",
          "height": 572
        },
        "id": "PjYrsxWGYQnl",
        "outputId": "67447013-bd9c-468b-96c3-a2141b0e672d"
      },
      "source": [
        "model_evaluate(best_model, sequence_test, \\\n",
        "               test_target, 32)"
      ],
      "execution_count": 26,
      "outputs": [
        {
          "output_type": "stream",
          "text": [
            "/usr/local/lib/python3.7/dist-packages/tensorflow/python/keras/engine/sequential.py:450: UserWarning: `model.predict_classes()` is deprecated and will be removed after 2021-01-01. Please use instead:* `np.argmax(model.predict(x), axis=-1)`,   if your model does multi-class classification   (e.g. if it uses a `softmax` last-layer activation).* `(model.predict(x) > 0.5).astype(\"int32\")`,   if your model does binary classification   (e.g. if it uses a `sigmoid` last-layer activation).\n",
            "  warnings.warn('`model.predict_classes()` is deprecated and '\n"
          ],
          "name": "stderr"
        },
        {
          "output_type": "stream",
          "text": [
            "625/625 [==============================] - 9s 14ms/step\n",
            "Accuracy:\t93.5%\n",
            "\n",
            "\n",
            "              precision    recall  f1-score   support\n",
            "\n",
            "           0       0.93      0.94      0.94     10000\n",
            "           1       0.94      0.93      0.93     10000\n",
            "\n",
            "    accuracy                           0.94     20000\n",
            "   macro avg       0.94      0.94      0.94     20000\n",
            "weighted avg       0.94      0.94      0.94     20000\n",
            "\n"
          ],
          "name": "stdout"
        },
        {
          "output_type": "display_data",
          "data": {
            "image/png": "[encoded data removed]",
            "text/plain": [
              "<Figure size 288x288 with 1 Axes>"
            ]
          },
          "metadata": {
            "tags": [],
            "needs_background": "light"
          }
        }
      ]
    },
    {
      "cell_type": "markdown",
      "metadata": {
        "id": "xtY7vNLCkk_k"
      },
      "source": [
        "## Text"
      ]
    },
    {
      "cell_type": "code",
      "metadata": {
        "colab": {
          "base_uri": "https://localhost:8080/"
        },
        "id": "rWa8r_p-kkq5",
        "outputId": "f512a463-2f63-47eb-9a18-e666d7f35244"
      },
      "source": [
        "tuner.results_summary(num_trials=3)"
      ],
      "execution_count": 27,
      "outputs": [
        {
          "output_type": "stream",
          "text": [
            "Results summary\n",
            "Results in /content/drive/MyDrive/sentiment/LSTM/LSTM_FIN_B32\n",
            "Showing 3 best trials\n",
            "Objective(name='val_loss', direction='min')\n",
            "Trial summary\n",
            "Hyperparameters:\n",
            "output_dim: 16\n",
            "log2_units: 5\n",
            "optimizer: Adam\n",
            "tuner/epochs: 1\n",
            "tuner/initial_epoch: 0\n",
            "tuner/bracket: 0\n",
            "tuner/round: 0\n",
            "Score: 0.1969956010580063\n"
          ],
          "name": "stdout"
        }
      ]
    },
    {
      "cell_type": "code",
      "metadata": {
        "colab": {
          "base_uri": "https://localhost:8080/"
        },
        "id": "y6N5DGmWkrrN",
        "outputId": "950ecd3c-217e-4a71-ccb9-8b0033924c2c"
      },
      "source": [
        "tuner.search_space_summary()"
      ],
      "execution_count": 28,
      "outputs": [
        {
          "output_type": "stream",
          "text": [
            "Search space summary\n",
            "Default search space size: 3\n",
            "output_dim (Int)\n",
            "{'default': None, 'conditions': [], 'min_value': 16, 'max_value': 64, 'step': 16, 'sampling': None}\n",
            "log2_units (Int)\n",
            "{'default': None, 'conditions': [], 'min_value': 3, 'max_value': 7, 'step': 1, 'sampling': None}\n",
            "optimizer (Choice)\n",
            "{'default': 'Adam', 'conditions': [], 'values': ['Adam', 'RMSprop'], 'ordered': False}\n"
          ],
          "name": "stdout"
        }
      ]
    }
  ]
}