{
  "nbformat": 4,
  "nbformat_minor": 0,
  "metadata": {
    "colab": {
      "name": "MLP.ipynb",
      "provenance": [],
      "collapsed_sections": [],
      "mount_file_id": "1YuptOJm6gtDoPt0czm6MmnqFyvLwAJtx",
      "authorship_tag": "ABX9TyMBT7+c/+bsgo+gZCTloYHt",
      "include_colab_link": true
    },
    "kernelspec": {
      "name": "python3",
      "display_name": "Python 3"
    },
    "accelerator": "GPU"
  },
  "cells": [
    {
      "cell_type": "markdown",
      "metadata": {
        "id": "view-in-github",
        "colab_type": "text"
      },
      "source": [
        "<a href=\"https://colab.research.google.com/github/ppkgtmm/sentiment/blob/main/MLP.ipynb\" target=\"_parent\"><img src=\"https://colab.research.google.com/assets/colab-badge.svg\" alt=\"Open In Colab\"/></a>"
      ]
    },
    {
      "cell_type": "code",
      "metadata": {
        "id": "xynWD2YksI2S"
      },
      "source": [
        "# !pip install keras-tuner"
      ],
      "execution_count": 3,
      "outputs": []
    },
    {
      "cell_type": "code",
      "metadata": {
        "id": "D-BJtucalYKR"
      },
      "source": [
        "import pandas as pd\n",
        "import numpy as np\n",
        "from keras.preprocessing.text import  Tokenizer\n",
        "from keras.preprocessing.sequence import pad_sequences\n",
        "from keras.layers import Input, Dense\n",
        "from keras.models import Sequential\n",
        "from sklearn.model_selection import train_test_split\n",
        "from keras.metrics import Precision, Recall, FalseNegatives, \\\n",
        "FalsePositives, TrueNegatives, TruePositives\n",
        "from sklearn.preprocessing import OneHotEncoder\n",
        "from kerastuner.tuners import Hyperband\n",
        "from kerastuner import HyperParameters\n",
        "from keras.optimizers import Adam, Adadelta, Adagrad, RMSprop\n",
        "from tensorflow.keras.utils import plot_model"
      ],
      "execution_count": 23,
      "outputs": []
    },
    {
      "cell_type": "code",
      "metadata": {
        "id": "HBuhpV1fmAvc"
      },
      "source": [
        "cols = ['text', 'target']\n",
        "data_path = '/content/drive/MyDrive/sentiment/data/data_preprocessed.csv'\n",
        "seed = 123456\n",
        "num_words = 10000\n",
        "max_len = 250\n",
        "optimizers = [\n",
        "           'Adam',\n",
        "           'Adadelta',\n",
        "           'Adagrad',\n",
        "           'RMSprop'   \n",
        "]\n",
        "activations = ['relu', 'tanh', 'sigmoid']\n",
        "lrs = [1e-1, 1e-2, 1e-3, 1e-4, 1e-5]"
      ],
      "execution_count": 5,
      "outputs": []
    },
    {
      "cell_type": "code",
      "metadata": {
        "id": "Xp7f0Gb-mCkE"
      },
      "source": [
        "data = pd.read_csv(data_path)[cols]"
      ],
      "execution_count": 6,
      "outputs": []
    },
    {
      "cell_type": "code",
      "metadata": {
        "colab": {
          "base_uri": "https://localhost:8080/",
          "height": 204
        },
        "id": "8upisD1ndUMc",
        "outputId": "ee5bce06-ebf0-450b-f162-27635dbacece"
      },
      "source": [
        "data.sample(5)"
      ],
      "execution_count": 7,
      "outputs": [
        {
          "output_type": "execute_result",
          "data": {
            "text/html": [
              "<div>\n",
              "<style scoped>\n",
              "    .dataframe tbody tr th:only-of-type {\n",
              "        vertical-align: middle;\n",
              "    }\n",
              "\n",
              "    .dataframe tbody tr th {\n",
              "        vertical-align: top;\n",
              "    }\n",
              "\n",
              "    .dataframe thead th {\n",
              "        text-align: right;\n",
              "    }\n",
              "</style>\n",
              "<table border=\"1\" class=\"dataframe\">\n",
              "  <thead>\n",
              "    <tr style=\"text-align: right;\">\n",
              "      <th></th>\n",
              "      <th>text</th>\n",
              "      <th>target</th>\n",
              "    </tr>\n",
              "  </thead>\n",
              "  <tbody>\n",
              "    <tr>\n",
              "      <th>248633</th>\n",
              "      <td>the most sucessful album of engenheiros engenh...</td>\n",
              "      <td>1</td>\n",
              "    </tr>\n",
              "    <tr>\n",
              "      <th>164322</th>\n",
              "      <td>not the original release this is a new commerc...</td>\n",
              "      <td>1</td>\n",
              "    </tr>\n",
              "    <tr>\n",
              "      <th>209936</th>\n",
              "      <td>fantastic tango music wonderful choice of musi...</td>\n",
              "      <td>1</td>\n",
              "    </tr>\n",
              "    <tr>\n",
              "      <th>264066</th>\n",
              "      <td>your best life now journal very helpful exerci...</td>\n",
              "      <td>1</td>\n",
              "    </tr>\n",
              "    <tr>\n",
              "      <th>143903</th>\n",
              "      <td>scrabble a dud on windows NUMBER i have had th...</td>\n",
              "      <td>0</td>\n",
              "    </tr>\n",
              "  </tbody>\n",
              "</table>\n",
              "</div>"
            ],
            "text/plain": [
              "                                                     text  target\n",
              "248633  the most sucessful album of engenheiros engenh...       1\n",
              "164322  not the original release this is a new commerc...       1\n",
              "209936  fantastic tango music wonderful choice of musi...       1\n",
              "264066  your best life now journal very helpful exerci...       1\n",
              "143903  scrabble a dud on windows NUMBER i have had th...       0"
            ]
          },
          "metadata": {
            "tags": []
          },
          "execution_count": 7
        }
      ]
    },
    {
      "cell_type": "code",
      "metadata": {
        "id": "AL6RZLGvfnGG"
      },
      "source": [
        "train, val = train_test_split(data, test_size=0.15, stratify=data['target'], random_state=seed)"
      ],
      "execution_count": 8,
      "outputs": []
    },
    {
      "cell_type": "code",
      "metadata": {
        "colab": {
          "base_uri": "https://localhost:8080/"
        },
        "id": "WSrWyGWvfzv9",
        "outputId": "ad15aa4d-ba8e-45fa-8a26-7b9fa6f101a5"
      },
      "source": [
        "train.shape, val.shape"
      ],
      "execution_count": 9,
      "outputs": [
        {
          "output_type": "execute_result",
          "data": {
            "text/plain": [
              "((305988, 2), (53998, 2))"
            ]
          },
          "metadata": {
            "tags": []
          },
          "execution_count": 9
        }
      ]
    },
    {
      "cell_type": "code",
      "metadata": {
        "id": "19FcfhEedZ55"
      },
      "source": [
        "tokenizer = Tokenizer(num_words=num_words, oov_token='OOV')\n",
        "tokenizer.fit_on_texts(train['text'])"
      ],
      "execution_count": 10,
      "outputs": []
    },
    {
      "cell_type": "code",
      "metadata": {
        "id": "QPh6zAYMf7pN"
      },
      "source": [
        "def get_sequences(tokenizer, max_len, texts):\n",
        "    return pad_sequences(tokenizer.texts_to_sequences(texts), maxlen=max_len)"
      ],
      "execution_count": 11,
      "outputs": []
    },
    {
      "cell_type": "code",
      "metadata": {
        "id": "9BZkac-8gsEZ"
      },
      "source": [
        "sequence_train = get_sequences(tokenizer, max_len, train['text'])\n",
        "sequence_val = get_sequences(tokenizer, max_len, val['text'])"
      ],
      "execution_count": 12,
      "outputs": []
    },
    {
      "cell_type": "code",
      "metadata": {
        "colab": {
          "base_uri": "https://localhost:8080/"
        },
        "id": "1tF2ptvUgzZj",
        "outputId": "571e041c-d3e7-4332-d7c6-0e872fa71dab"
      },
      "source": [
        "sequence_train.shape, sequence_val.shape"
      ],
      "execution_count": 13,
      "outputs": [
        {
          "output_type": "execute_result",
          "data": {
            "text/plain": [
              "((305988, 250), (53998, 250))"
            ]
          },
          "metadata": {
            "tags": []
          },
          "execution_count": 13
        }
      ]
    },
    {
      "cell_type": "code",
      "metadata": {
        "colab": {
          "base_uri": "https://localhost:8080/"
        },
        "id": "J6JQd-QRhb3B",
        "outputId": "9bfdb7f4-3c0e-4466-b97c-d3fb7d733c76"
      },
      "source": [
        "print(val['target'].unique(), train['target'].unique())"
      ],
      "execution_count": 18,
      "outputs": [
        {
          "output_type": "stream",
          "text": [
            "[1 0] [0 1]\n"
          ],
          "name": "stdout"
        }
      ]
    },
    {
      "cell_type": "code",
      "metadata": {
        "id": "i0E0PmY3rKfi"
      },
      "source": [
        "OH_encoder = OneHotEncoder(sparse=False)\n",
        "train_target = OH_encoder.fit_transform(train['target'].values.reshape(-1,1))\n",
        "val_target = OH_encoder.transform(val['target'].values.reshape(-1,1))"
      ],
      "execution_count": 35,
      "outputs": []
    },
    {
      "cell_type": "code",
      "metadata": {
        "colab": {
          "base_uri": "https://localhost:8080/"
        },
        "id": "Zzh_a9lpQ8d3",
        "outputId": "7a8786c1-5f0e-4544-a43f-c622295f8e66"
      },
      "source": [
        "train_target.shape, val_target.shape"
      ],
      "execution_count": 38,
      "outputs": [
        {
          "output_type": "execute_result",
          "data": {
            "text/plain": [
              "((305988, 2), (53998, 2))"
            ]
          },
          "metadata": {
            "tags": []
          },
          "execution_count": 38
        }
      ]
    },
    {
      "cell_type": "code",
      "metadata": {
        "id": "vflzAWWNx6ym"
      },
      "source": [
        "def get_optimizer(key, lr):\n",
        "  map = {\n",
        "      'Adam': Adam(learning_rate=lr),\n",
        "      'Adadelta': Adadelta(learning_rate=lr),\n",
        "      'Adagrad': Adagrad(learning_rate=lr),\n",
        "      'RMSprop': RMSprop(learning_rate=lr)\n",
        "  }\n",
        "  return map.get(key)"
      ],
      "execution_count": 19,
      "outputs": []
    },
    {
      "cell_type": "code",
      "metadata": {
        "id": "MZm4vgbLjlW4"
      },
      "source": [
        "def build_simple_mlp(hp):\n",
        "    model = Sequential()\n",
        "    model.add(Input(shape=(max_len,)))\n",
        "    model.add(Dense(hp.get('hidden_units'),\\\n",
        "                           activation=hp.get(\"hidden_activation\")))\n",
        "    model.add(Dense(2, activation='softmax'))\n",
        "    model.compile(\n",
        "        optimizer=hp.get('optimizer'),\n",
        "        loss='categorical_crossentropy',\n",
        "        metrics=[\n",
        "                 'accuracy',\n",
        "                 Precision(), \n",
        "                 Recall(),\n",
        "                 TruePositives(), \n",
        "                 TrueNegatives(), \n",
        "                 FalsePositives(),\n",
        "                 FalseNegatives()\n",
        "              ]\n",
        "          )\n",
        "    model.summary()\n",
        "    return model"
      ],
      "execution_count": 20,
      "outputs": []
    },
    {
      "cell_type": "code",
      "metadata": {
        "colab": {
          "base_uri": "https://localhost:8080/"
        },
        "id": "syRZJyw2vxwE",
        "outputId": "4cbcc059-5a64-46a1-9778-cb6689e68d95"
      },
      "source": [
        "hp = HyperParameters()\n",
        "hp.Int('hidden_units', 10, 30, 10)\n",
        "hp.Choice('hidden_activation', activations)\n",
        "hp.Choice('optimizer', optimizers)\n",
        "hp.Choice('lr', lrs)"
      ],
      "execution_count": 21,
      "outputs": [
        {
          "output_type": "execute_result",
          "data": {
            "text/plain": [
              "0.1"
            ]
          },
          "metadata": {
            "tags": []
          },
          "execution_count": 21
        }
      ]
    },
    {
      "cell_type": "code",
      "metadata": {
        "colab": {
          "base_uri": "https://localhost:8080/"
        },
        "id": "0zgic0nhr1Nk",
        "outputId": "6fa728eb-50ac-41d1-d53b-e6294fb7f129"
      },
      "source": [
        "tuner = Hyperband(\n",
        "    build_simple_mlp,\n",
        "    max_epochs=10,\n",
        "    objective='val_loss',\n",
        "    executions_per_trial=4,\n",
        "    directory='/content/drive/MyDrive/sentiment/MLP',\n",
        "    project_name='MLP_1H_B32',\n",
        "    hyperparameters=hp\n",
        ")"
      ],
      "execution_count": 29,
      "outputs": [
        {
          "output_type": "stream",
          "text": [
            "Model: \"sequential\"\n",
            "_________________________________________________________________\n",
            "Layer (type)                 Output Shape              Param #   \n",
            "=================================================================\n",
            "dense (Dense)                (None, 10)                2510      \n",
            "_________________________________________________________________\n",
            "dense_1 (Dense)              (None, 2)                 22        \n",
            "=================================================================\n",
            "Total params: 2,532\n",
            "Trainable params: 2,532\n",
            "Non-trainable params: 0\n",
            "_________________________________________________________________\n"
          ],
          "name": "stdout"
        }
      ]
    },
    {
      "cell_type": "code",
      "metadata": {
        "colab": {
          "base_uri": "https://localhost:8080/"
        },
        "id": "t4B1AZMhux2T",
        "outputId": "d187dde6-7e96-4310-91a8-732ba0194b42"
      },
      "source": [
        "history = tuner.search(\n",
        "    sequence_train,\n",
        "    train_target,\n",
        "    epochs=10,\n",
        "    validation_data=(sequence_val, val_target),\n",
        "    batch_size=32\n",
        ")"
      ],
      "execution_count": null,
      "outputs": [
        {
          "output_type": "stream",
          "text": [
            "Trial 2 Complete [00h 06m 58s]\n",
            "val_loss: 0.8134683668613434\n",
            "\n",
            "Best val_loss So Far: 0.8134683668613434\n",
            "Total elapsed time: 00h 16m 43s\n",
            "\n",
            "Search: Running Trial #3\n",
            "\n",
            "Hyperparameter    |Value             |Best Value So Far \n",
            "hidden_units      |20                |30                \n",
            "hidden_activation |tanh              |sigmoid           \n",
            "optimizer         |Adagrad           |Adadelta          \n",
            "lr                |0.01              |0.01              \n",
            "tuner/epochs      |2                 |2                 \n",
            "tuner/initial_e...|0                 |0                 \n",
            "tuner/bracket     |2                 |2                 \n",
            "tuner/round       |0                 |0                 \n",
            "\n",
            "Model: \"sequential\"\n",
            "_________________________________________________________________\n",
            "Layer (type)                 Output Shape              Param #   \n",
            "=================================================================\n",
            "dense (Dense)                (None, 20)                5020      \n",
            "_________________________________________________________________\n",
            "dense_1 (Dense)              (None, 2)                 42        \n",
            "=================================================================\n",
            "Total params: 5,062\n",
            "Trainable params: 5,062\n",
            "Non-trainable params: 0\n",
            "_________________________________________________________________\n",
            "Epoch 1/2\n",
            "9563/9563 [==============================] - 52s 5ms/step - loss: 0.9262 - accuracy: 0.5054 - precision: 0.5054 - recall: 0.5054 - true_positives: 77429.3257 - true_negatives: 77429.4631 - false_positives: 75610.5277 - false_negatives: 75610.6651 - val_loss: 0.8312 - val_accuracy: 0.5089 - val_precision: 0.5089 - val_recall: 0.5089 - val_true_positives: 27480.0000 - val_true_negatives: 27480.0000 - val_false_positives: 26518.0000 - val_false_negatives: 26518.0000\n",
            "Epoch 2/2\n",
            "3127/9563 [========>.....................] - ETA: 29s - loss: 0.8245 - accuracy: 0.5093 - precision: 0.5093 - recall: 0.5093 - true_positives: 25440.3390 - true_negatives: 25440.3390 - false_positives: 24607.6610 - false_negatives: 24607.6610"
          ],
          "name": "stdout"
        }
      ]
    }
  ]
}