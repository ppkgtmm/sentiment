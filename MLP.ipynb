{
  "nbformat": 4,
  "nbformat_minor": 0,
  "metadata": {
    "colab": {
      "name": "MLP.ipynb",
      "provenance": [],
      "collapsed_sections": [],
      "mount_file_id": "1YuptOJm6gtDoPt0czm6MmnqFyvLwAJtx",
      "authorship_tag": "ABX9TyPEI7y3k/lckn9sUpHHyN1B",
      "include_colab_link": true
    },
    "kernelspec": {
      "name": "python3",
      "display_name": "Python 3"
    }
  },
  "cells": [
    {
      "cell_type": "markdown",
      "metadata": {
        "id": "view-in-github",
        "colab_type": "text"
      },
      "source": [
        "<a href=\"https://colab.research.google.com/github/ppkgtmm/sentiment/blob/main/MLP.ipynb\" target=\"_parent\"><img src=\"https://colab.research.google.com/assets/colab-badge.svg\" alt=\"Open In Colab\"/></a>"
      ]
    },
    {
      "cell_type": "code",
      "metadata": {
        "id": "xynWD2YksI2S"
      },
      "source": [
        "# !pip install keras-tuner"
      ],
      "execution_count": 49,
      "outputs": []
    },
    {
      "cell_type": "code",
      "metadata": {
        "id": "D-BJtucalYKR"
      },
      "source": [
        "import pandas as pd\n",
        "import numpy as np\n",
        "from keras.preprocessing.text import  Tokenizer\n",
        "from keras.preprocessing.sequence import pad_sequences\n",
        "from keras.layers import Input, Dense\n",
        "from keras.models import Sequential\n",
        "from sklearn.model_selection import train_test_split\n",
        "from keras.metrics import Precision, Recall, FalseNegatives, \\\n",
        "FalsePositives, TrueNegatives, TruePositives\n",
        "from sklearn.preprocessing import OneHotEncoder\n",
        "from kerastuner.tuners import Hyperband\n",
        "from kerastuner import HyperParameters\n",
        "from keras.optimizers import Adam, Adadelta, Adagrad, RMSprop"
      ],
      "execution_count": 57,
      "outputs": []
    },
    {
      "cell_type": "code",
      "metadata": {
        "id": "HBuhpV1fmAvc"
      },
      "source": [
        "cols = ['text', 'target']\n",
        "data_path = '/content/drive/MyDrive/sentiment/data/data_preprocessed.csv'\n",
        "num_words = 10000\n",
        "max_len = 250\n",
        "optimizers = [\n",
        "           'Adam',\n",
        "           'Adadelta',\n",
        "           'Adagrad',\n",
        "           'RMSprop'   \n",
        "]\n",
        "activations = ['relu', 'tanh', 'sigmoid']\n",
        "lrs = [1e-1, 1e-2, 1e-3, 1e-4, 1e-5]"
      ],
      "execution_count": 65,
      "outputs": []
    },
    {
      "cell_type": "code",
      "metadata": {
        "id": "Xp7f0Gb-mCkE"
      },
      "source": [
        "data = pd.read_csv(data_path)[cols]"
      ],
      "execution_count": 6,
      "outputs": []
    },
    {
      "cell_type": "code",
      "metadata": {
        "colab": {
          "base_uri": "https://localhost:8080/",
          "height": 204
        },
        "id": "8upisD1ndUMc",
        "outputId": "151a5075-a7b1-4f9d-9315-9868ee5a3bf2"
      },
      "source": [
        "data.sample(5)"
      ],
      "execution_count": 7,
      "outputs": [
        {
          "output_type": "execute_result",
          "data": {
            "text/html": [
              "<div>\n",
              "<style scoped>\n",
              "    .dataframe tbody tr th:only-of-type {\n",
              "        vertical-align: middle;\n",
              "    }\n",
              "\n",
              "    .dataframe tbody tr th {\n",
              "        vertical-align: top;\n",
              "    }\n",
              "\n",
              "    .dataframe thead th {\n",
              "        text-align: right;\n",
              "    }\n",
              "</style>\n",
              "<table border=\"1\" class=\"dataframe\">\n",
              "  <thead>\n",
              "    <tr style=\"text-align: right;\">\n",
              "      <th></th>\n",
              "      <th>text</th>\n",
              "      <th>target</th>\n",
              "    </tr>\n",
              "  </thead>\n",
              "  <tbody>\n",
              "    <tr>\n",
              "      <th>80324</th>\n",
              "      <td>perfect a wonderful cd i also got to experienc...</td>\n",
              "      <td>1</td>\n",
              "    </tr>\n",
              "    <tr>\n",
              "      <th>334643</th>\n",
              "      <td>there much less here than meets the eye yes it...</td>\n",
              "      <td>0</td>\n",
              "    </tr>\n",
              "    <tr>\n",
              "      <th>90085</th>\n",
              "      <td>NUMBER liteon recorder one of the most disappo...</td>\n",
              "      <td>0</td>\n",
              "    </tr>\n",
              "    <tr>\n",
              "      <th>320518</th>\n",
              "      <td>broke after NUMBER month quite a big blender N...</td>\n",
              "      <td>0</td>\n",
              "    </tr>\n",
              "    <tr>\n",
              "      <th>270485</th>\n",
              "      <td>finest is a subjective term along with the res...</td>\n",
              "      <td>0</td>\n",
              "    </tr>\n",
              "  </tbody>\n",
              "</table>\n",
              "</div>"
            ],
            "text/plain": [
              "                                                     text  target\n",
              "80324   perfect a wonderful cd i also got to experienc...       1\n",
              "334643  there much less here than meets the eye yes it...       0\n",
              "90085   NUMBER liteon recorder one of the most disappo...       0\n",
              "320518  broke after NUMBER month quite a big blender N...       0\n",
              "270485  finest is a subjective term along with the res...       0"
            ]
          },
          "metadata": {
            "tags": []
          },
          "execution_count": 7
        }
      ]
    },
    {
      "cell_type": "code",
      "metadata": {
        "id": "AL6RZLGvfnGG"
      },
      "source": [
        "train, val = train_test_split(data, test_size=0.15, stratify=data['target'])"
      ],
      "execution_count": 18,
      "outputs": []
    },
    {
      "cell_type": "code",
      "metadata": {
        "colab": {
          "base_uri": "https://localhost:8080/"
        },
        "id": "WSrWyGWvfzv9",
        "outputId": "cd02809c-0255-4a28-fcdd-06bac959e7f7"
      },
      "source": [
        "train.shape, val.shape"
      ],
      "execution_count": 19,
      "outputs": [
        {
          "output_type": "execute_result",
          "data": {
            "text/plain": [
              "((305988, 2), (53998, 2))"
            ]
          },
          "metadata": {
            "tags": []
          },
          "execution_count": 19
        }
      ]
    },
    {
      "cell_type": "code",
      "metadata": {
        "id": "19FcfhEedZ55"
      },
      "source": [
        "tokenizer = Tokenizer(num_words=num_words, oov_token='OOV')\n",
        "tokenizer.fit_on_texts(train['text'])"
      ],
      "execution_count": 20,
      "outputs": []
    },
    {
      "cell_type": "code",
      "metadata": {
        "id": "QPh6zAYMf7pN"
      },
      "source": [
        "def get_sequences(tokenizer, max_len, texts):\n",
        "    return pad_sequences(tokenizer.texts_to_sequences(texts), maxlen=max_len)"
      ],
      "execution_count": 26,
      "outputs": []
    },
    {
      "cell_type": "code",
      "metadata": {
        "id": "9BZkac-8gsEZ"
      },
      "source": [
        "sequence_train = get_sequences(tokenizer, max_len, train['text'])\n",
        "sequence_val = get_sequences(tokenizer, max_len, val['text'])"
      ],
      "execution_count": 29,
      "outputs": []
    },
    {
      "cell_type": "code",
      "metadata": {
        "colab": {
          "base_uri": "https://localhost:8080/"
        },
        "id": "1tF2ptvUgzZj",
        "outputId": "252f05a4-0f12-4c81-fc6e-b0f2a83d8628"
      },
      "source": [
        "sequence_train.shape, sequence_val.shape"
      ],
      "execution_count": 30,
      "outputs": [
        {
          "output_type": "execute_result",
          "data": {
            "text/plain": [
              "((305988, 250), (53998, 250))"
            ]
          },
          "metadata": {
            "tags": []
          },
          "execution_count": 30
        }
      ]
    },
    {
      "cell_type": "code",
      "metadata": {
        "colab": {
          "base_uri": "https://localhost:8080/"
        },
        "id": "J6JQd-QRhb3B",
        "outputId": "7e02b386-67ca-4e23-fcae-48011241f6fb"
      },
      "source": [
        "val['target'].unique() == train['target'].unique()"
      ],
      "execution_count": 35,
      "outputs": [
        {
          "output_type": "execute_result",
          "data": {
            "text/plain": [
              "array([ True,  True])"
            ]
          },
          "metadata": {
            "tags": []
          },
          "execution_count": 35
        }
      ]
    },
    {
      "cell_type": "code",
      "metadata": {
        "id": "i0E0PmY3rKfi"
      },
      "source": [
        "OH_encoder = OneHotEncoder()\n",
        "train_target = OH_encoder.fit_transform(train['target'].values.reshape(-1,1))\n",
        "val_target = OH_encoder.transform(val['target'].values.reshape(-1,1))"
      ],
      "execution_count": 47,
      "outputs": []
    },
    {
      "cell_type": "code",
      "metadata": {
        "id": "vflzAWWNx6ym"
      },
      "source": [
        "def get_optimizer(key, lr):\n",
        "  map = {\n",
        "      'Adam': Adam(learning_rate=lr),\n",
        "      'Adadelta': Adadelta(learning_rate=lr),\n",
        "      'Adagrad': Adagrad(learning_rate=lr),\n",
        "      'RMSprop': RMSprop(learning_rate=lr)\n",
        "  }\n",
        "  return map.get(key)"
      ],
      "execution_count": 74,
      "outputs": []
    },
    {
      "cell_type": "code",
      "metadata": {
        "id": "MZm4vgbLjlW4"
      },
      "source": [
        "def build_simple_mlp(hp):\n",
        "    model = Sequential()\n",
        "    model.add(Input(shape=(max_len,)))\n",
        "    model.add(Dense(hp.get('hidden_units'),\\\n",
        "                           activation=hp.get(\"hidden_activation\")))\n",
        "    model.add(Dense(2, activation='softmax'))\n",
        "    model.compile(\n",
        "        optimizer=hp.get('optimizer'),\n",
        "        loss='categorical_crossentropy',\n",
        "        metrics=[\n",
        "                 'accuracy',\n",
        "                 Precision(), \n",
        "                 Recall(),\n",
        "                 TruePositives(), \n",
        "                 TrueNegatives(), \n",
        "                 FalsePositives(),\n",
        "                 FalseNegatives()\n",
        "              ]\n",
        "          )\n",
        "    model.summary()\n",
        "    return model"
      ],
      "execution_count": 71,
      "outputs": []
    },
    {
      "cell_type": "code",
      "metadata": {
        "colab": {
          "base_uri": "https://localhost:8080/"
        },
        "id": "syRZJyw2vxwE",
        "outputId": "e2ec962d-87e1-4953-e120-4c4eb2aae098"
      },
      "source": [
        "hp = HyperParameters()\n",
        "hp.Int('hidden_units', 10, 30, 10)\n",
        "hp.Choice('hidden_activation', activations)\n",
        "hp.Choice('optimizer', optimizers)\n",
        "hp.Choice('lr', lrs)"
      ],
      "execution_count": 72,
      "outputs": [
        {
          "output_type": "execute_result",
          "data": {
            "text/plain": [
              "0.1"
            ]
          },
          "metadata": {
            "tags": []
          },
          "execution_count": 72
        }
      ]
    },
    {
      "cell_type": "code",
      "metadata": {
        "colab": {
          "base_uri": "https://localhost:8080/"
        },
        "id": "0zgic0nhr1Nk",
        "outputId": "2774c944-7f8f-4ec0-c074-b902d362fd34"
      },
      "source": [
        "tuner = Hyperband(\n",
        "    build_simple_mlp,\n",
        "    max_epochs=10,\n",
        "    objective='val_loss',\n",
        "    executions_per_trial=4,\n",
        "    directory='/content/drive/MyDrive/sentiment/MLP',\n",
        "    project_name='simple_1HD',\n",
        "    hyperparameters=hp\n",
        ")"
      ],
      "execution_count": 73,
      "outputs": [
        {
          "output_type": "stream",
          "text": [
            "Model: \"sequential\"\n",
            "_________________________________________________________________\n",
            "Layer (type)                 Output Shape              Param #   \n",
            "=================================================================\n",
            "dense (Dense)                (None, 10)                2510      \n",
            "_________________________________________________________________\n",
            "dense_1 (Dense)              (None, 2)                 22        \n",
            "=================================================================\n",
            "Total params: 2,532\n",
            "Trainable params: 2,532\n",
            "Non-trainable params: 0\n",
            "_________________________________________________________________\n"
          ],
          "name": "stdout"
        }
      ]
    },
    {
      "cell_type": "code",
      "metadata": {
        "colab": {
          "base_uri": "https://localhost:8080/",
          "height": 130
        },
        "id": "t4B1AZMhux2T",
        "outputId": "a058c846-05dc-48ee-a424-fce45eee0ba1"
      },
      "source": [
        "\n"
      ],
      "execution_count": 52,
      "outputs": [
        {
          "output_type": "error",
          "ename": "SyntaxError",
          "evalue": "ignored",
          "traceback": [
            "\u001b[0;36m  File \u001b[0;32m\"<ipython-input-52-8e7944187ab9>\"\u001b[0;36m, line \u001b[0;32m2\u001b[0m\n\u001b[0;31m    hp.('layers', 5)\u001b[0m\n\u001b[0m       ^\u001b[0m\n\u001b[0;31mSyntaxError\u001b[0m\u001b[0;31m:\u001b[0m invalid syntax\n"
          ]
        }
      ]
    },
    {
      "cell_type": "code",
      "metadata": {
        "id": "PEyqKScUt0rJ"
      },
      "source": [
        "tuner.search(x_train, y_train, epochs=10, validation_split=0.1)"
      ],
      "execution_count": null,
      "outputs": []
    }
  ]
}