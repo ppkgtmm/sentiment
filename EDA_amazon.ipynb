{
  "nbformat": 4,
  "nbformat_minor": 0,
  "metadata": {
    "colab": {
      "name": "EDA_amazon.ipynb",
      "provenance": [],
      "collapsed_sections": [],
      "toc_visible": true,
      "mount_file_id": "1c8mOhrFLH40-dK5l8qN6MnKMIE8p89Dp",
      "authorship_tag": "ABX9TyNxspvUdRxVq4WkY78ZtSPx",
      "include_colab_link": true
    },
    "kernelspec": {
      "name": "python3",
      "display_name": "Python 3"
    },
    "accelerator": "GPU"
  },
  "cells": [
    {
      "cell_type": "markdown",
      "metadata": {
        "id": "view-in-github",
        "colab_type": "text"
      },
      "source": [
        "<a href=\"https://colab.research.google.com/github/ppkgtmm/sentiment/blob/main/EDA_amazon.ipynb\" target=\"_parent\"><img src=\"https://colab.research.google.com/assets/colab-badge.svg\" alt=\"Open In Colab\"/></a>"
      ]
    },
    {
      "cell_type": "code",
      "metadata": {
        "id": "azFcRWHoKpGh"
      },
      "source": [
        "# !pip install unidecode"
      ],
      "execution_count": 32,
      "outputs": []
    },
    {
      "cell_type": "code",
      "metadata": {
        "id": "9YTQc8Xbkh0M"
      },
      "source": [
        "import pandas as pd\n",
        "import math\n",
        "import matplotlib.pyplot as plt\n",
        "import re\n",
        "import nltk\n",
        "from unicodedata import normalize"
      ],
      "execution_count": 61,
      "outputs": []
    },
    {
      "cell_type": "code",
      "metadata": {
        "colab": {
          "base_uri": "https://localhost:8080/"
        },
        "id": "xuMoCdKglh1P",
        "outputId": "3437d146-dbf7-4707-91ce-2478465a9c04"
      },
      "source": [
        "nltk.download('punkt')\n",
        "from nltk import word_tokenize"
      ],
      "execution_count": 2,
      "outputs": [
        {
          "output_type": "stream",
          "text": [
            "[nltk_data] Downloading package punkt to /root/nltk_data...\n",
            "[nltk_data]   Unzipping tokenizers/punkt.zip.\n"
          ],
          "name": "stdout"
        }
      ]
    },
    {
      "cell_type": "code",
      "metadata": {
        "id": "mkZR47JIlkP3"
      },
      "source": [
        "cols = ['text', 'target']\n",
        "decode_map = {0: 'negative', 1: 'positive'}"
      ],
      "execution_count": 3,
      "outputs": []
    },
    {
      "cell_type": "markdown",
      "metadata": {
        "id": "YUqt5vLvl8qp"
      },
      "source": [
        "## Read data\n",
        "#### column description\n",
        "1. text : review text\n",
        "2. target : polarity of review\n",
        "    \n",
        "    * 0 : negative\n",
        "    * 1 : positive\n"
      ]
    },
    {
      "cell_type": "code",
      "metadata": {
        "colab": {
          "base_uri": "https://localhost:8080/",
          "height": 204
        },
        "id": "RggBHiP0lola",
        "outputId": "374a027f-60d1-4787-a1b2-959659b90071"
      },
      "source": [
        "data = pd.read_csv('/content/drive/MyDrive/sentiment/data/data.csv')[cols]\n",
        "data.sample(5)"
      ],
      "execution_count": 4,
      "outputs": [
        {
          "output_type": "execute_result",
          "data": {
            "text/html": [
              "<div>\n",
              "<style scoped>\n",
              "    .dataframe tbody tr th:only-of-type {\n",
              "        vertical-align: middle;\n",
              "    }\n",
              "\n",
              "    .dataframe tbody tr th {\n",
              "        vertical-align: top;\n",
              "    }\n",
              "\n",
              "    .dataframe thead th {\n",
              "        text-align: right;\n",
              "    }\n",
              "</style>\n",
              "<table border=\"1\" class=\"dataframe\">\n",
              "  <thead>\n",
              "    <tr style=\"text-align: right;\">\n",
              "      <th></th>\n",
              "      <th>text</th>\n",
              "      <th>target</th>\n",
              "    </tr>\n",
              "  </thead>\n",
              "  <tbody>\n",
              "    <tr>\n",
              "      <th>209820</th>\n",
              "      <td>My daughter is thrilled!: My daughter was dyin...</td>\n",
              "      <td>1</td>\n",
              "    </tr>\n",
              "    <tr>\n",
              "      <th>100111</th>\n",
              "      <td>When the going gets tough, the tough . . .: Si...</td>\n",
              "      <td>1</td>\n",
              "    </tr>\n",
              "    <tr>\n",
              "      <th>160079</th>\n",
              "      <td>A great album made even better with added trac...</td>\n",
              "      <td>1</td>\n",
              "    </tr>\n",
              "    <tr>\n",
              "      <th>187050</th>\n",
              "      <td>Traffic -'Heaven Is In Your Mind' (Polygram): ...</td>\n",
              "      <td>1</td>\n",
              "    </tr>\n",
              "    <tr>\n",
              "      <th>154946</th>\n",
              "      <td>To good to be true: I would never purchase thi...</td>\n",
              "      <td>0</td>\n",
              "    </tr>\n",
              "  </tbody>\n",
              "</table>\n",
              "</div>"
            ],
            "text/plain": [
              "                                                     text  target\n",
              "209820  My daughter is thrilled!: My daughter was dyin...       1\n",
              "100111  When the going gets tough, the tough . . .: Si...       1\n",
              "160079  A great album made even better with added trac...       1\n",
              "187050  Traffic -'Heaven Is In Your Mind' (Polygram): ...       1\n",
              "154946  To good to be true: I would never purchase thi...       0"
            ]
          },
          "metadata": {
            "tags": []
          },
          "execution_count": 4
        }
      ]
    },
    {
      "cell_type": "markdown",
      "metadata": {
        "id": "lenJUf1fmh1-"
      },
      "source": [
        "## EDA"
      ]
    },
    {
      "cell_type": "code",
      "metadata": {
        "colab": {
          "base_uri": "https://localhost:8080/"
        },
        "id": "tKCwdQ4JGNbO",
        "outputId": "91b23bd2-c135-4992-d9fc-c4c6be037777"
      },
      "source": [
        "data.info()"
      ],
      "execution_count": 18,
      "outputs": [
        {
          "output_type": "stream",
          "text": [
            "<class 'pandas.core.frame.DataFrame'>\n",
            "RangeIndex: 360000 entries, 0 to 359999\n",
            "Data columns (total 2 columns):\n",
            " #   Column  Non-Null Count   Dtype \n",
            "---  ------  --------------   ----- \n",
            " 0   text    360000 non-null  object\n",
            " 1   target  360000 non-null  int64 \n",
            "dtypes: int64(1), object(1)\n",
            "memory usage: 5.5+ MB\n"
          ],
          "name": "stdout"
        }
      ]
    },
    {
      "cell_type": "code",
      "metadata": {
        "colab": {
          "base_uri": "https://localhost:8080/"
        },
        "id": "nO52xSGepWj9",
        "outputId": "66c4fdc8-fe50-4c65-a90e-46d29bc82400"
      },
      "source": [
        "data.isnull().any()"
      ],
      "execution_count": 5,
      "outputs": [
        {
          "output_type": "execute_result",
          "data": {
            "text/plain": [
              "text      False\n",
              "target    False\n",
              "dtype: bool"
            ]
          },
          "metadata": {
            "tags": []
          },
          "execution_count": 5
        }
      ]
    },
    {
      "cell_type": "code",
      "metadata": {
        "id": "_vk-IXWnv3W8"
      },
      "source": [
        "# ValueError: No objects to concatenate\n",
        "# duplicates = pd.concat(rows for _, rows in data.groupby('text') \\\n",
        "#                        if len(rows) > 1)\n",
        "# duplicates"
      ],
      "execution_count": 7,
      "outputs": []
    },
    {
      "cell_type": "code",
      "metadata": {
        "colab": {
          "base_uri": "https://localhost:8080/",
          "height": 111
        },
        "id": "DFss0WApl1Jn",
        "outputId": "393f6573-2d80-4874-9669-b4c8c645e4f9"
      },
      "source": [
        "target_dist = data.groupby('target').count().reset_index()\n",
        "target_dist['proportion'] = target_dist['text'] / sum(list(target_dist['text']))\n",
        "target_dist"
      ],
      "execution_count": 8,
      "outputs": [
        {
          "output_type": "execute_result",
          "data": {
            "text/html": [
              "<div>\n",
              "<style scoped>\n",
              "    .dataframe tbody tr th:only-of-type {\n",
              "        vertical-align: middle;\n",
              "    }\n",
              "\n",
              "    .dataframe tbody tr th {\n",
              "        vertical-align: top;\n",
              "    }\n",
              "\n",
              "    .dataframe thead th {\n",
              "        text-align: right;\n",
              "    }\n",
              "</style>\n",
              "<table border=\"1\" class=\"dataframe\">\n",
              "  <thead>\n",
              "    <tr style=\"text-align: right;\">\n",
              "      <th></th>\n",
              "      <th>target</th>\n",
              "      <th>text</th>\n",
              "      <th>proportion</th>\n",
              "    </tr>\n",
              "  </thead>\n",
              "  <tbody>\n",
              "    <tr>\n",
              "      <th>0</th>\n",
              "      <td>0</td>\n",
              "      <td>180000</td>\n",
              "      <td>0.5</td>\n",
              "    </tr>\n",
              "    <tr>\n",
              "      <th>1</th>\n",
              "      <td>1</td>\n",
              "      <td>180000</td>\n",
              "      <td>0.5</td>\n",
              "    </tr>\n",
              "  </tbody>\n",
              "</table>\n",
              "</div>"
            ],
            "text/plain": [
              "   target    text  proportion\n",
              "0       0  180000         0.5\n",
              "1       1  180000         0.5"
            ]
          },
          "metadata": {
            "tags": []
          },
          "execution_count": 8
        }
      ]
    },
    {
      "cell_type": "code",
      "metadata": {
        "colab": {
          "base_uri": "https://localhost:8080/",
          "height": 354
        },
        "id": "NAGvggYZmfai",
        "outputId": "c560d47e-72a9-4620-c66a-10abb249885d"
      },
      "source": [
        "target_dist.plot(x='target', y='proportion', kind='bar', rot=0, \\\n",
        "                 colormap='Pastel1', fontsize=12, figsize=(5,5))"
      ],
      "execution_count": 9,
      "outputs": [
        {
          "output_type": "execute_result",
          "data": {
            "text/plain": [
              "<matplotlib.axes._subplots.AxesSubplot at 0x7fa77b039590>"
            ]
          },
          "metadata": {
            "tags": []
          },
          "execution_count": 9
        },
        {
          "output_type": "display_data",
          "data": {
            "image/png": "[encoded data removed]",
            "text/plain": [
              "<Figure size 360x360 with 1 Axes>"
            ]
          },
          "metadata": {
            "tags": [],
            "needs_background": "light"
          }
        }
      ]
    },
    {
      "cell_type": "code",
      "metadata": {
        "id": "JR_COTi1p23X"
      },
      "source": [
        "copy = data.copy()\n",
        "copy['word_count'] = copy['text'].apply(lambda x: len(x.split(' ')))"
      ],
      "execution_count": 83,
      "outputs": []
    },
    {
      "cell_type": "code",
      "metadata": {
        "id": "W3AKWFfPrBzr"
      },
      "source": [
        "def avg_word_length(text):\n",
        "    words = text.split(' ')\n",
        "    length = [len(w) for w in words]\n",
        "    return math.ceil(sum(length) / len(length))\n",
        "\n",
        "copy['avg_word_length'] = copy['text'].apply(avg_word_length)"
      ],
      "execution_count": 84,
      "outputs": []
    },
    {
      "cell_type": "code",
      "metadata": {
        "colab": {
          "base_uri": "https://localhost:8080/",
          "height": 204
        },
        "id": "66VEdvCMrEuP",
        "outputId": "6ebbf01c-f2d9-402d-d6f5-1784eeb7c087"
      },
      "source": [
        "copy.head(5)"
      ],
      "execution_count": 12,
      "outputs": [
        {
          "output_type": "execute_result",
          "data": {
            "text/html": [
              "<div>\n",
              "<style scoped>\n",
              "    .dataframe tbody tr th:only-of-type {\n",
              "        vertical-align: middle;\n",
              "    }\n",
              "\n",
              "    .dataframe tbody tr th {\n",
              "        vertical-align: top;\n",
              "    }\n",
              "\n",
              "    .dataframe thead th {\n",
              "        text-align: right;\n",
              "    }\n",
              "</style>\n",
              "<table border=\"1\" class=\"dataframe\">\n",
              "  <thead>\n",
              "    <tr style=\"text-align: right;\">\n",
              "      <th></th>\n",
              "      <th>text</th>\n",
              "      <th>target</th>\n",
              "      <th>word_count</th>\n",
              "      <th>avg_word_length</th>\n",
              "    </tr>\n",
              "  </thead>\n",
              "  <tbody>\n",
              "    <tr>\n",
              "      <th>0</th>\n",
              "      <td>A nice listen: I have always beed a huge stars...</td>\n",
              "      <td>1</td>\n",
              "      <td>135</td>\n",
              "      <td>4</td>\n",
              "    </tr>\n",
              "    <tr>\n",
              "      <th>1</th>\n",
              "      <td>I am Very satisfied with this order: It was a ...</td>\n",
              "      <td>1</td>\n",
              "      <td>26</td>\n",
              "      <td>5</td>\n",
              "    </tr>\n",
              "    <tr>\n",
              "      <th>2</th>\n",
              "      <td>Christmas Present: I got this for my son for C...</td>\n",
              "      <td>1</td>\n",
              "      <td>79</td>\n",
              "      <td>5</td>\n",
              "    </tr>\n",
              "    <tr>\n",
              "      <th>3</th>\n",
              "      <td>Prob works for some doors but not ours: We hav...</td>\n",
              "      <td>0</td>\n",
              "      <td>134</td>\n",
              "      <td>5</td>\n",
              "    </tr>\n",
              "    <tr>\n",
              "      <th>4</th>\n",
              "      <td>can you say 'rip off'?: These bulbs, while ill...</td>\n",
              "      <td>0</td>\n",
              "      <td>176</td>\n",
              "      <td>5</td>\n",
              "    </tr>\n",
              "  </tbody>\n",
              "</table>\n",
              "</div>"
            ],
            "text/plain": [
              "                                                text  ...  avg_word_length\n",
              "0  A nice listen: I have always beed a huge stars...  ...                4\n",
              "1  I am Very satisfied with this order: It was a ...  ...                5\n",
              "2  Christmas Present: I got this for my son for C...  ...                5\n",
              "3  Prob works for some doors but not ours: We hav...  ...                5\n",
              "4  can you say 'rip off'?: These bulbs, while ill...  ...                5\n",
              "\n",
              "[5 rows x 4 columns]"
            ]
          },
          "metadata": {
            "tags": []
          },
          "execution_count": 12
        }
      ]
    },
    {
      "cell_type": "code",
      "metadata": {
        "colab": {
          "base_uri": "https://localhost:8080/",
          "height": 142
        },
        "id": "Cp1y8vePrPo4",
        "outputId": "8c29c1bb-40cb-4b00-d474-f014912fe3ca"
      },
      "source": [
        "copy.describe().transpose()"
      ],
      "execution_count": 13,
      "outputs": [
        {
          "output_type": "execute_result",
          "data": {
            "text/html": [
              "<div>\n",
              "<style scoped>\n",
              "    .dataframe tbody tr th:only-of-type {\n",
              "        vertical-align: middle;\n",
              "    }\n",
              "\n",
              "    .dataframe tbody tr th {\n",
              "        vertical-align: top;\n",
              "    }\n",
              "\n",
              "    .dataframe thead th {\n",
              "        text-align: right;\n",
              "    }\n",
              "</style>\n",
              "<table border=\"1\" class=\"dataframe\">\n",
              "  <thead>\n",
              "    <tr style=\"text-align: right;\">\n",
              "      <th></th>\n",
              "      <th>count</th>\n",
              "      <th>mean</th>\n",
              "      <th>std</th>\n",
              "      <th>min</th>\n",
              "      <th>25%</th>\n",
              "      <th>50%</th>\n",
              "      <th>75%</th>\n",
              "      <th>max</th>\n",
              "    </tr>\n",
              "  </thead>\n",
              "  <tbody>\n",
              "    <tr>\n",
              "      <th>target</th>\n",
              "      <td>360000.0</td>\n",
              "      <td>0.500000</td>\n",
              "      <td>0.500001</td>\n",
              "      <td>0.0</td>\n",
              "      <td>0.0</td>\n",
              "      <td>0.5</td>\n",
              "      <td>1.0</td>\n",
              "      <td>1.0</td>\n",
              "    </tr>\n",
              "    <tr>\n",
              "      <th>word_count</th>\n",
              "      <td>360000.0</td>\n",
              "      <td>78.471886</td>\n",
              "      <td>42.831131</td>\n",
              "      <td>2.0</td>\n",
              "      <td>42.0</td>\n",
              "      <td>70.0</td>\n",
              "      <td>108.0</td>\n",
              "      <td>223.0</td>\n",
              "    </tr>\n",
              "    <tr>\n",
              "      <th>avg_word_length</th>\n",
              "      <td>360000.0</td>\n",
              "      <td>5.032367</td>\n",
              "      <td>0.530537</td>\n",
              "      <td>2.0</td>\n",
              "      <td>5.0</td>\n",
              "      <td>5.0</td>\n",
              "      <td>5.0</td>\n",
              "      <td>97.0</td>\n",
              "    </tr>\n",
              "  </tbody>\n",
              "</table>\n",
              "</div>"
            ],
            "text/plain": [
              "                    count       mean        std  min   25%   50%    75%    max\n",
              "target           360000.0   0.500000   0.500001  0.0   0.0   0.5    1.0    1.0\n",
              "word_count       360000.0  78.471886  42.831131  2.0  42.0  70.0  108.0  223.0\n",
              "avg_word_length  360000.0   5.032367   0.530537  2.0   5.0   5.0    5.0   97.0"
            ]
          },
          "metadata": {
            "tags": []
          },
          "execution_count": 13
        }
      ]
    },
    {
      "cell_type": "code",
      "metadata": {
        "colab": {
          "base_uri": "https://localhost:8080/",
          "height": 398
        },
        "id": "FoSrGoqUrrtj",
        "outputId": "76cea2a7-a174-4905-e3dd-8ec24f8973c1"
      },
      "source": [
        "copy.word_count.plot(kind='kde', fontsize=12, figsize=(5,6))"
      ],
      "execution_count": 14,
      "outputs": [
        {
          "output_type": "execute_result",
          "data": {
            "text/plain": [
              "<matplotlib.axes._subplots.AxesSubplot at 0x7fa77af62f90>"
            ]
          },
          "metadata": {
            "tags": []
          },
          "execution_count": 14
        },
        {
          "output_type": "display_data",
          "data": {
            "image/png": "[encoded data removed]",
            "text/plain": [
              "<Figure size 360x432 with 1 Axes>"
            ]
          },
          "metadata": {
            "tags": [],
            "needs_background": "light"
          }
        }
      ]
    },
    {
      "cell_type": "code",
      "metadata": {
        "colab": {
          "base_uri": "https://localhost:8080/",
          "height": 394
        },
        "id": "jDTG5Ypkt2s8",
        "outputId": "9f11aaf6-8e77-4395-b4b9-dc900b9485d4"
      },
      "source": [
        "copy.avg_word_length.plot(kind='kde', fontsize=12, figsize=(5,6))"
      ],
      "execution_count": 15,
      "outputs": [
        {
          "output_type": "execute_result",
          "data": {
            "text/plain": [
              "<matplotlib.axes._subplots.AxesSubplot at 0x7fa772264890>"
            ]
          },
          "metadata": {
            "tags": []
          },
          "execution_count": 15
        },
        {
          "output_type": "display_data",
          "data": {
            "image/png": "[encoded data removed]",
            "text/plain": [
              "<Figure size 360x432 with 1 Axes>"
            ]
          },
          "metadata": {
            "tags": [],
            "needs_background": "light"
          }
        }
      ]
    },
    {
      "cell_type": "code",
      "metadata": {
        "colab": {
          "base_uri": "https://localhost:8080/",
          "height": 394
        },
        "id": "ae0Cz6z-FiB1",
        "outputId": "cec3d814-1205-4a9f-a064-339840fd24e2"
      },
      "source": [
        "copy.word_count.plot(kind='box', fontsize=12, figsize=(5,6))"
      ],
      "execution_count": 16,
      "outputs": [
        {
          "output_type": "execute_result",
          "data": {
            "text/plain": [
              "<matplotlib.axes._subplots.AxesSubplot at 0x7fa77aac8f90>"
            ]
          },
          "metadata": {
            "tags": []
          },
          "execution_count": 16
        },
        {
          "output_type": "display_data",
          "data": {
            "image/png": "[encoded data removed]",
            "text/plain": [
              "<Figure size 360x432 with 1 Axes>"
            ]
          },
          "metadata": {
            "tags": [],
            "needs_background": "light"
          }
        }
      ]
    },
    {
      "cell_type": "code",
      "metadata": {
        "id": "s6Z6hEDgiaLQ"
      },
      "source": [
        "reserved_words = [\"EMAIL\", \"NUMBER\", \"MENTION\", \"URL\"]\n",
        "token_dict = {\n",
        "            \"ca\": \"can\",\n",
        "            \"wo\": \"will\",\n",
        "            \"sha\": \"shall\",\n",
        "            \"'ve\": \"have\",\n",
        "            \"'ll\": \"will\",\n",
        "            \"'m\": \"am\",\n",
        "            \"n't\": \"not\",\n",
        "            \"'re\": \"are\",\n",
        "        }\n",
        "word_dict = {\n",
        "            \"cant\": \"can not\",\n",
        "            \"couldnt\": \"could not\",\n",
        "            \"wont\": \"will not\",\n",
        "            \"pls\": \"please\",\n",
        "            \"plz\": \"please\",\n",
        "            \"youre\": \"you are\",\n",
        "            \"theyre\": \"they are\",\n",
        "            \"ive\": \"I have\",\n",
        "            \"havent\": \"have not\",\n",
        "            \"hasnt\": \"has not\",\n",
        "            \"hadnt\": \"had not\",\n",
        "            \"im\": \"I am\",\n",
        "            \"didnt\": \"did not\",\n",
        "            \"dont\": \"do not\",\n",
        "            \"doesnt\": \"does not\",\n",
        "            \"gotta\": \"got to\",\n",
        "            \"wanna\": \"want to\",\n",
        "            \"gonna\": \"going to\",\n",
        "            \"wannabe\": \"want to be\",\n",
        "            \"cannot\": \"can not\",\n",
        "        }"
      ],
      "execution_count": 19,
      "outputs": []
    },
    {
      "cell_type": "code",
      "metadata": {
        "id": "Ke2i-uXXulRq"
      },
      "source": [
        "def substitute(doc):\n",
        "        doc = re.sub(r\"<br />\", \" \", doc)\n",
        "        doc = re.sub(r\"\\S+@\\S+\", \" EMAIL \", doc)\n",
        "        doc = re.sub(r\"@\\S+\", \" MENTION \", doc)\n",
        "        doc = re.sub(r\"https?:\\S+|http?:\\S+\", \" URL \", doc)\n",
        "        doc = re.sub(r\"(\\d+\\-\\d+)|\\d+\", \" NUMBER \", doc)\n",
        "        doc = re.sub(r\"[^A-Za-z']\", \" \", doc)\n",
        "\n",
        "        return doc\n",
        "\n",
        "def expand(token):\n",
        "        if token in reserved_words:\n",
        "            return token\n",
        "        token = token.lower()\n",
        "        if token.lower().strip() == \"let's\":\n",
        "            return \"let us\"\n",
        "\n",
        "        if token.lower().strip() == \"'twas\":\n",
        "            return \"it was\"\n",
        "\n",
        "        if word_dict.get(token, None):\n",
        "            return word_dict.get(token)\n",
        "\n",
        "        tokens = word_tokenize(token)\n",
        "        if len(tokens) == 1:\n",
        "            return word_dict.get(tokens[0], tokens[0])\n",
        "        for i in range(len(tokens)):\n",
        "            tokens[i] = token_dict.get(tokens[i], tokens[i])\n",
        "\n",
        "        return \" \".join(tokens)\n",
        "\n",
        "def preprocess(doc):\n",
        "        doc = normalize('NFD',doc).encode('ascii', 'ignore').decode('utf-8')\n",
        "        doc = substitute(doc)\n",
        "        tokens = doc.split()\n",
        "        doc = \" \".join([expand(w) for w in tokens])\n",
        "\n",
        "        tokens = doc.split()\n",
        "        tokens = [word for word in tokens if word.isalpha()]\n",
        "\n",
        "        tokens = [\n",
        "            word.lower() if word not in reserved_words else word for word in tokens\n",
        "        ]\n",
        "\n",
        "        return \" \".join(tokens)"
      ],
      "execution_count": 80,
      "outputs": []
    },
    {
      "cell_type": "code",
      "metadata": {
        "colab": {
          "base_uri": "https://localhost:8080/",
          "height": 35
        },
        "id": "TJ5IWJ6EyH7z",
        "outputId": "f1b75c56-c912-41bb-eee7-e91b712e1f39"
      },
      "source": [
        "preprocess(\"😂 @mama124 Im gonna enter http:bit.ly.12673/ab \\\n",
        "for 30th time :| don't know why cant i České Budějovic á Ś cé\")"
      ],
      "execution_count": 81,
      "outputs": [
        {
          "output_type": "execute_result",
          "data": {
            "application/vnd.google.colaboratory.intrinsic+json": {
              "type": "string"
            },
            "text/plain": [
              "'MENTION i am going to enter URL for NUMBER th time do not know why can not i ceske budejovic a s ce'"
            ]
          },
          "metadata": {
            "tags": []
          },
          "execution_count": 81
        }
      ]
    },
    {
      "cell_type": "code",
      "metadata": {
        "colab": {
          "base_uri": "https://localhost:8080/"
        },
        "id": "dPtSLyth0cR5",
        "outputId": "613299e9-1daa-441c-bd44-168b57f5e764"
      },
      "source": [
        "%%time \n",
        "copy['text'] = copy['text'].apply(preprocess)"
      ],
      "execution_count": 85,
      "outputs": [
        {
          "output_type": "stream",
          "text": [
            "CPU times: user 26min 58s, sys: 1.43 s, total: 27min\n",
            "Wall time: 27min\n"
          ],
          "name": "stdout"
        }
      ]
    },
    {
      "cell_type": "code",
      "metadata": {
        "id": "QXml1wmNWHZB"
      },
      "source": [
        "# copy[cols].to_csv('/content/drive/MyDrive/sentiment/data/data_preprocessed.csv')"
      ],
      "execution_count": 88,
      "outputs": []
    }
  ]
}