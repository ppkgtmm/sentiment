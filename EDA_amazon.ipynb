{
  "nbformat": 4,
  "nbformat_minor": 0,
  "metadata": {
    "colab": {
      "name": "EDA_amazon.ipynb",
      "provenance": [],
      "collapsed_sections": [],
      "toc_visible": true,
      "mount_file_id": "1c8mOhrFLH40-dK5l8qN6MnKMIE8p89Dp",
      "authorship_tag": "ABX9TyM7JQ1XmxfRouiNy4N4yLwi",
      "include_colab_link": true
    },
    "kernelspec": {
      "name": "python3",
      "display_name": "Python 3"
    },
    "accelerator": "GPU"
  },
  "cells": [
    {
      "cell_type": "markdown",
      "metadata": {
        "id": "view-in-github",
        "colab_type": "text"
      },
      "source": [
        "<a href=\"https://colab.research.google.com/github/ppkgtmm/sentiment/blob/main/EDA_amazon.ipynb\" target=\"_parent\"><img src=\"https://colab.research.google.com/assets/colab-badge.svg\" alt=\"Open In Colab\"/></a>"
      ]
    },
    {
      "cell_type": "code",
      "metadata": {
        "id": "9YTQc8Xbkh0M"
      },
      "source": [
        "import pandas as pd\n",
        "import math\n",
        "import matplotlib.pyplot as plt\n",
        "import re\n",
        "import nltk\n",
        "from unicodedata import normalize\n",
        "import collections"
      ],
      "execution_count": 2,
      "outputs": []
    },
    {
      "cell_type": "code",
      "metadata": {
        "colab": {
          "base_uri": "https://localhost:8080/"
        },
        "id": "xuMoCdKglh1P",
        "outputId": "09e77722-802b-496a-9b43-f7eed6094281"
      },
      "source": [
        "nltk.download('punkt')\n",
        "from nltk import word_tokenize"
      ],
      "execution_count": 3,
      "outputs": [
        {
          "output_type": "stream",
          "text": [
            "[nltk_data] Downloading package punkt to /root/nltk_data...\n",
            "[nltk_data]   Unzipping tokenizers/punkt.zip.\n"
          ],
          "name": "stdout"
        }
      ]
    },
    {
      "cell_type": "code",
      "metadata": {
        "id": "mkZR47JIlkP3"
      },
      "source": [
        "cols = ['text', 'target']\n",
        "decode_map = {0: 'negative', 1: 'positive'}"
      ],
      "execution_count": 4,
      "outputs": []
    },
    {
      "cell_type": "markdown",
      "metadata": {
        "id": "YUqt5vLvl8qp"
      },
      "source": [
        "## Read data\n",
        "#### column description\n",
        "1. text : review text\n",
        "2. target : polarity of review\n",
        "    \n",
        "    * 0 : negative\n",
        "    * 1 : positive\n"
      ]
    },
    {
      "cell_type": "code",
      "metadata": {
        "colab": {
          "base_uri": "https://localhost:8080/",
          "height": 204
        },
        "id": "RggBHiP0lola",
        "outputId": "d984088b-7178-439c-c43a-f98d750fd228"
      },
      "source": [
        "data = pd.read_csv('/content/drive/MyDrive/sentiment/data/data.csv')[cols]\n",
        "data.sample(5)"
      ],
      "execution_count": null,
      "outputs": [
        {
          "output_type": "execute_result",
          "data": {
            "text/html": [
              "<div>\n",
              "<style scoped>\n",
              "    .dataframe tbody tr th:only-of-type {\n",
              "        vertical-align: middle;\n",
              "    }\n",
              "\n",
              "    .dataframe tbody tr th {\n",
              "        vertical-align: top;\n",
              "    }\n",
              "\n",
              "    .dataframe thead th {\n",
              "        text-align: right;\n",
              "    }\n",
              "</style>\n",
              "<table border=\"1\" class=\"dataframe\">\n",
              "  <thead>\n",
              "    <tr style=\"text-align: right;\">\n",
              "      <th></th>\n",
              "      <th>text</th>\n",
              "      <th>target</th>\n",
              "    </tr>\n",
              "  </thead>\n",
              "  <tbody>\n",
              "    <tr>\n",
              "      <th>65541</th>\n",
              "      <td>Pure, Unadulterated Drivel....: Not only that,...</td>\n",
              "      <td>0</td>\n",
              "    </tr>\n",
              "    <tr>\n",
              "      <th>213749</th>\n",
              "      <td>Feel good music, ya gotta at least tap your to...</td>\n",
              "      <td>1</td>\n",
              "    </tr>\n",
              "    <tr>\n",
              "      <th>324204</th>\n",
              "      <td>Pretty Small Bags for Big Ponds: I have to adm...</td>\n",
              "      <td>0</td>\n",
              "    </tr>\n",
              "    <tr>\n",
              "      <th>192626</th>\n",
              "      <td>On the GO GO GO Boy LOVE THIS!!: I just got th...</td>\n",
              "      <td>1</td>\n",
              "    </tr>\n",
              "    <tr>\n",
              "      <th>337422</th>\n",
              "      <td>Terrific movie: Lemmon and MacLaine are great ...</td>\n",
              "      <td>1</td>\n",
              "    </tr>\n",
              "  </tbody>\n",
              "</table>\n",
              "</div>"
            ],
            "text/plain": [
              "                                                     text  target\n",
              "65541   Pure, Unadulterated Drivel....: Not only that,...       0\n",
              "213749  Feel good music, ya gotta at least tap your to...       1\n",
              "324204  Pretty Small Bags for Big Ponds: I have to adm...       0\n",
              "192626  On the GO GO GO Boy LOVE THIS!!: I just got th...       1\n",
              "337422  Terrific movie: Lemmon and MacLaine are great ...       1"
            ]
          },
          "metadata": {
            "tags": []
          },
          "execution_count": 13
        }
      ]
    },
    {
      "cell_type": "markdown",
      "metadata": {
        "id": "lenJUf1fmh1-"
      },
      "source": [
        "## EDA"
      ]
    },
    {
      "cell_type": "code",
      "metadata": {
        "colab": {
          "base_uri": "https://localhost:8080/"
        },
        "id": "tKCwdQ4JGNbO",
        "outputId": "91b23bd2-c135-4992-d9fc-c4c6be037777"
      },
      "source": [
        "data.info()"
      ],
      "execution_count": null,
      "outputs": [
        {
          "output_type": "stream",
          "text": [
            "<class 'pandas.core.frame.DataFrame'>\n",
            "RangeIndex: 360000 entries, 0 to 359999\n",
            "Data columns (total 2 columns):\n",
            " #   Column  Non-Null Count   Dtype \n",
            "---  ------  --------------   ----- \n",
            " 0   text    360000 non-null  object\n",
            " 1   target  360000 non-null  int64 \n",
            "dtypes: int64(1), object(1)\n",
            "memory usage: 5.5+ MB\n"
          ],
          "name": "stdout"
        }
      ]
    },
    {
      "cell_type": "code",
      "metadata": {
        "colab": {
          "base_uri": "https://localhost:8080/"
        },
        "id": "nO52xSGepWj9",
        "outputId": "66c4fdc8-fe50-4c65-a90e-46d29bc82400"
      },
      "source": [
        "data.isnull().any()"
      ],
      "execution_count": null,
      "outputs": [
        {
          "output_type": "execute_result",
          "data": {
            "text/plain": [
              "text      False\n",
              "target    False\n",
              "dtype: bool"
            ]
          },
          "metadata": {
            "tags": []
          },
          "execution_count": 5
        }
      ]
    },
    {
      "cell_type": "code",
      "metadata": {
        "id": "_vk-IXWnv3W8"
      },
      "source": [
        "# ValueError: No objects to concatenate\n",
        "# duplicates = pd.concat(rows for _, rows in data.groupby('text') \\\n",
        "#                        if len(rows) > 1)\n",
        "# duplicates"
      ],
      "execution_count": null,
      "outputs": []
    },
    {
      "cell_type": "code",
      "metadata": {
        "colab": {
          "base_uri": "https://localhost:8080/",
          "height": 111
        },
        "id": "DFss0WApl1Jn",
        "outputId": "393f6573-2d80-4874-9669-b4c8c645e4f9"
      },
      "source": [
        "target_dist = data.groupby('target').count().reset_index()\n",
        "target_dist['proportion'] = target_dist['text'] / sum(list(target_dist['text']))\n",
        "target_dist"
      ],
      "execution_count": null,
      "outputs": [
        {
          "output_type": "execute_result",
          "data": {
            "text/html": [
              "<div>\n",
              "<style scoped>\n",
              "    .dataframe tbody tr th:only-of-type {\n",
              "        vertical-align: middle;\n",
              "    }\n",
              "\n",
              "    .dataframe tbody tr th {\n",
              "        vertical-align: top;\n",
              "    }\n",
              "\n",
              "    .dataframe thead th {\n",
              "        text-align: right;\n",
              "    }\n",
              "</style>\n",
              "<table border=\"1\" class=\"dataframe\">\n",
              "  <thead>\n",
              "    <tr style=\"text-align: right;\">\n",
              "      <th></th>\n",
              "      <th>target</th>\n",
              "      <th>text</th>\n",
              "      <th>proportion</th>\n",
              "    </tr>\n",
              "  </thead>\n",
              "  <tbody>\n",
              "    <tr>\n",
              "      <th>0</th>\n",
              "      <td>0</td>\n",
              "      <td>180000</td>\n",
              "      <td>0.5</td>\n",
              "    </tr>\n",
              "    <tr>\n",
              "      <th>1</th>\n",
              "      <td>1</td>\n",
              "      <td>180000</td>\n",
              "      <td>0.5</td>\n",
              "    </tr>\n",
              "  </tbody>\n",
              "</table>\n",
              "</div>"
            ],
            "text/plain": [
              "   target    text  proportion\n",
              "0       0  180000         0.5\n",
              "1       1  180000         0.5"
            ]
          },
          "metadata": {
            "tags": []
          },
          "execution_count": 8
        }
      ]
    },
    {
      "cell_type": "code",
      "metadata": {
        "colab": {
          "base_uri": "https://localhost:8080/",
          "height": 354
        },
        "id": "NAGvggYZmfai",
        "outputId": "c560d47e-72a9-4620-c66a-10abb249885d"
      },
      "source": [
        "target_dist.plot(x='target', y='proportion', kind='bar', rot=0, \\\n",
        "                 colormap='Pastel1', fontsize=12, figsize=(5,5))"
      ],
      "execution_count": null,
      "outputs": [
        {
          "output_type": "execute_result",
          "data": {
            "text/plain": [
              "<matplotlib.axes._subplots.AxesSubplot at 0x7fa77b039590>"
            ]
          },
          "metadata": {
            "tags": []
          },
          "execution_count": 9
        },
        {
          "output_type": "display_data",
          "data": {
            "image/png": "[encoded data removed]",
            "text/plain": [
              "<Figure size 360x360 with 1 Axes>"
            ]
          },
          "metadata": {
            "tags": [],
            "needs_background": "light"
          }
        }
      ]
    },
    {
      "cell_type": "code",
      "metadata": {
        "id": "JR_COTi1p23X"
      },
      "source": [
        "copy = data.copy()\n",
        "copy['word_count'] = copy['text'].apply(lambda x: len(x.split(' ')))"
      ],
      "execution_count": null,
      "outputs": []
    },
    {
      "cell_type": "code",
      "metadata": {
        "id": "W3AKWFfPrBzr"
      },
      "source": [
        "def avg_word_length(text):\n",
        "    words = text.split(' ')\n",
        "    length = [len(w) for w in words]\n",
        "    return math.ceil(sum(length) / len(length))\n",
        "\n",
        "copy['avg_word_length'] = copy['text'].apply(avg_word_length)"
      ],
      "execution_count": null,
      "outputs": []
    },
    {
      "cell_type": "code",
      "metadata": {
        "colab": {
          "base_uri": "https://localhost:8080/",
          "height": 204
        },
        "id": "66VEdvCMrEuP",
        "outputId": "6ebbf01c-f2d9-402d-d6f5-1784eeb7c087"
      },
      "source": [
        "copy.head(5)"
      ],
      "execution_count": null,
      "outputs": [
        {
          "output_type": "execute_result",
          "data": {
            "text/html": [
              "<div>\n",
              "<style scoped>\n",
              "    .dataframe tbody tr th:only-of-type {\n",
              "        vertical-align: middle;\n",
              "    }\n",
              "\n",
              "    .dataframe tbody tr th {\n",
              "        vertical-align: top;\n",
              "    }\n",
              "\n",
              "    .dataframe thead th {\n",
              "        text-align: right;\n",
              "    }\n",
              "</style>\n",
              "<table border=\"1\" class=\"dataframe\">\n",
              "  <thead>\n",
              "    <tr style=\"text-align: right;\">\n",
              "      <th></th>\n",
              "      <th>text</th>\n",
              "      <th>target</th>\n",
              "      <th>word_count</th>\n",
              "      <th>avg_word_length</th>\n",
              "    </tr>\n",
              "  </thead>\n",
              "  <tbody>\n",
              "    <tr>\n",
              "      <th>0</th>\n",
              "      <td>A nice listen: I have always beed a huge stars...</td>\n",
              "      <td>1</td>\n",
              "      <td>135</td>\n",
              "      <td>4</td>\n",
              "    </tr>\n",
              "    <tr>\n",
              "      <th>1</th>\n",
              "      <td>I am Very satisfied with this order: It was a ...</td>\n",
              "      <td>1</td>\n",
              "      <td>26</td>\n",
              "      <td>5</td>\n",
              "    </tr>\n",
              "    <tr>\n",
              "      <th>2</th>\n",
              "      <td>Christmas Present: I got this for my son for C...</td>\n",
              "      <td>1</td>\n",
              "      <td>79</td>\n",
              "      <td>5</td>\n",
              "    </tr>\n",
              "    <tr>\n",
              "      <th>3</th>\n",
              "      <td>Prob works for some doors but not ours: We hav...</td>\n",
              "      <td>0</td>\n",
              "      <td>134</td>\n",
              "      <td>5</td>\n",
              "    </tr>\n",
              "    <tr>\n",
              "      <th>4</th>\n",
              "      <td>can you say 'rip off'?: These bulbs, while ill...</td>\n",
              "      <td>0</td>\n",
              "      <td>176</td>\n",
              "      <td>5</td>\n",
              "    </tr>\n",
              "  </tbody>\n",
              "</table>\n",
              "</div>"
            ],
            "text/plain": [
              "                                                text  ...  avg_word_length\n",
              "0  A nice listen: I have always beed a huge stars...  ...                4\n",
              "1  I am Very satisfied with this order: It was a ...  ...                5\n",
              "2  Christmas Present: I got this for my son for C...  ...                5\n",
              "3  Prob works for some doors but not ours: We hav...  ...                5\n",
              "4  can you say 'rip off'?: These bulbs, while ill...  ...                5\n",
              "\n",
              "[5 rows x 4 columns]"
            ]
          },
          "metadata": {
            "tags": []
          },
          "execution_count": 12
        }
      ]
    },
    {
      "cell_type": "code",
      "metadata": {
        "colab": {
          "base_uri": "https://localhost:8080/",
          "height": 142
        },
        "id": "Cp1y8vePrPo4",
        "outputId": "8c29c1bb-40cb-4b00-d474-f014912fe3ca"
      },
      "source": [
        "copy.describe().transpose()"
      ],
      "execution_count": null,
      "outputs": [
        {
          "output_type": "execute_result",
          "data": {
            "text/html": [
              "<div>\n",
              "<style scoped>\n",
              "    .dataframe tbody tr th:only-of-type {\n",
              "        vertical-align: middle;\n",
              "    }\n",
              "\n",
              "    .dataframe tbody tr th {\n",
              "        vertical-align: top;\n",
              "    }\n",
              "\n",
              "    .dataframe thead th {\n",
              "        text-align: right;\n",
              "    }\n",
              "</style>\n",
              "<table border=\"1\" class=\"dataframe\">\n",
              "  <thead>\n",
              "    <tr style=\"text-align: right;\">\n",
              "      <th></th>\n",
              "      <th>count</th>\n",
              "      <th>mean</th>\n",
              "      <th>std</th>\n",
              "      <th>min</th>\n",
              "      <th>25%</th>\n",
              "      <th>50%</th>\n",
              "      <th>75%</th>\n",
              "      <th>max</th>\n",
              "    </tr>\n",
              "  </thead>\n",
              "  <tbody>\n",
              "    <tr>\n",
              "      <th>target</th>\n",
              "      <td>360000.0</td>\n",
              "      <td>0.500000</td>\n",
              "      <td>0.500001</td>\n",
              "      <td>0.0</td>\n",
              "      <td>0.0</td>\n",
              "      <td>0.5</td>\n",
              "      <td>1.0</td>\n",
              "      <td>1.0</td>\n",
              "    </tr>\n",
              "    <tr>\n",
              "      <th>word_count</th>\n",
              "      <td>360000.0</td>\n",
              "      <td>78.471886</td>\n",
              "      <td>42.831131</td>\n",
              "      <td>2.0</td>\n",
              "      <td>42.0</td>\n",
              "      <td>70.0</td>\n",
              "      <td>108.0</td>\n",
              "      <td>223.0</td>\n",
              "    </tr>\n",
              "    <tr>\n",
              "      <th>avg_word_length</th>\n",
              "      <td>360000.0</td>\n",
              "      <td>5.032367</td>\n",
              "      <td>0.530537</td>\n",
              "      <td>2.0</td>\n",
              "      <td>5.0</td>\n",
              "      <td>5.0</td>\n",
              "      <td>5.0</td>\n",
              "      <td>97.0</td>\n",
              "    </tr>\n",
              "  </tbody>\n",
              "</table>\n",
              "</div>"
            ],
            "text/plain": [
              "                    count       mean        std  min   25%   50%    75%    max\n",
              "target           360000.0   0.500000   0.500001  0.0   0.0   0.5    1.0    1.0\n",
              "word_count       360000.0  78.471886  42.831131  2.0  42.0  70.0  108.0  223.0\n",
              "avg_word_length  360000.0   5.032367   0.530537  2.0   5.0   5.0    5.0   97.0"
            ]
          },
          "metadata": {
            "tags": []
          },
          "execution_count": 13
        }
      ]
    },
    {
      "cell_type": "code",
      "metadata": {
        "colab": {
          "base_uri": "https://localhost:8080/",
          "height": 398
        },
        "id": "FoSrGoqUrrtj",
        "outputId": "76cea2a7-a174-4905-e3dd-8ec24f8973c1"
      },
      "source": [
        "copy.word_count.plot(kind='kde', fontsize=12, figsize=(5,6))"
      ],
      "execution_count": null,
      "outputs": [
        {
          "output_type": "execute_result",
          "data": {
            "text/plain": [
              "<matplotlib.axes._subplots.AxesSubplot at 0x7fa77af62f90>"
            ]
          },
          "metadata": {
            "tags": []
          },
          "execution_count": 14
        },
        {
          "output_type": "display_data",
          "data": {
            "image/png": "[encoded data removed]",
            "text/plain": [
              "<Figure size 360x432 with 1 Axes>"
            ]
          },
          "metadata": {
            "tags": [],
            "needs_background": "light"
          }
        }
      ]
    },
    {
      "cell_type": "code",
      "metadata": {
        "colab": {
          "base_uri": "https://localhost:8080/",
          "height": 394
        },
        "id": "jDTG5Ypkt2s8",
        "outputId": "9f11aaf6-8e77-4395-b4b9-dc900b9485d4"
      },
      "source": [
        "copy.avg_word_length.plot(kind='kde', fontsize=12, figsize=(5,6))"
      ],
      "execution_count": null,
      "outputs": [
        {
          "output_type": "execute_result",
          "data": {
            "text/plain": [
              "<matplotlib.axes._subplots.AxesSubplot at 0x7fa772264890>"
            ]
          },
          "metadata": {
            "tags": []
          },
          "execution_count": 15
        },
        {
          "output_type": "display_data",
          "data": {
            "image/png": "[encoded data removed]",
            "text/plain": [
              "<Figure size 360x432 with 1 Axes>"
            ]
          },
          "metadata": {
            "tags": [],
            "needs_background": "light"
          }
        }
      ]
    },
    {
      "cell_type": "code",
      "metadata": {
        "colab": {
          "base_uri": "https://localhost:8080/",
          "height": 394
        },
        "id": "ae0Cz6z-FiB1",
        "outputId": "cec3d814-1205-4a9f-a064-339840fd24e2"
      },
      "source": [
        "copy.word_count.plot(kind='box', fontsize=12, figsize=(5,6))"
      ],
      "execution_count": null,
      "outputs": [
        {
          "output_type": "execute_result",
          "data": {
            "text/plain": [
              "<matplotlib.axes._subplots.AxesSubplot at 0x7fa77aac8f90>"
            ]
          },
          "metadata": {
            "tags": []
          },
          "execution_count": 16
        },
        {
          "output_type": "display_data",
          "data": {
            "image/png": "[encoded data removed]",
            "text/plain": [
              "<Figure size 360x432 with 1 Axes>"
            ]
          },
          "metadata": {
            "tags": [],
            "needs_background": "light"
          }
        }
      ]
    },
    {
      "cell_type": "code",
      "metadata": {
        "id": "s6Z6hEDgiaLQ"
      },
      "source": [
        "reserved_words = [\"EMAIL\", \"NUMBER\", \"MENTION\", \"URL\"]\n",
        "token_dict = {\n",
        "            \"ca\": \"can\",\n",
        "            \"wo\": \"will\",\n",
        "            \"sha\": \"shall\",\n",
        "            \"'ve\": \"have\",\n",
        "            \"'ll\": \"will\",\n",
        "            \"'m\": \"am\",\n",
        "            \"n't\": \"not\",\n",
        "            \"'re\": \"are\",\n",
        "        }\n",
        "word_dict = {\n",
        "            \"cant\": \"can not\",\n",
        "            \"couldnt\": \"could not\",\n",
        "            \"wont\": \"will not\",\n",
        "            \"pls\": \"please\",\n",
        "            \"plz\": \"please\",\n",
        "            \"youre\": \"you are\",\n",
        "            \"theyre\": \"they are\",\n",
        "            \"ive\": \"I have\",\n",
        "            \"havent\": \"have not\",\n",
        "            \"hasnt\": \"has not\",\n",
        "            \"hadnt\": \"had not\",\n",
        "            \"im\": \"I am\",\n",
        "            \"didnt\": \"did not\",\n",
        "            \"dont\": \"do not\",\n",
        "            \"doesnt\": \"does not\",\n",
        "            \"gotta\": \"got to\",\n",
        "            \"wanna\": \"want to\",\n",
        "            \"gonna\": \"going to\",\n",
        "            \"wannabe\": \"want to be\",\n",
        "            \"cannot\": \"can not\",\n",
        "        }"
      ],
      "execution_count": 8,
      "outputs": []
    },
    {
      "cell_type": "code",
      "metadata": {
        "id": "Ke2i-uXXulRq"
      },
      "source": [
        "def substitute(doc):\n",
        "        doc = re.sub(r\"<br />\", \" \", doc)\n",
        "        doc = re.sub(r\"\\S+@\\S+\", \" EMAIL \", doc)\n",
        "        doc = re.sub(r\"@\\S+\", \" MENTION \", doc)\n",
        "        doc = re.sub(r\"https?:\\S+|http?:\\S+\", \" URL \", doc)\n",
        "        doc = re.sub(r\"(\\d+\\-\\d+)|\\d+\", \" NUMBER \", doc)\n",
        "        doc = re.sub(r\"[^A-Za-z']\", \" \", doc)\n",
        "\n",
        "        return doc\n",
        "\n",
        "def expand(token):\n",
        "        if token in reserved_words:\n",
        "            return token\n",
        "        token = token.lower()\n",
        "        if token.lower().strip() == \"let's\":\n",
        "            return \"let us\"\n",
        "\n",
        "        if token.lower().strip() == \"'twas\":\n",
        "            return \"it was\"\n",
        "\n",
        "        if word_dict.get(token, None):\n",
        "            return word_dict.get(token)\n",
        "\n",
        "        tokens = word_tokenize(token)\n",
        "        if len(tokens) == 1:\n",
        "            return word_dict.get(tokens[0], tokens[0])\n",
        "        for i in range(len(tokens)):\n",
        "            tokens[i] = token_dict.get(tokens[i], tokens[i])\n",
        "\n",
        "        return \" \".join(tokens)\n",
        "\n",
        "def preprocess(doc):\n",
        "        doc = normalize('NFD',doc).encode('ascii', 'ignore').decode('utf-8')\n",
        "        doc = substitute(doc)\n",
        "        tokens = doc.split()\n",
        "        doc = \" \".join([expand(w) for w in tokens])\n",
        "\n",
        "        tokens = doc.split()\n",
        "        tokens = [word for word in tokens if word.isalpha()]\n",
        "\n",
        "        tokens = [\n",
        "            word.lower() if word not in reserved_words else word for word in tokens\n",
        "        ]\n",
        "\n",
        "        return \" \".join(tokens)"
      ],
      "execution_count": 9,
      "outputs": []
    },
    {
      "cell_type": "code",
      "metadata": {
        "colab": {
          "base_uri": "https://localhost:8080/",
          "height": 35
        },
        "id": "TJ5IWJ6EyH7z",
        "outputId": "8a33c7a2-c567-45a1-a06c-045be27cfff0"
      },
      "source": [
        "preprocess(\"😂 @mama124 Im gonna enter http:bit.ly.12673/ab \\\n",
        "for 30th time :| don't know why cant i České Budějovic á Ś cé\")"
      ],
      "execution_count": 10,
      "outputs": [
        {
          "output_type": "execute_result",
          "data": {
            "application/vnd.google.colaboratory.intrinsic+json": {
              "type": "string"
            },
            "text/plain": [
              "'MENTION i am going to enter URL for NUMBER th time do not know why can not i ceske budejovic a s ce'"
            ]
          },
          "metadata": {
            "tags": []
          },
          "execution_count": 10
        }
      ]
    },
    {
      "cell_type": "code",
      "metadata": {
        "colab": {
          "base_uri": "https://localhost:8080/"
        },
        "id": "dPtSLyth0cR5",
        "outputId": "2757392b-f882-446f-fe92-3482cdd9f325"
      },
      "source": [
        "%%time \n",
        "for i in range(len(list(copy['text']))):\n",
        "  copy['text'].loc[i] = preprocess(copy['text'].loc[i])"
      ],
      "execution_count": null,
      "outputs": [
        {
          "output_type": "stream",
          "text": [
            "/usr/local/lib/python3.7/dist-packages/pandas/core/indexing.py:670: SettingWithCopyWarning: \n",
            "A value is trying to be set on a copy of a slice from a DataFrame\n",
            "\n",
            "See the caveats in the documentation: https://pandas.pydata.org/pandas-docs/stable/user_guide/indexing.html#returning-a-view-versus-a-copy\n",
            "  iloc._setitem_with_indexer(indexer, value)\n"
          ],
          "name": "stderr"
        },
        {
          "output_type": "stream",
          "text": [
            "CPU times: user 52min 17s, sys: 1.06 s, total: 52min 18s\n",
            "Wall time: 52min 18s\n"
          ],
          "name": "stdout"
        }
      ]
    },
    {
      "cell_type": "code",
      "metadata": {
        "id": "QXml1wmNWHZB"
      },
      "source": [
        "copy[cols].to_csv('/content/drive/MyDrive/sentiment/data/data_preprocessed2.csv')"
      ],
      "execution_count": null,
      "outputs": []
    },
    {
      "cell_type": "code",
      "metadata": {
        "id": "Jcygc8OtXGSt"
      },
      "source": [
        "def avg_word_length(text):\n",
        "    words = text.split(' ')\n",
        "    length = [len(w) for w in words]\n",
        "    return math.ceil(sum(length) / len(length))\n",
        "\n",
        "copy['word_count'] = copy['text'].apply(lambda x: len(x.split(' ')))\n",
        "copy['avg_word_length'] = copy['text'].apply(avg_word_length)"
      ],
      "execution_count": null,
      "outputs": []
    },
    {
      "cell_type": "code",
      "metadata": {
        "colab": {
          "base_uri": "https://localhost:8080/",
          "height": 142
        },
        "id": "uVIwVY6UXV5f",
        "outputId": "683ebdb5-6d8e-4824-f84f-ef0038392e34"
      },
      "source": [
        "copy.describe().transpose()"
      ],
      "execution_count": null,
      "outputs": [
        {
          "output_type": "execute_result",
          "data": {
            "text/html": [
              "<div>\n",
              "<style scoped>\n",
              "    .dataframe tbody tr th:only-of-type {\n",
              "        vertical-align: middle;\n",
              "    }\n",
              "\n",
              "    .dataframe tbody tr th {\n",
              "        vertical-align: top;\n",
              "    }\n",
              "\n",
              "    .dataframe thead th {\n",
              "        text-align: right;\n",
              "    }\n",
              "</style>\n",
              "<table border=\"1\" class=\"dataframe\">\n",
              "  <thead>\n",
              "    <tr style=\"text-align: right;\">\n",
              "      <th></th>\n",
              "      <th>count</th>\n",
              "      <th>mean</th>\n",
              "      <th>std</th>\n",
              "      <th>min</th>\n",
              "      <th>25%</th>\n",
              "      <th>50%</th>\n",
              "      <th>75%</th>\n",
              "      <th>max</th>\n",
              "    </tr>\n",
              "  </thead>\n",
              "  <tbody>\n",
              "    <tr>\n",
              "      <th>target</th>\n",
              "      <td>360000.0</td>\n",
              "      <td>0.500000</td>\n",
              "      <td>0.500001</td>\n",
              "      <td>0.0</td>\n",
              "      <td>0.0</td>\n",
              "      <td>0.5</td>\n",
              "      <td>1.0</td>\n",
              "      <td>1.0</td>\n",
              "    </tr>\n",
              "    <tr>\n",
              "      <th>word_count</th>\n",
              "      <td>360000.0</td>\n",
              "      <td>80.454903</td>\n",
              "      <td>44.037829</td>\n",
              "      <td>3.0</td>\n",
              "      <td>43.0</td>\n",
              "      <td>72.0</td>\n",
              "      <td>111.0</td>\n",
              "      <td>245.0</td>\n",
              "    </tr>\n",
              "    <tr>\n",
              "      <th>avg_word_length</th>\n",
              "      <td>360000.0</td>\n",
              "      <td>4.792322</td>\n",
              "      <td>0.510167</td>\n",
              "      <td>2.0</td>\n",
              "      <td>4.0</td>\n",
              "      <td>5.0</td>\n",
              "      <td>5.0</td>\n",
              "      <td>15.0</td>\n",
              "    </tr>\n",
              "  </tbody>\n",
              "</table>\n",
              "</div>"
            ],
            "text/plain": [
              "                    count       mean        std  min   25%   50%    75%    max\n",
              "target           360000.0   0.500000   0.500001  0.0   0.0   0.5    1.0    1.0\n",
              "word_count       360000.0  80.454903  44.037829  3.0  43.0  72.0  111.0  245.0\n",
              "avg_word_length  360000.0   4.792322   0.510167  2.0   4.0   5.0    5.0   15.0"
            ]
          },
          "metadata": {
            "tags": []
          },
          "execution_count": 90
        }
      ]
    },
    {
      "cell_type": "code",
      "metadata": {
        "colab": {
          "base_uri": "https://localhost:8080/",
          "height": 394
        },
        "id": "W-IEFiagXipg",
        "outputId": "c24fcf82-03cd-4911-8fb2-ca0aadfe00b6"
      },
      "source": [
        "copy.word_count.plot(kind='kde', fontsize=12, figsize=(5,6))"
      ],
      "execution_count": null,
      "outputs": [
        {
          "output_type": "execute_result",
          "data": {
            "text/plain": [
              "<matplotlib.axes._subplots.AxesSubplot at 0x7fa7678cc990>"
            ]
          },
          "metadata": {
            "tags": []
          },
          "execution_count": 91
        },
        {
          "output_type": "display_data",
          "data": {
            "image/png": "[encoded data removed]",
            "text/plain": [
              "<Figure size 360x432 with 1 Axes>"
            ]
          },
          "metadata": {
            "tags": [],
            "needs_background": "light"
          }
        }
      ]
    },
    {
      "cell_type": "code",
      "metadata": {
        "colab": {
          "base_uri": "https://localhost:8080/",
          "height": 394
        },
        "id": "A9tgoJqxXkeD",
        "outputId": "8dc76d94-6a7f-4478-dbda-01eb7d7145bb"
      },
      "source": [
        "copy.word_count.plot(kind='box', fontsize=12, figsize=(5,6))"
      ],
      "execution_count": null,
      "outputs": [
        {
          "output_type": "execute_result",
          "data": {
            "text/plain": [
              "<matplotlib.axes._subplots.AxesSubplot at 0x7fa762afd390>"
            ]
          },
          "metadata": {
            "tags": []
          },
          "execution_count": 92
        },
        {
          "output_type": "display_data",
          "data": {
            "image/png": "[encoded data removed]",
            "text/plain": [
              "<Figure size 360x432 with 1 Axes>"
            ]
          },
          "metadata": {
            "tags": [],
            "needs_background": "light"
          }
        }
      ]
    },
    {
      "cell_type": "code",
      "metadata": {
        "colab": {
          "base_uri": "https://localhost:8080/",
          "height": 394
        },
        "id": "cGEgaRGSXmPn",
        "outputId": "7f1217d5-67c9-470c-f764-23267265c9c5"
      },
      "source": [
        "copy.avg_word_length.plot(kind='kde', fontsize=12, figsize=(5,6))"
      ],
      "execution_count": null,
      "outputs": [
        {
          "output_type": "execute_result",
          "data": {
            "text/plain": [
              "<matplotlib.axes._subplots.AxesSubplot at 0x7fa762b937d0>"
            ]
          },
          "metadata": {
            "tags": []
          },
          "execution_count": 93
        },
        {
          "output_type": "display_data",
          "data": {
            "image/png": "[encoded data removed]",
            "text/plain": [
              "<Figure size 360x432 with 1 Axes>"
            ]
          },
          "metadata": {
            "tags": [],
            "needs_background": "light"
          }
        }
      ]
    },
    {
      "cell_type": "code",
      "metadata": {
        "colab": {
          "base_uri": "https://localhost:8080/",
          "height": 394
        },
        "id": "Pb6RtPaeXrID",
        "outputId": "c050ea2e-ef6f-4b56-be26-a3f27b730bef"
      },
      "source": [
        "copy.avg_word_length.plot(kind='box', fontsize=12, figsize=(5,6))"
      ],
      "execution_count": null,
      "outputs": [
        {
          "output_type": "execute_result",
          "data": {
            "text/plain": [
              "<matplotlib.axes._subplots.AxesSubplot at 0x7fa762a28050>"
            ]
          },
          "metadata": {
            "tags": []
          },
          "execution_count": 94
        },
        {
          "output_type": "display_data",
          "data": {
            "image/png": "[encoded data removed]",
            "text/plain": [
              "<Figure size 360x432 with 1 Axes>"
            ]
          },
          "metadata": {
            "tags": [],
            "needs_background": "light"
          }
        }
      ]
    },
    {
      "cell_type": "code",
      "metadata": {
        "id": "1a7qpmfXbkC_"
      },
      "source": [
        "word_counts = collections.Counter(\" \".join(copy['text']).split())"
      ],
      "execution_count": null,
      "outputs": []
    },
    {
      "cell_type": "code",
      "metadata": {
        "colab": {
          "base_uri": "https://localhost:8080/",
          "height": 204
        },
        "id": "n2QAPu-Ddcgx",
        "outputId": "b6aa4bdb-6da4-4aea-a073-25d1d7ad01b2"
      },
      "source": [
        "count_df = pd.DataFrame(word_counts.most_common(20))\n",
        "count_df.columns = ['word', 'count']\n",
        "count_df['proportion'] = count_df['count'] / sum(list(count_df['count']))\n",
        "count_df.head()"
      ],
      "execution_count": null,
      "outputs": [
        {
          "output_type": "execute_result",
          "data": {
            "text/html": [
              "<div>\n",
              "<style scoped>\n",
              "    .dataframe tbody tr th:only-of-type {\n",
              "        vertical-align: middle;\n",
              "    }\n",
              "\n",
              "    .dataframe tbody tr th {\n",
              "        vertical-align: top;\n",
              "    }\n",
              "\n",
              "    .dataframe thead th {\n",
              "        text-align: right;\n",
              "    }\n",
              "</style>\n",
              "<table border=\"1\" class=\"dataframe\">\n",
              "  <thead>\n",
              "    <tr style=\"text-align: right;\">\n",
              "      <th></th>\n",
              "      <th>word</th>\n",
              "      <th>count</th>\n",
              "      <th>proportion</th>\n",
              "    </tr>\n",
              "  </thead>\n",
              "  <tbody>\n",
              "    <tr>\n",
              "      <th>0</th>\n",
              "      <td>the</td>\n",
              "      <td>1435635</td>\n",
              "      <td>0.147026</td>\n",
              "    </tr>\n",
              "    <tr>\n",
              "      <th>1</th>\n",
              "      <td>i</td>\n",
              "      <td>837721</td>\n",
              "      <td>0.085792</td>\n",
              "    </tr>\n",
              "    <tr>\n",
              "      <th>2</th>\n",
              "      <td>and</td>\n",
              "      <td>771538</td>\n",
              "      <td>0.079014</td>\n",
              "    </tr>\n",
              "    <tr>\n",
              "      <th>3</th>\n",
              "      <td>a</td>\n",
              "      <td>723410</td>\n",
              "      <td>0.074086</td>\n",
              "    </tr>\n",
              "    <tr>\n",
              "      <th>4</th>\n",
              "      <td>to</td>\n",
              "      <td>697957</td>\n",
              "      <td>0.071479</td>\n",
              "    </tr>\n",
              "  </tbody>\n",
              "</table>\n",
              "</div>"
            ],
            "text/plain": [
              "  word    count  proportion\n",
              "0  the  1435635    0.147026\n",
              "1    i   837721    0.085792\n",
              "2  and   771538    0.079014\n",
              "3    a   723410    0.074086\n",
              "4   to   697957    0.071479"
            ]
          },
          "metadata": {
            "tags": []
          },
          "execution_count": 118
        }
      ]
    },
    {
      "cell_type": "code",
      "metadata": {
        "colab": {
          "base_uri": "https://localhost:8080/",
          "height": 448
        },
        "id": "e-S9V1zeeyPP",
        "outputId": "afd36010-2084-4452-f70d-4de6c083fad4"
      },
      "source": [
        "count_df.plot(kind='barh', x='word', y='proportion', rot=0, \\\n",
        "                 colormap='Pastel1', fontsize=12, figsize=(8,7))"
      ],
      "execution_count": null,
      "outputs": [
        {
          "output_type": "execute_result",
          "data": {
            "text/plain": [
              "<matplotlib.axes._subplots.AxesSubplot at 0x7fa762778ad0>"
            ]
          },
          "metadata": {
            "tags": []
          },
          "execution_count": 122
        },
        {
          "output_type": "display_data",
          "data": {
            "image/png": "[encoded data removed]",
            "text/plain": [
              "<Figure size 576x504 with 1 Axes>"
            ]
          },
          "metadata": {
            "tags": [],
            "needs_background": "light"
          }
        }
      ]
    },
    {
      "cell_type": "code",
      "metadata": {
        "colab": {
          "base_uri": "https://localhost:8080/",
          "height": 204
        },
        "id": "frWq2Ee0yV8M",
        "outputId": "595cb45f-ae52-4a28-bf60-d36aba6558fd"
      },
      "source": [
        "preprocessed = pd.read_csv(\n",
        "    '/content/drive/MyDrive/sentiment/data/data_preprocessed2.csv'\n",
        "    )[cols]\n",
        "preprocessed.sample(5)"
      ],
      "execution_count": null,
      "outputs": [
        {
          "output_type": "execute_result",
          "data": {
            "text/html": [
              "<div>\n",
              "<style scoped>\n",
              "    .dataframe tbody tr th:only-of-type {\n",
              "        vertical-align: middle;\n",
              "    }\n",
              "\n",
              "    .dataframe tbody tr th {\n",
              "        vertical-align: top;\n",
              "    }\n",
              "\n",
              "    .dataframe thead th {\n",
              "        text-align: right;\n",
              "    }\n",
              "</style>\n",
              "<table border=\"1\" class=\"dataframe\">\n",
              "  <thead>\n",
              "    <tr style=\"text-align: right;\">\n",
              "      <th></th>\n",
              "      <th>text</th>\n",
              "      <th>target</th>\n",
              "    </tr>\n",
              "  </thead>\n",
              "  <tbody>\n",
              "    <tr>\n",
              "      <th>189572</th>\n",
              "      <td>serious design flaws three years ago i purchas...</td>\n",
              "      <td>0</td>\n",
              "    </tr>\n",
              "    <tr>\n",
              "      <th>96328</th>\n",
              "      <td>a miss soderbergh movies are usually hit or mi...</td>\n",
              "      <td>0</td>\n",
              "    </tr>\n",
              "    <tr>\n",
              "      <th>305723</th>\n",
              "      <td>can not do without it i have very sensitive sk...</td>\n",
              "      <td>1</td>\n",
              "    </tr>\n",
              "    <tr>\n",
              "      <th>133602</th>\n",
              "      <td>great knife this is the best folding knife i h...</td>\n",
              "      <td>1</td>\n",
              "    </tr>\n",
              "    <tr>\n",
              "      <th>51098</th>\n",
              "      <td>let the music melt your troubles away i absolu...</td>\n",
              "      <td>1</td>\n",
              "    </tr>\n",
              "  </tbody>\n",
              "</table>\n",
              "</div>"
            ],
            "text/plain": [
              "                                                     text  target\n",
              "189572  serious design flaws three years ago i purchas...       0\n",
              "96328   a miss soderbergh movies are usually hit or mi...       0\n",
              "305723  can not do without it i have very sensitive sk...       1\n",
              "133602  great knife this is the best folding knife i h...       1\n",
              "51098   let the music melt your troubles away i absolu...       1"
            ]
          },
          "metadata": {
            "tags": []
          },
          "execution_count": 24
        }
      ]
    },
    {
      "cell_type": "code",
      "metadata": {
        "colab": {
          "base_uri": "https://localhost:8080/",
          "height": 80
        },
        "id": "5gH8acnayt3L",
        "outputId": "8e588a4f-1142-46c0-88f5-99178b31cf41"
      },
      "source": [
        "preprocessed.describe().transpose()"
      ],
      "execution_count": null,
      "outputs": [
        {
          "output_type": "execute_result",
          "data": {
            "text/html": [
              "<div>\n",
              "<style scoped>\n",
              "    .dataframe tbody tr th:only-of-type {\n",
              "        vertical-align: middle;\n",
              "    }\n",
              "\n",
              "    .dataframe tbody tr th {\n",
              "        vertical-align: top;\n",
              "    }\n",
              "\n",
              "    .dataframe thead th {\n",
              "        text-align: right;\n",
              "    }\n",
              "</style>\n",
              "<table border=\"1\" class=\"dataframe\">\n",
              "  <thead>\n",
              "    <tr style=\"text-align: right;\">\n",
              "      <th></th>\n",
              "      <th>count</th>\n",
              "      <th>mean</th>\n",
              "      <th>std</th>\n",
              "      <th>min</th>\n",
              "      <th>25%</th>\n",
              "      <th>50%</th>\n",
              "      <th>75%</th>\n",
              "      <th>max</th>\n",
              "    </tr>\n",
              "  </thead>\n",
              "  <tbody>\n",
              "    <tr>\n",
              "      <th>target</th>\n",
              "      <td>360000.0</td>\n",
              "      <td>0.5</td>\n",
              "      <td>0.500001</td>\n",
              "      <td>0.0</td>\n",
              "      <td>0.0</td>\n",
              "      <td>0.5</td>\n",
              "      <td>1.0</td>\n",
              "      <td>1.0</td>\n",
              "    </tr>\n",
              "  </tbody>\n",
              "</table>\n",
              "</div>"
            ],
            "text/plain": [
              "           count  mean       std  min  25%  50%  75%  max\n",
              "target  360000.0   0.5  0.500001  0.0  0.0  0.5  1.0  1.0"
            ]
          },
          "metadata": {
            "tags": []
          },
          "execution_count": 25
        }
      ]
    },
    {
      "cell_type": "code",
      "metadata": {
        "colab": {
          "base_uri": "https://localhost:8080/",
          "height": 80
        },
        "id": "vGgSpA_iy09p",
        "outputId": "783d49e9-97a8-43e0-fab1-415db3d52693"
      },
      "source": [
        "preprocessed[['text']].describe().transpose()"
      ],
      "execution_count": null,
      "outputs": [
        {
          "output_type": "execute_result",
          "data": {
            "text/html": [
              "<div>\n",
              "<style scoped>\n",
              "    .dataframe tbody tr th:only-of-type {\n",
              "        vertical-align: middle;\n",
              "    }\n",
              "\n",
              "    .dataframe tbody tr th {\n",
              "        vertical-align: top;\n",
              "    }\n",
              "\n",
              "    .dataframe thead th {\n",
              "        text-align: right;\n",
              "    }\n",
              "</style>\n",
              "<table border=\"1\" class=\"dataframe\">\n",
              "  <thead>\n",
              "    <tr style=\"text-align: right;\">\n",
              "      <th></th>\n",
              "      <th>count</th>\n",
              "      <th>unique</th>\n",
              "      <th>top</th>\n",
              "      <th>freq</th>\n",
              "    </tr>\n",
              "  </thead>\n",
              "  <tbody>\n",
              "    <tr>\n",
              "      <th>text</th>\n",
              "      <td>360000</td>\n",
              "      <td>359986</td>\n",
              "      <td>why they skip so much of the book wuthering he...</td>\n",
              "      <td>2</td>\n",
              "    </tr>\n",
              "  </tbody>\n",
              "</table>\n",
              "</div>"
            ],
            "text/plain": [
              "       count  unique                                                top freq\n",
              "text  360000  359986  why they skip so much of the book wuthering he...    2"
            ]
          },
          "metadata": {
            "tags": []
          },
          "execution_count": 26
        }
      ]
    },
    {
      "cell_type": "code",
      "metadata": {
        "id": "PYqIyCYKzPV6"
      },
      "source": [
        "duplicates = pd.concat(g for _, g in preprocessed.groupby(\"text\") if len(g) > 1)"
      ],
      "execution_count": null,
      "outputs": []
    },
    {
      "cell_type": "code",
      "metadata": {
        "colab": {
          "base_uri": "https://localhost:8080/",
          "height": 204
        },
        "id": "FycEtjvMzX_r",
        "outputId": "7751d157-a185-4210-de03-6cbc53527208"
      },
      "source": [
        "duplicates.head()"
      ],
      "execution_count": null,
      "outputs": [
        {
          "output_type": "execute_result",
          "data": {
            "text/html": [
              "<div>\n",
              "<style scoped>\n",
              "    .dataframe tbody tr th:only-of-type {\n",
              "        vertical-align: middle;\n",
              "    }\n",
              "\n",
              "    .dataframe tbody tr th {\n",
              "        vertical-align: top;\n",
              "    }\n",
              "\n",
              "    .dataframe thead th {\n",
              "        text-align: right;\n",
              "    }\n",
              "</style>\n",
              "<table border=\"1\" class=\"dataframe\">\n",
              "  <thead>\n",
              "    <tr style=\"text-align: right;\">\n",
              "      <th></th>\n",
              "      <th>text</th>\n",
              "      <th>target</th>\n",
              "    </tr>\n",
              "  </thead>\n",
              "  <tbody>\n",
              "    <tr>\n",
              "      <th>115827</th>\n",
              "      <td>absolutely beautiful talk of angels is truly a...</td>\n",
              "      <td>1</td>\n",
              "    </tr>\n",
              "    <tr>\n",
              "      <th>343762</th>\n",
              "      <td>absolutely beautiful talk of angels is truly a...</td>\n",
              "      <td>1</td>\n",
              "    </tr>\n",
              "    <tr>\n",
              "      <th>194677</th>\n",
              "      <td>decidedly mediocre i am a big fan of the new d...</td>\n",
              "      <td>0</td>\n",
              "    </tr>\n",
              "    <tr>\n",
              "      <th>291121</th>\n",
              "      <td>decidedly mediocre i am a big fan of the new d...</td>\n",
              "      <td>0</td>\n",
              "    </tr>\n",
              "    <tr>\n",
              "      <th>112462</th>\n",
              "      <td>disappointing bridge software i had hoped for ...</td>\n",
              "      <td>0</td>\n",
              "    </tr>\n",
              "  </tbody>\n",
              "</table>\n",
              "</div>"
            ],
            "text/plain": [
              "                                                     text  target\n",
              "115827  absolutely beautiful talk of angels is truly a...       1\n",
              "343762  absolutely beautiful talk of angels is truly a...       1\n",
              "194677  decidedly mediocre i am a big fan of the new d...       0\n",
              "291121  decidedly mediocre i am a big fan of the new d...       0\n",
              "112462  disappointing bridge software i had hoped for ...       0"
            ]
          },
          "metadata": {
            "tags": []
          },
          "execution_count": 33
        }
      ]
    },
    {
      "cell_type": "code",
      "metadata": {
        "colab": {
          "base_uri": "https://localhost:8080/",
          "height": 204
        },
        "id": "n8ZuGXj7Cf5P",
        "outputId": "99472496-7cb6-4d87-af1a-d724a55773d6"
      },
      "source": [
        "duplicates.groupby('text').agg('nunique').reset_index() \\\n",
        " .sort_values('target') \\\n",
        " .head()"
      ],
      "execution_count": null,
      "outputs": [
        {
          "output_type": "execute_result",
          "data": {
            "text/html": [
              "<div>\n",
              "<style scoped>\n",
              "    .dataframe tbody tr th:only-of-type {\n",
              "        vertical-align: middle;\n",
              "    }\n",
              "\n",
              "    .dataframe tbody tr th {\n",
              "        vertical-align: top;\n",
              "    }\n",
              "\n",
              "    .dataframe thead th {\n",
              "        text-align: right;\n",
              "    }\n",
              "</style>\n",
              "<table border=\"1\" class=\"dataframe\">\n",
              "  <thead>\n",
              "    <tr style=\"text-align: right;\">\n",
              "      <th></th>\n",
              "      <th>text</th>\n",
              "      <th>target</th>\n",
              "    </tr>\n",
              "  </thead>\n",
              "  <tbody>\n",
              "    <tr>\n",
              "      <th>0</th>\n",
              "      <td>absolutely beautiful talk of angels is truly a...</td>\n",
              "      <td>1</td>\n",
              "    </tr>\n",
              "    <tr>\n",
              "      <th>1</th>\n",
              "      <td>decidedly mediocre i am a big fan of the new d...</td>\n",
              "      <td>1</td>\n",
              "    </tr>\n",
              "    <tr>\n",
              "      <th>2</th>\n",
              "      <td>disappointing bridge software i had hoped for ...</td>\n",
              "      <td>1</td>\n",
              "    </tr>\n",
              "    <tr>\n",
              "      <th>3</th>\n",
              "      <td>do not be fooled by the names or the other rev...</td>\n",
              "      <td>1</td>\n",
              "    </tr>\n",
              "    <tr>\n",
              "      <th>4</th>\n",
              "      <td>easy to install after spending over an hour tr...</td>\n",
              "      <td>1</td>\n",
              "    </tr>\n",
              "  </tbody>\n",
              "</table>\n",
              "</div>"
            ],
            "text/plain": [
              "                                                text  target\n",
              "0  absolutely beautiful talk of angels is truly a...       1\n",
              "1  decidedly mediocre i am a big fan of the new d...       1\n",
              "2  disappointing bridge software i had hoped for ...       1\n",
              "3  do not be fooled by the names or the other rev...       1\n",
              "4  easy to install after spending over an hour tr...       1"
            ]
          },
          "metadata": {
            "tags": []
          },
          "execution_count": 43
        }
      ]
    },
    {
      "cell_type": "code",
      "metadata": {
        "id": "8_2ee96BDJax"
      },
      "source": [
        "preprocessed = preprocessed.drop_duplicates(\n",
        "    subset=['text'], \n",
        "    keep='last'\n",
        "  )"
      ],
      "execution_count": null,
      "outputs": []
    },
    {
      "cell_type": "code",
      "metadata": {
        "colab": {
          "base_uri": "https://localhost:8080/",
          "height": 173
        },
        "id": "wL5EGdkxDXBV",
        "outputId": "d9a4a267-25aa-4bd7-d3a7-233a4ad30aa1"
      },
      "source": [
        "preprocessed.groupby('target').describe()"
      ],
      "execution_count": null,
      "outputs": [
        {
          "output_type": "execute_result",
          "data": {
            "text/html": [
              "<div>\n",
              "<style scoped>\n",
              "    .dataframe tbody tr th:only-of-type {\n",
              "        vertical-align: middle;\n",
              "    }\n",
              "\n",
              "    .dataframe tbody tr th {\n",
              "        vertical-align: top;\n",
              "    }\n",
              "\n",
              "    .dataframe thead tr th {\n",
              "        text-align: left;\n",
              "    }\n",
              "\n",
              "    .dataframe thead tr:last-of-type th {\n",
              "        text-align: right;\n",
              "    }\n",
              "</style>\n",
              "<table border=\"1\" class=\"dataframe\">\n",
              "  <thead>\n",
              "    <tr>\n",
              "      <th></th>\n",
              "      <th colspan=\"4\" halign=\"left\">text</th>\n",
              "    </tr>\n",
              "    <tr>\n",
              "      <th></th>\n",
              "      <th>count</th>\n",
              "      <th>unique</th>\n",
              "      <th>top</th>\n",
              "      <th>freq</th>\n",
              "    </tr>\n",
              "    <tr>\n",
              "      <th>target</th>\n",
              "      <th></th>\n",
              "      <th></th>\n",
              "      <th></th>\n",
              "      <th></th>\n",
              "    </tr>\n",
              "  </thead>\n",
              "  <tbody>\n",
              "    <tr>\n",
              "      <th>0</th>\n",
              "      <td>179990</td>\n",
              "      <td>179990</td>\n",
              "      <td>what a piti concert and interviews mixed toget...</td>\n",
              "      <td>1</td>\n",
              "    </tr>\n",
              "    <tr>\n",
              "      <th>1</th>\n",
              "      <td>179996</td>\n",
              "      <td>179996</td>\n",
              "      <td>you will either like it or hate it not great b...</td>\n",
              "      <td>1</td>\n",
              "    </tr>\n",
              "  </tbody>\n",
              "</table>\n",
              "</div>"
            ],
            "text/plain": [
              "          text                                                                \n",
              "         count  unique                                                top freq\n",
              "target                                                                        \n",
              "0       179990  179990  what a piti concert and interviews mixed toget...    1\n",
              "1       179996  179996  you will either like it or hate it not great b...    1"
            ]
          },
          "metadata": {
            "tags": []
          },
          "execution_count": 48
        }
      ]
    },
    {
      "cell_type": "code",
      "metadata": {
        "id": "gMNR1BcpDtSf"
      },
      "source": [
        "preprocessed.to_csv('/content/drive/MyDrive/sentiment/data/data_preprocessed.csv')"
      ],
      "execution_count": null,
      "outputs": []
    },
    {
      "cell_type": "markdown",
      "metadata": {
        "id": "1p9WSDoSsmCy"
      },
      "source": [
        "## Test set"
      ]
    },
    {
      "cell_type": "code",
      "metadata": {
        "id": "9MQkb8qcqM1X",
        "colab": {
          "base_uri": "https://localhost:8080/",
          "height": 204
        },
        "outputId": "5396109b-d4ec-4bc0-a72d-09784ddb9d48"
      },
      "source": [
        "test = pd.read_csv('/content/drive/MyDrive/sentiment/data/test_data.csv')[cols]\n",
        "test.sample(5)"
      ],
      "execution_count": 5,
      "outputs": [
        {
          "output_type": "execute_result",
          "data": {
            "text/html": [
              "<div>\n",
              "<style scoped>\n",
              "    .dataframe tbody tr th:only-of-type {\n",
              "        vertical-align: middle;\n",
              "    }\n",
              "\n",
              "    .dataframe tbody tr th {\n",
              "        vertical-align: top;\n",
              "    }\n",
              "\n",
              "    .dataframe thead th {\n",
              "        text-align: right;\n",
              "    }\n",
              "</style>\n",
              "<table border=\"1\" class=\"dataframe\">\n",
              "  <thead>\n",
              "    <tr style=\"text-align: right;\">\n",
              "      <th></th>\n",
              "      <th>text</th>\n",
              "      <th>target</th>\n",
              "    </tr>\n",
              "  </thead>\n",
              "  <tbody>\n",
              "    <tr>\n",
              "      <th>4802</th>\n",
              "      <td>Classic Horror: This is horror with the requir...</td>\n",
              "      <td>1</td>\n",
              "    </tr>\n",
              "    <tr>\n",
              "      <th>12542</th>\n",
              "      <td>Calvin original fragrance is the best found la...</td>\n",
              "      <td>1</td>\n",
              "    </tr>\n",
              "    <tr>\n",
              "      <th>8336</th>\n",
              "      <td>Could something really be so bad??: Watching m...</td>\n",
              "      <td>0</td>\n",
              "    </tr>\n",
              "    <tr>\n",
              "      <th>9145</th>\n",
              "      <td>Great speaker- get it: It's small but the soun...</td>\n",
              "      <td>1</td>\n",
              "    </tr>\n",
              "    <tr>\n",
              "      <th>15170</th>\n",
              "      <td>Begginer content written for an expert: This h...</td>\n",
              "      <td>0</td>\n",
              "    </tr>\n",
              "  </tbody>\n",
              "</table>\n",
              "</div>"
            ],
            "text/plain": [
              "                                                    text  target\n",
              "4802   Classic Horror: This is horror with the requir...       1\n",
              "12542  Calvin original fragrance is the best found la...       1\n",
              "8336   Could something really be so bad??: Watching m...       0\n",
              "9145   Great speaker- get it: It's small but the soun...       1\n",
              "15170  Begginer content written for an expert: This h...       0"
            ]
          },
          "metadata": {
            "tags": []
          },
          "execution_count": 5
        }
      ]
    },
    {
      "cell_type": "code",
      "metadata": {
        "colab": {
          "base_uri": "https://localhost:8080/"
        },
        "id": "ziRoIfKnsuVI",
        "outputId": "5eda5311-b77a-4081-cb9e-5d6d01a079c2"
      },
      "source": [
        "%%time \n",
        "test['text'] = test['text'].apply(preprocess)"
      ],
      "execution_count": 11,
      "outputs": [
        {
          "output_type": "stream",
          "text": [
            "CPU times: user 1min 44s, sys: 37.3 ms, total: 1min 44s\n",
            "Wall time: 1min 44s\n"
          ],
          "name": "stdout"
        }
      ]
    },
    {
      "cell_type": "code",
      "metadata": {
        "colab": {
          "base_uri": "https://localhost:8080/",
          "height": 419
        },
        "id": "uh0Bmx12s7-U",
        "outputId": "3cf73253-0ef0-44d0-d0c3-0b6823f43ea8"
      },
      "source": [
        "test.groupby('text').count().reset_index().sort_values('target', ascending=False)"
      ],
      "execution_count": 14,
      "outputs": [
        {
          "output_type": "execute_result",
          "data": {
            "text/html": [
              "<div>\n",
              "<style scoped>\n",
              "    .dataframe tbody tr th:only-of-type {\n",
              "        vertical-align: middle;\n",
              "    }\n",
              "\n",
              "    .dataframe tbody tr th {\n",
              "        vertical-align: top;\n",
              "    }\n",
              "\n",
              "    .dataframe thead th {\n",
              "        text-align: right;\n",
              "    }\n",
              "</style>\n",
              "<table border=\"1\" class=\"dataframe\">\n",
              "  <thead>\n",
              "    <tr style=\"text-align: right;\">\n",
              "      <th></th>\n",
              "      <th>text</th>\n",
              "      <th>target</th>\n",
              "    </tr>\n",
              "  </thead>\n",
              "  <tbody>\n",
              "    <tr>\n",
              "      <th>0</th>\n",
              "      <td>NUMBER NUMBER NUMBER stars i found out about t...</td>\n",
              "      <td>1</td>\n",
              "    </tr>\n",
              "    <tr>\n",
              "      <th>13330</th>\n",
              "      <td>one of the best movies ever my kids love this ...</td>\n",
              "      <td>1</td>\n",
              "    </tr>\n",
              "    <tr>\n",
              "      <th>13337</th>\n",
              "      <td>one of the best sports movies ever a movie wit...</td>\n",
              "      <td>1</td>\n",
              "    </tr>\n",
              "    <tr>\n",
              "      <th>13336</th>\n",
              "      <td>one of the best space based game ever this gam...</td>\n",
              "      <td>1</td>\n",
              "    </tr>\n",
              "    <tr>\n",
              "      <th>13335</th>\n",
              "      <td>one of the best roger waters stanley clarke pa...</td>\n",
              "      <td>1</td>\n",
              "    </tr>\n",
              "    <tr>\n",
              "      <th>...</th>\n",
              "      <td>...</td>\n",
              "      <td>...</td>\n",
              "    </tr>\n",
              "    <tr>\n",
              "      <th>6666</th>\n",
              "      <td>get toner cartridges ha forget it printer work...</td>\n",
              "      <td>1</td>\n",
              "    </tr>\n",
              "    <tr>\n",
              "      <th>6665</th>\n",
              "      <td>get this one in the past i may have been able ...</td>\n",
              "      <td>1</td>\n",
              "    </tr>\n",
              "    <tr>\n",
              "      <th>6664</th>\n",
              "      <td>get this book this book has the clear ring of ...</td>\n",
              "      <td>1</td>\n",
              "    </tr>\n",
              "    <tr>\n",
              "      <th>6663</th>\n",
              "      <td>get this book and start brewing i got this boo...</td>\n",
              "      <td>1</td>\n",
              "    </tr>\n",
              "    <tr>\n",
              "      <th>19999</th>\n",
              "      <td>zzzzzzzzzzzzzzzzzz i just do not get it i had ...</td>\n",
              "      <td>1</td>\n",
              "    </tr>\n",
              "  </tbody>\n",
              "</table>\n",
              "<p>20000 rows × 2 columns</p>\n",
              "</div>"
            ],
            "text/plain": [
              "                                                    text  target\n",
              "0      NUMBER NUMBER NUMBER stars i found out about t...       1\n",
              "13330  one of the best movies ever my kids love this ...       1\n",
              "13337  one of the best sports movies ever a movie wit...       1\n",
              "13336  one of the best space based game ever this gam...       1\n",
              "13335  one of the best roger waters stanley clarke pa...       1\n",
              "...                                                  ...     ...\n",
              "6666   get toner cartridges ha forget it printer work...       1\n",
              "6665   get this one in the past i may have been able ...       1\n",
              "6664   get this book this book has the clear ring of ...       1\n",
              "6663   get this book and start brewing i got this boo...       1\n",
              "19999  zzzzzzzzzzzzzzzzzz i just do not get it i had ...       1\n",
              "\n",
              "[20000 rows x 2 columns]"
            ]
          },
          "metadata": {
            "tags": []
          },
          "execution_count": 14
        }
      ]
    },
    {
      "cell_type": "code",
      "metadata": {
        "colab": {
          "base_uri": "https://localhost:8080/",
          "height": 80
        },
        "id": "ylOpYQNTvAqH",
        "outputId": "01a75b9a-0c32-4a3b-b486-f6337e461d83"
      },
      "source": [
        "test[['text']].describe().transpose()"
      ],
      "execution_count": 17,
      "outputs": [
        {
          "output_type": "execute_result",
          "data": {
            "text/html": [
              "<div>\n",
              "<style scoped>\n",
              "    .dataframe tbody tr th:only-of-type {\n",
              "        vertical-align: middle;\n",
              "    }\n",
              "\n",
              "    .dataframe tbody tr th {\n",
              "        vertical-align: top;\n",
              "    }\n",
              "\n",
              "    .dataframe thead th {\n",
              "        text-align: right;\n",
              "    }\n",
              "</style>\n",
              "<table border=\"1\" class=\"dataframe\">\n",
              "  <thead>\n",
              "    <tr style=\"text-align: right;\">\n",
              "      <th></th>\n",
              "      <th>count</th>\n",
              "      <th>unique</th>\n",
              "      <th>top</th>\n",
              "      <th>freq</th>\n",
              "    </tr>\n",
              "  </thead>\n",
              "  <tbody>\n",
              "    <tr>\n",
              "      <th>text</th>\n",
              "      <td>20000</td>\n",
              "      <td>20000</td>\n",
              "      <td>great movie very powerful and artistic movie b...</td>\n",
              "      <td>1</td>\n",
              "    </tr>\n",
              "  </tbody>\n",
              "</table>\n",
              "</div>"
            ],
            "text/plain": [
              "      count unique                                                top freq\n",
              "text  20000  20000  great movie very powerful and artistic movie b...    1"
            ]
          },
          "metadata": {
            "tags": []
          },
          "execution_count": 17
        }
      ]
    },
    {
      "cell_type": "code",
      "metadata": {
        "id": "F-uv36z7uqT2"
      },
      "source": [
        "test.to_csv('/content/drive/MyDrive/sentiment/data/test_data_preprocessed.csv')"
      ],
      "execution_count": 15,
      "outputs": []
    }
  ]
}