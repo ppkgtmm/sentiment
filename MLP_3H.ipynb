{
  "nbformat": 4,
  "nbformat_minor": 0,
  "metadata": {
    "colab": {
      "name": "MLP-3H.ipynb",
      "provenance": [],
      "collapsed_sections": [],
      "mount_file_id": "1Wz99Kdw84aOIYjWCiAiTR7QwQ29B_9xB",
      "authorship_tag": "ABX9TyPkYdRHo0rND0zHGW88kK+5",
      "include_colab_link": true
    },
    "kernelspec": {
      "name": "python3",
      "display_name": "Python 3"
    }
  },
  "cells": [
    {
      "cell_type": "markdown",
      "metadata": {
        "id": "view-in-github",
        "colab_type": "text"
      },
      "source": [
        "<a href=\"https://colab.research.google.com/github/ppkgtmm/sentiment/blob/main/MLP_3H.ipynb\" target=\"_parent\"><img src=\"https://colab.research.google.com/assets/colab-badge.svg\" alt=\"Open In Colab\"/></a>"
      ]
    },
    {
      "cell_type": "code",
      "metadata": {
        "id": "XBoAcuP7HoOE"
      },
      "source": [
        "# !pip install keras-tuner"
      ],
      "execution_count": 4,
      "outputs": []
    },
    {
      "cell_type": "code",
      "metadata": {
        "id": "Q3NiW294G8SQ"
      },
      "source": [
        "import pandas as pd\n",
        "import numpy as np\n",
        "from keras.preprocessing.text import  Tokenizer\n",
        "from keras.preprocessing.sequence import pad_sequences\n",
        "from keras.layers import Input, Dense\n",
        "from keras.models import Sequential\n",
        "from sklearn.model_selection import train_test_split\n",
        "from keras.metrics import Precision, Recall, FalseNegatives, \\\n",
        "FalsePositives, TrueNegatives, TruePositives\n",
        "from sklearn.preprocessing import OneHotEncoder\n",
        "from kerastuner.tuners import Hyperband\n",
        "from kerastuner import HyperParameters\n",
        "from keras.optimizers import Adam, Adadelta, Adagrad, RMSprop\n",
        "from keras.activations import sigmoid, relu, tanh\n",
        "import pickle"
      ],
      "execution_count": 5,
      "outputs": []
    },
    {
      "cell_type": "code",
      "metadata": {
        "id": "nLxkh35JHIox"
      },
      "source": [
        "\n",
        "cols = ['text', 'target']\n",
        "data_path = '/content/drive/MyDrive/sentiment/data/data_preprocessed.csv'\n",
        "seed = 123456\n",
        "num_words = 10000\n",
        "max_len = 250\n",
        "optimizers = [\n",
        "           'Adam',\n",
        "           'RMSprop'   \n",
        "]\n",
        "activations = ['sigmoid']"
      ],
      "execution_count": 19,
      "outputs": []
    },
    {
      "cell_type": "code",
      "metadata": {
        "id": "G3CmPE1yIF2e"
      },
      "source": [
        "data = pd.read_csv(data_path)[cols]"
      ],
      "execution_count": 7,
      "outputs": []
    },
    {
      "cell_type": "code",
      "metadata": {
        "colab": {
          "base_uri": "https://localhost:8080/",
          "height": 204
        },
        "id": "1nRj8DooIGqT",
        "outputId": "e7752f85-212c-4851-a8b3-59cc1a6fb04d"
      },
      "source": [
        "data.sample(5)"
      ],
      "execution_count": 8,
      "outputs": [
        {
          "output_type": "execute_result",
          "data": {
            "text/html": [
              "<div>\n",
              "<style scoped>\n",
              "    .dataframe tbody tr th:only-of-type {\n",
              "        vertical-align: middle;\n",
              "    }\n",
              "\n",
              "    .dataframe tbody tr th {\n",
              "        vertical-align: top;\n",
              "    }\n",
              "\n",
              "    .dataframe thead th {\n",
              "        text-align: right;\n",
              "    }\n",
              "</style>\n",
              "<table border=\"1\" class=\"dataframe\">\n",
              "  <thead>\n",
              "    <tr style=\"text-align: right;\">\n",
              "      <th></th>\n",
              "      <th>text</th>\n",
              "      <th>target</th>\n",
              "    </tr>\n",
              "  </thead>\n",
              "  <tbody>\n",
              "    <tr>\n",
              "      <th>234876</th>\n",
              "      <td>perfect just what i needed to adjust the hunte...</td>\n",
              "      <td>1</td>\n",
              "    </tr>\n",
              "    <tr>\n",
              "      <th>23520</th>\n",
              "      <td>natural color is actually brown color shown as...</td>\n",
              "      <td>0</td>\n",
              "    </tr>\n",
              "    <tr>\n",
              "      <th>192917</th>\n",
              "      <td>great and exotic love story transport yourself...</td>\n",
              "      <td>1</td>\n",
              "    </tr>\n",
              "    <tr>\n",
              "      <th>19240</th>\n",
              "      <td>these are not art quilts i was really disappoi...</td>\n",
              "      <td>0</td>\n",
              "    </tr>\n",
              "    <tr>\n",
              "      <th>20627</th>\n",
              "      <td>errr who are you and what have you done to eri...</td>\n",
              "      <td>0</td>\n",
              "    </tr>\n",
              "  </tbody>\n",
              "</table>\n",
              "</div>"
            ],
            "text/plain": [
              "                                                     text  target\n",
              "234876  perfect just what i needed to adjust the hunte...       1\n",
              "23520   natural color is actually brown color shown as...       0\n",
              "192917  great and exotic love story transport yourself...       1\n",
              "19240   these are not art quilts i was really disappoi...       0\n",
              "20627   errr who are you and what have you done to eri...       0"
            ]
          },
          "metadata": {
            "tags": []
          },
          "execution_count": 8
        }
      ]
    },
    {
      "cell_type": "code",
      "metadata": {
        "id": "Dxd0YaVRIKNN"
      },
      "source": [
        "train, val = train_test_split(data, test_size=0.15, stratify=data['target'], random_state=seed)"
      ],
      "execution_count": 9,
      "outputs": []
    },
    {
      "cell_type": "code",
      "metadata": {
        "colab": {
          "base_uri": "https://localhost:8080/"
        },
        "id": "PTezFg5CIPIu",
        "outputId": "716b9151-f3b1-414d-b904-440971893ac0"
      },
      "source": [
        "train.shape, val.shape"
      ],
      "execution_count": 10,
      "outputs": [
        {
          "output_type": "execute_result",
          "data": {
            "text/plain": [
              "((305988, 2), (53998, 2))"
            ]
          },
          "metadata": {
            "tags": []
          },
          "execution_count": 10
        }
      ]
    },
    {
      "cell_type": "code",
      "metadata": {
        "id": "bHLCqgfsIQd5"
      },
      "source": [
        "tokenizer = Tokenizer(num_words=num_words, oov_token='OOV')\n",
        "tokenizer.fit_on_texts(train['text'])"
      ],
      "execution_count": 11,
      "outputs": []
    },
    {
      "cell_type": "code",
      "metadata": {
        "id": "nJuQPy25IcPE"
      },
      "source": [
        "def get_sequences(tokenizer, max_len, texts):\n",
        "    return pad_sequences(tokenizer.texts_to_sequences(texts), maxlen=max_len)"
      ],
      "execution_count": 12,
      "outputs": []
    },
    {
      "cell_type": "code",
      "metadata": {
        "id": "SoMyu_cTIfNN"
      },
      "source": [
        "sequence_train = get_sequences(tokenizer, max_len, train['text'])\n",
        "sequence_val = get_sequences(tokenizer, max_len, val['text'])"
      ],
      "execution_count": 13,
      "outputs": []
    },
    {
      "cell_type": "code",
      "metadata": {
        "colab": {
          "base_uri": "https://localhost:8080/"
        },
        "id": "pqRDLYhjIiB_",
        "outputId": "ab389809-a7c1-4ac1-aee8-06d5da52033c"
      },
      "source": [
        "sequence_train.shape, sequence_val.shape"
      ],
      "execution_count": 14,
      "outputs": [
        {
          "output_type": "execute_result",
          "data": {
            "text/plain": [
              "((305988, 250), (53998, 250))"
            ]
          },
          "metadata": {
            "tags": []
          },
          "execution_count": 14
        }
      ]
    },
    {
      "cell_type": "code",
      "metadata": {
        "colab": {
          "base_uri": "https://localhost:8080/"
        },
        "id": "78H-s0FXIkX5",
        "outputId": "a93c5157-6637-4268-fd92-700db30dda09"
      },
      "source": [
        "print(val['target'].unique(), train['target'].unique())"
      ],
      "execution_count": 15,
      "outputs": [
        {
          "output_type": "stream",
          "text": [
            "[1 0] [0 1]\n"
          ],
          "name": "stdout"
        }
      ]
    },
    {
      "cell_type": "code",
      "metadata": {
        "id": "Pcw8Dqg9IpUH"
      },
      "source": [
        "OH_encoder = OneHotEncoder(sparse=False)\n",
        "train_target = OH_encoder.fit_transform(train['target'].values.reshape(-1,1))\n",
        "val_target = OH_encoder.transform(val['target'].values.reshape(-1,1))"
      ],
      "execution_count": 16,
      "outputs": []
    },
    {
      "cell_type": "code",
      "metadata": {
        "colab": {
          "base_uri": "https://localhost:8080/"
        },
        "id": "sQ7UBo9JIrtu",
        "outputId": "8a59e97c-5a00-44bf-f9d7-5b90bc943832"
      },
      "source": [
        "train_target.shape, val_target.shape"
      ],
      "execution_count": 17,
      "outputs": [
        {
          "output_type": "execute_result",
          "data": {
            "text/plain": [
              "((305988, 2), (53998, 2))"
            ]
          },
          "metadata": {
            "tags": []
          },
          "execution_count": 17
        }
      ]
    },
    {
      "cell_type": "code",
      "metadata": {
        "id": "giwanzsOIxva"
      },
      "source": [
        "def get_optimizer(key):\n",
        "  map = {\n",
        "      'Adam': Adam(),\n",
        "      'Adadelta': Adadelta(),\n",
        "      'Adagrad': Adagrad(),\n",
        "      'RMSprop': RMSprop()\n",
        "  }\n",
        "  return map.get(key)"
      ],
      "execution_count": 18,
      "outputs": []
    },
    {
      "cell_type": "code",
      "metadata": {
        "id": "z5or1RMuJA-i"
      },
      "source": [
        "def build_mlp(hp):\n",
        "    model = Sequential()\n",
        "    model.add(Input(shape=(max_len,)))\n",
        "    units = hp.get('hidden_units')\n",
        "    model.add(Dense(units,\\\n",
        "                           activation=hp.get(\"hidden_activation\")))\n",
        "    model.add(Dense(units+10,\\\n",
        "                           activation=hp.get(\"hidden_activation\")))\n",
        "    model.add(Dense(units,\\\n",
        "                           activation=hp.get(\"hidden_activation\")))\n",
        "    model.add(Dense(2, activation='softmax'))\n",
        "    model.compile(\n",
        "        optimizer=hp.get('optimizer'),\n",
        "        loss='categorical_crossentropy',\n",
        "        metrics=[\n",
        "                 'accuracy',\n",
        "                 Precision(), \n",
        "                 Recall(),\n",
        "                 TruePositives(), \n",
        "                 TrueNegatives(), \n",
        "                 FalsePositives(),\n",
        "                 FalseNegatives()\n",
        "              ]\n",
        "          )\n",
        "    model.summary()\n",
        "    return model"
      ],
      "execution_count": 22,
      "outputs": []
    },
    {
      "cell_type": "code",
      "metadata": {
        "colab": {
          "base_uri": "https://localhost:8080/",
          "height": 35
        },
        "id": "UYTUTUPqJFQI",
        "outputId": "08678338-2bf4-4c7c-85d1-b58865762405"
      },
      "source": [
        "hp = HyperParameters()\n",
        "hp.Int('hidden_units', 10, 30, 10)\n",
        "hp.Choice('hidden_activation', activations)\n",
        "hp.Choice('optimizer', optimizers)"
      ],
      "execution_count": 23,
      "outputs": [
        {
          "output_type": "execute_result",
          "data": {
            "application/vnd.google.colaboratory.intrinsic+json": {
              "type": "string"
            },
            "text/plain": [
              "'Adam'"
            ]
          },
          "metadata": {
            "tags": []
          },
          "execution_count": 23
        }
      ]
    },
    {
      "cell_type": "code",
      "metadata": {
        "colab": {
          "base_uri": "https://localhost:8080/"
        },
        "id": "aS9659fzK2-F",
        "outputId": "26b71d84-56d4-4f61-ca7f-bb233ea71c9f"
      },
      "source": [
        "tuner = Hyperband(\n",
        "    build_mlp,\n",
        "    max_epochs=4,\n",
        "    objective='val_loss',\n",
        "    executions_per_trial=2,\n",
        "    directory='/content/drive/MyDrive/sentiment/MLP',\n",
        "    project_name='MLP_3H_B32',\n",
        "    hyperparameters=hp,\n",
        ")"
      ],
      "execution_count": 32,
      "outputs": [
        {
          "output_type": "stream",
          "text": [
            "INFO:tensorflow:Reloading Oracle from existing project /content/drive/MyDrive/sentiment/MLP/MLP_3H_B32/oracle.json\n",
            "Model: \"sequential\"\n",
            "_________________________________________________________________\n",
            "Layer (type)                 Output Shape              Param #   \n",
            "=================================================================\n",
            "dense (Dense)                (None, 10)                2510      \n",
            "_________________________________________________________________\n",
            "dense_1 (Dense)              (None, 20)                220       \n",
            "_________________________________________________________________\n",
            "dense_2 (Dense)              (None, 10)                210       \n",
            "_________________________________________________________________\n",
            "dense_3 (Dense)              (None, 2)                 22        \n",
            "=================================================================\n",
            "Total params: 2,962\n",
            "Trainable params: 2,962\n",
            "Non-trainable params: 0\n",
            "_________________________________________________________________\n",
            "INFO:tensorflow:Reloading Tuner from /content/drive/MyDrive/sentiment/MLP/MLP_3H_B32/tuner0.json\n"
          ],
          "name": "stdout"
        }
      ]
    },
    {
      "cell_type": "code",
      "metadata": {
        "colab": {
          "base_uri": "https://localhost:8080/"
        },
        "id": "bF4C8KJmLZEJ",
        "outputId": "a895c561-9caa-4b12-8d7d-976aedbc3dc2"
      },
      "source": [
        "history = tuner.search(\n",
        "    sequence_train,\n",
        "    train_target,\n",
        "    epochs=4,\n",
        "    validation_data=(sequence_val, val_target),\n",
        "    batch_size=32\n",
        ")"
      ],
      "execution_count": 25,
      "outputs": [
        {
          "output_type": "stream",
          "text": [
            "Trial 8 Complete [00h 02m 46s]\n",
            "val_loss: 0.6891468465328217\n",
            "\n",
            "Best val_loss So Far: 0.6891468465328217\n",
            "Total elapsed time: 00h 12m 02s\n",
            "INFO:tensorflow:Oracle triggered exit\n"
          ],
          "name": "stdout"
        }
      ]
    },
    {
      "cell_type": "code",
      "metadata": {
        "colab": {
          "base_uri": "https://localhost:8080/"
        },
        "id": "JbSNwOcuOOrR",
        "outputId": "c7234e49-ff1c-42fb-a330-55ef9ef42d06"
      },
      "source": [
        "tuner.search_space_summary()"
      ],
      "execution_count": 26,
      "outputs": [
        {
          "output_type": "stream",
          "text": [
            "Search space summary\n",
            "Default search space size: 3\n",
            "hidden_units (Int)\n",
            "{'default': None, 'conditions': [], 'min_value': 10, 'max_value': 30, 'step': 10, 'sampling': None}\n",
            "hidden_activation (Choice)\n",
            "{'default': 'sigmoid', 'conditions': [], 'values': ['sigmoid'], 'ordered': False}\n",
            "optimizer (Choice)\n",
            "{'default': 'Adam', 'conditions': [], 'values': ['Adam', 'RMSprop'], 'ordered': False}\n"
          ],
          "name": "stdout"
        }
      ]
    },
    {
      "cell_type": "code",
      "metadata": {
        "colab": {
          "base_uri": "https://localhost:8080/"
        },
        "id": "X6gTC13POSrA",
        "outputId": "87e8cec8-ffbc-4283-c9c9-15e4bf618cb9"
      },
      "source": [
        "tuner.results_summary(num_trials=3)"
      ],
      "execution_count": 58,
      "outputs": [
        {
          "output_type": "stream",
          "text": [
            "Results summary\n",
            "Results in /content/drive/MyDrive/sentiment/MLP/MLP_3H_B32\n",
            "Showing 3 best trials\n",
            "Objective(name='val_loss', direction='min')\n",
            "Trial summary\n",
            "Hyperparameters:\n",
            "hidden_units: 30\n",
            "hidden_activation: sigmoid\n",
            "optimizer: Adam\n",
            "tuner/epochs: 4\n",
            "tuner/initial_epoch: 0\n",
            "tuner/bracket: 0\n",
            "tuner/round: 0\n",
            "Score: 0.6891468465328217\n",
            "Trial summary\n",
            "Hyperparameters:\n",
            "hidden_units: 30\n",
            "hidden_activation: sigmoid\n",
            "optimizer: RMSprop\n",
            "tuner/epochs: 2\n",
            "tuner/initial_epoch: 0\n",
            "tuner/bracket: 1\n",
            "tuner/round: 0\n",
            "Score: 0.6891677379608154\n",
            "Trial summary\n",
            "Hyperparameters:\n",
            "hidden_units: 20\n",
            "hidden_activation: sigmoid\n",
            "optimizer: RMSprop\n",
            "tuner/epochs: 2\n",
            "tuner/initial_epoch: 0\n",
            "tuner/bracket: 1\n",
            "tuner/round: 0\n",
            "Score: 0.6895217001438141\n"
          ],
          "name": "stdout"
        }
      ]
    },
    {
      "cell_type": "code",
      "metadata": {
        "colab": {
          "base_uri": "https://localhost:8080/"
        },
        "id": "t7gKDi8RZpiI",
        "outputId": "da29c025-6dcc-4b78-e095-9f6bd53e2105"
      },
      "source": [
        "tuner.get_best_models(num_models=1)[0].evaluate(sequence_train, train_target, batch_size=32)"
      ],
      "execution_count": 44,
      "outputs": [
        {
          "output_type": "stream",
          "text": [
            "Model: \"sequential\"\n",
            "_________________________________________________________________\n",
            "Layer (type)                 Output Shape              Param #   \n",
            "=================================================================\n",
            "dense (Dense)                (None, 30)                7530      \n",
            "_________________________________________________________________\n",
            "dense_1 (Dense)              (None, 40)                1240      \n",
            "_________________________________________________________________\n",
            "dense_2 (Dense)              (None, 30)                1230      \n",
            "_________________________________________________________________\n",
            "dense_3 (Dense)              (None, 2)                 62        \n",
            "=================================================================\n",
            "Total params: 10,062\n",
            "Trainable params: 10,062\n",
            "Non-trainable params: 0\n",
            "_________________________________________________________________\n",
            "9563/9563 [==============================] - 15s 1ms/step - loss: 0.6895 - accuracy: 0.5355 - precision: 0.5355 - recall: 0.5355 - true_positives: 81849.3255 - true_negatives: 81849.3255 - false_positives: 71190.6653 - false_negatives: 71190.6653\n"
          ],
          "name": "stdout"
        },
        {
          "output_type": "execute_result",
          "data": {
            "text/plain": [
              "[0.6894967555999756,\n",
              " 0.5353020429611206,\n",
              " 0.5353020429611206,\n",
              " 0.5353020429611206,\n",
              " 163796.0,\n",
              " 163796.0,\n",
              " 142192.0,\n",
              " 142192.0]"
            ]
          },
          "metadata": {
            "tags": []
          },
          "execution_count": 44
        }
      ]
    },
    {
      "cell_type": "code",
      "metadata": {
        "colab": {
          "base_uri": "https://localhost:8080/"
        },
        "id": "A-J5f2WzZ1zd",
        "outputId": "a0301cae-205a-4990-ada2-97be87568512"
      },
      "source": [
        "tuner.get_best_models(num_models=1)[0].evaluate(sequence_val, val_target, batch_size=32)"
      ],
      "execution_count": 45,
      "outputs": [
        {
          "output_type": "stream",
          "text": [
            "WARNING:tensorflow:Unresolved object in checkpoint: (root).optimizer.iter\n",
            "WARNING:tensorflow:Unresolved object in checkpoint: (root).optimizer.beta_1\n",
            "WARNING:tensorflow:Unresolved object in checkpoint: (root).optimizer.beta_2\n",
            "WARNING:tensorflow:Unresolved object in checkpoint: (root).optimizer.decay\n",
            "WARNING:tensorflow:Unresolved object in checkpoint: (root).optimizer.learning_rate\n",
            "WARNING:tensorflow:A checkpoint was restored (e.g. tf.train.Checkpoint.restore or tf.keras.Model.load_weights) but not all checkpointed values were used. See above for specific issues. Use expect_partial() on the load status object, e.g. tf.train.Checkpoint.restore(...).expect_partial(), to silence these warnings, or use assert_consumed() to make the check explicit. See https://www.tensorflow.org/guide/checkpoint#loading_mechanics for details.\n",
            "Model: \"sequential\"\n",
            "_________________________________________________________________\n",
            "Layer (type)                 Output Shape              Param #   \n",
            "=================================================================\n",
            "dense (Dense)                (None, 30)                7530      \n",
            "_________________________________________________________________\n",
            "dense_1 (Dense)              (None, 40)                1240      \n",
            "_________________________________________________________________\n",
            "dense_2 (Dense)              (None, 30)                1230      \n",
            "_________________________________________________________________\n",
            "dense_3 (Dense)              (None, 2)                 62        \n",
            "=================================================================\n",
            "Total params: 10,062\n",
            "Trainable params: 10,062\n",
            "Non-trainable params: 0\n",
            "_________________________________________________________________\n",
            "1688/1688 [==============================] - 4s 1ms/step - loss: 0.6893 - accuracy: 0.5341 - precision: 0.5341 - recall: 0.5341 - true_positives: 14455.4742 - true_negatives: 14455.4742 - false_positives: 12584.4855 - false_negatives: 12584.4855\n"
          ],
          "name": "stdout"
        },
        {
          "output_type": "execute_result",
          "data": {
            "text/plain": [
              "[0.6891140937805176,\n",
              " 0.5365198850631714,\n",
              " 0.5365198850631714,\n",
              " 0.5365198850631714,\n",
              " 28971.0,\n",
              " 28971.0,\n",
              " 25027.0,\n",
              " 25027.0]"
            ]
          },
          "metadata": {
            "tags": []
          },
          "execution_count": 45
        }
      ]
    },
    {
      "cell_type": "code",
      "metadata": {
        "id": "CAOXnBWpP9Kx"
      },
      "source": [
        "def build_OE(hp):\n",
        "    model = Sequential()\n",
        "    model.add(Input(shape=(max_len,)))\n",
        "    units = hp.get('hidden_units')\n",
        "    model.add(Dense(units,\\\n",
        "                           activation=hp.get(\"hidden_activation\")))\n",
        "    model.add(Dense(units-10,\\\n",
        "                           activation=hp.get(\"hidden_activation\")))\n",
        "    model.add(Dense(units,\\\n",
        "                           activation=hp.get(\"hidden_activation\")))\n",
        "    model.add(Dense(2, activation='softmax'))\n",
        "    model.compile(\n",
        "        optimizer=hp.get('optimizer'),\n",
        "        loss='categorical_crossentropy',\n",
        "        metrics=[\n",
        "                 'accuracy',\n",
        "                 Precision(), \n",
        "                 Recall(),\n",
        "                 TruePositives(), \n",
        "                 TrueNegatives(), \n",
        "                 FalsePositives(),\n",
        "                 FalseNegatives()\n",
        "              ]\n",
        "          )\n",
        "    model.summary()\n",
        "    return model"
      ],
      "execution_count": 29,
      "outputs": []
    },
    {
      "cell_type": "code",
      "metadata": {
        "colab": {
          "base_uri": "https://localhost:8080/",
          "height": 35
        },
        "id": "H8SAugF6PSrE",
        "outputId": "22e36cb1-df14-4aec-dc8c-ad0c6e533290"
      },
      "source": [
        "hp2 = HyperParameters()\n",
        "hp2.Int('hidden_units', 20, 40, 10)\n",
        "hp2.Choice('hidden_activation', activations)\n",
        "hp2.Choice('optimizer', optimizers)"
      ],
      "execution_count": 30,
      "outputs": [
        {
          "output_type": "execute_result",
          "data": {
            "application/vnd.google.colaboratory.intrinsic+json": {
              "type": "string"
            },
            "text/plain": [
              "'Adam'"
            ]
          },
          "metadata": {
            "tags": []
          },
          "execution_count": 30
        }
      ]
    },
    {
      "cell_type": "code",
      "metadata": {
        "colab": {
          "base_uri": "https://localhost:8080/"
        },
        "id": "RmeHTw26PzQ_",
        "outputId": "6cea079b-7583-4331-fbd8-0638c9b86692"
      },
      "source": [
        "tuner2 = Hyperband(\n",
        "    build_OE,\n",
        "    max_epochs=4,\n",
        "    objective='val_loss',\n",
        "    executions_per_trial=2,\n",
        "    directory='/content/drive/MyDrive/sentiment/MLP',\n",
        "    project_name='MLP_3HOEN_B32',\n",
        "    hyperparameters=hp2,\n",
        ")"
      ],
      "execution_count": 34,
      "outputs": [
        {
          "output_type": "stream",
          "text": [
            "Model: \"sequential\"\n",
            "_________________________________________________________________\n",
            "Layer (type)                 Output Shape              Param #   \n",
            "=================================================================\n",
            "dense (Dense)                (None, 20)                5020      \n",
            "_________________________________________________________________\n",
            "dense_1 (Dense)              (None, 10)                210       \n",
            "_________________________________________________________________\n",
            "dense_2 (Dense)              (None, 20)                220       \n",
            "_________________________________________________________________\n",
            "dense_3 (Dense)              (None, 2)                 42        \n",
            "=================================================================\n",
            "Total params: 5,492\n",
            "Trainable params: 5,492\n",
            "Non-trainable params: 0\n",
            "_________________________________________________________________\n"
          ],
          "name": "stdout"
        }
      ]
    },
    {
      "cell_type": "code",
      "metadata": {
        "colab": {
          "base_uri": "https://localhost:8080/"
        },
        "id": "cvt0RpYIQzih",
        "outputId": "26e6a43c-f2c7-40f9-fb09-4d0513d894c0"
      },
      "source": [
        "history = tuner2.search(\n",
        "    sequence_train,\n",
        "    train_target,\n",
        "    epochs=4,\n",
        "    validation_data=(sequence_val, val_target),\n",
        "    batch_size=32\n",
        ")"
      ],
      "execution_count": 35,
      "outputs": [
        {
          "output_type": "stream",
          "text": [
            "Trial 8 Complete [00h 02m 30s]\n",
            "val_loss: 0.6891522407531738\n",
            "\n",
            "Best val_loss So Far: 0.6891522407531738\n",
            "Total elapsed time: 00h 12m 16s\n",
            "INFO:tensorflow:Oracle triggered exit\n"
          ],
          "name": "stdout"
        }
      ]
    },
    {
      "cell_type": "code",
      "metadata": {
        "colab": {
          "base_uri": "https://localhost:8080/"
        },
        "id": "lbOzVN9oaMqj",
        "outputId": "af2b83b7-7411-4a5a-cbb3-926b6ed5081f"
      },
      "source": [
        "tuner2.get_best_models(num_models=1)[0].evaluate(sequence_train, train_target, batch_size=32)"
      ],
      "execution_count": 46,
      "outputs": [
        {
          "output_type": "stream",
          "text": [
            "WARNING:tensorflow:Unresolved object in checkpoint: (root).optimizer.iter\n",
            "WARNING:tensorflow:Unresolved object in checkpoint: (root).optimizer.beta_1\n",
            "WARNING:tensorflow:Unresolved object in checkpoint: (root).optimizer.beta_2\n",
            "WARNING:tensorflow:Unresolved object in checkpoint: (root).optimizer.decay\n",
            "WARNING:tensorflow:Unresolved object in checkpoint: (root).optimizer.learning_rate\n",
            "WARNING:tensorflow:A checkpoint was restored (e.g. tf.train.Checkpoint.restore or tf.keras.Model.load_weights) but not all checkpointed values were used. See above for specific issues. Use expect_partial() on the load status object, e.g. tf.train.Checkpoint.restore(...).expect_partial(), to silence these warnings, or use assert_consumed() to make the check explicit. See https://www.tensorflow.org/guide/checkpoint#loading_mechanics for details.\n",
            "Model: \"sequential\"\n",
            "_________________________________________________________________\n",
            "Layer (type)                 Output Shape              Param #   \n",
            "=================================================================\n",
            "dense (Dense)                (None, 20)                5020      \n",
            "_________________________________________________________________\n",
            "dense_1 (Dense)              (None, 10)                210       \n",
            "_________________________________________________________________\n",
            "dense_2 (Dense)              (None, 20)                220       \n",
            "_________________________________________________________________\n",
            "dense_3 (Dense)              (None, 2)                 42        \n",
            "=================================================================\n",
            "Total params: 5,492\n",
            "Trainable params: 5,492\n",
            "Non-trainable params: 0\n",
            "_________________________________________________________________\n",
            "9563/9563 [==============================] - 14s 1ms/step - loss: 0.6896 - accuracy: 0.5355 - precision: 0.5355 - recall: 0.5355 - true_positives: 81900.2654 - true_negatives: 81900.2654 - false_positives: 71139.7254 - false_negatives: 71139.7254\n"
          ],
          "name": "stdout"
        },
        {
          "output_type": "execute_result",
          "data": {
            "text/plain": [
              "[0.6894736886024475,\n",
              " 0.5355830788612366,\n",
              " 0.5355830788612366,\n",
              " 0.5355830788612366,\n",
              " 163882.0,\n",
              " 163882.0,\n",
              " 142106.0,\n",
              " 142106.0]"
            ]
          },
          "metadata": {
            "tags": []
          },
          "execution_count": 46
        }
      ]
    },
    {
      "cell_type": "code",
      "metadata": {
        "colab": {
          "base_uri": "https://localhost:8080/"
        },
        "id": "0T1JEEaVaMf7",
        "outputId": "0ad02c65-763e-4ec4-a0de-b1004f0e9eda"
      },
      "source": [
        "tuner2.get_best_models(num_models=1)[0].evaluate(sequence_val, val_target, batch_size=32)"
      ],
      "execution_count": 50,
      "outputs": [
        {
          "output_type": "stream",
          "text": [
            "WARNING:tensorflow:Unresolved object in checkpoint: (root).optimizer.iter\n",
            "WARNING:tensorflow:Unresolved object in checkpoint: (root).optimizer.beta_1\n",
            "WARNING:tensorflow:Unresolved object in checkpoint: (root).optimizer.beta_2\n",
            "WARNING:tensorflow:Unresolved object in checkpoint: (root).optimizer.decay\n",
            "WARNING:tensorflow:Unresolved object in checkpoint: (root).optimizer.learning_rate\n",
            "WARNING:tensorflow:A checkpoint was restored (e.g. tf.train.Checkpoint.restore or tf.keras.Model.load_weights) but not all checkpointed values were used. See above for specific issues. Use expect_partial() on the load status object, e.g. tf.train.Checkpoint.restore(...).expect_partial(), to silence these warnings, or use assert_consumed() to make the check explicit. See https://www.tensorflow.org/guide/checkpoint#loading_mechanics for details.\n",
            "Model: \"sequential\"\n",
            "_________________________________________________________________\n",
            "Layer (type)                 Output Shape              Param #   \n",
            "=================================================================\n",
            "dense (Dense)                (None, 20)                5020      \n",
            "_________________________________________________________________\n",
            "dense_1 (Dense)              (None, 10)                210       \n",
            "_________________________________________________________________\n",
            "dense_2 (Dense)              (None, 20)                220       \n",
            "_________________________________________________________________\n",
            "dense_3 (Dense)              (None, 2)                 42        \n",
            "=================================================================\n",
            "Total params: 5,492\n",
            "Trainable params: 5,492\n",
            "Non-trainable params: 0\n",
            "_________________________________________________________________\n",
            "1688/1688 [==============================] - 3s 1ms/step - loss: 0.6892 - accuracy: 0.5347 - precision: 0.5347 - recall: 0.5347 - true_positives: 14520.7123 - true_negatives: 14520.7123 - false_positives: 12519.2475 - false_negatives: 12519.2475\n"
          ],
          "name": "stdout"
        },
        {
          "output_type": "execute_result",
          "data": {
            "text/plain": [
              "[0.6888649463653564,\n",
              " 0.5393903255462646,\n",
              " 0.5393903255462646,\n",
              " 0.5393903255462646,\n",
              " 29126.0,\n",
              " 29126.0,\n",
              " 24872.0,\n",
              " 24872.0]"
            ]
          },
          "metadata": {
            "tags": []
          },
          "execution_count": 50
        }
      ]
    },
    {
      "cell_type": "code",
      "metadata": {
        "colab": {
          "base_uri": "https://localhost:8080/"
        },
        "id": "FZMLjxOrUw1p",
        "outputId": "cb6ede09-918a-4fe9-d071-8a8c14ae4075"
      },
      "source": [
        "tuner2.search_space_summary()"
      ],
      "execution_count": 37,
      "outputs": [
        {
          "output_type": "stream",
          "text": [
            "Search space summary\n",
            "Default search space size: 3\n",
            "hidden_units (Int)\n",
            "{'default': None, 'conditions': [], 'min_value': 20, 'max_value': 40, 'step': 10, 'sampling': None}\n",
            "hidden_activation (Choice)\n",
            "{'default': 'sigmoid', 'conditions': [], 'values': ['sigmoid'], 'ordered': False}\n",
            "optimizer (Choice)\n",
            "{'default': 'Adam', 'conditions': [], 'values': ['Adam', 'RMSprop'], 'ordered': False}\n"
          ],
          "name": "stdout"
        }
      ]
    },
    {
      "cell_type": "code",
      "metadata": {
        "colab": {
          "base_uri": "https://localhost:8080/"
        },
        "id": "gfzt72iWT-qu",
        "outputId": "b22ced26-d280-487f-dc15-6f65f6315a9a"
      },
      "source": [
        "tuner2.results_summary(num_trials=3)"
      ],
      "execution_count": 59,
      "outputs": [
        {
          "output_type": "stream",
          "text": [
            "Results summary\n",
            "Results in /content/drive/MyDrive/sentiment/MLP/MLP_3HOEN_B32\n",
            "Showing 3 best trials\n",
            "Objective(name='val_loss', direction='min')\n",
            "Trial summary\n",
            "Hyperparameters:\n",
            "hidden_units: 20\n",
            "hidden_activation: sigmoid\n",
            "optimizer: RMSprop\n",
            "tuner/epochs: 4\n",
            "tuner/initial_epoch: 0\n",
            "tuner/bracket: 0\n",
            "tuner/round: 0\n",
            "Score: 0.6891522407531738\n",
            "Trial summary\n",
            "Hyperparameters:\n",
            "hidden_units: 30\n",
            "hidden_activation: sigmoid\n",
            "optimizer: RMSprop\n",
            "tuner/epochs: 2\n",
            "tuner/initial_epoch: 0\n",
            "tuner/bracket: 1\n",
            "tuner/round: 0\n",
            "Score: 0.6892656087875366\n",
            "Trial summary\n",
            "Hyperparameters:\n",
            "hidden_units: 30\n",
            "hidden_activation: sigmoid\n",
            "optimizer: Adam\n",
            "tuner/epochs: 2\n",
            "tuner/initial_epoch: 0\n",
            "tuner/bracket: 1\n",
            "tuner/round: 0\n",
            "Score: 0.6897149980068207\n"
          ],
          "name": "stdout"
        }
      ]
    },
    {
      "cell_type": "code",
      "metadata": {
        "colab": {
          "base_uri": "https://localhost:8080/",
          "height": 35
        },
        "id": "zfj-cvAWUP6A",
        "outputId": "e4388c57-84c2-4670-c051-0959c555b4d7"
      },
      "source": [
        "hp_2 = HyperParameters()\n",
        "hp_2.Int('hidden_units', 40, 60, 10)\n",
        "hp_2.Choice('hidden_activation', activations)\n",
        "hp_2.Choice('optimizer', optimizers)"
      ],
      "execution_count": 39,
      "outputs": [
        {
          "output_type": "execute_result",
          "data": {
            "application/vnd.google.colaboratory.intrinsic+json": {
              "type": "string"
            },
            "text/plain": [
              "'Adam'"
            ]
          },
          "metadata": {
            "tags": []
          },
          "execution_count": 39
        }
      ]
    },
    {
      "cell_type": "code",
      "metadata": {
        "colab": {
          "base_uri": "https://localhost:8080/"
        },
        "id": "_ZZUzqEvUlvO",
        "outputId": "4be2082a-c74c-4d6d-a652-e2c43f8fee1a"
      },
      "source": [
        "tuner_2 = Hyperband(\n",
        "    build_mlp,\n",
        "    max_epochs=4,\n",
        "    objective='val_loss',\n",
        "    executions_per_trial=2,\n",
        "    directory='/content/drive/MyDrive/sentiment/MLP',\n",
        "    project_name='MLP_3H2_B32',\n",
        "    hyperparameters=hp_2,\n",
        ")"
      ],
      "execution_count": 40,
      "outputs": [
        {
          "output_type": "stream",
          "text": [
            "Model: \"sequential\"\n",
            "_________________________________________________________________\n",
            "Layer (type)                 Output Shape              Param #   \n",
            "=================================================================\n",
            "dense (Dense)                (None, 40)                10040     \n",
            "_________________________________________________________________\n",
            "dense_1 (Dense)              (None, 50)                2050      \n",
            "_________________________________________________________________\n",
            "dense_2 (Dense)              (None, 40)                2040      \n",
            "_________________________________________________________________\n",
            "dense_3 (Dense)              (None, 2)                 82        \n",
            "=================================================================\n",
            "Total params: 14,212\n",
            "Trainable params: 14,212\n",
            "Non-trainable params: 0\n",
            "_________________________________________________________________\n"
          ],
          "name": "stdout"
        }
      ]
    },
    {
      "cell_type": "code",
      "metadata": {
        "colab": {
          "base_uri": "https://localhost:8080/"
        },
        "id": "XR4vl_0fUoV-",
        "outputId": "204f0f5a-3ef6-4394-9298-ef1416136292"
      },
      "source": [
        "history = tuner_2.search(\n",
        "    sequence_train,\n",
        "    train_target,\n",
        "    epochs=4,\n",
        "    validation_data=(sequence_val, val_target),\n",
        "    batch_size=32\n",
        ")"
      ],
      "execution_count": 41,
      "outputs": [
        {
          "output_type": "stream",
          "text": [
            "Trial 8 Complete [00h 02m 40s]\n",
            "val_loss: 0.6898790597915649\n",
            "\n",
            "Best val_loss So Far: 0.6890568435192108\n",
            "Total elapsed time: 00h 12m 36s\n",
            "INFO:tensorflow:Oracle triggered exit\n"
          ],
          "name": "stdout"
        }
      ]
    },
    {
      "cell_type": "code",
      "metadata": {
        "colab": {
          "base_uri": "https://localhost:8080/"
        },
        "id": "6r6ujgdhalg1",
        "outputId": "aebd8187-6f92-404a-a5ee-902d947f079e"
      },
      "source": [
        "tuner_2.get_best_models(num_models=1)[0].evaluate(sequence_train, train_target, batch_size=32)"
      ],
      "execution_count": 48,
      "outputs": [
        {
          "output_type": "stream",
          "text": [
            "WARNING:tensorflow:Unresolved object in checkpoint: (root).optimizer.iter\n",
            "WARNING:tensorflow:Unresolved object in checkpoint: (root).optimizer.decay\n",
            "WARNING:tensorflow:Unresolved object in checkpoint: (root).optimizer.learning_rate\n",
            "WARNING:tensorflow:Unresolved object in checkpoint: (root).optimizer.momentum\n",
            "WARNING:tensorflow:Unresolved object in checkpoint: (root).optimizer.rho\n",
            "WARNING:tensorflow:A checkpoint was restored (e.g. tf.train.Checkpoint.restore or tf.keras.Model.load_weights) but not all checkpointed values were used. See above for specific issues. Use expect_partial() on the load status object, e.g. tf.train.Checkpoint.restore(...).expect_partial(), to silence these warnings, or use assert_consumed() to make the check explicit. See https://www.tensorflow.org/guide/checkpoint#loading_mechanics for details.\n",
            "Model: \"sequential\"\n",
            "_________________________________________________________________\n",
            "Layer (type)                 Output Shape              Param #   \n",
            "=================================================================\n",
            "dense (Dense)                (None, 60)                15060     \n",
            "_________________________________________________________________\n",
            "dense_1 (Dense)              (None, 70)                4270      \n",
            "_________________________________________________________________\n",
            "dense_2 (Dense)              (None, 60)                4260      \n",
            "_________________________________________________________________\n",
            "dense_3 (Dense)              (None, 2)                 122       \n",
            "=================================================================\n",
            "Total params: 23,712\n",
            "Trainable params: 23,712\n",
            "Non-trainable params: 0\n",
            "_________________________________________________________________\n",
            "9563/9563 [==============================] - 15s 1ms/step - loss: 0.6893 - accuracy: 0.5352 - precision: 0.5352 - recall: 0.5352 - true_positives: 81804.8159 - true_negatives: 81804.8159 - false_positives: 71235.1749 - false_negatives: 71235.1749\n"
          ],
          "name": "stdout"
        },
        {
          "output_type": "execute_result",
          "data": {
            "text/plain": [
              "[0.6892669200897217,\n",
              " 0.5348477959632874,\n",
              " 0.5348477959632874,\n",
              " 0.5348477959632874,\n",
              " 163657.0,\n",
              " 163657.0,\n",
              " 142331.0,\n",
              " 142331.0]"
            ]
          },
          "metadata": {
            "tags": []
          },
          "execution_count": 48
        }
      ]
    },
    {
      "cell_type": "code",
      "metadata": {
        "colab": {
          "base_uri": "https://localhost:8080/"
        },
        "id": "_9cxB9ZDalYC",
        "outputId": "824b2746-cc2c-4d64-878a-baa9c39efcbb"
      },
      "source": [
        "tuner_2.get_best_models(num_models=1)[0].evaluate(sequence_val, val_target, batch_size=32)"
      ],
      "execution_count": 49,
      "outputs": [
        {
          "output_type": "stream",
          "text": [
            "WARNING:tensorflow:Unresolved object in checkpoint: (root).optimizer.iter\n",
            "WARNING:tensorflow:Unresolved object in checkpoint: (root).optimizer.beta_1\n",
            "WARNING:tensorflow:Unresolved object in checkpoint: (root).optimizer.beta_2\n",
            "WARNING:tensorflow:Unresolved object in checkpoint: (root).optimizer.decay\n",
            "WARNING:tensorflow:Unresolved object in checkpoint: (root).optimizer.learning_rate\n",
            "WARNING:tensorflow:A checkpoint was restored (e.g. tf.train.Checkpoint.restore or tf.keras.Model.load_weights) but not all checkpointed values were used. See above for specific issues. Use expect_partial() on the load status object, e.g. tf.train.Checkpoint.restore(...).expect_partial(), to silence these warnings, or use assert_consumed() to make the check explicit. See https://www.tensorflow.org/guide/checkpoint#loading_mechanics for details.\n",
            "Model: \"sequential\"\n",
            "_________________________________________________________________\n",
            "Layer (type)                 Output Shape              Param #   \n",
            "=================================================================\n",
            "dense (Dense)                (None, 60)                15060     \n",
            "_________________________________________________________________\n",
            "dense_1 (Dense)              (None, 70)                4270      \n",
            "_________________________________________________________________\n",
            "dense_2 (Dense)              (None, 60)                4260      \n",
            "_________________________________________________________________\n",
            "dense_3 (Dense)              (None, 2)                 122       \n",
            "=================================================================\n",
            "Total params: 23,712\n",
            "Trainable params: 23,712\n",
            "Non-trainable params: 0\n",
            "_________________________________________________________________\n",
            "1688/1688 [==============================] - 4s 1ms/step - loss: 0.6894 - accuracy: 0.5362 - precision: 0.5362 - recall: 0.5362 - true_positives: 14535.1522 - true_negatives: 14535.1522 - false_positives: 12504.8076 - false_negatives: 12504.8076\n"
          ],
          "name": "stdout"
        },
        {
          "output_type": "execute_result",
          "data": {
            "text/plain": [
              "[0.6890028119087219,\n",
              " 0.539075493812561,\n",
              " 0.539075493812561,\n",
              " 0.539075493812561,\n",
              " 29109.0,\n",
              " 29109.0,\n",
              " 24889.0,\n",
              " 24889.0]"
            ]
          },
          "metadata": {
            "tags": []
          },
          "execution_count": 49
        }
      ]
    },
    {
      "cell_type": "code",
      "metadata": {
        "colab": {
          "base_uri": "https://localhost:8080/"
        },
        "id": "qGDZun32Y-Gi",
        "outputId": "2a8d17e7-a756-4d05-b76e-743f9f0d9aab"
      },
      "source": [
        "tuner_2.search_space_summary()"
      ],
      "execution_count": 42,
      "outputs": [
        {
          "output_type": "stream",
          "text": [
            "Search space summary\n",
            "Default search space size: 3\n",
            "hidden_units (Int)\n",
            "{'default': None, 'conditions': [], 'min_value': 40, 'max_value': 60, 'step': 10, 'sampling': None}\n",
            "hidden_activation (Choice)\n",
            "{'default': 'sigmoid', 'conditions': [], 'values': ['sigmoid'], 'ordered': False}\n",
            "optimizer (Choice)\n",
            "{'default': 'Adam', 'conditions': [], 'values': ['Adam', 'RMSprop'], 'ordered': False}\n"
          ],
          "name": "stdout"
        }
      ]
    },
    {
      "cell_type": "code",
      "metadata": {
        "colab": {
          "base_uri": "https://localhost:8080/"
        },
        "id": "OrA-6ZhIZA7S",
        "outputId": "cfa6c1e1-5037-435f-acd4-2d88001c45f6"
      },
      "source": [
        "tuner_2.results_summary(num_trials=3)"
      ],
      "execution_count": 60,
      "outputs": [
        {
          "output_type": "stream",
          "text": [
            "Results summary\n",
            "Results in /content/drive/MyDrive/sentiment/MLP/MLP_3H2_B32\n",
            "Showing 3 best trials\n",
            "Objective(name='val_loss', direction='min')\n",
            "Trial summary\n",
            "Hyperparameters:\n",
            "hidden_units: 60\n",
            "hidden_activation: sigmoid\n",
            "optimizer: Adam\n",
            "tuner/epochs: 4\n",
            "tuner/initial_epoch: 2\n",
            "tuner/bracket: 1\n",
            "tuner/round: 1\n",
            "tuner/trial_id: a77f3a085f79745be2ba8f584dd28eba\n",
            "Score: 0.6890568435192108\n",
            "Trial summary\n",
            "Hyperparameters:\n",
            "hidden_units: 60\n",
            "hidden_activation: sigmoid\n",
            "optimizer: Adam\n",
            "tuner/epochs: 2\n",
            "tuner/initial_epoch: 0\n",
            "tuner/bracket: 1\n",
            "tuner/round: 0\n",
            "Score: 0.6891824305057526\n",
            "Trial summary\n",
            "Hyperparameters:\n",
            "hidden_units: 40\n",
            "hidden_activation: sigmoid\n",
            "optimizer: RMSprop\n",
            "tuner/epochs: 2\n",
            "tuner/initial_epoch: 0\n",
            "tuner/bracket: 1\n",
            "tuner/round: 0\n",
            "Score: 0.6893600821495056\n"
          ],
          "name": "stdout"
        }
      ]
    },
    {
      "cell_type": "code",
      "metadata": {
        "colab": {
          "base_uri": "https://localhost:8080/",
          "height": 35
        },
        "id": "w3bcAETwb0Aq",
        "outputId": "869777c2-3321-4472-c7ae-78bb2938ca0b"
      },
      "source": [
        "hp2_2 = HyperParameters()\n",
        "hp2_2.Int('hidden_units', 50, 70, 10)\n",
        "hp2_2.Choice('hidden_activation', activations)\n",
        "hp2_2.Choice('optimizer', optimizers)"
      ],
      "execution_count": 51,
      "outputs": [
        {
          "output_type": "execute_result",
          "data": {
            "application/vnd.google.colaboratory.intrinsic+json": {
              "type": "string"
            },
            "text/plain": [
              "'Adam'"
            ]
          },
          "metadata": {
            "tags": []
          },
          "execution_count": 51
        }
      ]
    },
    {
      "cell_type": "code",
      "metadata": {
        "colab": {
          "base_uri": "https://localhost:8080/"
        },
        "id": "6ZyBjF3zcD52",
        "outputId": "8800be29-8d28-4f26-a8a4-04589c5ea37f"
      },
      "source": [
        "tuner2_2 = Hyperband(\n",
        "    build_OE,\n",
        "    max_epochs=4,\n",
        "    objective='val_loss',\n",
        "    executions_per_trial=2,\n",
        "    directory='/content/drive/MyDrive/sentiment/MLP',\n",
        "    project_name='MLP_3HOEN2_B32',\n",
        "    hyperparameters=hp2_2,\n",
        ")"
      ],
      "execution_count": 52,
      "outputs": [
        {
          "output_type": "stream",
          "text": [
            "WARNING:tensorflow:Unresolved object in checkpoint: (root).optimizer.iter\n",
            "WARNING:tensorflow:Unresolved object in checkpoint: (root).optimizer.decay\n",
            "WARNING:tensorflow:Unresolved object in checkpoint: (root).optimizer.learning_rate\n",
            "WARNING:tensorflow:Unresolved object in checkpoint: (root).optimizer.momentum\n",
            "WARNING:tensorflow:Unresolved object in checkpoint: (root).optimizer.rho\n",
            "WARNING:tensorflow:A checkpoint was restored (e.g. tf.train.Checkpoint.restore or tf.keras.Model.load_weights) but not all checkpointed values were used. See above for specific issues. Use expect_partial() on the load status object, e.g. tf.train.Checkpoint.restore(...).expect_partial(), to silence these warnings, or use assert_consumed() to make the check explicit. See https://www.tensorflow.org/guide/checkpoint#loading_mechanics for details.\n",
            "Model: \"sequential\"\n",
            "_________________________________________________________________\n",
            "Layer (type)                 Output Shape              Param #   \n",
            "=================================================================\n",
            "dense (Dense)                (None, 50)                12550     \n",
            "_________________________________________________________________\n",
            "dense_1 (Dense)              (None, 40)                2040      \n",
            "_________________________________________________________________\n",
            "dense_2 (Dense)              (None, 50)                2050      \n",
            "_________________________________________________________________\n",
            "dense_3 (Dense)              (None, 2)                 102       \n",
            "=================================================================\n",
            "Total params: 16,742\n",
            "Trainable params: 16,742\n",
            "Non-trainable params: 0\n",
            "_________________________________________________________________\n"
          ],
          "name": "stdout"
        }
      ]
    },
    {
      "cell_type": "code",
      "metadata": {
        "colab": {
          "base_uri": "https://localhost:8080/"
        },
        "id": "GkwW4MxrcaSm",
        "outputId": "f933f009-1f31-4d66-ea1a-ff41826f00b4"
      },
      "source": [
        "history = tuner2_2.search(\n",
        "    sequence_train,\n",
        "    train_target,\n",
        "    epochs=4,\n",
        "    validation_data=(sequence_val, val_target),\n",
        "    batch_size=32\n",
        ")"
      ],
      "execution_count": 53,
      "outputs": [
        {
          "output_type": "stream",
          "text": [
            "Trial 8 Complete [00h 03m 09s]\n",
            "val_loss: 0.6891224682331085\n",
            "\n",
            "Best val_loss So Far: 0.6891224682331085\n",
            "Total elapsed time: 00h 14m 29s\n",
            "INFO:tensorflow:Oracle triggered exit\n"
          ],
          "name": "stdout"
        }
      ]
    },
    {
      "cell_type": "code",
      "metadata": {
        "colab": {
          "base_uri": "https://localhost:8080/"
        },
        "id": "jifg1KwNgzOd",
        "outputId": "a6394b6a-3972-4151-e50e-91ccacdbabca"
      },
      "source": [
        "tuner2_2.get_best_models(num_models=1)[0].evaluate(sequence_train, train_target, batch_size=32)"
      ],
      "execution_count": 56,
      "outputs": [
        {
          "output_type": "stream",
          "text": [
            "Model: \"sequential\"\n",
            "_________________________________________________________________\n",
            "Layer (type)                 Output Shape              Param #   \n",
            "=================================================================\n",
            "dense (Dense)                (None, 50)                12550     \n",
            "_________________________________________________________________\n",
            "dense_1 (Dense)              (None, 40)                2040      \n",
            "_________________________________________________________________\n",
            "dense_2 (Dense)              (None, 50)                2050      \n",
            "_________________________________________________________________\n",
            "dense_3 (Dense)              (None, 2)                 102       \n",
            "=================================================================\n",
            "Total params: 16,742\n",
            "Trainable params: 16,742\n",
            "Non-trainable params: 0\n",
            "_________________________________________________________________\n",
            "9563/9563 [==============================] - 17s 2ms/step - loss: 0.6894 - accuracy: 0.5355 - precision: 0.5355 - recall: 0.5355 - true_positives: 81875.4497 - true_negatives: 81875.4497 - false_positives: 71164.5411 - false_negatives: 71164.5411\n"
          ],
          "name": "stdout"
        },
        {
          "output_type": "execute_result",
          "data": {
            "text/plain": [
              "[0.689332902431488,\n",
              " 0.5354000926017761,\n",
              " 0.5354000926017761,\n",
              " 0.5354000926017761,\n",
              " 163826.0,\n",
              " 163826.0,\n",
              " 142162.0,\n",
              " 142162.0]"
            ]
          },
          "metadata": {
            "tags": []
          },
          "execution_count": 56
        }
      ]
    },
    {
      "cell_type": "code",
      "metadata": {
        "colab": {
          "base_uri": "https://localhost:8080/"
        },
        "id": "YsftrY51gzF3",
        "outputId": "a6a657ca-2462-4b52-86c8-499f02752255"
      },
      "source": [
        "tuner2_2.get_best_models(num_models=1)[0].evaluate(sequence_val, val_target, batch_size=32)"
      ],
      "execution_count": 57,
      "outputs": [
        {
          "output_type": "stream",
          "text": [
            "WARNING:tensorflow:Unresolved object in checkpoint: (root).optimizer.iter\n",
            "WARNING:tensorflow:Unresolved object in checkpoint: (root).optimizer.beta_1\n",
            "WARNING:tensorflow:Unresolved object in checkpoint: (root).optimizer.beta_2\n",
            "WARNING:tensorflow:Unresolved object in checkpoint: (root).optimizer.decay\n",
            "WARNING:tensorflow:Unresolved object in checkpoint: (root).optimizer.learning_rate\n",
            "WARNING:tensorflow:A checkpoint was restored (e.g. tf.train.Checkpoint.restore or tf.keras.Model.load_weights) but not all checkpointed values were used. See above for specific issues. Use expect_partial() on the load status object, e.g. tf.train.Checkpoint.restore(...).expect_partial(), to silence these warnings, or use assert_consumed() to make the check explicit. See https://www.tensorflow.org/guide/checkpoint#loading_mechanics for details.\n",
            "Model: \"sequential\"\n",
            "_________________________________________________________________\n",
            "Layer (type)                 Output Shape              Param #   \n",
            "=================================================================\n",
            "dense (Dense)                (None, 50)                12550     \n",
            "_________________________________________________________________\n",
            "dense_1 (Dense)              (None, 40)                2040      \n",
            "_________________________________________________________________\n",
            "dense_2 (Dense)              (None, 50)                2050      \n",
            "_________________________________________________________________\n",
            "dense_3 (Dense)              (None, 2)                 102       \n",
            "=================================================================\n",
            "Total params: 16,742\n",
            "Trainable params: 16,742\n",
            "Non-trainable params: 0\n",
            "_________________________________________________________________\n",
            "1688/1688 [==============================] - 4s 1ms/step - loss: 0.6892 - accuracy: 0.5370 - precision: 0.5370 - recall: 0.5370 - true_positives: 14545.9793 - true_negatives: 14545.9793 - false_positives: 12493.9805 - false_negatives: 12493.9805\n"
          ],
          "name": "stdout"
        },
        {
          "output_type": "execute_result",
          "data": {
            "text/plain": [
              "[0.6890793442726135,\n",
              " 0.5386680960655212,\n",
              " 0.5386680960655212,\n",
              " 0.5386680960655212,\n",
              " 29087.0,\n",
              " 29087.0,\n",
              " 24911.0,\n",
              " 24911.0]"
            ]
          },
          "metadata": {
            "tags": []
          },
          "execution_count": 57
        }
      ]
    },
    {
      "cell_type": "code",
      "metadata": {
        "colab": {
          "base_uri": "https://localhost:8080/"
        },
        "id": "7ciAEKLYf37P",
        "outputId": "f6018812-d7fb-4203-b65a-08ebd02cfc7b"
      },
      "source": [
        "tuner2_2.search_space_summary()"
      ],
      "execution_count": 54,
      "outputs": [
        {
          "output_type": "stream",
          "text": [
            "Search space summary\n",
            "Default search space size: 3\n",
            "hidden_units (Int)\n",
            "{'default': None, 'conditions': [], 'min_value': 50, 'max_value': 70, 'step': 10, 'sampling': None}\n",
            "hidden_activation (Choice)\n",
            "{'default': 'sigmoid', 'conditions': [], 'values': ['sigmoid'], 'ordered': False}\n",
            "optimizer (Choice)\n",
            "{'default': 'Adam', 'conditions': [], 'values': ['Adam', 'RMSprop'], 'ordered': False}\n"
          ],
          "name": "stdout"
        }
      ]
    },
    {
      "cell_type": "code",
      "metadata": {
        "colab": {
          "base_uri": "https://localhost:8080/"
        },
        "id": "sGtQj1H2f67P",
        "outputId": "9609a844-764f-4654-829c-4399718bd462"
      },
      "source": [
        "tuner2_2.results_summary(num_trials=3)"
      ],
      "execution_count": 61,
      "outputs": [
        {
          "output_type": "stream",
          "text": [
            "Results summary\n",
            "Results in /content/drive/MyDrive/sentiment/MLP/MLP_3HOEN2_B32\n",
            "Showing 3 best trials\n",
            "Objective(name='val_loss', direction='min')\n",
            "Trial summary\n",
            "Hyperparameters:\n",
            "hidden_units: 50\n",
            "hidden_activation: sigmoid\n",
            "optimizer: Adam\n",
            "tuner/epochs: 4\n",
            "tuner/initial_epoch: 0\n",
            "tuner/bracket: 0\n",
            "tuner/round: 0\n",
            "Score: 0.6891224682331085\n",
            "Trial summary\n",
            "Hyperparameters:\n",
            "hidden_units: 60\n",
            "hidden_activation: sigmoid\n",
            "optimizer: Adam\n",
            "tuner/epochs: 2\n",
            "tuner/initial_epoch: 0\n",
            "tuner/bracket: 1\n",
            "tuner/round: 0\n",
            "Score: 0.6892454922199249\n",
            "Trial summary\n",
            "Hyperparameters:\n",
            "hidden_units: 60\n",
            "hidden_activation: sigmoid\n",
            "optimizer: RMSprop\n",
            "tuner/epochs: 2\n",
            "tuner/initial_epoch: 0\n",
            "tuner/bracket: 1\n",
            "tuner/round: 0\n",
            "Score: 0.6892657279968262\n"
          ],
          "name": "stdout"
        }
      ]
    }
  ]
}