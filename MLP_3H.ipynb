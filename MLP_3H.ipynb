{
  "nbformat": 4,
  "nbformat_minor": 0,
  "metadata": {
    "colab": {
      "name": "MLP-3H.ipynb",
      "provenance": [],
      "mount_file_id": "1Wz99Kdw84aOIYjWCiAiTR7QwQ29B_9xB",
      "authorship_tag": "ABX9TyNvgkc6Qc3QgjbTKHqQIzML",
      "include_colab_link": true
    },
    "kernelspec": {
      "name": "python3",
      "display_name": "Python 3"
    }
  },
  "cells": [
    {
      "cell_type": "markdown",
      "metadata": {
        "id": "view-in-github",
        "colab_type": "text"
      },
      "source": [
        "<a href=\"https://colab.research.google.com/github/ppkgtmm/sentiment/blob/main/MLP_3H.ipynb\" target=\"_parent\"><img src=\"https://colab.research.google.com/assets/colab-badge.svg\" alt=\"Open In Colab\"/></a>"
      ]
    },
    {
      "cell_type": "code",
      "metadata": {
        "id": "XBoAcuP7HoOE"
      },
      "source": [
        "# !pip install keras-tuner"
      ],
      "execution_count": 4,
      "outputs": []
    },
    {
      "cell_type": "code",
      "metadata": {
        "id": "Q3NiW294G8SQ"
      },
      "source": [
        "import pandas as pd\n",
        "import numpy as np\n",
        "from keras.preprocessing.text import  Tokenizer\n",
        "from keras.preprocessing.sequence import pad_sequences\n",
        "from keras.layers import Input, Dense\n",
        "from keras.models import Sequential\n",
        "from sklearn.model_selection import train_test_split\n",
        "from keras.metrics import Precision, Recall, FalseNegatives, \\\n",
        "FalsePositives, TrueNegatives, TruePositives\n",
        "from sklearn.preprocessing import OneHotEncoder\n",
        "from kerastuner.tuners import Hyperband\n",
        "from kerastuner import HyperParameters\n",
        "from keras.optimizers import Adam, Adadelta, Adagrad, RMSprop\n",
        "from keras.activations import sigmoid, relu, tanh\n",
        "import pickle"
      ],
      "execution_count": 5,
      "outputs": []
    },
    {
      "cell_type": "code",
      "metadata": {
        "id": "nLxkh35JHIox"
      },
      "source": [
        "\n",
        "cols = ['text', 'target']\n",
        "data_path = '/content/drive/MyDrive/sentiment/data/data_preprocessed.csv'\n",
        "seed = 123456\n",
        "num_words = 10000\n",
        "max_len = 250\n",
        "optimizers = [\n",
        "           'Adam',\n",
        "           'RMSprop'   \n",
        "]\n",
        "activations = ['sigmoid']"
      ],
      "execution_count": 19,
      "outputs": []
    },
    {
      "cell_type": "code",
      "metadata": {
        "id": "G3CmPE1yIF2e"
      },
      "source": [
        "data = pd.read_csv(data_path)[cols]"
      ],
      "execution_count": 7,
      "outputs": []
    },
    {
      "cell_type": "code",
      "metadata": {
        "colab": {
          "base_uri": "https://localhost:8080/",
          "height": 204
        },
        "id": "1nRj8DooIGqT",
        "outputId": "e7752f85-212c-4851-a8b3-59cc1a6fb04d"
      },
      "source": [
        "data.sample(5)"
      ],
      "execution_count": 8,
      "outputs": [
        {
          "output_type": "execute_result",
          "data": {
            "text/html": [
              "<div>\n",
              "<style scoped>\n",
              "    .dataframe tbody tr th:only-of-type {\n",
              "        vertical-align: middle;\n",
              "    }\n",
              "\n",
              "    .dataframe tbody tr th {\n",
              "        vertical-align: top;\n",
              "    }\n",
              "\n",
              "    .dataframe thead th {\n",
              "        text-align: right;\n",
              "    }\n",
              "</style>\n",
              "<table border=\"1\" class=\"dataframe\">\n",
              "  <thead>\n",
              "    <tr style=\"text-align: right;\">\n",
              "      <th></th>\n",
              "      <th>text</th>\n",
              "      <th>target</th>\n",
              "    </tr>\n",
              "  </thead>\n",
              "  <tbody>\n",
              "    <tr>\n",
              "      <th>234876</th>\n",
              "      <td>perfect just what i needed to adjust the hunte...</td>\n",
              "      <td>1</td>\n",
              "    </tr>\n",
              "    <tr>\n",
              "      <th>23520</th>\n",
              "      <td>natural color is actually brown color shown as...</td>\n",
              "      <td>0</td>\n",
              "    </tr>\n",
              "    <tr>\n",
              "      <th>192917</th>\n",
              "      <td>great and exotic love story transport yourself...</td>\n",
              "      <td>1</td>\n",
              "    </tr>\n",
              "    <tr>\n",
              "      <th>19240</th>\n",
              "      <td>these are not art quilts i was really disappoi...</td>\n",
              "      <td>0</td>\n",
              "    </tr>\n",
              "    <tr>\n",
              "      <th>20627</th>\n",
              "      <td>errr who are you and what have you done to eri...</td>\n",
              "      <td>0</td>\n",
              "    </tr>\n",
              "  </tbody>\n",
              "</table>\n",
              "</div>"
            ],
            "text/plain": [
              "                                                     text  target\n",
              "234876  perfect just what i needed to adjust the hunte...       1\n",
              "23520   natural color is actually brown color shown as...       0\n",
              "192917  great and exotic love story transport yourself...       1\n",
              "19240   these are not art quilts i was really disappoi...       0\n",
              "20627   errr who are you and what have you done to eri...       0"
            ]
          },
          "metadata": {
            "tags": []
          },
          "execution_count": 8
        }
      ]
    },
    {
      "cell_type": "code",
      "metadata": {
        "id": "Dxd0YaVRIKNN"
      },
      "source": [
        "train, val = train_test_split(data, test_size=0.15, stratify=data['target'], random_state=seed)"
      ],
      "execution_count": 9,
      "outputs": []
    },
    {
      "cell_type": "code",
      "metadata": {
        "colab": {
          "base_uri": "https://localhost:8080/"
        },
        "id": "PTezFg5CIPIu",
        "outputId": "716b9151-f3b1-414d-b904-440971893ac0"
      },
      "source": [
        "train.shape, val.shape"
      ],
      "execution_count": 10,
      "outputs": [
        {
          "output_type": "execute_result",
          "data": {
            "text/plain": [
              "((305988, 2), (53998, 2))"
            ]
          },
          "metadata": {
            "tags": []
          },
          "execution_count": 10
        }
      ]
    },
    {
      "cell_type": "code",
      "metadata": {
        "id": "bHLCqgfsIQd5"
      },
      "source": [
        "tokenizer = Tokenizer(num_words=num_words, oov_token='OOV')\n",
        "tokenizer.fit_on_texts(train['text'])"
      ],
      "execution_count": 11,
      "outputs": []
    },
    {
      "cell_type": "code",
      "metadata": {
        "id": "nJuQPy25IcPE"
      },
      "source": [
        "def get_sequences(tokenizer, max_len, texts):\n",
        "    return pad_sequences(tokenizer.texts_to_sequences(texts), maxlen=max_len)"
      ],
      "execution_count": 12,
      "outputs": []
    },
    {
      "cell_type": "code",
      "metadata": {
        "id": "SoMyu_cTIfNN"
      },
      "source": [
        "sequence_train = get_sequences(tokenizer, max_len, train['text'])\n",
        "sequence_val = get_sequences(tokenizer, max_len, val['text'])"
      ],
      "execution_count": 13,
      "outputs": []
    },
    {
      "cell_type": "code",
      "metadata": {
        "colab": {
          "base_uri": "https://localhost:8080/"
        },
        "id": "pqRDLYhjIiB_",
        "outputId": "ab389809-a7c1-4ac1-aee8-06d5da52033c"
      },
      "source": [
        "sequence_train.shape, sequence_val.shape"
      ],
      "execution_count": 14,
      "outputs": [
        {
          "output_type": "execute_result",
          "data": {
            "text/plain": [
              "((305988, 250), (53998, 250))"
            ]
          },
          "metadata": {
            "tags": []
          },
          "execution_count": 14
        }
      ]
    },
    {
      "cell_type": "code",
      "metadata": {
        "colab": {
          "base_uri": "https://localhost:8080/"
        },
        "id": "78H-s0FXIkX5",
        "outputId": "a93c5157-6637-4268-fd92-700db30dda09"
      },
      "source": [
        "print(val['target'].unique(), train['target'].unique())"
      ],
      "execution_count": 15,
      "outputs": [
        {
          "output_type": "stream",
          "text": [
            "[1 0] [0 1]\n"
          ],
          "name": "stdout"
        }
      ]
    },
    {
      "cell_type": "code",
      "metadata": {
        "id": "Pcw8Dqg9IpUH"
      },
      "source": [
        "OH_encoder = OneHotEncoder(sparse=False)\n",
        "train_target = OH_encoder.fit_transform(train['target'].values.reshape(-1,1))\n",
        "val_target = OH_encoder.transform(val['target'].values.reshape(-1,1))"
      ],
      "execution_count": 16,
      "outputs": []
    },
    {
      "cell_type": "code",
      "metadata": {
        "colab": {
          "base_uri": "https://localhost:8080/"
        },
        "id": "sQ7UBo9JIrtu",
        "outputId": "8a59e97c-5a00-44bf-f9d7-5b90bc943832"
      },
      "source": [
        "train_target.shape, val_target.shape"
      ],
      "execution_count": 17,
      "outputs": [
        {
          "output_type": "execute_result",
          "data": {
            "text/plain": [
              "((305988, 2), (53998, 2))"
            ]
          },
          "metadata": {
            "tags": []
          },
          "execution_count": 17
        }
      ]
    },
    {
      "cell_type": "code",
      "metadata": {
        "id": "giwanzsOIxva"
      },
      "source": [
        "def get_optimizer(key):\n",
        "  map = {\n",
        "      'Adam': Adam(),\n",
        "      'Adadelta': Adadelta(),\n",
        "      'Adagrad': Adagrad(),\n",
        "      'RMSprop': RMSprop()\n",
        "  }\n",
        "  return map.get(key)"
      ],
      "execution_count": 18,
      "outputs": []
    },
    {
      "cell_type": "code",
      "metadata": {
        "id": "z5or1RMuJA-i"
      },
      "source": [
        "def build_mlp(hp):\n",
        "    model = Sequential()\n",
        "    model.add(Input(shape=(max_len,)))\n",
        "    units = hp.get('hidden_units')\n",
        "    model.add(Dense(units,\\\n",
        "                           activation=hp.get(\"hidden_activation\")))\n",
        "    model.add(Dense(units+10,\\\n",
        "                           activation=hp.get(\"hidden_activation\")))\n",
        "    model.add(Dense(units,\\\n",
        "                           activation=hp.get(\"hidden_activation\")))\n",
        "    model.add(Dense(2, activation='softmax'))\n",
        "    model.compile(\n",
        "        optimizer=hp.get('optimizer'),\n",
        "        loss='categorical_crossentropy',\n",
        "        metrics=[\n",
        "                 'accuracy',\n",
        "                 Precision(), \n",
        "                 Recall(),\n",
        "                 TruePositives(), \n",
        "                 TrueNegatives(), \n",
        "                 FalsePositives(),\n",
        "                 FalseNegatives()\n",
        "              ]\n",
        "          )\n",
        "    model.summary()\n",
        "    return model"
      ],
      "execution_count": 22,
      "outputs": []
    },
    {
      "cell_type": "code",
      "metadata": {
        "colab": {
          "base_uri": "https://localhost:8080/",
          "height": 35
        },
        "id": "UYTUTUPqJFQI",
        "outputId": "08678338-2bf4-4c7c-85d1-b58865762405"
      },
      "source": [
        "hp = HyperParameters()\n",
        "hp.Int('hidden_units', 10, 30, 10)\n",
        "hp.Choice('hidden_activation', activations)\n",
        "hp.Choice('optimizer', optimizers)"
      ],
      "execution_count": 23,
      "outputs": [
        {
          "output_type": "execute_result",
          "data": {
            "application/vnd.google.colaboratory.intrinsic+json": {
              "type": "string"
            },
            "text/plain": [
              "'Adam'"
            ]
          },
          "metadata": {
            "tags": []
          },
          "execution_count": 23
        }
      ]
    },
    {
      "cell_type": "code",
      "metadata": {
        "colab": {
          "base_uri": "https://localhost:8080/"
        },
        "id": "aS9659fzK2-F",
        "outputId": "26b71d84-56d4-4f61-ca7f-bb233ea71c9f"
      },
      "source": [
        "tuner = Hyperband(\n",
        "    build_mlp,\n",
        "    max_epochs=4,\n",
        "    objective='val_loss',\n",
        "    executions_per_trial=2,\n",
        "    directory='/content/drive/MyDrive/sentiment/MLP',\n",
        "    project_name='MLP_3H_B32',\n",
        "    hyperparameters=hp,\n",
        ")"
      ],
      "execution_count": 32,
      "outputs": [
        {
          "output_type": "stream",
          "text": [
            "INFO:tensorflow:Reloading Oracle from existing project /content/drive/MyDrive/sentiment/MLP/MLP_3H_B32/oracle.json\n",
            "Model: \"sequential\"\n",
            "_________________________________________________________________\n",
            "Layer (type)                 Output Shape              Param #   \n",
            "=================================================================\n",
            "dense (Dense)                (None, 10)                2510      \n",
            "_________________________________________________________________\n",
            "dense_1 (Dense)              (None, 20)                220       \n",
            "_________________________________________________________________\n",
            "dense_2 (Dense)              (None, 10)                210       \n",
            "_________________________________________________________________\n",
            "dense_3 (Dense)              (None, 2)                 22        \n",
            "=================================================================\n",
            "Total params: 2,962\n",
            "Trainable params: 2,962\n",
            "Non-trainable params: 0\n",
            "_________________________________________________________________\n",
            "INFO:tensorflow:Reloading Tuner from /content/drive/MyDrive/sentiment/MLP/MLP_3H_B32/tuner0.json\n"
          ],
          "name": "stdout"
        }
      ]
    },
    {
      "cell_type": "code",
      "metadata": {
        "colab": {
          "base_uri": "https://localhost:8080/"
        },
        "id": "bF4C8KJmLZEJ",
        "outputId": "a895c561-9caa-4b12-8d7d-976aedbc3dc2"
      },
      "source": [
        "history = tuner.search(\n",
        "    sequence_train,\n",
        "    train_target,\n",
        "    epochs=4,\n",
        "    validation_data=(sequence_val, val_target),\n",
        "    batch_size=32\n",
        ")"
      ],
      "execution_count": 25,
      "outputs": [
        {
          "output_type": "stream",
          "text": [
            "Trial 8 Complete [00h 02m 46s]\n",
            "val_loss: 0.6891468465328217\n",
            "\n",
            "Best val_loss So Far: 0.6891468465328217\n",
            "Total elapsed time: 00h 12m 02s\n",
            "INFO:tensorflow:Oracle triggered exit\n"
          ],
          "name": "stdout"
        }
      ]
    },
    {
      "cell_type": "code",
      "metadata": {
        "colab": {
          "base_uri": "https://localhost:8080/"
        },
        "id": "JbSNwOcuOOrR",
        "outputId": "c7234e49-ff1c-42fb-a330-55ef9ef42d06"
      },
      "source": [
        "tuner.search_space_summary()"
      ],
      "execution_count": 26,
      "outputs": [
        {
          "output_type": "stream",
          "text": [
            "Search space summary\n",
            "Default search space size: 3\n",
            "hidden_units (Int)\n",
            "{'default': None, 'conditions': [], 'min_value': 10, 'max_value': 30, 'step': 10, 'sampling': None}\n",
            "hidden_activation (Choice)\n",
            "{'default': 'sigmoid', 'conditions': [], 'values': ['sigmoid'], 'ordered': False}\n",
            "optimizer (Choice)\n",
            "{'default': 'Adam', 'conditions': [], 'values': ['Adam', 'RMSprop'], 'ordered': False}\n"
          ],
          "name": "stdout"
        }
      ]
    },
    {
      "cell_type": "code",
      "metadata": {
        "colab": {
          "base_uri": "https://localhost:8080/"
        },
        "id": "X6gTC13POSrA",
        "outputId": "dc5f7859-d2d4-4977-ca98-7e9062c4af8f"
      },
      "source": [
        "tuner.results_summary()"
      ],
      "execution_count": 33,
      "outputs": [
        {
          "output_type": "stream",
          "text": [
            "Results summary\n",
            "Results in /content/drive/MyDrive/sentiment/MLP/MLP_3H_B32\n",
            "Showing 10 best trials\n",
            "Objective(name='val_loss', direction='min')\n",
            "Trial summary\n",
            "Hyperparameters:\n",
            "hidden_units: 30\n",
            "hidden_activation: sigmoid\n",
            "optimizer: Adam\n",
            "tuner/epochs: 4\n",
            "tuner/initial_epoch: 0\n",
            "tuner/bracket: 0\n",
            "tuner/round: 0\n",
            "Score: 0.6891468465328217\n",
            "Trial summary\n",
            "Hyperparameters:\n",
            "hidden_units: 30\n",
            "hidden_activation: sigmoid\n",
            "optimizer: RMSprop\n",
            "tuner/epochs: 2\n",
            "tuner/initial_epoch: 0\n",
            "tuner/bracket: 1\n",
            "tuner/round: 0\n",
            "Score: 0.6891677379608154\n",
            "Trial summary\n",
            "Hyperparameters:\n",
            "hidden_units: 20\n",
            "hidden_activation: sigmoid\n",
            "optimizer: RMSprop\n",
            "tuner/epochs: 2\n",
            "tuner/initial_epoch: 0\n",
            "tuner/bracket: 1\n",
            "tuner/round: 0\n",
            "Score: 0.6895217001438141\n",
            "Trial summary\n",
            "Hyperparameters:\n",
            "hidden_units: 10\n",
            "hidden_activation: sigmoid\n",
            "optimizer: RMSprop\n",
            "tuner/epochs: 2\n",
            "tuner/initial_epoch: 0\n",
            "tuner/bracket: 1\n",
            "tuner/round: 0\n",
            "Score: 0.6895695626735687\n",
            "Trial summary\n",
            "Hyperparameters:\n",
            "hidden_units: 20\n",
            "hidden_activation: sigmoid\n",
            "optimizer: Adam\n",
            "tuner/epochs: 2\n",
            "tuner/initial_epoch: 0\n",
            "tuner/bracket: 1\n",
            "tuner/round: 0\n",
            "Score: 0.6896023750305176\n",
            "Trial summary\n",
            "Hyperparameters:\n",
            "hidden_units: 20\n",
            "hidden_activation: sigmoid\n",
            "optimizer: RMSprop\n",
            "tuner/epochs: 4\n",
            "tuner/initial_epoch: 2\n",
            "tuner/bracket: 1\n",
            "tuner/round: 1\n",
            "tuner/trial_id: 2adc25d063966a158722d1ee30564845\n",
            "Score: 0.6898736357688904\n",
            "Trial summary\n",
            "Hyperparameters:\n",
            "hidden_units: 30\n",
            "hidden_activation: sigmoid\n",
            "optimizer: RMSprop\n",
            "tuner/epochs: 4\n",
            "tuner/initial_epoch: 2\n",
            "tuner/bracket: 1\n",
            "tuner/round: 1\n",
            "tuner/trial_id: 443f3c0cf6b501c9d343d24fb2748518\n",
            "Score: 0.6901133954524994\n",
            "Trial summary\n",
            "Hyperparameters:\n",
            "hidden_units: 10\n",
            "hidden_activation: sigmoid\n",
            "optimizer: Adam\n",
            "tuner/epochs: 2\n",
            "tuner/initial_epoch: 0\n",
            "tuner/bracket: 1\n",
            "tuner/round: 0\n",
            "Score: 0.6903835237026215\n"
          ],
          "name": "stdout"
        }
      ]
    },
    {
      "cell_type": "code",
      "metadata": {
        "id": "CAOXnBWpP9Kx"
      },
      "source": [
        "def build_OE(hp):\n",
        "    model = Sequential()\n",
        "    model.add(Input(shape=(max_len,)))\n",
        "    units = hp.get('hidden_units')\n",
        "    model.add(Dense(units,\\\n",
        "                           activation=hp.get(\"hidden_activation\")))\n",
        "    model.add(Dense(units-10,\\\n",
        "                           activation=hp.get(\"hidden_activation\")))\n",
        "    model.add(Dense(units,\\\n",
        "                           activation=hp.get(\"hidden_activation\")))\n",
        "    model.add(Dense(2, activation='softmax'))\n",
        "    model.compile(\n",
        "        optimizer=hp.get('optimizer'),\n",
        "        loss='categorical_crossentropy',\n",
        "        metrics=[\n",
        "                 'accuracy',\n",
        "                 Precision(), \n",
        "                 Recall(),\n",
        "                 TruePositives(), \n",
        "                 TrueNegatives(), \n",
        "                 FalsePositives(),\n",
        "                 FalseNegatives()\n",
        "              ]\n",
        "          )\n",
        "    model.summary()\n",
        "    return model"
      ],
      "execution_count": 29,
      "outputs": []
    },
    {
      "cell_type": "code",
      "metadata": {
        "colab": {
          "base_uri": "https://localhost:8080/",
          "height": 35
        },
        "id": "H8SAugF6PSrE",
        "outputId": "22e36cb1-df14-4aec-dc8c-ad0c6e533290"
      },
      "source": [
        "hp2 = HyperParameters()\n",
        "hp2.Int('hidden_units', 20, 40, 10)\n",
        "hp2.Choice('hidden_activation', activations)\n",
        "hp2.Choice('optimizer', optimizers)"
      ],
      "execution_count": 30,
      "outputs": [
        {
          "output_type": "execute_result",
          "data": {
            "application/vnd.google.colaboratory.intrinsic+json": {
              "type": "string"
            },
            "text/plain": [
              "'Adam'"
            ]
          },
          "metadata": {
            "tags": []
          },
          "execution_count": 30
        }
      ]
    },
    {
      "cell_type": "code",
      "metadata": {
        "colab": {
          "base_uri": "https://localhost:8080/"
        },
        "id": "RmeHTw26PzQ_",
        "outputId": "6cea079b-7583-4331-fbd8-0638c9b86692"
      },
      "source": [
        "tuner2 = Hyperband(\n",
        "    build_OE,\n",
        "    max_epochs=4,\n",
        "    objective='val_loss',\n",
        "    executions_per_trial=2,\n",
        "    directory='/content/drive/MyDrive/sentiment/MLP',\n",
        "    project_name='MLP_3HOEN_B32',\n",
        "    hyperparameters=hp2,\n",
        ")"
      ],
      "execution_count": 34,
      "outputs": [
        {
          "output_type": "stream",
          "text": [
            "Model: \"sequential\"\n",
            "_________________________________________________________________\n",
            "Layer (type)                 Output Shape              Param #   \n",
            "=================================================================\n",
            "dense (Dense)                (None, 20)                5020      \n",
            "_________________________________________________________________\n",
            "dense_1 (Dense)              (None, 10)                210       \n",
            "_________________________________________________________________\n",
            "dense_2 (Dense)              (None, 20)                220       \n",
            "_________________________________________________________________\n",
            "dense_3 (Dense)              (None, 2)                 42        \n",
            "=================================================================\n",
            "Total params: 5,492\n",
            "Trainable params: 5,492\n",
            "Non-trainable params: 0\n",
            "_________________________________________________________________\n"
          ],
          "name": "stdout"
        }
      ]
    },
    {
      "cell_type": "code",
      "metadata": {
        "colab": {
          "base_uri": "https://localhost:8080/"
        },
        "id": "cvt0RpYIQzih",
        "outputId": "26e6a43c-f2c7-40f9-fb09-4d0513d894c0"
      },
      "source": [
        "history = tuner2.search(\n",
        "    sequence_train,\n",
        "    train_target,\n",
        "    epochs=4,\n",
        "    validation_data=(sequence_val, val_target),\n",
        "    batch_size=32\n",
        ")"
      ],
      "execution_count": 35,
      "outputs": [
        {
          "output_type": "stream",
          "text": [
            "Trial 8 Complete [00h 02m 30s]\n",
            "val_loss: 0.6891522407531738\n",
            "\n",
            "Best val_loss So Far: 0.6891522407531738\n",
            "Total elapsed time: 00h 12m 16s\n",
            "INFO:tensorflow:Oracle triggered exit\n"
          ],
          "name": "stdout"
        }
      ]
    },
    {
      "cell_type": "code",
      "metadata": {
        "colab": {
          "base_uri": "https://localhost:8080/"
        },
        "id": "FZMLjxOrUw1p",
        "outputId": "cb6ede09-918a-4fe9-d071-8a8c14ae4075"
      },
      "source": [
        "tuner2.search_space_summary()"
      ],
      "execution_count": 37,
      "outputs": [
        {
          "output_type": "stream",
          "text": [
            "Search space summary\n",
            "Default search space size: 3\n",
            "hidden_units (Int)\n",
            "{'default': None, 'conditions': [], 'min_value': 20, 'max_value': 40, 'step': 10, 'sampling': None}\n",
            "hidden_activation (Choice)\n",
            "{'default': 'sigmoid', 'conditions': [], 'values': ['sigmoid'], 'ordered': False}\n",
            "optimizer (Choice)\n",
            "{'default': 'Adam', 'conditions': [], 'values': ['Adam', 'RMSprop'], 'ordered': False}\n"
          ],
          "name": "stdout"
        }
      ]
    },
    {
      "cell_type": "code",
      "metadata": {
        "colab": {
          "base_uri": "https://localhost:8080/"
        },
        "id": "gfzt72iWT-qu",
        "outputId": "50ff1770-54b6-478a-b7c0-a74c8818854a"
      },
      "source": [
        "tuner2.results_summary()"
      ],
      "execution_count": 36,
      "outputs": [
        {
          "output_type": "stream",
          "text": [
            "Results summary\n",
            "Results in /content/drive/MyDrive/sentiment/MLP/MLP_3HOEN_B32\n",
            "Showing 10 best trials\n",
            "Objective(name='val_loss', direction='min')\n",
            "Trial summary\n",
            "Hyperparameters:\n",
            "hidden_units: 20\n",
            "hidden_activation: sigmoid\n",
            "optimizer: RMSprop\n",
            "tuner/epochs: 4\n",
            "tuner/initial_epoch: 0\n",
            "tuner/bracket: 0\n",
            "tuner/round: 0\n",
            "Score: 0.6891522407531738\n",
            "Trial summary\n",
            "Hyperparameters:\n",
            "hidden_units: 30\n",
            "hidden_activation: sigmoid\n",
            "optimizer: RMSprop\n",
            "tuner/epochs: 2\n",
            "tuner/initial_epoch: 0\n",
            "tuner/bracket: 1\n",
            "tuner/round: 0\n",
            "Score: 0.6892656087875366\n",
            "Trial summary\n",
            "Hyperparameters:\n",
            "hidden_units: 30\n",
            "hidden_activation: sigmoid\n",
            "optimizer: Adam\n",
            "tuner/epochs: 2\n",
            "tuner/initial_epoch: 0\n",
            "tuner/bracket: 1\n",
            "tuner/round: 0\n",
            "Score: 0.6897149980068207\n",
            "Trial summary\n",
            "Hyperparameters:\n",
            "hidden_units: 40\n",
            "hidden_activation: sigmoid\n",
            "optimizer: Adam\n",
            "tuner/epochs: 2\n",
            "tuner/initial_epoch: 0\n",
            "tuner/bracket: 1\n",
            "tuner/round: 0\n",
            "Score: 0.6899974644184113\n",
            "Trial summary\n",
            "Hyperparameters:\n",
            "hidden_units: 30\n",
            "hidden_activation: sigmoid\n",
            "optimizer: Adam\n",
            "tuner/epochs: 4\n",
            "tuner/initial_epoch: 2\n",
            "tuner/bracket: 1\n",
            "tuner/round: 1\n",
            "tuner/trial_id: b3207bb811d660b9a4f7dee3131b27a2\n",
            "Score: 0.6900399029254913\n",
            "Trial summary\n",
            "Hyperparameters:\n",
            "hidden_units: 20\n",
            "hidden_activation: sigmoid\n",
            "optimizer: Adam\n",
            "tuner/epochs: 2\n",
            "tuner/initial_epoch: 0\n",
            "tuner/bracket: 1\n",
            "tuner/round: 0\n",
            "Score: 0.6901174783706665\n",
            "Trial summary\n",
            "Hyperparameters:\n",
            "hidden_units: 30\n",
            "hidden_activation: sigmoid\n",
            "optimizer: RMSprop\n",
            "tuner/epochs: 4\n",
            "tuner/initial_epoch: 2\n",
            "tuner/bracket: 1\n",
            "tuner/round: 1\n",
            "tuner/trial_id: 401244495993c85c3524c2da3de70443\n",
            "Score: 0.6902093291282654\n",
            "Trial summary\n",
            "Hyperparameters:\n",
            "hidden_units: 40\n",
            "hidden_activation: sigmoid\n",
            "optimizer: RMSprop\n",
            "tuner/epochs: 2\n",
            "tuner/initial_epoch: 0\n",
            "tuner/bracket: 1\n",
            "tuner/round: 0\n",
            "Score: 0.6904937326908112\n"
          ],
          "name": "stdout"
        }
      ]
    },
    {
      "cell_type": "code",
      "metadata": {
        "colab": {
          "base_uri": "https://localhost:8080/",
          "height": 35
        },
        "id": "zfj-cvAWUP6A",
        "outputId": "e4388c57-84c2-4670-c051-0959c555b4d7"
      },
      "source": [
        "hp_2 = HyperParameters()\n",
        "hp_2.Int('hidden_units', 40, 60, 10)\n",
        "hp_2.Choice('hidden_activation', activations)\n",
        "hp_2.Choice('optimizer', optimizers)"
      ],
      "execution_count": 39,
      "outputs": [
        {
          "output_type": "execute_result",
          "data": {
            "application/vnd.google.colaboratory.intrinsic+json": {
              "type": "string"
            },
            "text/plain": [
              "'Adam'"
            ]
          },
          "metadata": {
            "tags": []
          },
          "execution_count": 39
        }
      ]
    },
    {
      "cell_type": "code",
      "metadata": {
        "colab": {
          "base_uri": "https://localhost:8080/"
        },
        "id": "_ZZUzqEvUlvO",
        "outputId": "4be2082a-c74c-4d6d-a652-e2c43f8fee1a"
      },
      "source": [
        "tuner_2 = Hyperband(\n",
        "    build_mlp,\n",
        "    max_epochs=4,\n",
        "    objective='val_loss',\n",
        "    executions_per_trial=2,\n",
        "    directory='/content/drive/MyDrive/sentiment/MLP',\n",
        "    project_name='MLP_3H2_B32',\n",
        "    hyperparameters=hp_2,\n",
        ")"
      ],
      "execution_count": 40,
      "outputs": [
        {
          "output_type": "stream",
          "text": [
            "Model: \"sequential\"\n",
            "_________________________________________________________________\n",
            "Layer (type)                 Output Shape              Param #   \n",
            "=================================================================\n",
            "dense (Dense)                (None, 40)                10040     \n",
            "_________________________________________________________________\n",
            "dense_1 (Dense)              (None, 50)                2050      \n",
            "_________________________________________________________________\n",
            "dense_2 (Dense)              (None, 40)                2040      \n",
            "_________________________________________________________________\n",
            "dense_3 (Dense)              (None, 2)                 82        \n",
            "=================================================================\n",
            "Total params: 14,212\n",
            "Trainable params: 14,212\n",
            "Non-trainable params: 0\n",
            "_________________________________________________________________\n"
          ],
          "name": "stdout"
        }
      ]
    },
    {
      "cell_type": "code",
      "metadata": {
        "colab": {
          "base_uri": "https://localhost:8080/"
        },
        "id": "XR4vl_0fUoV-",
        "outputId": "204f0f5a-3ef6-4394-9298-ef1416136292"
      },
      "source": [
        "history = tuner_2.search(\n",
        "    sequence_train,\n",
        "    train_target,\n",
        "    epochs=4,\n",
        "    validation_data=(sequence_val, val_target),\n",
        "    batch_size=32\n",
        ")"
      ],
      "execution_count": 41,
      "outputs": [
        {
          "output_type": "stream",
          "text": [
            "Trial 8 Complete [00h 02m 40s]\n",
            "val_loss: 0.6898790597915649\n",
            "\n",
            "Best val_loss So Far: 0.6890568435192108\n",
            "Total elapsed time: 00h 12m 36s\n",
            "INFO:tensorflow:Oracle triggered exit\n"
          ],
          "name": "stdout"
        }
      ]
    },
    {
      "cell_type": "code",
      "metadata": {
        "colab": {
          "base_uri": "https://localhost:8080/"
        },
        "id": "qGDZun32Y-Gi",
        "outputId": "2a8d17e7-a756-4d05-b76e-743f9f0d9aab"
      },
      "source": [
        "tuner_2.search_space_summary()"
      ],
      "execution_count": 42,
      "outputs": [
        {
          "output_type": "stream",
          "text": [
            "Search space summary\n",
            "Default search space size: 3\n",
            "hidden_units (Int)\n",
            "{'default': None, 'conditions': [], 'min_value': 40, 'max_value': 60, 'step': 10, 'sampling': None}\n",
            "hidden_activation (Choice)\n",
            "{'default': 'sigmoid', 'conditions': [], 'values': ['sigmoid'], 'ordered': False}\n",
            "optimizer (Choice)\n",
            "{'default': 'Adam', 'conditions': [], 'values': ['Adam', 'RMSprop'], 'ordered': False}\n"
          ],
          "name": "stdout"
        }
      ]
    },
    {
      "cell_type": "code",
      "metadata": {
        "colab": {
          "base_uri": "https://localhost:8080/"
        },
        "id": "OrA-6ZhIZA7S",
        "outputId": "f7520b79-f815-4127-e06c-8b4d78f214d3"
      },
      "source": [
        "tuner_2.results_summary()"
      ],
      "execution_count": 43,
      "outputs": [
        {
          "output_type": "stream",
          "text": [
            "Results summary\n",
            "Results in /content/drive/MyDrive/sentiment/MLP/MLP_3H2_B32\n",
            "Showing 10 best trials\n",
            "Objective(name='val_loss', direction='min')\n",
            "Trial summary\n",
            "Hyperparameters:\n",
            "hidden_units: 60\n",
            "hidden_activation: sigmoid\n",
            "optimizer: Adam\n",
            "tuner/epochs: 4\n",
            "tuner/initial_epoch: 2\n",
            "tuner/bracket: 1\n",
            "tuner/round: 1\n",
            "tuner/trial_id: a77f3a085f79745be2ba8f584dd28eba\n",
            "Score: 0.6890568435192108\n",
            "Trial summary\n",
            "Hyperparameters:\n",
            "hidden_units: 60\n",
            "hidden_activation: sigmoid\n",
            "optimizer: Adam\n",
            "tuner/epochs: 2\n",
            "tuner/initial_epoch: 0\n",
            "tuner/bracket: 1\n",
            "tuner/round: 0\n",
            "Score: 0.6891824305057526\n",
            "Trial summary\n",
            "Hyperparameters:\n",
            "hidden_units: 40\n",
            "hidden_activation: sigmoid\n",
            "optimizer: RMSprop\n",
            "tuner/epochs: 2\n",
            "tuner/initial_epoch: 0\n",
            "tuner/bracket: 1\n",
            "tuner/round: 0\n",
            "Score: 0.6893600821495056\n",
            "Trial summary\n",
            "Hyperparameters:\n",
            "hidden_units: 40\n",
            "hidden_activation: sigmoid\n",
            "optimizer: Adam\n",
            "tuner/epochs: 2\n",
            "tuner/initial_epoch: 0\n",
            "tuner/bracket: 1\n",
            "tuner/round: 0\n",
            "Score: 0.6894064247608185\n",
            "Trial summary\n",
            "Hyperparameters:\n",
            "hidden_units: 60\n",
            "hidden_activation: sigmoid\n",
            "optimizer: RMSprop\n",
            "tuner/epochs: 2\n",
            "tuner/initial_epoch: 0\n",
            "tuner/bracket: 1\n",
            "tuner/round: 0\n",
            "Score: 0.6894626319408417\n",
            "Trial summary\n",
            "Hyperparameters:\n",
            "hidden_units: 40\n",
            "hidden_activation: sigmoid\n",
            "optimizer: RMSprop\n",
            "tuner/epochs: 4\n",
            "tuner/initial_epoch: 2\n",
            "tuner/bracket: 1\n",
            "tuner/round: 1\n",
            "tuner/trial_id: 91ec8beed5deab80c574c71607bd1a89\n",
            "Score: 0.6895400583744049\n",
            "Trial summary\n",
            "Hyperparameters:\n",
            "hidden_units: 50\n",
            "hidden_activation: sigmoid\n",
            "optimizer: RMSprop\n",
            "tuner/epochs: 4\n",
            "tuner/initial_epoch: 0\n",
            "tuner/bracket: 0\n",
            "tuner/round: 0\n",
            "Score: 0.6898790597915649\n",
            "Trial summary\n",
            "Hyperparameters:\n",
            "hidden_units: 50\n",
            "hidden_activation: sigmoid\n",
            "optimizer: Adam\n",
            "tuner/epochs: 2\n",
            "tuner/initial_epoch: 0\n",
            "tuner/bracket: 1\n",
            "tuner/round: 0\n",
            "Score: 0.6903049051761627\n"
          ],
          "name": "stdout"
        }
      ]
    }
  ]
}