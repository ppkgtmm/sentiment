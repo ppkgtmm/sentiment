{
  "nbformat": 4,
  "nbformat_minor": 0,
  "metadata": {
    "colab": {
      "name": "MLP-3H.ipynb",
      "provenance": [],
      "collapsed_sections": [],
      "toc_visible": true,
      "mount_file_id": "1Wz99Kdw84aOIYjWCiAiTR7QwQ29B_9xB",
      "authorship_tag": "ABX9TyMgfc4cdMvLmolbrNR+AkCb",
      "include_colab_link": true
    },
    "kernelspec": {
      "name": "python3",
      "display_name": "Python 3"
    }
  },
  "cells": [
    {
      "cell_type": "markdown",
      "metadata": {
        "id": "view-in-github",
        "colab_type": "text"
      },
      "source": [
        "<a href=\"https://colab.research.google.com/github/ppkgtmm/sentiment/blob/utils/MLP_3H.ipynb\" target=\"_parent\"><img src=\"https://colab.research.google.com/assets/colab-badge.svg\" alt=\"Open In Colab\"/></a>"
      ]
    },
    {
      "cell_type": "code",
      "metadata": {
        "id": "XBoAcuP7HoOE"
      },
      "source": [
        "# !pip install keras-tuner\n",
        "# !rm -r sentiment\n",
        "# !git clone --branch utils https://github.com/ppkgtmm/sentiment.git sentiment"
      ],
      "execution_count": 2,
      "outputs": []
    },
    {
      "cell_type": "code",
      "metadata": {
        "id": "Q3NiW294G8SQ"
      },
      "source": [
        "import pandas as pd\n",
        "from keras.preprocessing.text import  Tokenizer\n",
        "from keras.layers import Input, Dense\n",
        "from keras.models import Sequential\n",
        "from keras.metrics import Precision, Recall, FalseNegatives, \\\n",
        "FalsePositives, TrueNegatives, TruePositives\n",
        "from kerastuner import HyperParameters\n",
        "import matplotlib.pyplot as plt\n",
        "from sentiment.utils import read_data, get_optimizer, get_sequences, split_data\n",
        "from sentiment.utils import get_tuner, get_model_from_config, get_callbacks\n",
        "from sentiment.utils import OH_fit_transform, OH_transform, load, dump, \\\n",
        "model_evaluate"
      ],
      "execution_count": 3,
      "outputs": []
    },
    {
      "cell_type": "code",
      "metadata": {
        "id": "nLxkh35JHIox"
      },
      "source": [
        "\n",
        "cols = ['text', 'target']\n",
        "data_path = '/content/drive/MyDrive/sentiment/data/data_preprocessed.csv'\n",
        "test_path = '/content/drive/MyDrive/sentiment/data/test_data_preprocessed.csv'\n",
        "seed = 123456\n",
        "num_words = 10000\n",
        "max_len = 250\n",
        "optimizers = [\n",
        "           'Adam',\n",
        "           'RMSprop'   \n",
        "]\n",
        "activations = ['sigmoid']"
      ],
      "execution_count": 4,
      "outputs": []
    },
    {
      "cell_type": "code",
      "metadata": {
        "id": "G3CmPE1yIF2e"
      },
      "source": [
        "data = read_data(data_path,cols)"
      ],
      "execution_count": 5,
      "outputs": []
    },
    {
      "cell_type": "code",
      "metadata": {
        "colab": {
          "base_uri": "https://localhost:8080/",
          "height": 204
        },
        "id": "1nRj8DooIGqT",
        "outputId": "0afb55a8-bb4d-498c-cea4-3e82e50b3eed"
      },
      "source": [
        "data.sample(5)"
      ],
      "execution_count": 6,
      "outputs": [
        {
          "output_type": "execute_result",
          "data": {
            "text/html": [
              "<div>\n",
              "<style scoped>\n",
              "    .dataframe tbody tr th:only-of-type {\n",
              "        vertical-align: middle;\n",
              "    }\n",
              "\n",
              "    .dataframe tbody tr th {\n",
              "        vertical-align: top;\n",
              "    }\n",
              "\n",
              "    .dataframe thead th {\n",
              "        text-align: right;\n",
              "    }\n",
              "</style>\n",
              "<table border=\"1\" class=\"dataframe\">\n",
              "  <thead>\n",
              "    <tr style=\"text-align: right;\">\n",
              "      <th></th>\n",
              "      <th>text</th>\n",
              "      <th>target</th>\n",
              "    </tr>\n",
              "  </thead>\n",
              "  <tbody>\n",
              "    <tr>\n",
              "      <th>277062</th>\n",
              "      <td>poorly organized poorly organized try looking ...</td>\n",
              "      <td>0</td>\n",
              "    </tr>\n",
              "    <tr>\n",
              "      <th>198730</th>\n",
              "      <td>not very flavorful would not buy this flavor a...</td>\n",
              "      <td>0</td>\n",
              "    </tr>\n",
              "    <tr>\n",
              "      <th>80005</th>\n",
              "      <td>emotional i really was excited to see that cha...</td>\n",
              "      <td>1</td>\n",
              "    </tr>\n",
              "    <tr>\n",
              "      <th>8714</th>\n",
              "      <td>drunk a log what a disappointment no depth a p...</td>\n",
              "      <td>0</td>\n",
              "    </tr>\n",
              "    <tr>\n",
              "      <th>55461</th>\n",
              "      <td>making it her own what an amazing album i was ...</td>\n",
              "      <td>1</td>\n",
              "    </tr>\n",
              "  </tbody>\n",
              "</table>\n",
              "</div>"
            ],
            "text/plain": [
              "                                                     text  target\n",
              "277062  poorly organized poorly organized try looking ...       0\n",
              "198730  not very flavorful would not buy this flavor a...       0\n",
              "80005   emotional i really was excited to see that cha...       1\n",
              "8714    drunk a log what a disappointment no depth a p...       0\n",
              "55461   making it her own what an amazing album i was ...       1"
            ]
          },
          "metadata": {
            "tags": []
          },
          "execution_count": 6
        }
      ]
    },
    {
      "cell_type": "code",
      "metadata": {
        "id": "Dxd0YaVRIKNN"
      },
      "source": [
        "train, val = split_data(data)"
      ],
      "execution_count": 7,
      "outputs": []
    },
    {
      "cell_type": "code",
      "metadata": {
        "colab": {
          "base_uri": "https://localhost:8080/"
        },
        "id": "PTezFg5CIPIu",
        "outputId": "29032e82-7682-4af4-c259-d8f72cef80d6"
      },
      "source": [
        "train.shape, val.shape"
      ],
      "execution_count": 8,
      "outputs": [
        {
          "output_type": "execute_result",
          "data": {
            "text/plain": [
              "((305988, 2), (53998, 2))"
            ]
          },
          "metadata": {
            "tags": []
          },
          "execution_count": 8
        }
      ]
    },
    {
      "cell_type": "code",
      "metadata": {
        "colab": {
          "base_uri": "https://localhost:8080/",
          "height": 204
        },
        "id": "OBQX617DBkO5",
        "outputId": "6efbfff5-3f30-4d64-aedb-afdd0dfb8ba6"
      },
      "source": [
        "test = read_data(test_path, cols)\n",
        "test.sample(5)"
      ],
      "execution_count": 15,
      "outputs": [
        {
          "output_type": "execute_result",
          "data": {
            "text/html": [
              "<div>\n",
              "<style scoped>\n",
              "    .dataframe tbody tr th:only-of-type {\n",
              "        vertical-align: middle;\n",
              "    }\n",
              "\n",
              "    .dataframe tbody tr th {\n",
              "        vertical-align: top;\n",
              "    }\n",
              "\n",
              "    .dataframe thead th {\n",
              "        text-align: right;\n",
              "    }\n",
              "</style>\n",
              "<table border=\"1\" class=\"dataframe\">\n",
              "  <thead>\n",
              "    <tr style=\"text-align: right;\">\n",
              "      <th></th>\n",
              "      <th>text</th>\n",
              "      <th>target</th>\n",
              "    </tr>\n",
              "  </thead>\n",
              "  <tbody>\n",
              "    <tr>\n",
              "      <th>5292</th>\n",
              "      <td>great product for a small environmental impact...</td>\n",
              "      <td>1</td>\n",
              "    </tr>\n",
              "    <tr>\n",
              "      <th>653</th>\n",
              "      <td>not very detailed this book has a bunch of gen...</td>\n",
              "      <td>0</td>\n",
              "    </tr>\n",
              "    <tr>\n",
              "      <th>14869</th>\n",
              "      <td>clear and concise but requires supplementation...</td>\n",
              "      <td>1</td>\n",
              "    </tr>\n",
              "    <tr>\n",
              "      <th>12841</th>\n",
              "      <td>not all bad but pretty earthy crunchy the basi...</td>\n",
              "      <td>0</td>\n",
              "    </tr>\n",
              "    <tr>\n",
              "      <th>8929</th>\n",
              "      <td>overrated disappointing yet it could have been...</td>\n",
              "      <td>0</td>\n",
              "    </tr>\n",
              "  </tbody>\n",
              "</table>\n",
              "</div>"
            ],
            "text/plain": [
              "                                                    text  target\n",
              "5292   great product for a small environmental impact...       1\n",
              "653    not very detailed this book has a bunch of gen...       0\n",
              "14869  clear and concise but requires supplementation...       1\n",
              "12841  not all bad but pretty earthy crunchy the basi...       0\n",
              "8929   overrated disappointing yet it could have been...       0"
            ]
          },
          "metadata": {
            "tags": []
          },
          "execution_count": 15
        }
      ]
    },
    {
      "cell_type": "markdown",
      "metadata": {
        "id": "JR68qQcV_poA"
      },
      "source": [
        "## Text preprocessing"
      ]
    },
    {
      "cell_type": "code",
      "metadata": {
        "id": "bHLCqgfsIQd5"
      },
      "source": [
        "tokenizer = Tokenizer(num_words=num_words, oov_token='OOV')\n",
        "tokenizer.fit_on_texts(train['text'])"
      ],
      "execution_count": null,
      "outputs": []
    },
    {
      "cell_type": "code",
      "metadata": {
        "id": "24i-MVlzxBfc"
      },
      "source": [
        "sequence_train = get_sequences(tokenizer, max_len, train['text'])\n",
        "sequence_val = get_sequences(tokenizer, max_len, val['text'])"
      ],
      "execution_count": null,
      "outputs": []
    },
    {
      "cell_type": "markdown",
      "metadata": {
        "id": "xGQsqEQ8_sbw"
      },
      "source": [
        "## Target preprocessing"
      ]
    },
    {
      "cell_type": "code",
      "metadata": {
        "colab": {
          "base_uri": "https://localhost:8080/"
        },
        "id": "78H-s0FXIkX5",
        "outputId": "c6bd301d-40b3-4d67-e9a1-9c733a41a1e0"
      },
      "source": [
        "print(val['target'].unique(), train['target'].unique())"
      ],
      "execution_count": 9,
      "outputs": [
        {
          "output_type": "stream",
          "text": [
            "[1 0] [0 1]\n"
          ],
          "name": "stdout"
        }
      ]
    },
    {
      "cell_type": "code",
      "metadata": {
        "id": "Pcw8Dqg9IpUH"
      },
      "source": [
        "train_target = OH_fit_transform(train['target'])\n",
        "val_target = OH_transform(val['target'])\n",
        "test_target = OH_transform(test['target'])"
      ],
      "execution_count": 16,
      "outputs": []
    },
    {
      "cell_type": "code",
      "metadata": {
        "colab": {
          "base_uri": "https://localhost:8080/"
        },
        "id": "sQ7UBo9JIrtu",
        "outputId": "ae829c3b-f883-40c6-8256-24ddda67384a"
      },
      "source": [
        "train_target.shape, val_target.shape, test_target.shape"
      ],
      "execution_count": 17,
      "outputs": [
        {
          "output_type": "execute_result",
          "data": {
            "text/plain": [
              "((305988, 2), (53998, 2), (20000, 2))"
            ]
          },
          "metadata": {
            "tags": []
          },
          "execution_count": 17
        }
      ]
    },
    {
      "cell_type": "markdown",
      "metadata": {
        "id": "7VhEOZ4JxGIH"
      },
      "source": [
        "## MLP 3H"
      ]
    },
    {
      "cell_type": "code",
      "metadata": {
        "id": "z5or1RMuJA-i"
      },
      "source": [
        "def build_mlp(hp):\n",
        "    model = Sequential()\n",
        "    model.add(Input(shape=(max_len,)))\n",
        "    units = hp.get('hidden_units')\n",
        "    model.add(Dense(units,\\\n",
        "                           activation=hp.get(\"hidden_activation\")))\n",
        "    model.add(Dense(units+10,\\\n",
        "                           activation=hp.get(\"hidden_activation\")))\n",
        "    model.add(Dense(units,\\\n",
        "                           activation=hp.get(\"hidden_activation\")))\n",
        "    model.add(Dense(2, activation='softmax'))\n",
        "    model.compile(\n",
        "        optimizer=hp.get('optimizer'),\n",
        "        loss='categorical_crossentropy',\n",
        "        metrics=[\n",
        "                 'accuracy',\n",
        "                 Precision(), \n",
        "                 Recall(),\n",
        "                 TruePositives(), \n",
        "                 TrueNegatives(), \n",
        "                 FalsePositives(),\n",
        "                 FalseNegatives()\n",
        "              ]\n",
        "          )\n",
        "    model.summary()\n",
        "    return model"
      ],
      "execution_count": null,
      "outputs": []
    },
    {
      "cell_type": "code",
      "metadata": {
        "colab": {
          "base_uri": "https://localhost:8080/",
          "height": 35
        },
        "id": "UYTUTUPqJFQI",
        "outputId": "ad3128b5-ac6c-4027-d4b6-6f474ebaf157"
      },
      "source": [
        "hp = HyperParameters()\n",
        "hp.Int('hidden_units', 10, 30, 10)\n",
        "hp.Choice('hidden_activation', activations)\n",
        "hp.Choice('optimizer', optimizers)"
      ],
      "execution_count": null,
      "outputs": [
        {
          "output_type": "execute_result",
          "data": {
            "application/vnd.google.colaboratory.intrinsic+json": {
              "type": "string"
            },
            "text/plain": [
              "'Adam'"
            ]
          },
          "metadata": {
            "tags": []
          },
          "execution_count": 14
        }
      ]
    },
    {
      "cell_type": "code",
      "metadata": {
        "colab": {
          "base_uri": "https://localhost:8080/"
        },
        "id": "aS9659fzK2-F",
        "outputId": "60012180-e19b-4551-d488-cd668a9baa40"
      },
      "source": [
        "tuner = get_tuner(build_mlp,'/content/drive/MyDrive/sentiment/MLP','MLP_3H_B32', hp)"
      ],
      "execution_count": null,
      "outputs": [
        {
          "output_type": "stream",
          "text": [
            "INFO:tensorflow:Reloading Oracle from existing project /content/drive/MyDrive/sentiment/MLP/MLP_3H_B32/oracle.json\n",
            "Model: \"sequential\"\n",
            "_________________________________________________________________\n",
            "Layer (type)                 Output Shape              Param #   \n",
            "=================================================================\n",
            "dense (Dense)                (None, 10)                2510      \n",
            "_________________________________________________________________\n",
            "dense_1 (Dense)              (None, 20)                220       \n",
            "_________________________________________________________________\n",
            "dense_2 (Dense)              (None, 10)                210       \n",
            "_________________________________________________________________\n",
            "dense_3 (Dense)              (None, 2)                 22        \n",
            "=================================================================\n",
            "Total params: 2,962\n",
            "Trainable params: 2,962\n",
            "Non-trainable params: 0\n",
            "_________________________________________________________________\n",
            "INFO:tensorflow:Reloading Tuner from /content/drive/MyDrive/sentiment/MLP/MLP_3H_B32/tuner0.json\n"
          ],
          "name": "stdout"
        }
      ]
    },
    {
      "cell_type": "markdown",
      "metadata": {
        "id": "P-2VvvUQxZIY"
      },
      "source": [
        "## Train"
      ]
    },
    {
      "cell_type": "code",
      "metadata": {
        "id": "xZHR_HahxTf0"
      },
      "source": [
        "history = tuner.search(\n",
        "    sequence_train,\n",
        "    train_target,\n",
        "    epochs=4,\n",
        "    validation_data=(sequence_val, val_target),\n",
        "    batch_size=32\n",
        ")"
      ],
      "execution_count": null,
      "outputs": []
    },
    {
      "cell_type": "markdown",
      "metadata": {
        "id": "K6dCV2FbxeiK"
      },
      "source": [
        "## Refit\n"
      ]
    },
    {
      "cell_type": "code",
      "metadata": {
        "colab": {
          "base_uri": "https://localhost:8080/"
        },
        "id": "5YsAVn1AvMAv",
        "outputId": "0e32b6a9-8f61-45a8-84a7-fbbef055f69d"
      },
      "source": [
        "mlp_3h = tuner.get_best_models(num_models=1)[0]\n",
        "max_len = mlp_3h.get_config()[\"layers\"][0][\"config\"][\"batch_input_shape\"][1]"
      ],
      "execution_count": null,
      "outputs": [
        {
          "output_type": "stream",
          "text": [
            "Model: \"sequential\"\n",
            "_________________________________________________________________\n",
            "Layer (type)                 Output Shape              Param #   \n",
            "=================================================================\n",
            "dense (Dense)                (None, 30)                7530      \n",
            "_________________________________________________________________\n",
            "dense_1 (Dense)              (None, 40)                1240      \n",
            "_________________________________________________________________\n",
            "dense_2 (Dense)              (None, 30)                1230      \n",
            "_________________________________________________________________\n",
            "dense_3 (Dense)              (None, 2)                 62        \n",
            "=================================================================\n",
            "Total params: 10,062\n",
            "Trainable params: 10,062\n",
            "Non-trainable params: 0\n",
            "_________________________________________________________________\n",
            "WARNING:tensorflow:Unresolved object in checkpoint: (root).optimizer.iter\n",
            "WARNING:tensorflow:Unresolved object in checkpoint: (root).optimizer.beta_1\n",
            "WARNING:tensorflow:Unresolved object in checkpoint: (root).optimizer.beta_2\n",
            "WARNING:tensorflow:Unresolved object in checkpoint: (root).optimizer.decay\n",
            "WARNING:tensorflow:Unresolved object in checkpoint: (root).optimizer.learning_rate\n",
            "WARNING:tensorflow:A checkpoint was restored (e.g. tf.train.Checkpoint.restore or tf.keras.Model.load_weights) but not all checkpointed values were used. See above for specific issues. Use expect_partial() on the load status object, e.g. tf.train.Checkpoint.restore(...).expect_partial(), to silence these warnings, or use assert_consumed() to make the check explicit. See https://www.tensorflow.org/guide/checkpoint#loading_mechanics for details.\n"
          ],
          "name": "stdout"
        }
      ]
    },
    {
      "cell_type": "code",
      "metadata": {
        "id": "_4KzE1tgyDzY"
      },
      "source": [
        "tokenizer = load('/content/drive/MyDrive/sentiment/MLP/MLP_3H_B32/tokenizer.pickle')"
      ],
      "execution_count": null,
      "outputs": []
    },
    {
      "cell_type": "code",
      "metadata": {
        "id": "DvjtlV3MyFXZ"
      },
      "source": [
        "seq_train = get_sequences(tokenizer,max_len,train['text'])\n",
        "seq_val = get_sequences(tokenizer,max_len,val['text'])"
      ],
      "execution_count": null,
      "outputs": []
    },
    {
      "cell_type": "code",
      "metadata": {
        "colab": {
          "base_uri": "https://localhost:8080/"
        },
        "id": "-ZJ7am33x6Dr",
        "outputId": "cab65d3c-2284-4c6f-c38c-cff00c2abc33"
      },
      "source": [
        "mlp_3h = get_model_from_config(\n",
        "    mlp_3h, \n",
        "    tuner.get_best_hyperparameters()[0].get('optimizer')\n",
        "    )"
      ],
      "execution_count": null,
      "outputs": [
        {
          "output_type": "stream",
          "text": [
            "WARNING:tensorflow:Unresolved object in checkpoint: (root).optimizer.iter\n",
            "WARNING:tensorflow:Unresolved object in checkpoint: (root).optimizer.beta_1\n",
            "WARNING:tensorflow:Unresolved object in checkpoint: (root).optimizer.beta_2\n",
            "WARNING:tensorflow:Unresolved object in checkpoint: (root).optimizer.decay\n",
            "WARNING:tensorflow:Unresolved object in checkpoint: (root).optimizer.learning_rate\n",
            "WARNING:tensorflow:A checkpoint was restored (e.g. tf.train.Checkpoint.restore or tf.keras.Model.load_weights) but not all checkpointed values were used. See above for specific issues. Use expect_partial() on the load status object, e.g. tf.train.Checkpoint.restore(...).expect_partial(), to silence these warnings, or use assert_consumed() to make the check explicit. See https://www.tensorflow.org/guide/checkpoint#loading_mechanics for details.\n"
          ],
          "name": "stdout"
        }
      ]
    },
    {
      "cell_type": "code",
      "metadata": {
        "colab": {
          "base_uri": "https://localhost:8080/"
        },
        "id": "EhWdD50ry7Oc",
        "outputId": "79f03a3c-8f26-4eac-fc7b-9c60b38af04f"
      },
      "source": [
        "history_3h = mlp_3h.fit(\n",
        "    seq_train,\n",
        "    train_target,\n",
        "    validation_data=(seq_val, val_target),\n",
        "    epochs=100,\n",
        "    callbacks=get_callbacks('mlp_3H.h5')\n",
        ")"
      ],
      "execution_count": null,
      "outputs": [
        {
          "output_type": "stream",
          "text": [
            "Epoch 1/100\n",
            "9563/9563 [==============================] - 21s 2ms/step - loss: 0.6941 - accuracy: 0.5128 - precision: 0.5128 - recall: 0.5128 - true_positives: 79123.0088 - true_negatives: 79123.7391 - false_positives: 73916.2517 - false_negatives: 73916.9820 - val_loss: 0.6893 - val_accuracy: 0.5359 - val_precision: 0.5359 - val_recall: 0.5359 - val_true_positives: 28936.0000 - val_true_negatives: 28936.0000 - val_false_positives: 25062.0000 - val_false_negatives: 25062.0000\n",
            "\n",
            "Epoch 00001: val_loss improved from inf to 0.68930, saving model to mlp_3H.h5\n",
            "Epoch 2/100\n",
            "9563/9563 [==============================] - 19s 2ms/step - loss: 0.6904 - accuracy: 0.5299 - precision: 0.5299 - recall: 0.5299 - true_positives: 81179.4253 - true_negatives: 81179.4253 - false_positives: 71860.5655 - false_negatives: 71860.5655 - val_loss: 0.6897 - val_accuracy: 0.5343 - val_precision: 0.5343 - val_recall: 0.5343 - val_true_positives: 28852.0000 - val_true_negatives: 28852.0000 - val_false_positives: 25146.0000 - val_false_negatives: 25146.0000\n",
            "\n",
            "Epoch 00002: val_loss did not improve from 0.68930\n",
            "Epoch 3/100\n",
            "9563/9563 [==============================] - 19s 2ms/step - loss: 0.6902 - accuracy: 0.5320 - precision: 0.5320 - recall: 0.5320 - true_positives: 81501.8002 - true_negatives: 81501.8002 - false_positives: 71538.1906 - false_negatives: 71538.1906 - val_loss: 0.6894 - val_accuracy: 0.5374 - val_precision: 0.5374 - val_recall: 0.5374 - val_true_positives: 29016.0000 - val_true_negatives: 29016.0000 - val_false_positives: 24982.0000 - val_false_negatives: 24982.0000\n",
            "\n",
            "Epoch 00003: val_loss did not improve from 0.68930\n",
            "Epoch 4/100\n",
            "9563/9563 [==============================] - 19s 2ms/step - loss: 0.6898 - accuracy: 0.5343 - precision: 0.5343 - recall: 0.5343 - true_positives: 81758.6219 - true_negatives: 81758.6219 - false_positives: 71281.3689 - false_negatives: 71281.3689 - val_loss: 0.6892 - val_accuracy: 0.5366 - val_precision: 0.5366 - val_recall: 0.5366 - val_true_positives: 28975.0000 - val_true_negatives: 28975.0000 - val_false_positives: 25023.0000 - val_false_negatives: 25023.0000\n",
            "\n",
            "Epoch 00004: val_loss improved from 0.68930 to 0.68915, saving model to mlp_3H.h5\n",
            "Epoch 5/100\n",
            "9563/9563 [==============================] - 19s 2ms/step - loss: 0.6896 - accuracy: 0.5353 - precision: 0.5353 - recall: 0.5353 - true_positives: 81811.1723 - true_negatives: 81811.1723 - false_positives: 71228.8185 - false_negatives: 71228.8185 - val_loss: 0.6893 - val_accuracy: 0.5370 - val_precision: 0.5370 - val_recall: 0.5370 - val_true_positives: 28998.0000 - val_true_negatives: 28998.0000 - val_false_positives: 25000.0000 - val_false_negatives: 25000.0000\n",
            "\n",
            "Epoch 00005: val_loss did not improve from 0.68915\n",
            "Epoch 6/100\n",
            "9563/9563 [==============================] - 19s 2ms/step - loss: 0.6897 - accuracy: 0.5348 - precision: 0.5348 - recall: 0.5348 - true_positives: 81927.7680 - true_negatives: 81927.7680 - false_positives: 71112.2228 - false_negatives: 71112.2228 - val_loss: 0.6894 - val_accuracy: 0.5370 - val_precision: 0.5370 - val_recall: 0.5370 - val_true_positives: 28995.0000 - val_true_negatives: 28995.0000 - val_false_positives: 25003.0000 - val_false_negatives: 25003.0000\n",
            "\n",
            "Epoch 00006: val_loss did not improve from 0.68915\n",
            "Epoch 7/100\n",
            "9563/9563 [==============================] - 19s 2ms/step - loss: 0.6896 - accuracy: 0.5343 - precision: 0.5343 - recall: 0.5343 - true_positives: 81838.0624 - true_negatives: 81838.0624 - false_positives: 71201.9284 - false_negatives: 71201.9284 - val_loss: 0.6890 - val_accuracy: 0.5385 - val_precision: 0.5385 - val_recall: 0.5385 - val_true_positives: 29080.0000 - val_true_negatives: 29080.0000 - val_false_positives: 24918.0000 - val_false_negatives: 24918.0000\n",
            "\n",
            "Epoch 00007: val_loss improved from 0.68915 to 0.68899, saving model to mlp_3H.h5\n",
            "Epoch 8/100\n",
            "9563/9563 [==============================] - 19s 2ms/step - loss: 0.6894 - accuracy: 0.5360 - precision: 0.5360 - recall: 0.5360 - true_positives: 81981.7475 - true_negatives: 81981.7475 - false_positives: 71058.2433 - false_negatives: 71058.2433 - val_loss: 0.6891 - val_accuracy: 0.5361 - val_precision: 0.5361 - val_recall: 0.5361 - val_true_positives: 28948.0000 - val_true_negatives: 28948.0000 - val_false_positives: 25050.0000 - val_false_negatives: 25050.0000\n",
            "\n",
            "Epoch 00008: val_loss did not improve from 0.68899\n",
            "Epoch 9/100\n",
            "9563/9563 [==============================] - 20s 2ms/step - loss: 0.6895 - accuracy: 0.5352 - precision: 0.5352 - recall: 0.5352 - true_positives: 82014.3738 - true_negatives: 82014.3738 - false_positives: 71025.6170 - false_negatives: 71025.6170 - val_loss: 0.6889 - val_accuracy: 0.5379 - val_precision: 0.5379 - val_recall: 0.5379 - val_true_positives: 29046.0000 - val_true_negatives: 29046.0000 - val_false_positives: 24952.0000 - val_false_negatives: 24952.0000\n",
            "\n",
            "Epoch 00009: val_loss improved from 0.68899 to 0.68894, saving model to mlp_3H.h5\n",
            "Epoch 10/100\n",
            "9563/9563 [==============================] - 20s 2ms/step - loss: 0.6893 - accuracy: 0.5357 - precision: 0.5357 - recall: 0.5357 - true_positives: 82009.0423 - true_negatives: 82009.0423 - false_positives: 71030.9485 - false_negatives: 71030.9485 - val_loss: 0.6892 - val_accuracy: 0.5362 - val_precision: 0.5362 - val_recall: 0.5362 - val_true_positives: 28953.0000 - val_true_negatives: 28953.0000 - val_false_positives: 25045.0000 - val_false_negatives: 25045.0000\n",
            "\n",
            "Epoch 00010: val_loss did not improve from 0.68894\n",
            "Epoch 11/100\n",
            "9563/9563 [==============================] - 19s 2ms/step - loss: 0.6893 - accuracy: 0.5367 - precision: 0.5367 - recall: 0.5367 - true_positives: 82048.0917 - true_negatives: 82048.0917 - false_positives: 70991.8991 - false_negatives: 70991.8991 - val_loss: 0.6889 - val_accuracy: 0.5376 - val_precision: 0.5376 - val_recall: 0.5376 - val_true_positives: 29027.0000 - val_true_negatives: 29027.0000 - val_false_positives: 24971.0000 - val_false_negatives: 24971.0000\n",
            "\n",
            "Epoch 00011: val_loss improved from 0.68894 to 0.68889, saving model to mlp_3H.h5\n",
            "Epoch 12/100\n",
            "9563/9563 [==============================] - 19s 2ms/step - loss: 0.6894 - accuracy: 0.5355 - precision: 0.5355 - recall: 0.5355 - true_positives: 81911.7939 - true_negatives: 81911.7939 - false_positives: 71128.1969 - false_negatives: 71128.1969 - val_loss: 0.6890 - val_accuracy: 0.5366 - val_precision: 0.5366 - val_recall: 0.5366 - val_true_positives: 28975.0000 - val_true_negatives: 28975.0000 - val_false_positives: 25023.0000 - val_false_negatives: 25023.0000\n",
            "\n",
            "Epoch 00012: val_loss did not improve from 0.68889\n",
            "Epoch 13/100\n",
            "9563/9563 [==============================] - 20s 2ms/step - loss: 0.6897 - accuracy: 0.5345 - precision: 0.5345 - recall: 0.5345 - true_positives: 81832.4967 - true_negatives: 81832.4967 - false_positives: 71207.4941 - false_negatives: 71207.4941 - val_loss: 0.6890 - val_accuracy: 0.5379 - val_precision: 0.5379 - val_recall: 0.5379 - val_true_positives: 29046.0000 - val_true_negatives: 29046.0000 - val_false_positives: 24952.0000 - val_false_negatives: 24952.0000\n",
            "\n",
            "Epoch 00013: val_loss did not improve from 0.68889\n",
            "Epoch 14/100\n",
            "9563/9563 [==============================] - 20s 2ms/step - loss: 0.6896 - accuracy: 0.5347 - precision: 0.5347 - recall: 0.5347 - true_positives: 81908.3217 - true_negatives: 81908.3217 - false_positives: 71131.6691 - false_negatives: 71131.6691 - val_loss: 0.6891 - val_accuracy: 0.5362 - val_precision: 0.5362 - val_recall: 0.5362 - val_true_positives: 28952.0000 - val_true_negatives: 28952.0000 - val_false_positives: 25046.0000 - val_false_negatives: 25046.0000\n",
            "\n",
            "Epoch 00014: val_loss did not improve from 0.68889\n",
            "Epoch 15/100\n",
            "9563/9563 [==============================] - 19s 2ms/step - loss: 0.6893 - accuracy: 0.5345 - precision: 0.5345 - recall: 0.5345 - true_positives: 81826.4860 - true_negatives: 81826.4860 - false_positives: 71213.5048 - false_negatives: 71213.5048 - val_loss: 0.6894 - val_accuracy: 0.5376 - val_precision: 0.5376 - val_recall: 0.5376 - val_true_positives: 29029.0000 - val_true_negatives: 29029.0000 - val_false_positives: 24969.0000 - val_false_negatives: 24969.0000\n",
            "\n",
            "Epoch 00015: val_loss did not improve from 0.68889\n",
            "Epoch 16/100\n",
            "9563/9563 [==============================] - 19s 2ms/step - loss: 0.6893 - accuracy: 0.5366 - precision: 0.5366 - recall: 0.5366 - true_positives: 82048.3751 - true_negatives: 82048.3751 - false_positives: 70991.6157 - false_negatives: 70991.6157 - val_loss: 0.6890 - val_accuracy: 0.5394 - val_precision: 0.5394 - val_recall: 0.5394 - val_true_positives: 29127.0000 - val_true_negatives: 29127.0000 - val_false_positives: 24871.0000 - val_false_negatives: 24871.0000\n",
            "\n",
            "Epoch 00016: val_loss did not improve from 0.68889\n"
          ],
          "name": "stdout"
        }
      ]
    },
    {
      "cell_type": "code",
      "metadata": {
        "colab": {
          "base_uri": "https://localhost:8080/",
          "height": 286
        },
        "id": "-Wb5sYxN0w60",
        "outputId": "1e7d95ef-7bb6-4210-a510-29346d8a3ebc"
      },
      "source": [
        "metr = ['loss', 'accuracy', 'val_loss', 'val_accuracy']\n",
        "pd.DataFrame(history_3h.history)[metr].plot()"
      ],
      "execution_count": null,
      "outputs": [
        {
          "output_type": "execute_result",
          "data": {
            "text/plain": [
              "<matplotlib.axes._subplots.AxesSubplot at 0x7ff8d5d0ea90>"
            ]
          },
          "metadata": {
            "tags": []
          },
          "execution_count": 38
        },
        {
          "output_type": "display_data",
          "data": {
            "image/png": "[encoded data removed]",
            "text/plain": [
              "<Figure size 432x288 with 1 Axes>"
            ]
          },
          "metadata": {
            "tags": [],
            "needs_background": "light"
          }
        }
      ]
    },
    {
      "cell_type": "code",
      "metadata": {
        "id": "PugRruOh1i9z"
      },
      "source": [
        "# dump(history_3h.history, '/content/drive/MyDrive/sentiment/MLP/MLP_3H_B32/history.pickle')"
      ],
      "execution_count": null,
      "outputs": []
    },
    {
      "cell_type": "code",
      "metadata": {
        "colab": {
          "base_uri": "https://localhost:8080/"
        },
        "id": "SCflt-lh2pS9",
        "outputId": "e1a7c225-5bbe-46ef-d3b9-9fdc7b88b25e"
      },
      "source": [
        "test_seq = get_sequences(tokenizer,max_len, test['text'])"
      ],
      "execution_count": null,
      "outputs": [
        {
          "output_type": "stream",
          "text": [
            "WARNING:tensorflow:Unresolved object in checkpoint: (root).optimizer.iter\n",
            "WARNING:tensorflow:Unresolved object in checkpoint: (root).optimizer.beta_1\n",
            "WARNING:tensorflow:Unresolved object in checkpoint: (root).optimizer.beta_2\n",
            "WARNING:tensorflow:Unresolved object in checkpoint: (root).optimizer.decay\n",
            "WARNING:tensorflow:Unresolved object in checkpoint: (root).optimizer.learning_rate\n",
            "WARNING:tensorflow:A checkpoint was restored (e.g. tf.train.Checkpoint.restore or tf.keras.Model.load_weights) but not all checkpointed values were used. See above for specific issues. Use expect_partial() on the load status object, e.g. tf.train.Checkpoint.restore(...).expect_partial(), to silence these warnings, or use assert_consumed() to make the check explicit. See https://www.tensorflow.org/guide/checkpoint#loading_mechanics for details.\n"
          ],
          "name": "stdout"
        }
      ]
    },
    {
      "cell_type": "code",
      "metadata": {
        "colab": {
          "base_uri": "https://localhost:8080/",
          "height": 572
        },
        "id": "mbWxr2Mh2_XF",
        "outputId": "7efcf329-e48b-4b55-f5cd-7481bd979b8e"
      },
      "source": [
        "model_evaluate(mlp_3h, test_seq, test_target, 32)"
      ],
      "execution_count": null,
      "outputs": [
        {
          "output_type": "stream",
          "text": [
            "\r  1/625 [..............................] - ETA: 1:09"
          ],
          "name": "stdout"
        },
        {
          "output_type": "stream",
          "text": [
            "/usr/local/lib/python3.7/dist-packages/tensorflow/python/keras/engine/sequential.py:450: UserWarning: `model.predict_classes()` is deprecated and will be removed after 2021-01-01. Please use instead:* `np.argmax(model.predict(x), axis=-1)`,   if your model does multi-class classification   (e.g. if it uses a `softmax` last-layer activation).* `(model.predict(x) > 0.5).astype(\"int32\")`,   if your model does binary classification   (e.g. if it uses a `sigmoid` last-layer activation).\n",
            "  warnings.warn('`model.predict_classes()` is deprecated and '\n"
          ],
          "name": "stderr"
        },
        {
          "output_type": "stream",
          "text": [
            "625/625 [==============================] - 1s 849us/step\n",
            "Accuracy:\t53.6%\n",
            "\n",
            "\n",
            "              precision    recall  f1-score   support\n",
            "\n",
            "           0       0.53      0.69      0.60     10000\n",
            "           1       0.55      0.38      0.45     10000\n",
            "\n",
            "    accuracy                           0.54     20000\n",
            "   macro avg       0.54      0.54      0.52     20000\n",
            "weighted avg       0.54      0.54      0.52     20000\n",
            "\n"
          ],
          "name": "stdout"
        },
        {
          "output_type": "display_data",
          "data": {
            "image/png": "[encoded data removed]",
            "text/plain": [
              "<Figure size 288x288 with 1 Axes>"
            ]
          },
          "metadata": {
            "tags": [],
            "needs_background": "light"
          }
        }
      ]
    },
    {
      "cell_type": "markdown",
      "metadata": {
        "id": "2JgxodHcxs7g"
      },
      "source": [
        "## Insights"
      ]
    },
    {
      "cell_type": "code",
      "metadata": {
        "colab": {
          "base_uri": "https://localhost:8080/"
        },
        "id": "JbSNwOcuOOrR",
        "outputId": "d24039c5-eacb-4d6f-e94c-cf2489562621"
      },
      "source": [
        "tuner.search_space_summary()"
      ],
      "execution_count": null,
      "outputs": [
        {
          "output_type": "stream",
          "text": [
            "Search space summary\n",
            "Default search space size: 3\n",
            "hidden_units (Int)\n",
            "{'default': None, 'conditions': [], 'min_value': 10, 'max_value': 30, 'step': 10, 'sampling': None}\n",
            "hidden_activation (Choice)\n",
            "{'default': 'sigmoid', 'conditions': [], 'values': ['sigmoid'], 'ordered': False}\n",
            "optimizer (Choice)\n",
            "{'default': 'Adam', 'conditions': [], 'values': ['Adam', 'RMSprop'], 'ordered': False}\n"
          ],
          "name": "stdout"
        }
      ]
    },
    {
      "cell_type": "code",
      "metadata": {
        "colab": {
          "base_uri": "https://localhost:8080/"
        },
        "id": "X6gTC13POSrA",
        "outputId": "f00ad806-00b8-4388-d206-a9990dda3f3e"
      },
      "source": [
        "tuner.results_summary(num_trials=3)"
      ],
      "execution_count": null,
      "outputs": [
        {
          "output_type": "stream",
          "text": [
            "Results summary\n",
            "Results in /content/drive/MyDrive/sentiment/MLP/MLP_3H_B32\n",
            "Showing 3 best trials\n",
            "Objective(name='val_loss', direction='min')\n",
            "Trial summary\n",
            "Hyperparameters:\n",
            "hidden_units: 30\n",
            "hidden_activation: sigmoid\n",
            "optimizer: Adam\n",
            "tuner/epochs: 4\n",
            "tuner/initial_epoch: 0\n",
            "tuner/bracket: 0\n",
            "tuner/round: 0\n",
            "Score: 0.6891468465328217\n",
            "Trial summary\n",
            "Hyperparameters:\n",
            "hidden_units: 30\n",
            "hidden_activation: sigmoid\n",
            "optimizer: RMSprop\n",
            "tuner/epochs: 2\n",
            "tuner/initial_epoch: 0\n",
            "tuner/bracket: 1\n",
            "tuner/round: 0\n",
            "Score: 0.6891677379608154\n",
            "Trial summary\n",
            "Hyperparameters:\n",
            "hidden_units: 20\n",
            "hidden_activation: sigmoid\n",
            "optimizer: RMSprop\n",
            "tuner/epochs: 2\n",
            "tuner/initial_epoch: 0\n",
            "tuner/bracket: 1\n",
            "tuner/round: 0\n",
            "Score: 0.6895217001438141\n"
          ],
          "name": "stdout"
        }
      ]
    },
    {
      "cell_type": "markdown",
      "metadata": {
        "id": "HIw2hLsK_Nb-"
      },
      "source": [
        "## OE"
      ]
    },
    {
      "cell_type": "code",
      "metadata": {
        "id": "CAOXnBWpP9Kx"
      },
      "source": [
        "def build_OE(hp):\n",
        "    model = Sequential()\n",
        "    model.add(Input(shape=(max_len,)))\n",
        "    units = hp.get('hidden_units')\n",
        "    model.add(Dense(units,\\\n",
        "                           activation=hp.get(\"hidden_activation\")))\n",
        "    model.add(Dense(units-10,\\\n",
        "                           activation=hp.get(\"hidden_activation\")))\n",
        "    model.add(Dense(units,\\\n",
        "                           activation=hp.get(\"hidden_activation\")))\n",
        "    model.add(Dense(2, activation='softmax'))\n",
        "    model.compile(\n",
        "        optimizer=hp.get('optimizer'),\n",
        "        loss='categorical_crossentropy',\n",
        "        metrics=[\n",
        "                 'accuracy',\n",
        "                 Precision(), \n",
        "                 Recall(),\n",
        "                 TruePositives(), \n",
        "                 TrueNegatives(), \n",
        "                 FalsePositives(),\n",
        "                 FalseNegatives()\n",
        "              ]\n",
        "          )\n",
        "    model.summary()\n",
        "    return model"
      ],
      "execution_count": 12,
      "outputs": []
    },
    {
      "cell_type": "code",
      "metadata": {
        "colab": {
          "base_uri": "https://localhost:8080/",
          "height": 35
        },
        "id": "H8SAugF6PSrE",
        "outputId": "ce3af9a0-cb7e-4c27-f231-4783ab5dd79d"
      },
      "source": [
        "hp2 = HyperParameters()\n",
        "hp2.Int('hidden_units', 20, 40, 10)\n",
        "hp2.Choice('hidden_activation', activations)\n",
        "hp2.Choice('optimizer', optimizers)"
      ],
      "execution_count": 13,
      "outputs": [
        {
          "output_type": "execute_result",
          "data": {
            "application/vnd.google.colaboratory.intrinsic+json": {
              "type": "string"
            },
            "text/plain": [
              "'Adam'"
            ]
          },
          "metadata": {
            "tags": []
          },
          "execution_count": 13
        }
      ]
    },
    {
      "cell_type": "code",
      "metadata": {
        "colab": {
          "base_uri": "https://localhost:8080/"
        },
        "id": "RmeHTw26PzQ_",
        "outputId": "03b5d4d6-d8ff-475c-a696-369cb4de66ac"
      },
      "source": [
        "tuner2 = get_tuner(build_OE, '/content/drive/MyDrive/sentiment/MLP', \\\n",
        "                   'MLP_3HOEN_B32', hp2,)"
      ],
      "execution_count": 14,
      "outputs": [
        {
          "output_type": "stream",
          "text": [
            "INFO:tensorflow:Reloading Oracle from existing project /content/drive/MyDrive/sentiment/MLP/MLP_3HOEN_B32/oracle.json\n",
            "Model: \"sequential\"\n",
            "_________________________________________________________________\n",
            "Layer (type)                 Output Shape              Param #   \n",
            "=================================================================\n",
            "dense (Dense)                (None, 20)                5020      \n",
            "_________________________________________________________________\n",
            "dense_1 (Dense)              (None, 10)                210       \n",
            "_________________________________________________________________\n",
            "dense_2 (Dense)              (None, 20)                220       \n",
            "_________________________________________________________________\n",
            "dense_3 (Dense)              (None, 2)                 42        \n",
            "=================================================================\n",
            "Total params: 5,492\n",
            "Trainable params: 5,492\n",
            "Non-trainable params: 0\n",
            "_________________________________________________________________\n",
            "INFO:tensorflow:Reloading Tuner from /content/drive/MyDrive/sentiment/MLP/MLP_3HOEN_B32/tuner0.json\n"
          ],
          "name": "stdout"
        }
      ]
    },
    {
      "cell_type": "markdown",
      "metadata": {
        "id": "XtvVY5wYAUBH"
      },
      "source": [
        "## Train"
      ]
    },
    {
      "cell_type": "code",
      "metadata": {
        "colab": {
          "base_uri": "https://localhost:8080/"
        },
        "id": "cvt0RpYIQzih",
        "outputId": "26e6a43c-f2c7-40f9-fb09-4d0513d894c0"
      },
      "source": [
        "history = tuner2.search(\n",
        "    sequence_train,\n",
        "    train_target,\n",
        "    epochs=4,\n",
        "    validation_data=(sequence_val, val_target),\n",
        "    batch_size=32\n",
        ")"
      ],
      "execution_count": null,
      "outputs": [
        {
          "output_type": "stream",
          "text": [
            "Trial 8 Complete [00h 02m 30s]\n",
            "val_loss: 0.6891522407531738\n",
            "\n",
            "Best val_loss So Far: 0.6891522407531738\n",
            "Total elapsed time: 00h 12m 16s\n",
            "INFO:tensorflow:Oracle triggered exit\n"
          ],
          "name": "stdout"
        }
      ]
    },
    {
      "cell_type": "markdown",
      "metadata": {
        "id": "Sa30UQ1VB9EI"
      },
      "source": [
        "## Refit"
      ]
    },
    {
      "cell_type": "code",
      "metadata": {
        "colab": {
          "base_uri": "https://localhost:8080/"
        },
        "id": "ov9LiYH1Chvs",
        "outputId": "a4945a2c-2c43-4f45-9ea6-19e87fb42be3"
      },
      "source": [
        "mlp_3hoen = tuner2.get_best_models(num_models=1)[0]\n",
        "max_len = mlp_3hoen.get_config()[\"layers\"][0][\"config\"][\"batch_input_shape\"][1]"
      ],
      "execution_count": 20,
      "outputs": [
        {
          "output_type": "stream",
          "text": [
            "Model: \"sequential\"\n",
            "_________________________________________________________________\n",
            "Layer (type)                 Output Shape              Param #   \n",
            "=================================================================\n",
            "dense (Dense)                (None, 20)                5020      \n",
            "_________________________________________________________________\n",
            "dense_1 (Dense)              (None, 10)                210       \n",
            "_________________________________________________________________\n",
            "dense_2 (Dense)              (None, 20)                220       \n",
            "_________________________________________________________________\n",
            "dense_3 (Dense)              (None, 2)                 42        \n",
            "=================================================================\n",
            "Total params: 5,492\n",
            "Trainable params: 5,492\n",
            "Non-trainable params: 0\n",
            "_________________________________________________________________\n",
            "WARNING:tensorflow:Unresolved object in checkpoint: (root).optimizer.iter\n",
            "WARNING:tensorflow:Unresolved object in checkpoint: (root).optimizer.decay\n",
            "WARNING:tensorflow:Unresolved object in checkpoint: (root).optimizer.learning_rate\n",
            "WARNING:tensorflow:Unresolved object in checkpoint: (root).optimizer.momentum\n",
            "WARNING:tensorflow:Unresolved object in checkpoint: (root).optimizer.rho\n",
            "WARNING:tensorflow:A checkpoint was restored (e.g. tf.train.Checkpoint.restore or tf.keras.Model.load_weights) but not all checkpointed values were used. See above for specific issues. Use expect_partial() on the load status object, e.g. tf.train.Checkpoint.restore(...).expect_partial(), to silence these warnings, or use assert_consumed() to make the check explicit. See https://www.tensorflow.org/guide/checkpoint#loading_mechanics for details.\n"
          ],
          "name": "stdout"
        }
      ]
    },
    {
      "cell_type": "code",
      "metadata": {
        "id": "R_laU5QhB8SO"
      },
      "source": [
        "tokenizer = load('/content/drive/MyDrive/sentiment/MLP/MLP_3HOEN_B32/tokenizer.pickle')"
      ],
      "execution_count": 18,
      "outputs": []
    },
    {
      "cell_type": "code",
      "metadata": {
        "id": "re7a9OOpCRxN"
      },
      "source": [
        "seq_train = get_sequences(tokenizer,max_len,train['text'])\n",
        "seq_val = get_sequences(tokenizer,max_len,val['text'])"
      ],
      "execution_count": 21,
      "outputs": []
    },
    {
      "cell_type": "code",
      "metadata": {
        "colab": {
          "base_uri": "https://localhost:8080/"
        },
        "id": "gvEY74nDCuMl",
        "outputId": "6f9804c5-c7cb-4163-d926-3c774bba4328"
      },
      "source": [
        "mlp_3hoen = get_model_from_config(\n",
        "    mlp_3hoen, \n",
        "    tuner2.get_best_hyperparameters()[0].get('optimizer')\n",
        "    )"
      ],
      "execution_count": 22,
      "outputs": [
        {
          "output_type": "stream",
          "text": [
            "WARNING:tensorflow:Unresolved object in checkpoint: (root).optimizer.iter\n",
            "WARNING:tensorflow:Unresolved object in checkpoint: (root).optimizer.decay\n",
            "WARNING:tensorflow:Unresolved object in checkpoint: (root).optimizer.learning_rate\n",
            "WARNING:tensorflow:Unresolved object in checkpoint: (root).optimizer.momentum\n",
            "WARNING:tensorflow:Unresolved object in checkpoint: (root).optimizer.rho\n",
            "WARNING:tensorflow:A checkpoint was restored (e.g. tf.train.Checkpoint.restore or tf.keras.Model.load_weights) but not all checkpointed values were used. See above for specific issues. Use expect_partial() on the load status object, e.g. tf.train.Checkpoint.restore(...).expect_partial(), to silence these warnings, or use assert_consumed() to make the check explicit. See https://www.tensorflow.org/guide/checkpoint#loading_mechanics for details.\n"
          ],
          "name": "stdout"
        }
      ]
    },
    {
      "cell_type": "code",
      "metadata": {
        "colab": {
          "base_uri": "https://localhost:8080/"
        },
        "id": "v77-TqDqC-uu",
        "outputId": "89a2e718-7289-4d02-db7a-0a8d61d6c5fb"
      },
      "source": [
        "history_3hoen = mlp_3hoen.fit(\n",
        "    seq_train,\n",
        "    train_target,\n",
        "    validation_data=(seq_val, val_target),\n",
        "    epochs=100,\n",
        "    callbacks=get_callbacks('mlp_3HOEN.h5')\n",
        ")"
      ],
      "execution_count": 29,
      "outputs": [
        {
          "output_type": "stream",
          "text": [
            "Epoch 1/100\n",
            "9563/9563 [==============================] - 18s 2ms/step - loss: 0.6899 - accuracy: 0.5338 - precision: 0.5338 - recall: 0.5338 - true_positives: 163330.0000 - true_negatives: 163330.0000 - false_positives: 142658.0000 - false_negatives: 142658.0000 - val_loss: 0.6889 - val_accuracy: 0.5378 - val_precision: 0.5378 - val_recall: 0.5378 - val_true_positives: 29041.0000 - val_true_negatives: 29041.0000 - val_false_positives: 24957.0000 - val_false_negatives: 24957.0000\n",
            "\n",
            "Epoch 00001: val_loss improved from inf to 0.68888, saving model to mlp_3HOEN.h5\n",
            "Epoch 2/100\n",
            "9563/9563 [==============================] - 17s 2ms/step - loss: 0.6899 - accuracy: 0.5338 - precision: 0.5338 - recall: 0.5338 - true_positives: 163329.0000 - true_negatives: 163329.0000 - false_positives: 142659.0000 - false_negatives: 142659.0000 - val_loss: 0.6892 - val_accuracy: 0.5381 - val_precision: 0.5381 - val_recall: 0.5381 - val_true_positives: 29054.0000 - val_true_negatives: 29054.0000 - val_false_positives: 24944.0000 - val_false_negatives: 24944.0000\n",
            "\n",
            "Epoch 00002: val_loss did not improve from 0.68888\n",
            "Epoch 3/100\n",
            "9563/9563 [==============================] - 17s 2ms/step - loss: 0.6898 - accuracy: 0.5340 - precision: 0.5340 - recall: 0.5340 - true_positives: 163402.0000 - true_negatives: 163402.0000 - false_positives: 142586.0000 - false_negatives: 142586.0000 - val_loss: 0.6903 - val_accuracy: 0.5325 - val_precision: 0.5325 - val_recall: 0.5325 - val_true_positives: 28753.0000 - val_true_negatives: 28753.0000 - val_false_positives: 25245.0000 - val_false_negatives: 25245.0000\n",
            "\n",
            "Epoch 00003: val_loss did not improve from 0.68888\n",
            "Epoch 4/100\n",
            "9563/9563 [==============================] - 17s 2ms/step - loss: 0.6898 - accuracy: 0.5334 - precision: 0.5334 - recall: 0.5334 - true_positives: 163203.0000 - true_negatives: 163203.0000 - false_positives: 142785.0000 - false_negatives: 142785.0000 - val_loss: 0.6891 - val_accuracy: 0.5385 - val_precision: 0.5385 - val_recall: 0.5385 - val_true_positives: 29078.0000 - val_true_negatives: 29078.0000 - val_false_positives: 24920.0000 - val_false_negatives: 24920.0000\n",
            "\n",
            "Epoch 00004: val_loss did not improve from 0.68888\n",
            "Epoch 5/100\n",
            "9563/9563 [==============================] - 17s 2ms/step - loss: 0.6898 - accuracy: 0.5340 - precision: 0.5340 - recall: 0.5340 - true_positives: 163393.0000 - true_negatives: 163393.0000 - false_positives: 142595.0000 - false_negatives: 142595.0000 - val_loss: 0.6917 - val_accuracy: 0.5344 - val_precision: 0.5344 - val_recall: 0.5344 - val_true_positives: 28858.0000 - val_true_negatives: 28858.0000 - val_false_positives: 25140.0000 - val_false_negatives: 25140.0000\n",
            "\n",
            "Epoch 00005: val_loss did not improve from 0.68888\n",
            "Epoch 6/100\n",
            "9563/9563 [==============================] - 17s 2ms/step - loss: 0.6897 - accuracy: 0.5338 - precision: 0.5338 - recall: 0.5338 - true_positives: 163348.0000 - true_negatives: 163348.0000 - false_positives: 142640.0000 - false_negatives: 142640.0000 - val_loss: 0.6890 - val_accuracy: 0.5379 - val_precision: 0.5379 - val_recall: 0.5379 - val_true_positives: 29047.0000 - val_true_negatives: 29047.0000 - val_false_positives: 24951.0000 - val_false_negatives: 24951.0000\n",
            "\n",
            "Epoch 00006: val_loss did not improve from 0.68888\n"
          ],
          "name": "stdout"
        }
      ]
    },
    {
      "cell_type": "code",
      "metadata": {
        "colab": {
          "base_uri": "https://localhost:8080/",
          "height": 282
        },
        "id": "E0ab02GUDbeG",
        "outputId": "d711872b-7e12-4388-bc3e-ae19dbf82c7e"
      },
      "source": [
        "metr = ['loss', 'accuracy', 'val_loss', 'val_accuracy']\n",
        "pd.DataFrame(history_3hoen.history)[metr].plot()"
      ],
      "execution_count": 30,
      "outputs": [
        {
          "output_type": "execute_result",
          "data": {
            "text/plain": [
              "<matplotlib.axes._subplots.AxesSubplot at 0x7fb9fb1b0c90>"
            ]
          },
          "metadata": {
            "tags": []
          },
          "execution_count": 30
        },
        {
          "output_type": "display_data",
          "data": {
            "image/png": "[encoded data removed]",
            "text/plain": [
              "<Figure size 432x288 with 1 Axes>"
            ]
          },
          "metadata": {
            "tags": [],
            "needs_background": "light"
          }
        }
      ]
    },
    {
      "cell_type": "code",
      "metadata": {
        "id": "8nfEv46GGw5h"
      },
      "source": [
        "dump(history_3hoen.history, '/content/drive/MyDrive/sentiment/MLP/MLP_3HOEN_B32/history.pickle')"
      ],
      "execution_count": 33,
      "outputs": []
    },
    {
      "cell_type": "markdown",
      "metadata": {
        "id": "S4UhCHheA_mc"
      },
      "source": [
        "## Test"
      ]
    },
    {
      "cell_type": "code",
      "metadata": {
        "colab": {
          "base_uri": "https://localhost:8080/",
          "height": 572
        },
        "id": "Cl36bWmuBHAn",
        "outputId": "3778385c-8a51-4515-dbd0-a1413623eadc"
      },
      "source": [
        "model_evaluate(\n",
        "    mlp_3hoen,\n",
        "    get_sequences(tokenizer,max_len,test['text']),\n",
        "    test_target,\n",
        "    batch_size=32\n",
        ")"
      ],
      "execution_count": 32,
      "outputs": [
        {
          "output_type": "stream",
          "text": [
            " 64/625 [==>...........................] - ETA: 0s "
          ],
          "name": "stdout"
        },
        {
          "output_type": "stream",
          "text": [
            "/usr/local/lib/python3.7/dist-packages/tensorflow/python/keras/engine/sequential.py:450: UserWarning: `model.predict_classes()` is deprecated and will be removed after 2021-01-01. Please use instead:* `np.argmax(model.predict(x), axis=-1)`,   if your model does multi-class classification   (e.g. if it uses a `softmax` last-layer activation).* `(model.predict(x) > 0.5).astype(\"int32\")`,   if your model does binary classification   (e.g. if it uses a `sigmoid` last-layer activation).\n",
            "  warnings.warn('`model.predict_classes()` is deprecated and '\n"
          ],
          "name": "stderr"
        },
        {
          "output_type": "stream",
          "text": [
            "625/625 [==============================] - 1s 781us/step\n",
            "Accuracy:\t53.6%\n",
            "\n",
            "\n",
            "              precision    recall  f1-score   support\n",
            "\n",
            "           0       0.53      0.73      0.61     10000\n",
            "           1       0.56      0.34      0.42     10000\n",
            "\n",
            "    accuracy                           0.54     20000\n",
            "   macro avg       0.54      0.54      0.52     20000\n",
            "weighted avg       0.54      0.54      0.52     20000\n",
            "\n"
          ],
          "name": "stdout"
        },
        {
          "output_type": "display_data",
          "data": {
            "image/png": "[encoded data removed]",
            "text/plain": [
              "<Figure size 288x288 with 1 Axes>"
            ]
          },
          "metadata": {
            "tags": [],
            "needs_background": "light"
          }
        }
      ]
    },
    {
      "cell_type": "markdown",
      "metadata": {
        "id": "TPPVebB_AZxY"
      },
      "source": [
        "## Insights"
      ]
    },
    {
      "cell_type": "code",
      "metadata": {
        "colab": {
          "base_uri": "https://localhost:8080/"
        },
        "id": "FZMLjxOrUw1p",
        "outputId": "cb6ede09-918a-4fe9-d071-8a8c14ae4075"
      },
      "source": [
        "tuner2.search_space_summary()"
      ],
      "execution_count": null,
      "outputs": [
        {
          "output_type": "stream",
          "text": [
            "Search space summary\n",
            "Default search space size: 3\n",
            "hidden_units (Int)\n",
            "{'default': None, 'conditions': [], 'min_value': 20, 'max_value': 40, 'step': 10, 'sampling': None}\n",
            "hidden_activation (Choice)\n",
            "{'default': 'sigmoid', 'conditions': [], 'values': ['sigmoid'], 'ordered': False}\n",
            "optimizer (Choice)\n",
            "{'default': 'Adam', 'conditions': [], 'values': ['Adam', 'RMSprop'], 'ordered': False}\n"
          ],
          "name": "stdout"
        }
      ]
    },
    {
      "cell_type": "code",
      "metadata": {
        "colab": {
          "base_uri": "https://localhost:8080/"
        },
        "id": "gfzt72iWT-qu",
        "outputId": "b22ced26-d280-487f-dc15-6f65f6315a9a"
      },
      "source": [
        "tuner2.results_summary(num_trials=3)"
      ],
      "execution_count": null,
      "outputs": [
        {
          "output_type": "stream",
          "text": [
            "Results summary\n",
            "Results in /content/drive/MyDrive/sentiment/MLP/MLP_3HOEN_B32\n",
            "Showing 3 best trials\n",
            "Objective(name='val_loss', direction='min')\n",
            "Trial summary\n",
            "Hyperparameters:\n",
            "hidden_units: 20\n",
            "hidden_activation: sigmoid\n",
            "optimizer: RMSprop\n",
            "tuner/epochs: 4\n",
            "tuner/initial_epoch: 0\n",
            "tuner/bracket: 0\n",
            "tuner/round: 0\n",
            "Score: 0.6891522407531738\n",
            "Trial summary\n",
            "Hyperparameters:\n",
            "hidden_units: 30\n",
            "hidden_activation: sigmoid\n",
            "optimizer: RMSprop\n",
            "tuner/epochs: 2\n",
            "tuner/initial_epoch: 0\n",
            "tuner/bracket: 1\n",
            "tuner/round: 0\n",
            "Score: 0.6892656087875366\n",
            "Trial summary\n",
            "Hyperparameters:\n",
            "hidden_units: 30\n",
            "hidden_activation: sigmoid\n",
            "optimizer: Adam\n",
            "tuner/epochs: 2\n",
            "tuner/initial_epoch: 0\n",
            "tuner/bracket: 1\n",
            "tuner/round: 0\n",
            "Score: 0.6897149980068207\n"
          ],
          "name": "stdout"
        }
      ]
    },
    {
      "cell_type": "markdown",
      "metadata": {
        "id": "RmNll4rtAd1I"
      },
      "source": [
        "## MLP 3H_2"
      ]
    },
    {
      "cell_type": "code",
      "metadata": {
        "colab": {
          "base_uri": "https://localhost:8080/",
          "height": 35
        },
        "id": "zfj-cvAWUP6A",
        "outputId": "e4388c57-84c2-4670-c051-0959c555b4d7"
      },
      "source": [
        "hp_2 = HyperParameters()\n",
        "hp_2.Int('hidden_units', 40, 60, 10)\n",
        "hp_2.Choice('hidden_activation', activations)\n",
        "hp_2.Choice('optimizer', optimizers)"
      ],
      "execution_count": null,
      "outputs": [
        {
          "output_type": "execute_result",
          "data": {
            "application/vnd.google.colaboratory.intrinsic+json": {
              "type": "string"
            },
            "text/plain": [
              "'Adam'"
            ]
          },
          "metadata": {
            "tags": []
          },
          "execution_count": 39
        }
      ]
    },
    {
      "cell_type": "code",
      "metadata": {
        "colab": {
          "base_uri": "https://localhost:8080/"
        },
        "id": "_ZZUzqEvUlvO",
        "outputId": "4be2082a-c74c-4d6d-a652-e2c43f8fee1a"
      },
      "source": [
        "tuner_2 = Hyperband(\n",
        "    build_mlp,\n",
        "    max_epochs=4,\n",
        "    objective='val_loss',\n",
        "    executions_per_trial=2,\n",
        "    directory='/content/drive/MyDrive/sentiment/MLP',\n",
        "    project_name='MLP_3H2_B32',\n",
        "    hyperparameters=hp_2,\n",
        ")"
      ],
      "execution_count": null,
      "outputs": [
        {
          "output_type": "stream",
          "text": [
            "Model: \"sequential\"\n",
            "_________________________________________________________________\n",
            "Layer (type)                 Output Shape              Param #   \n",
            "=================================================================\n",
            "dense (Dense)                (None, 40)                10040     \n",
            "_________________________________________________________________\n",
            "dense_1 (Dense)              (None, 50)                2050      \n",
            "_________________________________________________________________\n",
            "dense_2 (Dense)              (None, 40)                2040      \n",
            "_________________________________________________________________\n",
            "dense_3 (Dense)              (None, 2)                 82        \n",
            "=================================================================\n",
            "Total params: 14,212\n",
            "Trainable params: 14,212\n",
            "Non-trainable params: 0\n",
            "_________________________________________________________________\n"
          ],
          "name": "stdout"
        }
      ]
    },
    {
      "cell_type": "code",
      "metadata": {
        "colab": {
          "base_uri": "https://localhost:8080/"
        },
        "id": "XR4vl_0fUoV-",
        "outputId": "204f0f5a-3ef6-4394-9298-ef1416136292"
      },
      "source": [
        "history = tuner_2.search(\n",
        "    sequence_train,\n",
        "    train_target,\n",
        "    epochs=4,\n",
        "    validation_data=(sequence_val, val_target),\n",
        "    batch_size=32\n",
        ")"
      ],
      "execution_count": null,
      "outputs": [
        {
          "output_type": "stream",
          "text": [
            "Trial 8 Complete [00h 02m 40s]\n",
            "val_loss: 0.6898790597915649\n",
            "\n",
            "Best val_loss So Far: 0.6890568435192108\n",
            "Total elapsed time: 00h 12m 36s\n",
            "INFO:tensorflow:Oracle triggered exit\n"
          ],
          "name": "stdout"
        }
      ]
    },
    {
      "cell_type": "code",
      "metadata": {
        "colab": {
          "base_uri": "https://localhost:8080/"
        },
        "id": "6r6ujgdhalg1",
        "outputId": "aebd8187-6f92-404a-a5ee-902d947f079e"
      },
      "source": [
        "tuner_2.get_best_models(num_models=1)[0].evaluate(sequence_train, train_target, batch_size=32)"
      ],
      "execution_count": null,
      "outputs": [
        {
          "output_type": "stream",
          "text": [
            "WARNING:tensorflow:Unresolved object in checkpoint: (root).optimizer.iter\n",
            "WARNING:tensorflow:Unresolved object in checkpoint: (root).optimizer.decay\n",
            "WARNING:tensorflow:Unresolved object in checkpoint: (root).optimizer.learning_rate\n",
            "WARNING:tensorflow:Unresolved object in checkpoint: (root).optimizer.momentum\n",
            "WARNING:tensorflow:Unresolved object in checkpoint: (root).optimizer.rho\n",
            "WARNING:tensorflow:A checkpoint was restored (e.g. tf.train.Checkpoint.restore or tf.keras.Model.load_weights) but not all checkpointed values were used. See above for specific issues. Use expect_partial() on the load status object, e.g. tf.train.Checkpoint.restore(...).expect_partial(), to silence these warnings, or use assert_consumed() to make the check explicit. See https://www.tensorflow.org/guide/checkpoint#loading_mechanics for details.\n",
            "Model: \"sequential\"\n",
            "_________________________________________________________________\n",
            "Layer (type)                 Output Shape              Param #   \n",
            "=================================================================\n",
            "dense (Dense)                (None, 60)                15060     \n",
            "_________________________________________________________________\n",
            "dense_1 (Dense)              (None, 70)                4270      \n",
            "_________________________________________________________________\n",
            "dense_2 (Dense)              (None, 60)                4260      \n",
            "_________________________________________________________________\n",
            "dense_3 (Dense)              (None, 2)                 122       \n",
            "=================================================================\n",
            "Total params: 23,712\n",
            "Trainable params: 23,712\n",
            "Non-trainable params: 0\n",
            "_________________________________________________________________\n",
            "9563/9563 [==============================] - 15s 1ms/step - loss: 0.6893 - accuracy: 0.5352 - precision: 0.5352 - recall: 0.5352 - true_positives: 81804.8159 - true_negatives: 81804.8159 - false_positives: 71235.1749 - false_negatives: 71235.1749\n"
          ],
          "name": "stdout"
        },
        {
          "output_type": "execute_result",
          "data": {
            "text/plain": [
              "[0.6892669200897217,\n",
              " 0.5348477959632874,\n",
              " 0.5348477959632874,\n",
              " 0.5348477959632874,\n",
              " 163657.0,\n",
              " 163657.0,\n",
              " 142331.0,\n",
              " 142331.0]"
            ]
          },
          "metadata": {
            "tags": []
          },
          "execution_count": 48
        }
      ]
    },
    {
      "cell_type": "code",
      "metadata": {
        "colab": {
          "base_uri": "https://localhost:8080/"
        },
        "id": "_9cxB9ZDalYC",
        "outputId": "824b2746-cc2c-4d64-878a-baa9c39efcbb"
      },
      "source": [
        "tuner_2.get_best_models(num_models=1)[0].evaluate(sequence_val, val_target, batch_size=32)"
      ],
      "execution_count": null,
      "outputs": [
        {
          "output_type": "stream",
          "text": [
            "WARNING:tensorflow:Unresolved object in checkpoint: (root).optimizer.iter\n",
            "WARNING:tensorflow:Unresolved object in checkpoint: (root).optimizer.beta_1\n",
            "WARNING:tensorflow:Unresolved object in checkpoint: (root).optimizer.beta_2\n",
            "WARNING:tensorflow:Unresolved object in checkpoint: (root).optimizer.decay\n",
            "WARNING:tensorflow:Unresolved object in checkpoint: (root).optimizer.learning_rate\n",
            "WARNING:tensorflow:A checkpoint was restored (e.g. tf.train.Checkpoint.restore or tf.keras.Model.load_weights) but not all checkpointed values were used. See above for specific issues. Use expect_partial() on the load status object, e.g. tf.train.Checkpoint.restore(...).expect_partial(), to silence these warnings, or use assert_consumed() to make the check explicit. See https://www.tensorflow.org/guide/checkpoint#loading_mechanics for details.\n",
            "Model: \"sequential\"\n",
            "_________________________________________________________________\n",
            "Layer (type)                 Output Shape              Param #   \n",
            "=================================================================\n",
            "dense (Dense)                (None, 60)                15060     \n",
            "_________________________________________________________________\n",
            "dense_1 (Dense)              (None, 70)                4270      \n",
            "_________________________________________________________________\n",
            "dense_2 (Dense)              (None, 60)                4260      \n",
            "_________________________________________________________________\n",
            "dense_3 (Dense)              (None, 2)                 122       \n",
            "=================================================================\n",
            "Total params: 23,712\n",
            "Trainable params: 23,712\n",
            "Non-trainable params: 0\n",
            "_________________________________________________________________\n",
            "1688/1688 [==============================] - 4s 1ms/step - loss: 0.6894 - accuracy: 0.5362 - precision: 0.5362 - recall: 0.5362 - true_positives: 14535.1522 - true_negatives: 14535.1522 - false_positives: 12504.8076 - false_negatives: 12504.8076\n"
          ],
          "name": "stdout"
        },
        {
          "output_type": "execute_result",
          "data": {
            "text/plain": [
              "[0.6890028119087219,\n",
              " 0.539075493812561,\n",
              " 0.539075493812561,\n",
              " 0.539075493812561,\n",
              " 29109.0,\n",
              " 29109.0,\n",
              " 24889.0,\n",
              " 24889.0]"
            ]
          },
          "metadata": {
            "tags": []
          },
          "execution_count": 49
        }
      ]
    },
    {
      "cell_type": "code",
      "metadata": {
        "colab": {
          "base_uri": "https://localhost:8080/"
        },
        "id": "qGDZun32Y-Gi",
        "outputId": "2a8d17e7-a756-4d05-b76e-743f9f0d9aab"
      },
      "source": [
        "tuner_2.search_space_summary()"
      ],
      "execution_count": null,
      "outputs": [
        {
          "output_type": "stream",
          "text": [
            "Search space summary\n",
            "Default search space size: 3\n",
            "hidden_units (Int)\n",
            "{'default': None, 'conditions': [], 'min_value': 40, 'max_value': 60, 'step': 10, 'sampling': None}\n",
            "hidden_activation (Choice)\n",
            "{'default': 'sigmoid', 'conditions': [], 'values': ['sigmoid'], 'ordered': False}\n",
            "optimizer (Choice)\n",
            "{'default': 'Adam', 'conditions': [], 'values': ['Adam', 'RMSprop'], 'ordered': False}\n"
          ],
          "name": "stdout"
        }
      ]
    },
    {
      "cell_type": "code",
      "metadata": {
        "colab": {
          "base_uri": "https://localhost:8080/"
        },
        "id": "OrA-6ZhIZA7S",
        "outputId": "cfa6c1e1-5037-435f-acd4-2d88001c45f6"
      },
      "source": [
        "tuner_2.results_summary(num_trials=3)"
      ],
      "execution_count": null,
      "outputs": [
        {
          "output_type": "stream",
          "text": [
            "Results summary\n",
            "Results in /content/drive/MyDrive/sentiment/MLP/MLP_3H2_B32\n",
            "Showing 3 best trials\n",
            "Objective(name='val_loss', direction='min')\n",
            "Trial summary\n",
            "Hyperparameters:\n",
            "hidden_units: 60\n",
            "hidden_activation: sigmoid\n",
            "optimizer: Adam\n",
            "tuner/epochs: 4\n",
            "tuner/initial_epoch: 2\n",
            "tuner/bracket: 1\n",
            "tuner/round: 1\n",
            "tuner/trial_id: a77f3a085f79745be2ba8f584dd28eba\n",
            "Score: 0.6890568435192108\n",
            "Trial summary\n",
            "Hyperparameters:\n",
            "hidden_units: 60\n",
            "hidden_activation: sigmoid\n",
            "optimizer: Adam\n",
            "tuner/epochs: 2\n",
            "tuner/initial_epoch: 0\n",
            "tuner/bracket: 1\n",
            "tuner/round: 0\n",
            "Score: 0.6891824305057526\n",
            "Trial summary\n",
            "Hyperparameters:\n",
            "hidden_units: 40\n",
            "hidden_activation: sigmoid\n",
            "optimizer: RMSprop\n",
            "tuner/epochs: 2\n",
            "tuner/initial_epoch: 0\n",
            "tuner/bracket: 1\n",
            "tuner/round: 0\n",
            "Score: 0.6893600821495056\n"
          ],
          "name": "stdout"
        }
      ]
    },
    {
      "cell_type": "code",
      "metadata": {
        "colab": {
          "base_uri": "https://localhost:8080/",
          "height": 35
        },
        "id": "w3bcAETwb0Aq",
        "outputId": "869777c2-3321-4472-c7ae-78bb2938ca0b"
      },
      "source": [
        "hp2_2 = HyperParameters()\n",
        "hp2_2.Int('hidden_units', 50, 70, 10)\n",
        "hp2_2.Choice('hidden_activation', activations)\n",
        "hp2_2.Choice('optimizer', optimizers)"
      ],
      "execution_count": null,
      "outputs": [
        {
          "output_type": "execute_result",
          "data": {
            "application/vnd.google.colaboratory.intrinsic+json": {
              "type": "string"
            },
            "text/plain": [
              "'Adam'"
            ]
          },
          "metadata": {
            "tags": []
          },
          "execution_count": 51
        }
      ]
    },
    {
      "cell_type": "code",
      "metadata": {
        "colab": {
          "base_uri": "https://localhost:8080/"
        },
        "id": "6ZyBjF3zcD52",
        "outputId": "8800be29-8d28-4f26-a8a4-04589c5ea37f"
      },
      "source": [
        "tuner2_2 = Hyperband(\n",
        "    build_OE,\n",
        "    max_epochs=4,\n",
        "    objective='val_loss',\n",
        "    executions_per_trial=2,\n",
        "    directory='/content/drive/MyDrive/sentiment/MLP',\n",
        "    project_name='MLP_3HOEN2_B32',\n",
        "    hyperparameters=hp2_2,\n",
        ")"
      ],
      "execution_count": null,
      "outputs": [
        {
          "output_type": "stream",
          "text": [
            "WARNING:tensorflow:Unresolved object in checkpoint: (root).optimizer.iter\n",
            "WARNING:tensorflow:Unresolved object in checkpoint: (root).optimizer.decay\n",
            "WARNING:tensorflow:Unresolved object in checkpoint: (root).optimizer.learning_rate\n",
            "WARNING:tensorflow:Unresolved object in checkpoint: (root).optimizer.momentum\n",
            "WARNING:tensorflow:Unresolved object in checkpoint: (root).optimizer.rho\n",
            "WARNING:tensorflow:A checkpoint was restored (e.g. tf.train.Checkpoint.restore or tf.keras.Model.load_weights) but not all checkpointed values were used. See above for specific issues. Use expect_partial() on the load status object, e.g. tf.train.Checkpoint.restore(...).expect_partial(), to silence these warnings, or use assert_consumed() to make the check explicit. See https://www.tensorflow.org/guide/checkpoint#loading_mechanics for details.\n",
            "Model: \"sequential\"\n",
            "_________________________________________________________________\n",
            "Layer (type)                 Output Shape              Param #   \n",
            "=================================================================\n",
            "dense (Dense)                (None, 50)                12550     \n",
            "_________________________________________________________________\n",
            "dense_1 (Dense)              (None, 40)                2040      \n",
            "_________________________________________________________________\n",
            "dense_2 (Dense)              (None, 50)                2050      \n",
            "_________________________________________________________________\n",
            "dense_3 (Dense)              (None, 2)                 102       \n",
            "=================================================================\n",
            "Total params: 16,742\n",
            "Trainable params: 16,742\n",
            "Non-trainable params: 0\n",
            "_________________________________________________________________\n"
          ],
          "name": "stdout"
        }
      ]
    },
    {
      "cell_type": "code",
      "metadata": {
        "colab": {
          "base_uri": "https://localhost:8080/"
        },
        "id": "GkwW4MxrcaSm",
        "outputId": "f933f009-1f31-4d66-ea1a-ff41826f00b4"
      },
      "source": [
        "history = tuner2_2.search(\n",
        "    sequence_train,\n",
        "    train_target,\n",
        "    epochs=4,\n",
        "    validation_data=(sequence_val, val_target),\n",
        "    batch_size=32\n",
        ")"
      ],
      "execution_count": null,
      "outputs": [
        {
          "output_type": "stream",
          "text": [
            "Trial 8 Complete [00h 03m 09s]\n",
            "val_loss: 0.6891224682331085\n",
            "\n",
            "Best val_loss So Far: 0.6891224682331085\n",
            "Total elapsed time: 00h 14m 29s\n",
            "INFO:tensorflow:Oracle triggered exit\n"
          ],
          "name": "stdout"
        }
      ]
    },
    {
      "cell_type": "code",
      "metadata": {
        "colab": {
          "base_uri": "https://localhost:8080/"
        },
        "id": "jifg1KwNgzOd",
        "outputId": "a6394b6a-3972-4151-e50e-91ccacdbabca"
      },
      "source": [
        "tuner2_2.get_best_models(num_models=1)[0].evaluate(sequence_train, train_target, batch_size=32)"
      ],
      "execution_count": null,
      "outputs": [
        {
          "output_type": "stream",
          "text": [
            "Model: \"sequential\"\n",
            "_________________________________________________________________\n",
            "Layer (type)                 Output Shape              Param #   \n",
            "=================================================================\n",
            "dense (Dense)                (None, 50)                12550     \n",
            "_________________________________________________________________\n",
            "dense_1 (Dense)              (None, 40)                2040      \n",
            "_________________________________________________________________\n",
            "dense_2 (Dense)              (None, 50)                2050      \n",
            "_________________________________________________________________\n",
            "dense_3 (Dense)              (None, 2)                 102       \n",
            "=================================================================\n",
            "Total params: 16,742\n",
            "Trainable params: 16,742\n",
            "Non-trainable params: 0\n",
            "_________________________________________________________________\n",
            "9563/9563 [==============================] - 17s 2ms/step - loss: 0.6894 - accuracy: 0.5355 - precision: 0.5355 - recall: 0.5355 - true_positives: 81875.4497 - true_negatives: 81875.4497 - false_positives: 71164.5411 - false_negatives: 71164.5411\n"
          ],
          "name": "stdout"
        },
        {
          "output_type": "execute_result",
          "data": {
            "text/plain": [
              "[0.689332902431488,\n",
              " 0.5354000926017761,\n",
              " 0.5354000926017761,\n",
              " 0.5354000926017761,\n",
              " 163826.0,\n",
              " 163826.0,\n",
              " 142162.0,\n",
              " 142162.0]"
            ]
          },
          "metadata": {
            "tags": []
          },
          "execution_count": 56
        }
      ]
    },
    {
      "cell_type": "code",
      "metadata": {
        "colab": {
          "base_uri": "https://localhost:8080/"
        },
        "id": "YsftrY51gzF3",
        "outputId": "a6a657ca-2462-4b52-86c8-499f02752255"
      },
      "source": [
        "tuner2_2.get_best_models(num_models=1)[0].evaluate(sequence_val, val_target, batch_size=32)"
      ],
      "execution_count": null,
      "outputs": [
        {
          "output_type": "stream",
          "text": [
            "WARNING:tensorflow:Unresolved object in checkpoint: (root).optimizer.iter\n",
            "WARNING:tensorflow:Unresolved object in checkpoint: (root).optimizer.beta_1\n",
            "WARNING:tensorflow:Unresolved object in checkpoint: (root).optimizer.beta_2\n",
            "WARNING:tensorflow:Unresolved object in checkpoint: (root).optimizer.decay\n",
            "WARNING:tensorflow:Unresolved object in checkpoint: (root).optimizer.learning_rate\n",
            "WARNING:tensorflow:A checkpoint was restored (e.g. tf.train.Checkpoint.restore or tf.keras.Model.load_weights) but not all checkpointed values were used. See above for specific issues. Use expect_partial() on the load status object, e.g. tf.train.Checkpoint.restore(...).expect_partial(), to silence these warnings, or use assert_consumed() to make the check explicit. See https://www.tensorflow.org/guide/checkpoint#loading_mechanics for details.\n",
            "Model: \"sequential\"\n",
            "_________________________________________________________________\n",
            "Layer (type)                 Output Shape              Param #   \n",
            "=================================================================\n",
            "dense (Dense)                (None, 50)                12550     \n",
            "_________________________________________________________________\n",
            "dense_1 (Dense)              (None, 40)                2040      \n",
            "_________________________________________________________________\n",
            "dense_2 (Dense)              (None, 50)                2050      \n",
            "_________________________________________________________________\n",
            "dense_3 (Dense)              (None, 2)                 102       \n",
            "=================================================================\n",
            "Total params: 16,742\n",
            "Trainable params: 16,742\n",
            "Non-trainable params: 0\n",
            "_________________________________________________________________\n",
            "1688/1688 [==============================] - 4s 1ms/step - loss: 0.6892 - accuracy: 0.5370 - precision: 0.5370 - recall: 0.5370 - true_positives: 14545.9793 - true_negatives: 14545.9793 - false_positives: 12493.9805 - false_negatives: 12493.9805\n"
          ],
          "name": "stdout"
        },
        {
          "output_type": "execute_result",
          "data": {
            "text/plain": [
              "[0.6890793442726135,\n",
              " 0.5386680960655212,\n",
              " 0.5386680960655212,\n",
              " 0.5386680960655212,\n",
              " 29087.0,\n",
              " 29087.0,\n",
              " 24911.0,\n",
              " 24911.0]"
            ]
          },
          "metadata": {
            "tags": []
          },
          "execution_count": 57
        }
      ]
    },
    {
      "cell_type": "code",
      "metadata": {
        "colab": {
          "base_uri": "https://localhost:8080/"
        },
        "id": "7ciAEKLYf37P",
        "outputId": "f6018812-d7fb-4203-b65a-08ebd02cfc7b"
      },
      "source": [
        "tuner2_2.search_space_summary()"
      ],
      "execution_count": null,
      "outputs": [
        {
          "output_type": "stream",
          "text": [
            "Search space summary\n",
            "Default search space size: 3\n",
            "hidden_units (Int)\n",
            "{'default': None, 'conditions': [], 'min_value': 50, 'max_value': 70, 'step': 10, 'sampling': None}\n",
            "hidden_activation (Choice)\n",
            "{'default': 'sigmoid', 'conditions': [], 'values': ['sigmoid'], 'ordered': False}\n",
            "optimizer (Choice)\n",
            "{'default': 'Adam', 'conditions': [], 'values': ['Adam', 'RMSprop'], 'ordered': False}\n"
          ],
          "name": "stdout"
        }
      ]
    },
    {
      "cell_type": "code",
      "metadata": {
        "colab": {
          "base_uri": "https://localhost:8080/"
        },
        "id": "sGtQj1H2f67P",
        "outputId": "9609a844-764f-4654-829c-4399718bd462"
      },
      "source": [
        "tuner2_2.results_summary(num_trials=3)"
      ],
      "execution_count": null,
      "outputs": [
        {
          "output_type": "stream",
          "text": [
            "Results summary\n",
            "Results in /content/drive/MyDrive/sentiment/MLP/MLP_3HOEN2_B32\n",
            "Showing 3 best trials\n",
            "Objective(name='val_loss', direction='min')\n",
            "Trial summary\n",
            "Hyperparameters:\n",
            "hidden_units: 50\n",
            "hidden_activation: sigmoid\n",
            "optimizer: Adam\n",
            "tuner/epochs: 4\n",
            "tuner/initial_epoch: 0\n",
            "tuner/bracket: 0\n",
            "tuner/round: 0\n",
            "Score: 0.6891224682331085\n",
            "Trial summary\n",
            "Hyperparameters:\n",
            "hidden_units: 60\n",
            "hidden_activation: sigmoid\n",
            "optimizer: Adam\n",
            "tuner/epochs: 2\n",
            "tuner/initial_epoch: 0\n",
            "tuner/bracket: 1\n",
            "tuner/round: 0\n",
            "Score: 0.6892454922199249\n",
            "Trial summary\n",
            "Hyperparameters:\n",
            "hidden_units: 60\n",
            "hidden_activation: sigmoid\n",
            "optimizer: RMSprop\n",
            "tuner/epochs: 2\n",
            "tuner/initial_epoch: 0\n",
            "tuner/bracket: 1\n",
            "tuner/round: 0\n",
            "Score: 0.6892657279968262\n"
          ],
          "name": "stdout"
        }
      ]
    },
    {
      "cell_type": "code",
      "metadata": {
        "colab": {
          "base_uri": "https://localhost:8080/"
        },
        "id": "YOhu2X1lnCzX",
        "outputId": "3034f27b-04a0-4553-f1f3-94e0a44d3f5c"
      },
      "source": [
        "to_predict = [\n",
        "              'I love my job',\n",
        "              'I sometimes feel unhappy',\n",
        "              'I am quite excited for the work',\n",
        "              'This is quite astounding',\n",
        "              'get lost',\n",
        "              'do not test my patience',\n",
        "              'I am warning you better not destroy it for God sake'\n",
        "]\n",
        "\n",
        "category = [0,1]\n",
        "best_model = tuner_2.get_best_models(num_models=1)[0]\n",
        "for result in best_model.predict(get_sequences(tokenizer,max_len,to_predict)):\n",
        "  if np.argmax(result) == 0:\n",
        "    category = [1,0]\n",
        "  if OH_encoder.inverse_transform([category]) == 1:\n",
        "    print('positive', result)\n",
        "  else:\n",
        "    print('negative', result)"
      ],
      "execution_count": null,
      "outputs": [
        {
          "output_type": "stream",
          "text": [
            "WARNING:tensorflow:Unresolved object in checkpoint: (root).optimizer.iter\n",
            "WARNING:tensorflow:Unresolved object in checkpoint: (root).optimizer.decay\n",
            "WARNING:tensorflow:Unresolved object in checkpoint: (root).optimizer.learning_rate\n",
            "WARNING:tensorflow:Unresolved object in checkpoint: (root).optimizer.momentum\n",
            "WARNING:tensorflow:Unresolved object in checkpoint: (root).optimizer.rho\n",
            "WARNING:tensorflow:A checkpoint was restored (e.g. tf.train.Checkpoint.restore or tf.keras.Model.load_weights) but not all checkpointed values were used. See above for specific issues. Use expect_partial() on the load status object, e.g. tf.train.Checkpoint.restore(...).expect_partial(), to silence these warnings, or use assert_consumed() to make the check explicit. See https://www.tensorflow.org/guide/checkpoint#loading_mechanics for details.\n",
            "Model: \"sequential\"\n",
            "_________________________________________________________________\n",
            "Layer (type)                 Output Shape              Param #   \n",
            "=================================================================\n",
            "dense (Dense)                (None, 60)                15060     \n",
            "_________________________________________________________________\n",
            "dense_1 (Dense)              (None, 70)                4270      \n",
            "_________________________________________________________________\n",
            "dense_2 (Dense)              (None, 60)                4260      \n",
            "_________________________________________________________________\n",
            "dense_3 (Dense)              (None, 2)                 122       \n",
            "=================================================================\n",
            "Total params: 23,712\n",
            "Trainable params: 23,712\n",
            "Non-trainable params: 0\n",
            "_________________________________________________________________\n",
            "WARNING:tensorflow:6 out of the last 6 calls to <function Model.make_predict_function.<locals>.predict_function at 0x7fb4da43a560> triggered tf.function retracing. Tracing is expensive and the excessive number of tracings could be due to (1) creating @tf.function repeatedly in a loop, (2) passing tensors with different shapes, (3) passing Python objects instead of tensors. For (1), please define your @tf.function outside of the loop. For (2), @tf.function has experimental_relax_shapes=True option that relaxes argument shapes that can avoid unnecessary retracing. For (3), please refer to https://www.tensorflow.org/guide/function#controlling_retracing and https://www.tensorflow.org/api_docs/python/tf/function for  more details.\n",
            "positive [0.44775024 0.5522497 ]\n",
            "positive [0.4627595 0.5372405]\n",
            "positive [0.41057745 0.5894225 ]\n",
            "positive [0.4489954 0.5510046]\n",
            "positive [0.4429422 0.5570578]\n",
            "positive [0.44148022 0.55851984]\n",
            "positive [0.4234647 0.5765353]\n"
          ],
          "name": "stdout"
        }
      ]
    },
    {
      "cell_type": "code",
      "metadata": {
        "id": "FRb7fIM6lSmn"
      },
      "source": [
        "# with open('/content/drive/MyDrive/sentiment/MLP/MLP_3H_B32/tokenizer.pickle',\n",
        "#           'wb') as handle:\n",
        "#     pickle.dump(tokenizer, handle, protocol=pickle.HIGHEST_PROTOCOL)"
      ],
      "execution_count": null,
      "outputs": []
    }
  ]
}